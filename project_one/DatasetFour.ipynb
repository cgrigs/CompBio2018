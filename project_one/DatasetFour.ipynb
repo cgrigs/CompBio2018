{
 "cells": [
  {
   "cell_type": "markdown",
   "metadata": {},
   "source": [
    "# Data Project One\n",
    "\n",
    "Below are the questions for the first data practical assignment. This project is for the Piller students. \n",
    "The point value of each question is denoted next to it. A blank cell is below each for your answer; feel free to create more blank cells as needed."
   ]
  },
  {
   "cell_type": "markdown",
   "metadata": {},
   "source": [
    "1. 10 pts. I do not want to make your data available to the whole class, so follow these instructions to upload your data. First, in the graphical interface, navigate to the data directory. Click the 'Upload' button.\n",
    "\n",
    "![upload](img/UploadButton.png)\n",
    "\n",
    "Choose your data file to upload. \n",
    "\n",
    "Import the pandas library and load the data. You will use `read_excel`, rather than `read_csv`, for obvious reasons. You may want to look at the `header` argument - are your column names in row 0 or row 1? Save the data in a variable called project_dat. Print the data to the screen to ensure it loaded correctly."
   ]
  },
  {
   "cell_type": "code",
   "execution_count": null,
   "metadata": {},
   "outputs": [],
   "source": []
  },
  {
   "cell_type": "markdown",
   "metadata": {},
   "source": [
    "2. (10 pts) Split the 'predicted' column on the '|' character. Rename the created columns to something identifiable. "
   ]
  },
  {
   "cell_type": "markdown",
   "metadata": {},
   "source": [
    "2. (5pts) Are there now duplicated columns? Go ahead and drop them."
   ]
  },
  {
   "cell_type": "code",
   "execution_count": null,
   "metadata": {},
   "outputs": [],
   "source": []
  },
  {
   "cell_type": "markdown",
   "metadata": {},
   "source": [
    "3. (5 pts) We now have a trickier task in front of us - splitting up that last column that contains the predicted annotations. Try splitting on commas. Is this satisfying?"
   ]
  },
  {
   "cell_type": "code",
   "execution_count": null,
   "metadata": {},
   "outputs": [],
   "source": []
  },
  {
   "cell_type": "markdown",
   "metadata": {},
   "source": [
    "4. (5 pts) Next, let's rename our columns. Choose names that mean something to you."
   ]
  },
  {
   "cell_type": "code",
   "execution_count": null,
   "metadata": {},
   "outputs": [],
   "source": []
  },
  {
   "cell_type": "markdown",
   "metadata": {},
   "source": [
    "5. (5 pts) Use replace() to get rid of the \"PREDICTED: \" notation. "
   ]
  },
  {
   "cell_type": "code",
   "execution_count": null,
   "metadata": {},
   "outputs": [],
   "source": []
  },
  {
   "cell_type": "markdown",
   "metadata": {},
   "source": [
    "6. (5pts) Use str.split() to create a dataframe of just the putative genome annotations"
   ]
  },
  {
   "cell_type": "code",
   "execution_count": null,
   "metadata": {},
   "outputs": [],
   "source": []
  },
  {
   "cell_type": "markdown",
   "metadata": {},
   "source": [
    "7. (5 pts) Concatenate the genome annotations back on to the dataset (hint: will this be a horizontal or vertical stack?)"
   ]
  },
  {
   "cell_type": "code",
   "execution_count": null,
   "metadata": {},
   "outputs": [],
   "source": []
  },
  {
   "cell_type": "markdown",
   "metadata": {},
   "source": [
    " "
   ]
  },
  {
   "cell_type": "markdown",
   "metadata": {},
   "source": [
    "6. (10 pts) Now, we have another problem: the type of molecule this is was not saved in the same order (RNA, mRNA, ncRNA). Use count to find out how many rows in each column contain == mRNA, partial mRNA and ncRNA"
   ]
  },
  {
   "cell_type": "code",
   "execution_count": null,
   "metadata": {},
   "outputs": [],
   "source": []
  },
  {
   "cell_type": "markdown",
   "metadata": {},
   "source": [
    "7. (5 pts) Just for some context, since I don't know much about the question, are the answers from the above question logical, and what you'd expect from the science?"
   ]
  },
  {
   "cell_type": "markdown",
   "metadata": {},
   "source": [
    " \n",
    " \n"
   ]
  },
  {
   "cell_type": "markdown",
   "metadata": {},
   "source": [
    "12. (10 pts) Write a function that does the column splitting, and eventually the counting. It should take one argument, the dataframe, as input. "
   ]
  },
  {
   "cell_type": "code",
   "execution_count": null,
   "metadata": {},
   "outputs": [],
   "source": []
  },
  {
   "cell_type": "markdown",
   "metadata": {},
   "source": [
    "14. (15 pts) Next, move the function to a script. The output from your script should be a CSV file, with the column splitting operation performed. How would you like to return the results of the counting operation from your code? (this last bit is a genuine matter of opinion). Make sure you have your script anatomy correct! For this part, do not worry about passing in the input and output datafiles, simply hard code them in. Save the script in the scripts directory as \"question_14.py\""
   ]
  },
  {
   "cell_type": "code",
   "execution_count": null,
   "metadata": {},
   "outputs": [],
   "source": []
  },
  {
   "cell_type": "markdown",
   "metadata": {},
   "source": [
    "15. (5 pts) Now, we're going to think about passing in the input and output data files. Make a copy of your script and title it \"question_16.py\". Would you rather use argparse or sys to pass in the name of the input file and output file? This is an opinion question."
   ]
  },
  {
   "cell_type": "markdown",
   "metadata": {},
   "source": [
    " \n",
    " "
   ]
  },
  {
   "cell_type": "markdown",
   "metadata": {},
   "source": [
    "16. (5 pts) Set up the input and output argument passing you described above."
   ]
  },
  {
   "cell_type": "markdown",
   "metadata": {},
   "source": [
    "Bonus: (2 pts). What is one thing you feel like you get really well? What is one thing you don't?"
   ]
  },
  {
   "cell_type": "markdown",
   "metadata": {},
   "source": [
    " \n",
    " "
   ]
  },
  {
   "cell_type": "code",
   "execution_count": null,
   "metadata": {},
   "outputs": [],
   "source": []
  }
 ],
 "metadata": {
  "kernelspec": {
   "display_name": "Python 3",
   "language": "python",
   "name": "python3"
  },
  "language_info": {
   "codemirror_mode": {
    "name": "ipython",
    "version": 3
   },
   "file_extension": ".py",
   "mimetype": "text/x-python",
   "name": "python",
   "nbconvert_exporter": "python",
   "pygments_lexer": "ipython3",
   "version": "3.6.4"
  }
 },
 "nbformat": 4,
 "nbformat_minor": 2
}
