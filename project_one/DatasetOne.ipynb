{
 "cells": [
  {
   "cell_type": "markdown",
   "metadata": {},
   "source": [
    "# Data Project One\n",
    "\n",
    "Below are the questions for the first data practical assignment. This project uses the \"surveys_ugly.csv\" file, located in the data directory for the project. The point value of each question is denoted next to it. A blank cell is below each for your answer; feel free to create more blank cells as needed."
   ]
  },
  {
   "cell_type": "markdown",
   "metadata": {},
   "source": [
    "1. 5 pts. Import the pandas library and load the data. The data for this part of the practical is located in the data directory. Save the data in a variable called project_dat. Print the data to the screen to ensure it loaded correctly."
   ]
  },
  {
   "cell_type": "code",
   "execution_count": null,
   "metadata": {},
   "outputs": [],
   "source": []
  },
  {
   "cell_type": "markdown",
   "metadata": {},
   "source": [
    "2. (2pts) Check the datatypes of each column. Use a comment to note if there are any that surprise you. (Hint: look at the data type (float, int), and the precision of the numbers in the columns)"
   ]
  },
  {
   "cell_type": "code",
   "execution_count": null,
   "metadata": {},
   "outputs": [],
   "source": []
  },
  {
   "cell_type": "markdown",
   "metadata": {},
   "source": [
    "3. (3 pts) Change the datatype of the surprising column to a more expected type of data."
   ]
  },
  {
   "cell_type": "code",
   "execution_count": null,
   "metadata": {},
   "outputs": [],
   "source": []
  },
  {
   "cell_type": "markdown",
   "metadata": {},
   "source": [
    "4. (5 pts) Look at your data spreadsheet in a spreadsheet viewer. What are the missing data values. In your opinion, are these intelligent missing values for the dataset? Why or why not? If not, how would you like to change them?  The below cell is a markdown cell, meaning it will hold text input."
   ]
  },
  {
   "cell_type": "markdown",
   "metadata": {},
   "source": [
    "\n"
   ]
  },
  {
   "cell_type": "markdown",
   "metadata": {},
   "source": [
    "5. (5pts) Now do it - replace your missing values with these more logical missing values. Hint: look at the replace() method."
   ]
  },
  {
   "cell_type": "code",
   "execution_count": null,
   "metadata": {},
   "outputs": [],
   "source": []
  },
  {
   "cell_type": "markdown",
   "metadata": {},
   "source": [
    "6. (5 points) Are there any columns in your dataset that contain two pieces of data? If so, identify them."
   ]
  },
  {
   "cell_type": "markdown",
   "metadata": {},
   "source": [
    "\n"
   ]
  },
  {
   "cell_type": "markdown",
   "metadata": {},
   "source": [
    "7. (5pts) Now split these columns into two separate columns."
   ]
  },
  {
   "cell_type": "code",
   "execution_count": null,
   "metadata": {},
   "outputs": [],
   "source": []
  },
  {
   "cell_type": "markdown",
   "metadata": {},
   "source": [
    "Next, we will test a hypthesis. Your hypthesis is that mean rodent weight will increase over time, due to global warming. \n",
    "\n",
    "8. (5 pts) Write out the steps you would take to address this question. Will you need to split up the data? Will you need to group the data based on the values in some column? "
   ]
  },
  {
   "cell_type": "markdown",
   "metadata": {},
   "source": [
    "1. I would first group by rodent species, and year. Then I would calculate a mean.\n"
   ]
  },
  {
   "cell_type": "markdown",
   "metadata": {},
   "source": [
    "9. (10 pts) Perform the operations you described in (8)."
   ]
  },
  {
   "cell_type": "code",
   "execution_count": null,
   "metadata": {},
   "outputs": [],
   "source": []
  },
  {
   "cell_type": "code",
   "execution_count": null,
   "metadata": {},
   "outputs": [],
   "source": []
  },
  {
   "cell_type": "markdown",
   "metadata": {},
   "source": [
    "10. (5 pts) Do the results of your code support the hypothesis? "
   ]
  },
  {
   "cell_type": "markdown",
   "metadata": {},
   "source": []
  },
  {
   "cell_type": "markdown",
   "metadata": {},
   "source": [
    "11. (5 pts) Save the dataframe with the split columns into the data directory. Save it as a csv file called \"column_separated.csv\" "
   ]
  },
  {
   "cell_type": "markdown",
   "metadata": {},
   "source": [
    "12. (10 pts) Write a function that does the column splitting, and the grouping, based on your hypothesis. It should take one argument, a dataframe, as input. "
   ]
  },
  {
   "cell_type": "code",
   "execution_count": null,
   "metadata": {},
   "outputs": [],
   "source": []
  },
  {
   "cell_type": "markdown",
   "metadata": {},
   "source": [
    "13. (5 pts) Run the function on the ____ dataset. Save the output to a CSV file, in the data directory, called \"function_output.csv\", and open both CSV files. Do they look the same? (They should - this step is more to get you to think about checking your output. I'm simply going to look at the file and make sure you did it). "
   ]
  },
  {
   "cell_type": "markdown",
   "metadata": {},
   "source": [
    "14. (15 pts) Next, move the function to a script. The output from your script should be a CSV file, with the column splitting operation performed. How would you like to return the results of the grouping operation from your code? (this last bit is a genuine matter of opinion). Make sure you have your script anatomy correct! For this part, do not worry about passing in the input and output datafiles, simply hard code them in. Save the script in the scripts directory as \"question_14.py\""
   ]
  },
  {
   "cell_type": "code",
   "execution_count": null,
   "metadata": {},
   "outputs": [],
   "source": []
  },
  {
   "cell_type": "markdown",
   "metadata": {},
   "source": [
    "15. (5 pts) Now, we're going to think about passing in the input and output data files. Make a copy of your script and title it \"question_16.py\". Would you rather use argparse or sys to pass in the name of the input file and output file? This is an opinion question."
   ]
  },
  {
   "cell_type": "markdown",
   "metadata": {},
   "source": []
  },
  {
   "cell_type": "markdown",
   "metadata": {},
   "source": [
    "16. (10 pts) Set up the input and output argument passing you described above."
   ]
  },
  {
   "cell_type": "markdown",
   "metadata": {},
   "source": [
    "Bonus: (2 pts). What is one thing you feel like you get really well? What is one thing you don't?"
   ]
  },
  {
   "cell_type": "markdown",
   "metadata": {},
   "source": []
  }
 ],
 "metadata": {
  "kernelspec": {
   "display_name": "Python 3",
   "language": "python",
   "name": "python3"
  },
  "language_info": {
   "codemirror_mode": {
    "name": "ipython",
    "version": 3
   },
   "file_extension": ".py",
   "mimetype": "text/x-python",
   "name": "python",
   "nbconvert_exporter": "python",
   "pygments_lexer": "ipython3",
   "version": "3.6.5"
  }
 },
 "nbformat": 4,
 "nbformat_minor": 2
}
