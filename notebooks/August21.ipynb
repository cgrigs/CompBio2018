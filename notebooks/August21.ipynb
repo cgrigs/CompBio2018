{
 "cells": [
  {
   "cell_type": "markdown",
   "metadata": {},
   "source": [
    "# August 21"
   ]
  },
  {
   "cell_type": "markdown",
   "metadata": {},
   "source": [
    "Today, we will be orienting ourselves to the Jupyter Notebook, learning about Python, and looking at our first data sets."
   ]
  },
  {
   "cell_type": "markdown",
   "metadata": {},
   "source": [
    "## The Jupyter Notebook\n",
    "\n",
    "The interface in front of you is called a Jupyter Notebook. This cell that you're reading now is a _Markdown cell_. These are used to hold _text_ information. I will use them to communicate with you throughout the course. We can even embed images in the Markdown. If you double-click in this cell, you will see that this is plain text. The plain text characters are transformed into attractive text by the Jupyter Notebook.\n"
   ]
  },
  {
   "cell_type": "code",
   "execution_count": null,
   "metadata": {},
   "outputs": [],
   "source": [
    "# This is a code cell.\n",
    "\n",
    "import random\n",
    "\n",
    "# It holds code. \n",
    "\n",
    "list = random.randint(1, 10)\n",
    "\n",
    "# It can also hold text, in the form of comments. Comments are helpful hints to yourself. Jupyter will not execute\n",
    "# the comments. Leave as many as you want!\n",
    "\n",
    "print(list)\n"
   ]
  },
  {
   "cell_type": "markdown",
   "metadata": {},
   "source": [
    "When a cell is \"run\", by pressing the run button, it will be executed in a manner that is appropriate for the type of cell it is. If it is a code cell, the code will be run. If it is a markdown cell, the text will be rendered."
   ]
  },
  {
   "cell_type": "markdown",
   "metadata": {},
   "source": [
    "# What is Python?"
   ]
  },
  {
   "cell_type": "markdown",
   "metadata": {},
   "source": [
    "Python is an open-source, free to use programming language. *Open Source* is desireable because we can look at any of the given functions in Python, and understand how they work. *Free*, we all understand why that is good. \n",
    "\n",
    "Python is actively maintained by the Python Software Foundation, and is rapidly becoming one of the world's most commonly-used languages.\n",
    "\n",
    "![Python Popularity](img/pythondominance.png)\n",
    "\n",
    "You find Python in virtually all fields, and all career paths.\n",
    "\n",
    "Python is also easy to read. Without knowing any Python, look at the below cell. See if you can figure out what it will do, then run it to see if you're right."
   ]
  },
  {
   "cell_type": "code",
   "execution_count": null,
   "metadata": {},
   "outputs": [],
   "source": [
    "num_list = [1, 2, 3, 4]\n",
    "new_list = []\n",
    "\n",
    "for entry in num_list:\n",
    "    new_list.append(entry*2)\n",
    "\n",
    "print(new_list)"
   ]
  },
  {
   "cell_type": "markdown",
   "metadata": {},
   "source": [
    "Were you able to guess correctly? Python is written in such a way that it mimics human speech and writing. \n",
    "\n",
    "Python also has an active user community who communicate different packages and workflows to the software. For example, I use the Python library DendroPy almost daily in my work. It is for working with phylogenetic data in Python."
   ]
  },
  {
   "cell_type": "markdown",
   "metadata": {},
   "source": [
    "# Ask for help when you need it\n",
    "# I'm not joking around\n",
    "# This class is a little different than others, in that we don't have many throwaway moments when you learn a fact, use it on a test, then maybe never use it again\n",
    "# If you don't get it now, it might be a problem later, and we'll work on it. Now.\n",
    "\n",
    "Seriously, y'all, just ask. We'll get it worked out."
   ]
  },
  {
   "cell_type": "markdown",
   "metadata": {},
   "source": [
    "# Data types in Python\n",
    "\n",
    "In the first couple weeks, we will be working with datasets in an interactive way. But first, we should learn a little bit about how Python works. One of the most common operations to do programmatically is save data to a variable. A _variable_ is a little bit of space we clear in the computer's memory. We can fill it with information, and give it a handle to recall it later. See below."
   ]
  },
  {
   "cell_type": "code",
   "execution_count": null,
   "metadata": {},
   "outputs": [],
   "source": [
    "my_text = \"This is a string variable\"\n",
    "# Strings are varaibles that are meant to be read literally as they are seen above. Often, they are text. \n",
    "# You know a string because it will be encased in quotation marks\n",
    "# Enter the name of the variable to view it.\n",
    "my_text"
   ]
  },
  {
   "cell_type": "code",
   "execution_count": null,
   "metadata": {},
   "outputs": [],
   "source": [
    "my_number = 64\n",
    "# This is an integer value\n",
    "my_decimal = 1.64\n",
    "# This number has a decimal"
   ]
  },
  {
   "cell_type": "markdown",
   "metadata": {},
   "source": [
    "The kind of variable you create dictates some of the things you can do with it. Do you think my_number and my_integer are the same kind of variable? Run the below code to find out."
   ]
  },
  {
   "cell_type": "code",
   "execution_count": null,
   "metadata": {},
   "outputs": [],
   "source": [
    "type(my_decimal)"
   ]
  },
  {
   "cell_type": "code",
   "execution_count": null,
   "metadata": {},
   "outputs": [],
   "source": [
    "type(my_number)"
   ]
  },
  {
   "cell_type": "markdown",
   "metadata": {},
   "source": [
    "\"Float\" - what does that mean? Floats are stored differently in the computer's memory than integers are, and saving whole numbers as integers can mean programs take less memory to run.\n",
    "\n",
    "The \"type\" refers to the kind of variable something is. This can influence what operations you can do with that variable. For example:"
   ]
  },
  {
   "cell_type": "code",
   "execution_count": null,
   "metadata": {},
   "outputs": [],
   "source": [
    "round(my_decimal)"
   ]
  },
  {
   "cell_type": "markdown",
   "metadata": {},
   "source": [
    "What does round() do? What does it do if you call it on `my_number`? \n",
    "\n",
    "`round()` is a function. So is `type()`. We can think of functions like organs in our body - they are sets of code that work together to accomplish some task. You can recognize that you are calling a function by the presence of the open and close parentheses. Functions have help available via the help function."
   ]
  },
  {
   "cell_type": "code",
   "execution_count": null,
   "metadata": {},
   "outputs": [],
   "source": [
    "help(round)"
   ]
  },
  {
   "cell_type": "markdown",
   "metadata": {},
   "source": [
    "There are more data types out there, but we'll start with these. Most of the data we will work with in this course will be of these three types - integers, floats and strings."
   ]
  },
  {
   "cell_type": "markdown",
   "metadata": {},
   "source": [
    "# Operators in Python\n",
    "\n",
    "Python uses what are likely to be familiar operators: `+, -, /, *, %`\n",
    "\n",
    "Try using each of these operators to combine `my_number` and `my_decimal`. What behaviors make sense? Which are hard to understand? To try using operators, first make a new code cell, by clicking the `+` button above. Then, enter the comparison you would like to make.\n",
    "\n"
   ]
  },
  {
   "cell_type": "markdown",
   "metadata": {},
   "source": [
    "We can also use what are called logical operators. These operators, `<, >, ==, !=, <=, >=` evaluate objects relative to one another. Once again, create a new cell and try each operator to compare `my_number` and `my_decimal`. What is each one doing? "
   ]
  },
  {
   "cell_type": "markdown",
   "metadata": {},
   "source": [
    "# Groups of Objects\n",
    "\n",
    "## Lists\n",
    "\n",
    "How often do you want to sit down and hand-enter data? Basically never. For the purpose of storing more massive sets of objects, we have lists. Lists are _ordered_, meaning that they are stored in the same order in the computer's memory as when you enter them."
   ]
  },
  {
   "cell_type": "code",
   "execution_count": null,
   "metadata": {},
   "outputs": [],
   "source": [
    "my_number_list = [1, 2, 3, 4, 5]\n",
    "\n",
    "my_number_list[2]"
   ]
  },
  {
   "cell_type": "markdown",
   "metadata": {},
   "source": [
    "Did you note something odd, there? What happens if you try to access the first element of the `my_number_list`? \n",
    "\n",
    "Lists can also be added to:"
   ]
  },
  {
   "cell_type": "code",
   "execution_count": null,
   "metadata": {},
   "outputs": [],
   "source": [
    "my_number_list.append(6)"
   ]
  },
  {
   "cell_type": "markdown",
   "metadata": {},
   "source": [
    "What if you want to add something at a certain position in the list? Use the help function to view the help file for append(). "
   ]
  },
  {
   "cell_type": "code",
   "execution_count": null,
   "metadata": {},
   "outputs": [],
   "source": [
    "help(append)"
   ]
  },
  {
   "cell_type": "markdown",
   "metadata": {},
   "source": [
    " What has gone wrong? What if you wanted to view the help file for `my_number_list`? Try to view it. As you type out `my_number_list`, hit the tab key.\n",
    " \n",
    "When you have figured out how to view the help function, see if you can find a way to insert a new entry at some point in the list. Flag me down when you think you have it.\n",
    " \n",
    "A loop can be used to access the data `iteratively`. A common type of loop is the `for loop`, which does some operation to every item in a list:\n",
    " \n",
    " "
   ]
  },
  {
   "cell_type": "code",
   "execution_count": null,
   "metadata": {},
   "outputs": [],
   "source": [
    "for item in my_number_list:\n",
    "    print(item)"
   ]
  },
  {
   "cell_type": "markdown",
   "metadata": {},
   "source": [
    " \n",
    " Try removing the indentation in the loop. Does this code run?\n",
    " \n",
    " ## Dictionaries\n",
    " \n",
    " A dictionary is a container that holds pairs of objects - keys and values."
   ]
  },
  {
   "cell_type": "code",
   "execution_count": null,
   "metadata": {},
   "outputs": [],
   "source": [
    "translation = {'one': 1, 'two': 2}\n",
    "translation['one']\n"
   ]
  },
  {
   "cell_type": "markdown",
   "metadata": {},
   "source": [
    "The first value in the list is the \"key\", which we use to access data. The second is the value. Dictionaries are _not_ ordered. Try to index one in the way you indexed a list.\n",
    "\n",
    "\n",
    "The reason this happens is because Python expects you to use the keys to access data. We can, however, loop over our dictionary."
   ]
  },
  {
   "cell_type": "code",
   "execution_count": null,
   "metadata": {},
   "outputs": [],
   "source": [
    "for key, value in translation.items():\n",
    "    print(key, \" unlocks \", value)"
   ]
  },
  {
   "cell_type": "markdown",
   "metadata": {},
   "source": [
    "What we have done is just loop over _multiple_ values. \n",
    "\n",
    "Now, let's try reassigning a value in the dictionary. See if you can figure out how to reassign the value of \"one\". Re-run the loop above to see if it has successfully been reassigned. \n",
    "\n",
    "Most data structures in Python support some reassignment. See below, as we assign value to a variable, then change it up."
   ]
  },
  {
   "cell_type": "code",
   "execution_count": null,
   "metadata": {},
   "outputs": [],
   "source": [
    "a = 5\n",
    "print(a)\n",
    "a = \"five\"\n",
    "print(a)"
   ]
  },
  {
   "cell_type": "markdown",
   "metadata": {},
   "source": [
    "## Functions\n",
    "\n",
    "So far, we have used functions. But Python also allows us to make functions. We often do this for three reasons:\n",
    "- Organization: Code that is in functions is easier to read. Imagine opening a book with no paragraphs. How hard to read would that be?\n",
    "\n",
    "- Modularity: If we have functions, which take specified inputs and outputs, we can test those inputs and outputs.\n",
    "\n",
    "- Reusability: If we perform the same analysis frequently, functions can be packaged to make them easier to reuse and disseminate. \n",
    "\n",
    "You can see the structure of a function below:"
   ]
  },
  {
   "cell_type": "code",
   "execution_count": null,
   "metadata": {},
   "outputs": [],
   "source": [
    "def do_multiplication(a, b):\n",
    "    product = a * b\n",
    "    return(product)\n",
    "\n",
    "do_multiplication(my_decimal, my_number)"
   ]
  },
  {
   "cell_type": "markdown",
   "metadata": {},
   "source": [
    "Try:\n",
    "\n",
    "- To explain this function in words to your neighbor\n",
    "- Removing the return statement. What does this do?\n",
    "- Save the result of the function to a variable.\n",
    "- Bonus: What happens if instead of `my_decimal` and `my_number`, you enter a string? What happens? How could you gaurd against this outcome?\n"
   ]
  },
  {
   "cell_type": "markdown",
   "metadata": {},
   "source": [
    "# Potential Data Sets\n",
    "\n",
    "We will all work on one dataset in the classroom. The dataset we will work on together is called the [Portal Mammal dataset](https://esajournals.onlinelibrary.wiley.com/doi/full/10.1890/15-2115.1), and it was collected on the northern edge of the Chihuahuan Desert over the past 40 years. We will use these data for classroom activities.\n",
    "\n",
    "There are two other \"project\" datasets that you can use for the projects in this class. One is the Ant Morphology database. This is some of my research data. The other is a dataset from a [long-term](https://www.ncbi.nlm.nih.gov/pmc/articles/PMC3461117/) evolution study of _E. coli_ bacteria, looking at the evolution of citrate utilization mutations. \n",
    "\n",
    "For today, though, we will all be looking at the same data. First, let's look at the data in Google Drive.\n"
   ]
  },
  {
   "cell_type": "code",
   "execution_count": null,
   "metadata": {},
   "outputs": [],
   "source": [
    "import pandas as pd\n",
    "\n",
    "pd.read_csv(\"../data/surveys.csv\")"
   ]
  },
  {
   "cell_type": "markdown",
   "metadata": {},
   "source": [
    "OK, what just happened? \n",
    "\n",
    "A *library* is a set of Python functions that are packaged for reuse. We loaded the library pandas. pandas is a set of functions to visualize, clean and load datasets.\n",
    "\n",
    "In this case, we used the function `read_csv()` to read in the datafile \"../data/surveys.csv\". This is the exact same datafile we just looked at in Google Drive. \n",
    "\n",
    "We called a _function_ (read_csv) from a _library_ (pandas), and told it what _file_ (\"../data/surveys.csv\"), we want to read.\n",
    "\n",
    "Can we use these data? Save these data into the computer's memory as `surveys_df`.\n",
    "\n",
    "## Dataframes\n",
    "\n",
    "Dataframes are data structures that are arranged in row by column format. The data can be any of the types we discussed. How many rows are in the dataframe? How many columns? Look above to see if you can find the information, and then try to run the below code to get that same information."
   ]
  },
  {
   "cell_type": "code",
   "execution_count": null,
   "metadata": {},
   "outputs": [],
   "source": [
    "surveys_df.shape"
   ]
  },
  {
   "cell_type": "markdown",
   "metadata": {},
   "source": [
    "Here are a couple exploratory functions: \n",
    "\n",
    "- surveys_df.dtypes\n",
    "- surveys_df.columns\n",
    "- surveys_df.head()\n",
    "- surveys_df.tail()\n",
    "\n",
    "What does each of these do? What information can you obtain? \n",
    "\n",
    "From the list of columns, let's try to get the number of unique species that were seen:\n"
   ]
  },
  {
   "cell_type": "code",
   "execution_count": null,
   "metadata": {},
   "outputs": [],
   "source": [
    "pd.unique(surveys_df['species_id'])"
   ]
  },
  {
   "cell_type": "markdown",
   "metadata": {},
   "source": [
    "Save this to a variable. Now, use the len() function to find out how many unique species the data collectors saw."
   ]
  },
  {
   "cell_type": "markdown",
   "metadata": {},
   "source": [
    "## Simple stats\n",
    "\n",
    "We can get some quick and dirty stats out of pandas, as well. "
   ]
  },
  {
   "cell_type": "code",
   "execution_count": null,
   "metadata": {},
   "outputs": [],
   "source": [
    "surveys_df['weight'].describe()"
   ]
  },
  {
   "cell_type": "code",
   "execution_count": null,
   "metadata": {},
   "outputs": [],
   "source": [
    "# We can access individual summary stats, too\n",
    "surveys_df['weight'].min()\n",
    "surveys_df['weight'].max()\n",
    "surveys_df['weight'].mean()\n",
    "surveys_df['weight'].std()\n",
    "surveys_df['weight'].count()\n",
    "# Why did we only see one?"
   ]
  },
  {
   "cell_type": "markdown",
   "metadata": {},
   "source": [
    "We often want to do more sophisticated groupings of data. For example, we may believe that sex is an important phenotypic variable. Perhaps we believe male rodents are bigger than female, for example. \n",
    "\n",
    "We can, then, create a grouped object."
   ]
  },
  {
   "cell_type": "code",
   "execution_count": null,
   "metadata": {},
   "outputs": [],
   "source": [
    "# Group data by sex\n",
    "grouped_data = surveys_df.groupby('sex')\n",
    "\n",
    "grouped_data.describe()\n",
    "grouped_data.mean()\n"
   ]
  },
  {
   "cell_type": "markdown",
   "metadata": {},
   "source": [
    "How does this differ from our prior output? Try grouping on two columns."
   ]
  },
  {
   "cell_type": "code",
   "execution_count": null,
   "metadata": {},
   "outputs": [],
   "source": [
    "#What does this code do? See if you can verbally explain it. Then, uncomment the print statement to check.\n",
    "\n",
    "species_counts = surveys_df.groupby('species_id')['record_id'].count()\n",
    "print(species_counts)"
   ]
  },
  {
   "cell_type": "code",
   "execution_count": null,
   "metadata": {},
   "outputs": [],
   "source": [
    "# what about this code?\n",
    "\n",
    "surveys_df['weight']*2\n",
    "\n",
    "# How will you check what it does?"
   ]
  },
  {
   "cell_type": "code",
   "execution_count": null,
   "metadata": {},
   "outputs": [],
   "source": [
    "# Make sure figures appear inline in Ipython Notebook\n",
    "%matplotlib inline\n",
    "# Create a quick bar chart\n",
    "species_counts.plot(kind='bar');\n"
   ]
  },
  {
   "cell_type": "markdown",
   "metadata": {},
   "source": [
    "Let's end here for today. We:\n",
    "\n",
    "- Learned the basic types of objects in Python\n",
    "- Learned about functions\n",
    "- Hopefully learned not to be afraid of programming\n",
    "- Made statistics! And plots!\n",
    "\n",
    "For Weds, please:\n",
    "\n",
    "- Take a look at [this](https://peerj.com/preprints/3183/) paper. You do not need to do the Excel exercises. Just become familiar with some basic sources of error in spreadsheets."
   ]
  },
  {
   "cell_type": "code",
   "execution_count": null,
   "metadata": {},
   "outputs": [],
   "source": []
  }
 ],
 "metadata": {
  "kernelspec": {
   "display_name": "Python 3",
   "language": "python",
   "name": "python3"
  },
  "language_info": {
   "codemirror_mode": {
    "name": "ipython",
    "version": 3
   },
   "file_extension": ".py",
   "mimetype": "text/x-python",
   "name": "python",
   "nbconvert_exporter": "python",
   "pygments_lexer": "ipython3",
   "version": "3.6.4"
  }
 },
 "nbformat": 4,
 "nbformat_minor": 2
}
