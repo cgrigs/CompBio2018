{
 "cells": [
  {
   "cell_type": "markdown",
   "metadata": {},
   "source": [
    "# October 8\n",
    "\n",
    "We're going to do a number of things today. The first is that we'll align a sequence to our existing alignment, and estimate a phylogeny. Then, we'll learn about revision management - the process of tracking changes to code and data via the command line.\n",
    "\n",
    "To do the alignment, we'll be using a classroom set of sequences. I have created a matrix of two sequences that will be added to the existing alignment. To do this, we will use a piece of software called mafft. First, we will convert our sequences from nexus to fasta. "
   ]
  },
  {
   "cell_type": "code",
   "execution_count": 8,
   "metadata": {},
   "outputs": [],
   "source": [
    "import dendropy\n",
    "\n",
    "amphib = dendropy.DnaCharacterMatrix.get(\n",
    "    path=\"../data/plethodon.phy\",\n",
    "    schema=\"phylip\"\n",
    ")\n",
    "\n",
    "amphib.write_to_path(\"../data/plethodon.fa\", schema=\"fasta\")"
   ]
  },
  {
   "cell_type": "markdown",
   "metadata": {},
   "source": [
    "Now, we will make our alignment. At the command line, navigate to the data directory. Enter the below:"
   ]
  },
  {
   "cell_type": "code",
   "execution_count": null,
   "metadata": {},
   "outputs": [],
   "source": [
    "mafft --add plethodon.fa > full_plethodon_alignment.phy"
   ]
  },
  {
   "attachments": {},
   "cell_type": "markdown",
   "metadata": {},
   "source": [
    "## Coda: How do we know if scientific software is reliable?\n",
    "\n",
    "-   ¯\\_(ツ)_/¯\n",
    "- I'd start by searching for a paper. Navigate to Google Scholar. Is there a paper for MAFFT?\n",
    "    - There are many, in fact!\n",
    "    - Do I need to read all of them? \n",
    "- Next, I would read a paper or two for the following answers:\n",
    "    - What assumptions does this software make?\n",
    "        - What does an aligner assume? \n",
    "        - What does a phylogenetic tree software assume?\n",
    "    - What input will it take? \n",
    "        - What input does an aligner take?\n",
    "    - What is the output?\n",
    "    - Roughly, what is the methodology? \n",
    "    \n",
    "![](img/bbn013f1.png)\n",
    "\n",
    "\n",
    "(If you are interested in Multiple Sequence Alignment, please see my [lesson](https://selusys.github.io/SELUSys2018/14-MSA/) on MSA from last year's systematics class)\n",
    "\n",
    "- What about the software itself? \n",
    "    - I strongly prefer open-source software. \n",
    "    - MAFFT's source code is [here](https://mafft.cbrc.jp/alignment/software/source.html)\n",
    "    - Does it have tests? Tests, we will talk about in a few weeks, allow us to check our results against known results. They _test_ if the software is realiable. \n",
    "    - Do they report changes and bug fixes? \n",
    "        - Every piece of software has bugs. Every one of them. 100% All of 'em. The problem is when developers are not honest and transparent about the bugs.\n",
    "        \n",
    "- Usage: Are people using the software?\n",
    "    - Do their results make sense?\n",
    "    \n",
    "## The Future:\n",
    "\n",
    "It is becoming increasingly common to publish software via what we call code journals. [For example!](https://github.com/ropensci/onboarding/issues/239) \n",
    "\n"
   ]
  },
  {
   "cell_type": "markdown",
   "metadata": {},
   "source": [
    "# Exercise One: \n",
    "\n",
    "We've been working with RAxML to build trees. I want you to look at the above questions for RAxML. The website is [here](https://github.com/stamatak/standard-RAxML). Discuss with a partner - do you think this software is realiable?"
   ]
  },
  {
   "cell_type": "code",
   "execution_count": 7,
   "metadata": {},
   "outputs": [],
   "source": [
    "import dendropy\n",
    "from dendropy.interop import raxml\n",
    "pleth = dendropy.DnaCharacterMatrix.get(\n",
    "    path=\"../data/full_plethodon_alignment.phy\",\n",
    "    schema=\"fasta\"\n",
    ")"
   ]
  },
  {
   "cell_type": "code",
   "execution_count": 8,
   "metadata": {},
   "outputs": [],
   "source": [
    "rx = raxml.RaxmlRunner(raxml_path=\"/bin/raxmlHPC\")\n",
    "tree = rx.estimate_tree(\n",
    "        char_matrix=pleth)\n",
    "tree.write_to_path(\"../data_output/tree.phy\", schema=\"newick\")"
   ]
  },
  {
   "cell_type": "markdown",
   "metadata": {},
   "source": [
    "Have a look at it in IcyTree"
   ]
  },
  {
   "cell_type": "markdown",
   "metadata": {},
   "source": [
    "## Managing Revisions with Git\n",
    "\n"
   ]
  },
  {
   "cell_type": "markdown",
   "metadata": {},
   "source": [
    "We've done something cool - we added a new tip to a phylogeny with novel sequence data. How exciting! \n",
    "\n",
    "So how many of you, in the past few weeks have gotten something working, and then broke it? \n",
    "\n",
    "We just looked at some software on Github, which is a website for hosting _version control repositories_. Version control is sort of like \"track changes\" for code, and remote backing up all in one:\n",
    "\n",
    "- Nothing that is committed to version control is ever lost, unless you work really, really hard at it. Since all old versions of files are saved, it’s always possible to go back in time to see exactly who wrote what on a particular day, or what version of a program was used to generate a particular set of results.\n",
    "\n",
    "- As we have this record of who made what changes when, we know who to ask if we have questions later on, and, if needed, revert to a previous version, much like the “undo” feature in an editor.\n",
    "\n",
    "- When several people collaborate in the same project, it’s possible to accidentally overlook or overwrite someone’s changes. The version control system automatically notifies users whenever there’s a conflict between one person’s work and another’s.\n",
    "\n",
    "Teams are not the only ones to benefit from version control: lone researchers can benefit immensely. Keeping a record of what was changed, when, and why is extremely useful for all researchers if they ever need to come back to the project later on (e.g., a year later, when memory has faded).\n",
    "\n",
    "Version control is the lab notebook of the digital world: it’s what professionals use to keep track of what they’ve done and to collaborate with other people. Every large software development project relies on it, and most programmers use it for their small jobs as well. And it isn’t just for software: books, papers, small data sets, and anything that changes over time or needs to be shared can and should be stored in a version control system.\n",
    "\n",
    "![](img/phd101212s.gif)\n",
    "\n",
    "We're going to move to the terminal now. Open a terminal. Enter the following, replacing Your_name with your first and last name."
   ]
  },
  {
   "cell_type": "code",
   "execution_count": null,
   "metadata": {},
   "outputs": [],
   "source": [
    "mkdir Your_name_project"
   ]
  },
  {
   "cell_type": "markdown",
   "metadata": {},
   "source": [
    "Have a look in the browser - what has happened? \n",
    "\n",
    "Change into the directory you created. Next, we'll create three more directories: Data, Output and Scripts."
   ]
  },
  {
   "cell_type": "code",
   "execution_count": null,
   "metadata": {},
   "outputs": [],
   "source": [
    "# Create them"
   ]
  },
  {
   "cell_type": "markdown",
   "metadata": {},
   "source": [
    "We'll now practice moving files. We want to move the `plethodon.fa` and the `MysterPleth.fa` files into `data`."
   ]
  },
  {
   "cell_type": "code",
   "execution_count": null,
   "metadata": {
    "code_folding": [
     0
    ]
   },
   "outputs": [],
   "source": [
    "# Answer follows.\n",
    "mv CompBio2018.git/data/plethodon.fa data/"
   ]
  },
  {
   "cell_type": "markdown",
   "metadata": {},
   "source": [
    "## Exercise 2\n",
    "\n",
    "Try moving the phylogeny into output. \n",
    "\n",
    "What will we put in scripts? Let's make four quick scripts. We will make:\n",
    "- A script that converts a file from Phylip to Fasta\n",
    "- A script that adds mystery sequences to the alignment with MAFFT\n",
    "- A script that reads in the data and runs RAxML\n",
    "- A script that runs all three of the previous\n",
    "\n",
    "Once we do this, we want to be _damn_ sure we don't delete it all, right? Enter Git, our lab notebook and backup server in one. First, let's tell git who we are:"
   ]
  },
  {
   "cell_type": "code",
   "execution_count": null,
   "metadata": {},
   "outputs": [],
   "source": [
    "git config --global user.name \"Vlad Dracula\"\n",
    "git config --global user.email \"vlad@tran.sylvan.ia\"\n",
    "git config --global core.editor \"nano -w\""
   ]
  },
  {
   "cell_type": "markdown",
   "metadata": {},
   "source": [
    "Now, we tell Git where we would like to track our changes. "
   ]
  },
  {
   "cell_type": "code",
   "execution_count": null,
   "metadata": {},
   "outputs": [],
   "source": [
    "git init"
   ]
  },
  {
   "cell_type": "markdown",
   "metadata": {},
   "source": [
    "This tells git that we will be keeping safe our changes that are in this directory (Your_name_project). Next, we can check that git is inititalized."
   ]
  },
  {
   "cell_type": "code",
   "execution_count": null,
   "metadata": {},
   "outputs": [],
   "source": [
    "git status"
   ]
  },
  {
   "cell_type": "markdown",
   "metadata": {},
   "source": [
    "We have our repository initialized, but we have not asked git to log any of our files. We will now do that:"
   ]
  },
  {
   "cell_type": "code",
   "execution_count": null,
   "metadata": {},
   "outputs": [],
   "source": [
    "git add scripts/*"
   ]
  },
  {
   "cell_type": "markdown",
   "metadata": {},
   "source": [
    "The star is called a wildcard. Use git status again to see which files have been \"added\". You can think of git like taking a picture. We have just focused what will be in the picture - our scripts.\n",
    "\n",
    "We can also add single files like so:\n",
    "\n",
    "`git add output/tree.phy`\n",
    "\n",
    "# Exercise three:\n",
    "\n",
    "Add the two data files to git."
   ]
  },
  {
   "cell_type": "markdown",
   "metadata": {},
   "source": [
    "Now that our camera is focused, we'll take the snapshot:\n",
    "\n",
    "`git commit -m \"Initial phylo scripts and data\"`\n",
    "\n",
    "We can think of commit as taking a photo, and naming it right away. The `-m` means message - what did we do? What are we committing? \n",
    "\n",
    "Lastly, we will now connect our local code to our online back-up. On the [Github.com](github.com) website, look for the following on the left-hand side:\n",
    "\n",
    "![](img/New_repo.png)\n",
    "\n",
    "This will create a repository for your code online.\n",
    "\n",
    "The next step will allow you to give it a name. I prefer to name it what I called it on my computer:\n",
    "\n",
    "![](img/Name_repo.png)\n",
    "\n",
    "There will now be some instructions for you to copy and paste in to your terminal. Do it."
   ]
  },
  {
   "cell_type": "code",
   "execution_count": null,
   "metadata": {},
   "outputs": [],
   "source": []
  }
 ],
 "metadata": {
  "kernelspec": {
   "display_name": "Python 3",
   "language": "python",
   "name": "python3"
  },
  "language_info": {
   "codemirror_mode": {
    "name": "ipython",
    "version": 3
   },
   "file_extension": ".py",
   "mimetype": "text/x-python",
   "name": "python",
   "nbconvert_exporter": "python",
   "pygments_lexer": "ipython3",
   "version": "3.6.5"
  }
 },
 "nbformat": 4,
 "nbformat_minor": 2
}
