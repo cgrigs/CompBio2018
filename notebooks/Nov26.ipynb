{
 "cells": [
  {
   "cell_type": "markdown",
   "metadata": {},
   "source": [
    "# November 27 \n",
    "\n",
    "We've done quite a bit documentation. The big reason for that is that you are the problem in most pipelines. Doing something clever - then forgetting how it worked. Doing something not clever - and also forgetting how it worked. \n",
    "\n",
    "Today, we'll take our docstrings and turn them into useable manual pages. We're going to use a project called [Sphinx](http://www.sphinx-doc.org/en/1.5/contents.html) to do this. \n",
    "\n",
    "Open a terminal and navigate into your Python package directory. Create a directory called `docs`, and navigate into it.\n",
    "\n",
    "Enter:"
   ]
  },
  {
   "cell_type": "code",
   "execution_count": null,
   "metadata": {},
   "outputs": [],
   "source": [
    "sphinx-quickstart"
   ]
  },
  {
   "cell_type": "markdown",
   "metadata": {},
   "source": [
    "This will walk you through the process of creating an html directory to hold your documentation. Accept the defaults, except for enabling autodoc. Once you're through this, run: "
   ]
  },
  {
   "cell_type": "code",
   "execution_count": null,
   "metadata": {},
   "outputs": [],
   "source": [
    "make html"
   ]
  },
  {
   "cell_type": "markdown",
   "metadata": {},
   "source": [
    "This will generate the first skeleton of your documentation! Navigate into the build/html directory at the graphical interface, and view your index.html file. It doesn't have any info, but it looks really nice! Open your index.rst file. We're going to enter some things to add actual information to our document. Open up the `index.rst` document. Paste in the following, and edit it to reflect your package name:"
   ]
  },
  {
   "cell_type": "code",
   "execution_count": null,
   "metadata": {},
   "outputs": [],
   "source": [
    ".. toctree::\n",
    "   :maxdepth: 2\n",
    "   :caption: Contents:\n",
    "\n",
    ".. automodule:: wrightpythonpackage\n",
    ".. autofunction:: wrightpythonpackage.sequence_blaster\n",
    ".. autofunction:: wrightpythonpackage.sequence_cleanup\n",
    ".. autofunction:: wrightpythonpackage.sequence_reader\n"
   ]
  },
  {
   "cell_type": "markdown",
   "metadata": {},
   "source": [
    "These documents are what is called `restructured text`. It's a markup language that renders into HTML or PDF. You can make webpages without ever having to goof around with `<` and `spans` and whatever other crap HTML does.\n",
    "\n",
    "Next, we hook our documentation up to `ReadTheDocs`, a hosting service for  package documentation. Navigate to https://readthedocs.org/.\n",
    "\n",
    "Use your GitHub ID to log in. Next, I'll walk you through connecting your documentation, in your Python package and ReadTheDocs."
   ]
  },
  {
   "cell_type": "markdown",
   "metadata": {},
   "source": [
    "While our docs install, let's talk finals. Because we are TTh 1-4, we can do our final in one of several time slots:\n",
    "\n",
    "- TTh classes from 12:30 p.m. to 1:45 p.m. \n",
    "  - Monday, December 3, 12:30 p.m. - 2:30 p.m. \n",
    "\n",
    "- TTh classes from 2:00 p.m. to 3:15 p.m. \n",
    "  - Tuesday, December 4, 2:45 p.m. - 4:45 p.m. \n",
    "\n",
    "- TTh classes from 3:30 p.m. to 4:45 p.m. \n",
    "  - Wednesday, December 5, 2:45 p.m. - 4:45 p.m. \n",
    "  "
   ]
  },
  {
   "cell_type": "markdown",
   "metadata": {},
   "source": [
    "# Slide shows\n",
    "\n",
    "Now that renders are done, let's look at slides. Here are some code slides"
   ]
  },
  {
   "cell_type": "code",
   "execution_count": 1,
   "metadata": {},
   "outputs": [],
   "source": [
    "import wrightpythonpackage as wpp"
   ]
  },
  {
   "cell_type": "code",
   "execution_count": 3,
   "metadata": {},
   "outputs": [
    {
     "data": {
      "text/plain": [
       "<dendropy.datamodel.charmatrixmodel.DnaCharacterMatrix at 0x7efdbd5343c8>"
      ]
     },
     "execution_count": 3,
     "metadata": {},
     "output_type": "execute_result"
    }
   ],
   "source": [
    "wpp.sequence_reader(\"../data/plethodon.phy\")"
   ]
  },
  {
   "cell_type": "markdown",
   "metadata": {},
   "source": [
    "Because this will connect to your web browser, the following step must be completed on your computer. If you want to use Jupyter Slides for your tutorial, we can get Python installed on your computer to do that."
   ]
  },
  {
   "cell_type": "code",
   "execution_count": null,
   "metadata": {},
   "outputs": [],
   "source": [
    "jupyter nbconvert myslides.ipynb --to slides --post serve"
   ]
  }
 ],
 "metadata": {
  "kernelspec": {
   "display_name": "Python 3",
   "language": "python",
   "name": "python3"
  },
  "language_info": {
   "codemirror_mode": {
    "name": "ipython",
    "version": 3
   },
   "file_extension": ".py",
   "mimetype": "text/x-python",
   "name": "python",
   "nbconvert_exporter": "python",
   "pygments_lexer": "ipython3",
   "version": "3.6.6"
  },
  "latex_envs": {
   "LaTeX_envs_menu_present": true,
   "autoclose": false,
   "autocomplete": true,
   "bibliofile": "biblio.bib",
   "cite_by": "apalike",
   "current_citInitial": 1,
   "eqLabelWithNumbers": true,
   "eqNumInitial": 1,
   "hotkeys": {
    "equation": "Ctrl-E",
    "itemize": "Ctrl-I"
   },
   "labels_anchors": false,
   "latex_user_defs": false,
   "report_style_numbering": false,
   "user_envs_cfg": false
  },
  "toc": {
   "base_numbering": 1,
   "nav_menu": {},
   "number_sections": true,
   "sideBar": true,
   "skip_h1_title": false,
   "title_cell": "Table of Contents",
   "title_sidebar": "Contents",
   "toc_cell": false,
   "toc_position": {},
   "toc_section_display": true,
   "toc_window_display": false
  }
 },
 "nbformat": 4,
 "nbformat_minor": 2
}
