{
 "cells": [
  {
   "cell_type": "markdown",
   "metadata": {},
   "source": [
    "# Oct 2\n"
   ]
  },
  {
   "cell_type": "markdown",
   "metadata": {},
   "source": [
    "Let's remind ourselves of what we did last time: \n",
    "- Parsed sequence data\n",
    "- BLAST searched a sequence against the NCBI database\n",
    "- Got some potential homologous genes\n",
    "\n",
    "As seen below:"
   ]
  },
  {
   "cell_type": "code",
   "execution_count": null,
   "metadata": {},
   "outputs": [],
   "source": [
    "from Bio.Blast import NCBIXML\n",
    "\n",
    "parsed = NCBIXML.read(open(\"results.xml\"))\n",
    "alignment_set = parsed.alignments\n",
    "for individual_alignment in alignment_set:\n",
    "    print(individual_alignment)"
   ]
  },
  {
   "cell_type": "markdown",
   "metadata": {},
   "source": [
    "We also read an article by Bill Pearson about why we should be concerned about doing this. As you can see, we don't have E-Values on any of these sequences. The last thing we'll look at is if any of our sequences had significant E-values:"
   ]
  },
  {
   "cell_type": "code",
   "execution_count": null,
   "metadata": {},
   "outputs": [],
   "source": [
    "for individual_alignment in alignment_set:\n",
    "    print(individual_alignment.hsps[0].expect)"
   ]
  },
  {
   "cell_type": "markdown",
   "metadata": {},
   "source": [
    "Is that all our sequences? How could we check? "
   ]
  },
  {
   "cell_type": "code",
   "execution_count": null,
   "metadata": {},
   "outputs": [],
   "source": [
    "len(alignment_set)"
   ]
  },
  {
   "cell_type": "code",
   "execution_count": null,
   "metadata": {
    "code_folding": [
     0,
     2,
     3
    ]
   },
   "outputs": [],
   "source": [
    "# Answer follows\n",
    "good_e = []\n",
    "for individual_alignment in alignment_set:\n",
    "    if individual_alignment.hsps[0].expect < 0.000001:\n",
    "        good_e.append(individual_alignment)\n",
    "    \n",
    "print(len(good_e))"
   ]
  },
  {
   "cell_type": "markdown",
   "metadata": {},
   "source": [
    "So now, we have done some quality control on these matches. I feel OK that they are what they say they are. There were a couple sequences in this dataset that aren't on the tree. Maybe we want to add them to the tree. Let's read in our tree and see if there are any sequences that are in the BLAST hits, but not our tree."
   ]
  },
  {
   "cell_type": "code",
   "execution_count": null,
   "metadata": {},
   "outputs": [],
   "source": [
    "import pandas as pd\n",
    "import dendropy\n",
    "\n",
    "pd.options.display.max_colwidth = 1000000\n",
    "salamanders = pd.read_json(\"salamanders.json\")\n",
    "salamanders\n",
    "\n",
    "pd.options.display.max_colwidth = 1000000\n",
    "newick_tree = salamanders.newick.to_string(index=False)\n",
    "converted_tree = dendropy.Tree.get_from_string(newick_tree, schema = \"newick\", preserve_underscores=True)\n",
    "converted_tree.as_string(schema=\"newick\")"
   ]
  },
  {
   "cell_type": "markdown",
   "metadata": {},
   "source": [
    "## Exercise One: \n",
    "\n",
    "With a partner, look at the below code. Some is familiar. Some is not. \n",
    "- Look at the help function for taxon_namespace. What does this mean?\n",
    "- Look at the loop. What is this doing?\n",
    "- Why does a phylogeny need a special names data structure?\n"
   ]
  },
  {
   "cell_type": "code",
   "execution_count": null,
   "metadata": {},
   "outputs": [],
   "source": [
    "new_labels = []\n",
    "for taxon in converted_tree.taxon_namespace.labels():\n",
    "    taxon_split = taxon.split(\"_\")\n",
    "    new_taxon = taxon_split[0] + \"_\" + taxon_split[1]\n",
    "    new_labels.append(new_taxon)  \n"
   ]
  },
  {
   "cell_type": "code",
   "execution_count": null,
   "metadata": {},
   "outputs": [],
   "source": [
    "help(converted_tree.taxon_namespace)"
   ]
  },
  {
   "cell_type": "markdown",
   "metadata": {},
   "source": [
    "Check your answers by running the below:"
   ]
  },
  {
   "cell_type": "code",
   "execution_count": null,
   "metadata": {},
   "outputs": [],
   "source": [
    "new_labels"
   ]
  },
  {
   "cell_type": "markdown",
   "metadata": {},
   "source": [
    "# Exercise 2\n",
    "Next, we will get the list of names out of the BLAST hits. We will loop over our alignments to do this. In your loop, you will:\n",
    "- Need to use one split command\n",
    "- Need to select one index from the list that results from split\n",
    "- Use another split command"
   ]
  },
  {
   "cell_type": "code",
   "execution_count": null,
   "metadata": {
    "code_folding": [
     3
    ]
   },
   "outputs": [],
   "source": [
    "names_list=[]\n",
    "\n",
    "#Answer follows\n",
    "for individual_alignment in alignment_set:\n",
    "    split_aln = str(individual_alignment).split('|')\n",
    "    name_string = split_aln[4]\n",
    "    specific_ep = name_string.split(' ')[1:3]\n",
    "    names_list.append('_'.join(specific_ep))\n"
   ]
  },
  {
   "cell_type": "code",
   "execution_count": null,
   "metadata": {},
   "outputs": [],
   "source": [
    "import dendropy\n",
    "amphib = dendropy.DnaCharacterMatrix.get(\n",
    "    path=\"../data/plethodon.phy\",\n",
    "    schema=\"phylip\"\n",
    ")\n",
    "\n",
    "for taxon in names_list:\n",
    "    if taxon in new_labels:\n",
    "        print(\"Taxon present: {}\".format(taxon))\n",
    "    else:\n",
    "        print(\"No taxon: {}\".format(taxon))"
   ]
  },
  {
   "cell_type": "markdown",
   "metadata": {},
   "source": [
    "All the taxa in the BLAST hits are on the tree. Which seems odd - I don't think I saw the taxon _Plethodon oconaluftee_ when I was preparing the data matrix. "
   ]
  },
  {
   "cell_type": "code",
   "execution_count": 194,
   "metadata": {
    "code_folding": [
     5
    ]
   },
   "outputs": [
    {
     "name": "stdout",
     "output_type": "stream",
     "text": [
      "-----------------------CACCCCCTACTAAGTATTATTAACAACTCATTTATTGACCTACCAACTCCCTCAGGCCTATCCTACTTATGAAATTTTGGGTCCTTACTAGGAATTTGCCTAATTACACAAGTTTTAACCGGCCTATTTTTAGCAATACACTACACAACAGATATCCACTTTGCATTTTCATCAGTAGCGCATATCTGCCGCGACGTAAACTACGGATGATTAATTCGAAATATTCATGCCAATGGAGCTTCTTTATTTTTCATTTGTATTTATATACACATTGGACGAGGAATCTACTATGGTTCATTTATACTCAAAGAAACCTGAAACATTGGGGTAGTCCTTTTCTTTATAACCATAGCAACAGCCTTTATAGGATATGTTCTTCCATGAGGACAGATATCCTTCTGGGGGGCCACAGTAATTACTAATTTACTCTCAGCAATCCCATACATAGGCAACACCCTCGTACTATGAATTTGGGGAGGATTCTCAGTGGATCAAGCCACTTTATCCCGATTCTTTGTGTTCCACTTCATCCTACCATTTCTTATCATAGGCACTACTATAATACACCTTCTCTTTCTACATGAAACCGGCTCAAACAATCCAACAGGACTTAACTCGAACCCAG-----------------------------------------------------------------------------------------------------------------------------------------------------------------------------------------------------------------------------------------------------------------------------------------------------------------------------------------------------------------------------------------------------------------------------------------------------------------------------------------------------------\n",
      "TGACCCACATCATACGAAAAACGCACCCCCTACTAAATATTATTAATAACTCATTTATTGATTTGCCAACTCCCTCAAGCCTGTCTTACTTATGAAATTTCGGATCCTTGCTGGGCGTCTGCCTAATTACACAAGTTTTAACCGGCCTATTTTTAGCAATACACTACACAGCAGACATCCACTTCGCATTCTCATCAGTAGCACATATCTGCCGCGACGTAAATTACGGATGACTAATTCGAAATATTCATGCCAACGGAGCCTCTTTATTTTTTATTTGTATTTATATACACATTGGACGAGGAATTTATTATGGATCATTTATACTTAAAGAAACATGAAACATTGGAGTAACCCTCTTTTTTATAACCATAGCAACAGCCTTTATAGGATACGTTCTTCCATGAGGACAAATATCCTTCTGAGGAGCCACAGTGATTACTAATTTACTCTCAGCAATCCCATACATAGGTAACACCCTCGTACTATGAATTTGAGGGGGCTTCTCAGTGGACCAAGCCACCTTATCCCGATTCTTTGTATTTCACTTCATCCTACCCTTTCTCATTATAGGCACTACTATTATACATCTACTCTTTCTACATGAAACCGGCTCAAACAACCCAACA------------------------------------------------------------------------------------------------------------------------------------------------------------------------------------------------------------------------------------------------------------------------------------------------------------------------------------------------------------------------------------------------------------------------------------------------------------------------------------------------------------------------------\n",
      "TGACTCACATCATACGAAAAACACACCCCCTACTAAATATCATTAATAACTCACTTATTGATCTGCCAACTCCCTCAAGCCTGTCCTACTTATGAAACTTCGGGTCCTTACTAGGAATCTGCCTAATCATACAAGTTTTAACCGGCCTATTTCTAGCAATACACTATACAGCAGATATCTACTTTGCATTTTCATCAGTAGCACATATTTGCCGTGACGTAAACTACGGATGATTAATTCGAAATATTCACACCAATGGAGCCTCTTTATTTTTTATTTGTATTTATATACACATCGGACGAGGAATTTATTATGGATCATTTATACTCAAAGAAACTTGAAACATTGGAGTTATCCTTTTTTTTATAACTATAGCAACAGCCTTTATAGGATATGTTCTCCCATGAGGACAAATATCCTTCTGAGGGGCCACGGTAATTACTAATTTACTTTCAGCAATCCCTTACACAGGTAGCACCCTCGTACTATGAATTTGAGGAGGATTCTCGGTGGACCAAGCCACTTTATCCCGATTCTTTGTATTTCACTTCATCCTACCATTTCTTATCATAGGGGTTACTATTATACACCTCCTCTTTCTGCATGAAACTGGCTCAAACAACCCAATAGGACTACTCAAACCCAGAT-----------------------------------------------------------------------------------------------------------------------------------------------------------------------------------------------------------------------------------------------------------------------------------------------------------------------------------------------------------------------------------------------------------------------------------------------------------------------------------------------------------\n",
      "TGACTCACATCATACGAAAAACACACCCCCTACTAAATATCATTAATAACTCACTTATTGATCTGCCAACTCCCTCAAGCCTGTCCTACTTATGAAACTTCGGGTCCTTACTAGGAATCTGCCTAATCATACAAGTTTTAACCGGCCTATTTCTAGCAATACACTATACAGCAGATATCTACTTTGCATTTTCATCAGTAGCACATATTTGCCGTGACGTAAACTACGGATGATTAATTCGAAATATTCACACCAATGGAGCCTCTTTATTTTTTATTTGTATTTATATACACATCGGACGAGGAATTTATTATGGATCATTTATACTCAAAGAAACTTGAAACATTGGAGTTATCCTTTTTTTTATAACTATAGCAACAGCCTTTATAGGATATGTTCTCCCATGAGGACAAATATCCTTCTGAGGGGCCACGGTAATTACTAATTTACTTTCAGCAATCCCTTACACAGGTAGCACCCTCGTACTATGAATTTGAGGAGGATTCTCGGTGGACCAAGCCACTTTATCCCGATTCTTTGTATTTCACTTCATCCTACCATTTCTTATCATAGGGGTTACTATTATACACCTCCTCTTTCTGCATGAAACTGGCTCAAACAACCCAATAGGACTACTCAAACCCAGAT-----------------------------------------------------------------------------------------------------------------------------------------------------------------------------------------------------------------------------------------------------------------------------------------------------------------------------------------------------------------------------------------------------------------------------------------------------------------------------------------------------------\n",
      "TGACCCACATCATACGAAAAACGCACCCCCTACTAAATATTATTAATAACTCATTTATTGATTTGCCAACTCCCTCAAGCCTGTCTTACTTATGAAATTTCGGATCCTTGCTGGGCGTCTGCCTAATTACACAAGTTTTAACCGGCCTATTTTTAGCAATACACTACACAGCAGACATCCACTTCGCATTCTCATCAGTAGCACATATCTGCCGCGACGTAAATTACGGATGACTAATTCGAAATATTCATGCCAACGGAGCCTCTTTATTTTTTATTTGTATTTATATACACATTGGACGAGGAATTTATTATGGATCATTTATACTTAAAGAAACATGAAACATTGGAGTAACCCTCTTTTTTATAACCATAGCAACAGCCTTTATAGGATACGTTCTTCCATGAGGACAAATATCCTTCTGAGGAGCCACAGTGATTACTAATTTACTCTCAGCAATCCCATACATAGGTAACACCCTCGTACTATGAATTTGAGGGGGCTTCTCAGTGGACCAAGCCACCTTATCCCGATTCTTTGTATTTCACTTCATCCTACCCTTTCTCATTATAGGCACTACTATTATACATCTACTCTTTCTACATGAAACCGGCTCAAACAACCCAACA------------------------------------------------------------------------------------------------------------------------------------------------------------------------------------------------------------------------------------------------------------------------------------------------------------------------------------------------------------------------------------------------------------------------------------------------------------------------------------------------------------------------------\n",
      "TGACTCACATCATACGAAAAAAACACCCCCTACTGAGTATTATTAATAATTCACTTATTGATCTACCAACTCCCTCAAACCTATCCTACTTATGAAATTTTGGATCCTTACTAGGAGTCTGCCTAATTACACAAGTTTTAACCGGCCTATTTTTAGCAATACATTATACAGCAGACATTCACTTCGCATTTTCATCAGTAGCACATATTTGCCGCGACGTAAACTATGGATGATTAATTCGAAATGTTCATGCCAACGGAGCCTCTTTATTTTTTATTTGCATTTATATACACATTGGACGAGGAATTTACTATGGATCATTTATATTAAAAGAGACCTGAAACATTGGAGTGACCCTCTTTTTTATAACCATAGCAACAGCCTTTATAGGATATGTTCTCCCATGAGGACAAATATCCTTCTGGGGAGCCACAGTAATTACTAACTTACTATCAGCAATCCCCTATATAGGCAACACCCTCGTACTATGAATTTGAGGGGGGTTCTCGGTAGATCAAGCCACTCTATCCCGATTCTTTGTATTCCACTTCATTCTGCCATTTCTCATCATAGGAACTACTATTATACACCTCCTTTTTCTACACGAAACCGGCTCAAATAACCCAACAGGAATTAATTCAAGCCCAG-----------------------------------------------------------------------------------------------------------------------------------------------------------------------------------------------------------------------------------------------------------------------------------------------------------------------------------------------------------------------------------------------------------------------------------------------------------------------------------------------------------\n",
      "TGACTCACATCATACGAAAAACACACCCCCTACTAAATATTATTAATAACTCATTTATTGATTTACCTACTCCCTCAAGCCTGTCCTACCTGTGAAATTTTGGGTCTCTACTTGGAATCTGCCTAATCACACAAGTTTTAACTGGCTTATTCTTAGCAATACACTACACAGCAGATATCTACTTAGCATTTTCATCAGTAGCACATATTTGCCGCGACGTAAACTATGGATGATTAATTCGAAGTGTTCATACCAATGGGGCTTCTTTATTTTTTATTTGTATTTATATACATATTGGACGAGGAATTTATTATGGGTCATTTATACTTAAAGAGACCTGAAACATTGGAGTAATCCTTTTTTTTATAACTATAGCAACAGCCTTTATAGGATATGTTCTCCCATGAGGACAAATATCCTTTTGAGGGGCCACAGTAATTACCAACCTACTTTCAGCAATCCCTTATATAGGCAACACCCTCGTACTGTGAATTTGAGGAGGATTTTCAGTGGATCAGGCCACCTTATCACGATTCTTCGTATTTCATTTCATTCTACCATTTCTCATCATAGGAACCACTATTATACACCTCCTTTTTCTACATGAAACTGGCTCAAACAACCCAACAGGACTTAGCTCAAACTCAG-----------------------------------------------------------------------------------------------------------------------------------------------------------------------------------------------------------------------------------------------------------------------------------------------------------------------------------------------------------------------------------------------------------------------------------------------------------------------------------------------------------\n",
      "TGACTCACATCATACGAAAAACACACCCCCTACTGAGTGTTATTAATAATTCACTTATTGATCTACCAACTCCATCAAACCTATCCTACTTATGAAATTTTGGATCCTTACTGGGAGTCTGCCTAATCACACAAGTTTTAACCGGCCTATTTTTAGCAATACATTATACAGCAGACATTTACTTCGCATTTTCATCAGTAGCACATATTTGCCGCGACGTAAACTATGGATGATTAATTCGAAATATTCATGCCAACGGAGCCTCTTTATTTTTTATTTGTATTTACATACACATTGGACGAGGAATTTACTATGGGTCATTTATATTAAAAGAAACCTGAAACATTGGAGTGATCCTCTTTTTTATAACCATAGCAACAGCCTTTATAGGATATGTTCTCCCATGAGGACAAATATCCTTCTGGGGAGCCACAGTGATTACTAACCTACTCTCAGCAATCCCTTATATAGGCAACACCCTCGTACTCTGAATTTGGGGTGGGTTCTCGGTAGATCAGGCCACTCTATCCCGATTCTTTGTATTTCACTTCATTCTGCCCTTTCTCATCATAGGAACTACTATTATACACCTCCTTTTTTTACACGAAACCGGCTCAAACAACCC----------------------------------------------------------------------------------------------------------------------------------------------------------------------------------------------------------------------------------------------------------------------------------------------------------------------------------------------------------------------------------------------------------------------------------------------------------------------------------------------------------------------------------\n",
      "TGACTCACATCATACGAAGAAGACACCCCCTACTGAGTATTATTAATAATTCACTTATTGATCTACCAACTCCCTCAAACCTATCCTACTTATGAAATTTTGGATCCTTACTAGGAGTCTGCCTAATTACACAAGTTTTAACCGGCCTATTTTTAGCAAAACATTATACAGCAGACATTCACTTCGCATTTTCATCAGTAGCACATATTTGCCGCGACGTAAACTATGGATGATTAATTCGAAATGTTCATGCCAACGGAGCCTCTTTATTTTTTATTTGCATTTATATACACATTGGACGAGGAATTTACTATGGATCATTTATATTAAAAGAGACCTGAAACATTGGAGTGACCCTATTTTTTATAACCATAGCAACAGCCTTTATAGGATAAGTTCTCCCATGAGGACAAATATCCTTCTGGGGAGCCACAGTAATTACTAACTTACTATCAGCAATCCCCTATATAGGCAACACCCTCGTACTATGAATTTGAGGGGGGTTCTCGGTAGACCAAGCCACTCTATCCCGATTCTTTGTATTCCACTTCATTCTGCCATTTCTCATCATAGGAACTACTATTATACACCTCCTTTTTCTACACGAAACCGGCTCAAATAACCCAACAGGAATTAATTCAAGCCCAG-----------------------------------------------------------------------------------------------------------------------------------------------------------------------------------------------------------------------------------------------------------------------------------------------------------------------------------------------------------------------------------------------------------------------------------------------------------------------------------------------------------\n",
      "--------------CGAAAAACACACCCCCTGCTGAGTATTATTAATAATTCATTTATTGATCTACCAACTCCCTCAAGCCTATCCTATTTATGAAATTTTGGRTCCTTACTAGGAGTCTGCCTGATTACACAARTTCTCACCGGCCTATTTTTAGCAATACATTATACAGCAGAYGTTTMCTCCGCATTTTCATCAGTAGCACATATTTGCCGCGAYGTAAACTATGGRTGATTRATTCGAAATRTTCAYRCCAACGGAGCCTCTTTATTTTTYATTTGYATTTACATRCACATTGGACGRGGAATTTACCATGGATCATTTATATTCAAAGAGACCTGAAACATTGGAGTAATCCTCTTTTTTATAACCATAGCAACAGCCTTTATAGGATATGTTCTCCCATGAGGACAAATATCCTTCTGAGGGGCCACAGTGATTACTAATCTACTCTCAGCAATCCCTTATATAGGCAACACCCTCGTACTGTGAATTTGGGGTGGGTTCTCGGTAGATCAAGCCACTCTATCCCGATTCTTTGTATTTCACTTCATTCTACCCTTTCTCATCATAGGAACTACTATTATTCACCTCCTTTTTCTACACGAAACCGGCTCAAACAACCCAACAGGAATTAATTCAAGCCCAG-----------------------------------------------------------------------------------------------------------------------------------------------------------------------------------------------------------------------------------------------------------------------------------------------------------------------------------------------------------------------------------------------------------------------------------------------------------------------------------------------------------\n",
      "-----------ATACGAAAAACACACCCCCTACTAAATATCATTAATAACTCATTCATTGATCTACCAACCCCATCAAGCCTATCCTACTTATGAAATTTCGGGTCTTTATTAGGAGTTTGCCTAATTACACAAGTCCTAACCGGCTTATTTTTAGCAATACACTATACAGCAGATATCCACTCTGCATTTTCATCAGTAGCACATATTTGCCGTGACGTAAACCACGGATGACTAATCCGAAATATTCATGCCAACGGAGCCTCTTTATTTTTCATTTGTATTTATATACACATTGGACGAGGAATCTACTATGGATCATTTATACTCAAAGAGACTTGAAACATTGGAGTAATCCTTTTTTTTATAACTATGGCAACAGCTTTCATAGGATATGTTCTCCCATGAGGACAAATATCCTTCTGAGGAGCCACAGTAATTACTAACTTACTCTCAGCAATCCCATACATAGGTAACACTCTTGTATTGTGAATCTGAGGAGGATTCTCCGTAGACCAGGCCACTTTATCCCGATTCTTTGTATTTCACTTTATCTTACCCTTCCTCATTATGGGAACTACAATTATACACCTCCTCTTTCTACATGAAACCGGCTCAAACAACCCAACAGGACTTAACTCAAACCCAG-----------------------------------------------------------------------------------------------------------------------------------------------------------------------------------------------------------------------------------------------------------------------------------------------------------------------------------------------------------------------------------------------------------------------------------------------------------------------------------------------------------\n",
      "-----------ATACGAAAAACACACCCCCTACTAAATATCATTAATAACTCATTCATTGATCTACCAACCCCATCAAGCCTATCCTACTTATGAAATTTCGGGTCTTTATTAGGAGTTTGCCTAATTACACAAGTCCTAACCGGCTTATTTTTAGCAATACACTATACAGCAGATATCCACTCTGCATTTTCATCAGTAGCACATATTTGCCGTGACGTAAACCACGGATGACTAATCCGAAATATTCATGCCAACGGAGCCTCTTTATTTTTCATTTGTATTTATATACACATTGGACGAGGAATCTACTATGGATCATTTATACTCAAAGAGACTTGAAACATTGGAGTAATCCTTTTTTTTATAACTATGGCAACAGCTTTCATAGGATATGTTCTCCCATGAGGACAAATATCCTTCTGAGGAGCCACAGTAATTACTAACTTACTCTCAGCAATCCCATACATAGGTAACACTCTTGTATTGTGAATCTGAGGAGGATTCTCCGTAGACCAGGCCACTTTATCCCGATTCTTTGTATTTCACTTTATCTTACCCTTCCTCATTATGGGAACTACAATTATACACCTCCTCTTTCTACATGAAACCGGCTCAAACAACCCAACAGGACTTAACTCAAACCCAG-----------------------------------------------------------------------------------------------------------------------------------------------------------------------------------------------------------------------------------------------------------------------------------------------------------------------------------------------------------------------------------------------------------------------------------------------------------------------------------------------------------\n",
      "-----------ATACGAAAAACACACCCCCTACTAAATATCATTAATAACTCATTCATTGATCTACCAACCCCATCAAGCCTATCCTACTTATGAAATTTCGGGTCTTTATTAGGAGTTTGCCTAATTACACAAGTCCTAACCGGCTTATTTTTAGCAATACACTATACAGCAGATATCCACTCTGCATTTTCATCAGTAGCACATATTTGCCGTGACGTAAACCACGGATGACTAATCCGAAATATTCATGCCAACGGAGCCTCTTTATTTTTCATTTGTATTTATATACACATTGGACGAGGAATCTACTATGGATCATTTATACTCAAAGAGACTTGAAACATTGGAGTAATCCTTTTTTTTATAACTATGGCAACAGCTTTCATAGGATATGTTCTCCCATGAGGACAAATATCCTTCTGAGGAGCCACAGTAATTACTAACTTACTCTCAGCAATCCCATACATAGGTAACACTCTTGTATTGTGAATCTGAGGAGGATTCTCCGTAGACCAGGCCACTTTATCCCGATTCTTTGTATTTCACTTTATCTTACCCTTCCTCATTATGGGAACTACAATTATACACCTCCTCTTTCTACATGAAACCGGCTCAAACAACCCAACAGGACTTAACTCAAACCCAG-----------------------------------------------------------------------------------------------------------------------------------------------------------------------------------------------------------------------------------------------------------------------------------------------------------------------------------------------------------------------------------------------------------------------------------------------------------------------------------------------------------\n",
      "-----------ATACGAAAAACACACCCCCTACTAAATATCATTAATAACTCATTCATTGATCTACCAACCCCATCAAGCCTATCCTACTTATGAAATTTCGGGTCTTTATTAGGAGTTTGCCTAATTACACAAGTCCTAACCGGCTTATTTTTAGCAATACACTATACAGCAGATATCCACTCTGCATTTTCATCAGTAGCACATATTTGCCGTGACGTAAACCACGGATGACTAATCCGAAATATTCATGCCAACGGAGCCTCTTTATTTTTCATTTGTATTTATATACACATTGGACGAGGAATCTACTATGGATCATTTATACTCAAAGAGACTTGAAACATTGGAGTAATCCTTTTTTTTATAACTATGGCAACAGCTTTCATAGGATATGTTCTCCCATGAGGACAAATATCCTTCTGAGGAGCCACAGTAATTACTAACTTACTCTCAGCAATCCCATACATAGGTAACACTCTTGTATTGTGAATCTGAGGAGGATTCTCCGTAGACCAGGCCACTTTATCCCGATTCTTTGTATTTCACTTTATCTTACCCTTCCTCATTATGGGAACTACAATTATACACCTCCTCTTTCTACATGAAACCGGCTCAAACAACCCAACAGGACTTAACTCAAACCCAG-----------------------------------------------------------------------------------------------------------------------------------------------------------------------------------------------------------------------------------------------------------------------------------------------------------------------------------------------------------------------------------------------------------------------------------------------------------------------------------------------------------\n",
      "-----------ATACGAAAAACACACCCCCTACTAAATATCATTAATAACTCATTCATTGATCTACCAACCCCATCAAGCCTATCCTACTTATGAAATTTCGGGTCTTTATTAGGAGTTTGCCTAATTACACAAGTCCTAACCGGCTTATTTTTAGCAATACACTATACAGCAGATATCCACTCTGCATTTTCATCAGTAGCACATATTTGCCGTGACGTAAACCACGGATGACTAATCCGAAATATTCATGCCAACGGAGCCTCTTTATTTTTCATTTGTATTTATATACACATTGGACGAGGAATCTACTATGGATCATTTATACTCAAAGAGACTTGAAACATTGGAGTAATCCTTTTTTTTATAACTATGGCAACAGCTTTCATAGGATATGTTCTCCCATGAGGACAAATATCCTTCTGAGGAGCCACAGTAATTACTAACTTACTCTCAGCAATCCCATACATAGGTAACACTCTTGTATTGTGAATCTGAGGAGGATTCTCCGTAGACCAGGCCACTTTATCCCGATTCTTTGTATTTCACTTTATCTTACCCTTCCTCATTATGGGAACTACAATTATACACCTCCTCTTTCTACATGAAACCGGCTCAAACAACCCAACAGGACTTAACTCAAACCCAG-----------------------------------------------------------------------------------------------------------------------------------------------------------------------------------------------------------------------------------------------------------------------------------------------------------------------------------------------------------------------------------------------------------------------------------------------------------------------------------------------------------\n",
      "TGACTCACATCATACGAAGAAGACACCCCCTACTGAGTATTATTAATAATTCACTTATTGATCTACCAACTCCCTCAAACCTATCCTACTTATGAAATTTTGGATCCTTACTAGGAGTCTGCCTAATTACACAAGTTTTAACCGGCCTATTTTTAGCAAAACATTATACAGCAGACATTCACTTCGCATTTTCATCAGTAGCACATATTTGCCGCGACGTAAACTATGGATGATTAATTCGAAATGTTCATGCCAACGGAGCCTCTTTATTTTTTATTTGCATTTATATACACATTGGACGAGGAATTTACTATGGATCATTTATATTAAAAGAGACCTGAAACATTGGAGTGACCCTATTTTTTATAACCATAGCAACAGCCTTTATAGGATAAGTTCTCCCATGAGGACAAATATCCTTCTGGGGAGCCACAGTAATTACTAACTTACTATCAGCAATCCCCTATATAGGCAACACCCTCGTACTATGAATTTGAGGGGGGTTCTCGGTAGACCAAGCCACTCTATCCCGATTCTTTGTATTCCACTTCATTCTGCCATTTCTCATCATAGGAACTACTATTATACACCTCCTTTTTCTACACGAAACCGGCTCAAATAACCCAACAGGAATTAATTCAAGCCCAG-----------------------------------------------------------------------------------------------------------------------------------------------------------------------------------------------------------------------------------------------------------------------------------------------------------------------------------------------------------------------------------------------------------------------------------------------------------------------------------------------------------\n",
      "TGACTCACATCATACGAAAAACACACCCCCTACTAAATATTATTAATAACTCATTTATTGATTTACCTACTCCCTCAAGCCTGTCCTACCTGTGAAATTTTGGGTCTCTACTTGGAATCTGCCTAATCACACAAGTTTTAACTGGCTTATTCTTAGCAATACACTACACAGCAGATATCTACTTAGCATTTTCATCAGTAGCACATATTTGCCGCGACGTAAACTATGGATGATTAATTCGAAGTGTTCATACCAATGGGGCTTCTTTATTTTTTATTTGTATTTATATACATATTGGACGAGGAATTTATTATGGGTCATTTATACTTAAAGAGACCTGAAACATTGGAGTAATCCTTTTTTTTATAACTATAGCAACAGCCTTTATAGGATATGTTCTCCCATGAGGACAAATATCCTTTTGAGGGGCCACAGTAATTACCAACCTACTTTCAGCAATCCCTTATATAGGCAACACCCTCGTACTGTGAATTTGAGGAGGATTTTCAGTGGATCAGGCCACCTTATCACGATTCTTCGTATTTCATTTCATTCTACCATTTCTCATCATAGGAACCACTATTATACACCTCCTTTTTCTACATGAAACTGGCTCAAACAACCCAACAGGACTTAGCTCAAACTCAG-----------------------------------------------------------------------------------------------------------------------------------------------------------------------------------------------------------------------------------------------------------------------------------------------------------------------------------------------------------------------------------------------------------------------------------------------------------------------------------------------------------\n",
      "TGACTCACATTATACGAAAAACGCACCCCCTACTAAATATTATTAACAACTCATTTATTGATCTACCAACTCCCTCAAGCCTGTCCTACTTGTGAAATTTCGGGTCTTTACTTGGAATTTGCCTAATCACACAGGTTTTAACTGGCCTATTTTTAGCAATACACTACACAGCAGATATCTACTTCGCATTTTCATCAGTAGCACACATTTGCCGCGACGTAAACTATGGATGATTAATTCGAAATGTTCATACCAATGGAGCCTCTTTATTTTTTATTTGTATTTATATACACATCGGACGAGGAATTTATTATGGGTCATTTATACTTAAAGAGACCTGAAACATTGGAGTAATCCTTTTTTTTATAACTATAGCAACAGCCTTTATAGGGTATGTTCTCCCGTGAGGACAAATATCCTTTTGGGGGGCCACAGTGATTACTAACCTTCTCTCAGCAATCCCTTACATAGGCAACACCCTAGTACTGTGAATTTGAGGAGGATTTTCAGTGGACCAGGCCACTTTATCACGATTCTTCGTATTTCACTTCATTCTACCATTTCTCATCATAGGAACCACAATTATACACCTTCTTTTTCTGCATGAAACAGGCTCAAATAACCCTACAGGACTTAGCTCAAACCCAG-----------------------------------------------------------------------------------------------------------------------------------------------------------------------------------------------------------------------------------------------------------------------------------------------------------------------------------------------------------------------------------------------------------------------------------------------------------------------------------------------------------\n",
      "BLAST hits not in the data: Plethodon_oconaluftee\n",
      "TGACTCACATCACACGAAAAACACACCCCCTACTGAGTGTTATTAATAATTCACTTATTGATCTACCAACTCCCTCAAACCTATCCTACTTATGAAATTTTGGATCCTTACTAGGAGTCTGCCTAATCACACAAATTTTAACCGGCCTATTTTTAGCAATACATTATACAGCAGACATTTACTTCGCATTTTCATCAGTAGCACATATTTGCCGCGACGTAAACTATGGATGATTAATTCGAAATATTCATGCCAACGGAGCCTCTTTATTTTTTATTTGCATTTACATACACATTGGACGAGGAATTTACTATGGATCATTTATATTAAAAGAGACCTGAAACATTGGAGTAATCCTCTTTTTTATAACCATAGCAACAGCCTTTATAGGATATGTTCTCCCATGAGGACAAATATCCTTCTGAGGGGCCACAGTGATTACTAATCTACTCTCAGCAATCCCTTATATAGGCAACACCCTCGTACTGTGAATTTGGGGTGGGTTCTCGGTAGATCAAGMCACTCTATCCCGATTCTTTGTATTTCACTTCATTCTACCCTTTCTCATCATAGGAACTACTATTATTCACCTCCTTTTTCTACACGAAACCGGCTCAAACAACCCAACAGGAATTAATTCAAGCCCAG-----------------------------------------------------------------------------------------------------------------------------------------------------------------------------------------------------------------------------------------------------------------------------------------------------------------------------------------------------------------------------------------------------------------------------------------------------------------------------------------------------------\n",
      "-----------ATACGAAAAACGCACCCCTTACTAAACATTATTAATAACTCATTTATTGATTTACCAACTCCCTCAAGCCTGTCTTACTTGTGAAATTTTGGATCTTTACTTGGAATTTGCCTAATTACACAAGTTTTAACTGGCCTATTTTTAGCTATACACTACACAGCAGATATCCACTTCGCATTTTCATCAGTAGCACACATTTGCCGCGATGTAAACTATGGATGACTAATTCGAAATGTTCATACCAATGGAGCCTCTTTATTTTTTATTTGTATTTATATACACATCGGACGAGGAATTTATTATGGATCATTTATACTTAAAGAAACCTGAAACATTGGAGTAATCCTTTTTTTTATAACTATAGCAACAGCCTTTATAGGATATGTTCTCCCATGAGGACAAATATCCTTTTGGGGGGCCACAGTGATTACTAATCTTCTTTCAGCAATCCCTTACATAGGTAATACCCTAGTACTGTGAATTTGAGGAGGATTTTCAGTGGACCAGGCCACTTTATCACGATTCTTCGTATTTCACTTCATTTTACCATTTCTCATCATAGGAGCCACTATTATACACCTTCTCTTTCTACATGAAACAGGCTCAAATAACCCCACAGGACTTAGCTCAAACCCAG-----------------------------------------------------------------------------------------------------------------------------------------------------------------------------------------------------------------------------------------------------------------------------------------------------------------------------------------------------------------------------------------------------------------------------------------------------------------------------------------------------------\n",
      "-----------ATACGAAAAACACACCCCCTACTAAATATCATTAATAACTCATTCATTGATCTACCAACCCCATCAAGCCTATCCTACTTATGAAATTTCGGGTCTTTATTAGGAGTTTGCCTAATTACACAAGTCCTAACCGGCTTATTTTTAGCAATACACTATACAGCAGATATCCACTCTGCATTTTCATCAGTAGCACATATTTGCCGTGACGTAAACCACGGATGACTAATCCGAAATATTCATGCCAACGGAGCCTCTTTATTTTTCATTTGTATTTATATACACATTGGACGAGGAATCTACTATGGATCATTTATACTCAAAGAGACTTGAAACATTGGAGTAATCCTTTTTTTTATAACTATGGCAACAGCTTTCATAGGATATGTTCTCCCATGAGGACAAATATCCTTCTGAGGAGCCACAGTAATTACTAACTTACTCTCAGCAATCCCATACATAGGTAACACTCTTGTATTGTGAATCTGAGGAGGATTCTCCGTAGACCAGGCCACTTTATCCCGATTCTTTGTATTTCACTTTATCTTACCCTTCCTCATTATGGGAACTACAATTATACACCTCCTCTTTCTACATGAAACCGGCTCAAACAACCCAACAGGACTTAACTCAAACCCAG-----------------------------------------------------------------------------------------------------------------------------------------------------------------------------------------------------------------------------------------------------------------------------------------------------------------------------------------------------------------------------------------------------------------------------------------------------------------------------------------------------------\n",
      "-----------ATACGAAAAACACACCCCCTACTAAATATCATTAATAACTCATTCATTGATCTACCAACCCCATCAAGCCTATCCTACTTATGAAATTTCGGGTCTTTATTAGGAGTTTGCCTAATTACACAAGTCCTAACCGGCTTATTTTTAGCAATACACTATACAGCAGATATCCACTCTGCATTTTCATCAGTAGCACATATTTGCCGTGACGTAAACCACGGATGACTAATCCGAAATATTCATGCCAACGGAGCCTCTTTATTTTTCATTTGTATTTATATACACATTGGACGAGGAATCTACTATGGATCATTTATACTCAAAGAGACTTGAAACATTGGAGTAATCCTTTTTTTTATAACTATGGCAACAGCTTTCATAGGATATGTTCTCCCATGAGGACAAATATCCTTCTGAGGAGCCACAGTAATTACTAACTTACTCTCAGCAATCCCATACATAGGTAACACTCTTGTATTGTGAATCTGAGGAGGATTCTCCGTAGACCAGGCCACTTTATCCCGATTCTTTGTATTTCACTTTATCTTACCCTTCCTCATTATGGGAACTACAATTATACACCTCCTCTTTCTACATGAAACCGGCTCAAACAACCCAACAGGACTTAACTCAAACCCAG-----------------------------------------------------------------------------------------------------------------------------------------------------------------------------------------------------------------------------------------------------------------------------------------------------------------------------------------------------------------------------------------------------------------------------------------------------------------------------------------------------------\n",
      "-----------ATACGAAAAACACACCCCCTACTAAATATCATTAATAACTCATTCATTGATCTACCAACCCCATCAAGCCTATCCTACTTATGAAATTTCGGGTCTTTATTAGGAGTTTGCCTAATTACACAAGTCCTAACCGGCTTATTTTTAGCAATACACTATACAGCAGATATCCACTCTGCATTTTCATCAGTAGCACATATTTGCCGTGACGTAAACCACGGATGACTAATCCGAAATATTCATGCCAACGGAGCCTCTTTATTTTTCATTTGTATTTATATACACATTGGACGAGGAATCTACTATGGATCATTTATACTCAAAGAGACTTGAAACATTGGAGTAATCCTTTTTTTTATAACTATGGCAACAGCTTTCATAGGATATGTTCTCCCATGAGGACAAATATCCTTCTGAGGAGCCACAGTAATTACTAACTTACTCTCAGCAATCCCATACATAGGTAACACTCTTGTATTGTGAATCTGAGGAGGATTCTCCGTAGACCAGGCCACTTTATCCCGATTCTTTGTATTTCACTTTATCTTACCCTTCCTCATTATGGGAACTACAATTATACACCTCCTCTTTCTACATGAAACCGGCTCAAACAACCCAACAGGACTTAACTCAAACCCAG-----------------------------------------------------------------------------------------------------------------------------------------------------------------------------------------------------------------------------------------------------------------------------------------------------------------------------------------------------------------------------------------------------------------------------------------------------------------------------------------------------------\n",
      "-----------ATACGAAAAACACACCCCCTACTAAATATCATTAATAACTCATTCATTGATCTACCAACCCCATCAAGCCTATCCTACTTATGAAATTTCGGGTCTTTATTAGGAGTTTGCCTAATTACACAAGTCCTAACCGGCTTATTTTTAGCAATACACTATACAGCAGATATCCACTCTGCATTTTCATCAGTAGCACATATTTGCCGTGACGTAAACCACGGATGACTAATCCGAAATATTCATGCCAACGGAGCCTCTTTATTTTTCATTTGTATTTATATACACATTGGACGAGGAATCTACTATGGATCATTTATACTCAAAGAGACTTGAAACATTGGAGTAATCCTTTTTTTTATAACTATGGCAACAGCTTTCATAGGATATGTTCTCCCATGAGGACAAATATCCTTCTGAGGAGCCACAGTAATTACTAACTTACTCTCAGCAATCCCATACATAGGTAACACTCTTGTATTGTGAATCTGAGGAGGATTCTCCGTAGACCAGGCCACTTTATCCCGATTCTTTGTATTTCACTTTATCTTACCCTTCCTCATTATGGGAACTACAATTATACACCTCCTCTTTCTACATGAAACCGGCTCAAACAACCCAACAGGACTTAACTCAAACCCAG-----------------------------------------------------------------------------------------------------------------------------------------------------------------------------------------------------------------------------------------------------------------------------------------------------------------------------------------------------------------------------------------------------------------------------------------------------------------------------------------------------------\n",
      "-----------ATACGAAAAACACACCCCCTACTAAATATCATTAATAACTCATTCATTGATCTACCAACCCCATCAAGCCTATCCTACTTATGAAATTTCGGGTCTTTATTAGGAGTTTGCCTAATTACACAAGTCCTAACCGGCTTATTTTTAGCAATACACTATACAGCAGATATCCACTCTGCATTTTCATCAGTAGCACATATTTGCCGTGACGTAAACCACGGATGACTAATCCGAAATATTCATGCCAACGGAGCCTCTTTATTTTTCATTTGTATTTATATACACATTGGACGAGGAATCTACTATGGATCATTTATACTCAAAGAGACTTGAAACATTGGAGTAATCCTTTTTTTTATAACTATGGCAACAGCTTTCATAGGATATGTTCTCCCATGAGGACAAATATCCTTCTGAGGAGCCACAGTAATTACTAACTTACTCTCAGCAATCCCATACATAGGTAACACTCTTGTATTGTGAATCTGAGGAGGATTCTCCGTAGACCAGGCCACTTTATCCCGATTCTTTGTATTTCACTTTATCTTACCCTTCCTCATTATGGGAACTACAATTATACACCTCCTCTTTCTACATGAAACCGGCTCAAACAACCCAACAGGACTTAACTCAAACCCAG-----------------------------------------------------------------------------------------------------------------------------------------------------------------------------------------------------------------------------------------------------------------------------------------------------------------------------------------------------------------------------------------------------------------------------------------------------------------------------------------------------------\n",
      "-----------ATACGAAAAACACACCCCCTACTAAATATCATTAATAACTCATTCATTGATCTACCAACCCCATCAAGCCTATCCTACTTATGAAATTTCGGGTCTTTATTAGGAGTTTGCCTAATTACACAAGTCCTAACCGGCTTATTTTTAGCAATACACTATACAGCAGATATCCACTCTGCATTTTCATCAGTAGCACATATTTGCCGTGACGTAAACCACGGATGACTAATCCGAAATATTCATGCCAACGGAGCCTCTTTATTTTTCATTTGTATTTATATACACATTGGACGAGGAATCTACTATGGATCATTTATACTCAAAGAGACTTGAAACATTGGAGTAATCCTTTTTTTTATAACTATGGCAACAGCTTTCATAGGATATGTTCTCCCATGAGGACAAATATCCTTCTGAGGAGCCACAGTAATTACTAACTTACTCTCAGCAATCCCATACATAGGTAACACTCTTGTATTGTGAATCTGAGGAGGATTCTCCGTAGACCAGGCCACTTTATCCCGATTCTTTGTATTTCACTTTATCTTACCCTTCCTCATTATGGGAACTACAATTATACACCTCCTCTTTCTACATGAAACCGGCTCAAACAACCCAACAGGACTTAACTCAAACCCAG-----------------------------------------------------------------------------------------------------------------------------------------------------------------------------------------------------------------------------------------------------------------------------------------------------------------------------------------------------------------------------------------------------------------------------------------------------------------------------------------------------------\n",
      "-----------ATACGAAAAACACACCCCCTACTAAATATCATTAATAACTCATTCATTGATCTACCAACCCCATCAAGCCTATCCTACTTATGAAATTTCGGGTCTTTATTAGGAGTTTGCCTAATTACACAAGTCCTAACCGGCTTATTTTTAGCAATACACTATACAGCAGATATCCACTCTGCATTTTCATCAGTAGCACATATTTGCCGTGACGTAAACCACGGATGACTAATCCGAAATATTCATGCCAACGGAGCCTCTTTATTTTTCATTTGTATTTATATACACATTGGACGAGGAATCTACTATGGATCATTTATACTCAAAGAGACTTGAAACATTGGAGTAATCCTTTTTTTTATAACTATGGCAACAGCTTTCATAGGATATGTTCTCCCATGAGGACAAATATCCTTCTGAGGAGCCACAGTAATTACTAACTTACTCTCAGCAATCCCATACATAGGTAACACTCTTGTATTGTGAATCTGAGGAGGATTCTCCGTAGACCAGGCCACTTTATCCCGATTCTTTGTATTTCACTTTATCTTACCCTTCCTCATTATGGGAACTACAATTATACACCTCCTCTTTCTACATGAAACCGGCTCAAACAACCCAACAGGACTTAACTCAAACCCAG-----------------------------------------------------------------------------------------------------------------------------------------------------------------------------------------------------------------------------------------------------------------------------------------------------------------------------------------------------------------------------------------------------------------------------------------------------------------------------------------------------------\n",
      "-----------------ATAACGCACCCCTTATTAAGTATTATTAACAACTCACTTATTGATTTACCAACTCCATCAAACCTATCATACTTATGAAATTTCGGGTCCTTACTAGGAGTCTGCCTAATCACACAAGTTTTAACAGGCCTATTTTTAGCAATACATTATACAGCAGACATTCACCTCGCATTTTCATCAGTAGCACATATTTGCCGCGACGTAAACTACGGGTGATTAATTCGAAATATTCATACCAACGGAGCCTCTTTATTTTTTATTTGCATTTATATGCACATTGGACGAGGAATTTATTATGGATCATTTGTACTAAAAGAGACCTGAAACATTGGAGTAATTCTTTTTTTTATAACAATAGCAACAGCCTTTATAGGATATGTTCTCCCATGAGGACAAATATCATTCTGAGGGGCCACGGTAATTACTAATCTACTCTCAGCAGTACCTTATATAGGTAACACGCTCGTACTGTGAATTTGAGGGGGGTTCTCAGTAGACCAAGCCACTTTATCACGATTCTTTGTATTTCACTTCATTCTGCCCTTTCTCATTATAGGAACTACTATTATACACCTCCTCTTTCTACACGAAACCGGCTCAAACAACCCAACAGGACTTAACTCGAACCCAG-----------------------------------------------------------------------------------------------------------------------------------------------------------------------------------------------------------------------------------------------------------------------------------------------------------------------------------------------------------------------------------------------------------------------------------------------------------------------------------------------------------\n",
      "TGACTCACATCATACGAAAAACACACCCCCTACTGAGTGTTATTAATAATTCACTTATTGATCTACCAACTCCATCAAACCTATCCTACTTATGAAATTTTGGATCCTTACTGGGAGTCTGCCTAATCACACAAGTTTTAACCGGCCTATTTTTAGCAATACATTATACAGCAGACATTTACTTCGCATTTTCATCAGTAGCACATATTTGCCGCGACGTAAACTATGGATGATTAATTCGAAATATTCATGCCAACGGAGCCTCTTTATTTTTTATTTGTATTTACATACACATTGGACGAGGAATTTACTATGGGTCATTTATATTAAAAGAAACCTGAAACATTGGAGTGATCCTCTTTTTTATAACCATAGCAACAGCCTTTATAGGATATGTTCTCCCATGAGGACAAATATCCTTCTGGGGAGCCACAGTGATTACTAACCTACTCTCAGCAATCCCTTATATAGGCAACACCCTCGTACTCTGAATTTGGGGTGGGTTCTCGGTAGATCAGGCCACTCTATCCCGATTCTTTGTATTTCACTTCATTCTGCCCTTTCTCATCATAGGAACTACTATTATACACCTCCTTTTTTTACACGAAACCGGCTCAAACAACCC----------------------------------------------------------------------------------------------------------------------------------------------------------------------------------------------------------------------------------------------------------------------------------------------------------------------------------------------------------------------------------------------------------------------------------------------------------------------------------------------------------------------------------\n",
      "-----------ATACGAAAAACACACCCCCTACTAAATATCATTAATAACTCATTCATTGATCTACCAACCCCATCAAGCCTATCCTACTTATGAAATTTCGGGTCTTTATTAGGAGTTTGCCTAATTACACAAGTCCTAACCGGCTTATTTTTAGCAATACACTATACAGCAGATATCCACTCTGCATTTTCATCAGTAGCACATATTTGCCGTGACGTAAACCACGGATGACTAATCCGAAATATTCATGCCAACGGAGCCTCTTTATTTTTCATTTGTATTTATATACACATTGGACGAGGAATCTACTATGGATCATTTATACTCAAAGAGACTTGAAACATTGGAGTAATCCTTTTTTTTATAACTATGGCAACAGCTTTCATAGGATATGTTCTCCCATGAGGACAAATATCCTTCTGAGGAGCCACAGTAATTACTAACTTACTCTCAGCAATCCCATACATAGGTAACACTCTTGTATTGTGAATCTGAGGAGGATTCTCCGTAGACCAGGCCACTTTATCCCGATTCTTTGTATTTCACTTTATCTTACCCTTCCTCATTATGGGAACTACAATTATACACCTCCTCTTTCTACATGAAACCGGCTCAAACAACCCAACAGGACTTAACTCAAACCCAG-----------------------------------------------------------------------------------------------------------------------------------------------------------------------------------------------------------------------------------------------------------------------------------------------------------------------------------------------------------------------------------------------------------------------------------------------------------------------------------------------------------\n",
      "-----------ATACGAAAAACACACCCCCTACTAAATATCATTAATAACTCATTCATTGATCTACCAACCCCATCAAGCCTATCCTACTTATGAAATTTCGGGTCTTTATTAGGAGTTTGCCTAATTACACAAGTCCTAACCGGCTTATTTTTAGCAATACACTATACAGCAGATATCCACTCTGCATTTTCATCAGTAGCACATATTTGCCGTGACGTAAACCACGGATGACTAATCCGAAATATTCATGCCAACGGAGCCTCTTTATTTTTCATTTGTATTTATATACACATTGGACGAGGAATCTACTATGGATCATTTATACTCAAAGAGACTTGAAACATTGGAGTAATCCTTTTTTTTATAACTATGGCAACAGCTTTCATAGGATATGTTCTCCCATGAGGACAAATATCCTTCTGAGGAGCCACAGTAATTACTAACTTACTCTCAGCAATCCCATACATAGGTAACACTCTTGTATTGTGAATCTGAGGAGGATTCTCCGTAGACCAGGCCACTTTATCCCGATTCTTTGTATTTCACTTTATCTTACCCTTCCTCATTATGGGAACTACAATTATACACCTCCTCTTTCTACATGAAACCGGCTCAAACAACCCAACAGGACTTAACTCAAACCCAG-----------------------------------------------------------------------------------------------------------------------------------------------------------------------------------------------------------------------------------------------------------------------------------------------------------------------------------------------------------------------------------------------------------------------------------------------------------------------------------------------------------\n",
      "-----------ATACGAAAAACACACCCCCTACTAAATATCATTAATAACTCATTCATTGATCTACCAACCCCATCAAGCCTATCCTACTTATGAAATTTCGGGTCTTTATTAGGAGTTTGCCTAATTACACAAGTCCTAACCGGCTTATTTTTAGCAATACACTATACAGCAGATATCCACTCTGCATTTTCATCAGTAGCACATATTTGCCGTGACGTAAACCACGGATGACTAATCCGAAATATTCATGCCAACGGAGCCTCTTTATTTTTCATTTGTATTTATATACACATTGGACGAGGAATCTACTATGGATCATTTATACTCAAAGAGACTTGAAACATTGGAGTAATCCTTTTTTTTATAACTATGGCAACAGCTTTCATAGGATATGTTCTCCCATGAGGACAAATATCCTTCTGAGGAGCCACAGTAATTACTAACTTACTCTCAGCAATCCCATACATAGGTAACACTCTTGTATTGTGAATCTGAGGAGGATTCTCCGTAGACCAGGCCACTTTATCCCGATTCTTTGTATTTCACTTTATCTTACCCTTCCTCATTATGGGAACTACAATTATACACCTCCTCTTTCTACATGAAACCGGCTCAAACAACCCAACAGGACTTAACTCAAACCCAG-----------------------------------------------------------------------------------------------------------------------------------------------------------------------------------------------------------------------------------------------------------------------------------------------------------------------------------------------------------------------------------------------------------------------------------------------------------------------------------------------------------\n"
     ]
    },
    {
     "name": "stdout",
     "output_type": "stream",
     "text": [
      "-----------ATACGAAAAACACACCCCCTACTAAATATCATTAATAACTCATTCATTGATCTACCAACCCCATCAAGCCTATCCTACTTATGAAATTTCGGGTCTTTATTAGGAGTTTGCCTAATTACACAAGTCCTAACCGGCTTATTTTTAGCAATACACTATACAGCAGATATCCACTCTGCATTTTCATCAGTAGCACATATTTGCCGTGACGTAAACCACGGATGACTAATCCGAAATATTCATGCCAACGGAGCCTCTTTATTTTTCATTTGTATTTATATACACATTGGACGAGGAATCTACTATGGATCATTTATACTCAAAGAGACTTGAAACATTGGAGTAATCCTTTTTTTTATAACTATGGCAACAGCTTTCATAGGATATGTTCTCCCATGAGGACAAATATCCTTCTGAGGAGCCACAGTAATTACTAACTTACTCTCAGCAATCCCATACATAGGTAACACTCTTGTATTGTGAATCTGAGGAGGATTCTCCGTAGACCAGGCCACTTTATCCCGATTCTTTGTATTTCACTTTATCTTACCCTTCCTCATTATGGGAACTACAATTATACACCTCCTCTTTCTACATGAAACCGGCTCAAACAACCCAACAGGACTTAACTCAAACCCAG-----------------------------------------------------------------------------------------------------------------------------------------------------------------------------------------------------------------------------------------------------------------------------------------------------------------------------------------------------------------------------------------------------------------------------------------------------------------------------------------------------------\n",
      "-----------ATACGAAAAACACACCCCCTACTAAATATCATTAATAACTCATTCATTGATCTACCAACCCCATCAAGCCTATCCTACTTATGAAATTTCGGGTCTTTATTAGGAGTTTGCCTAATTACACAAGTCCTAACCGGCTTATTTTTAGCAATACACTATACAGCAGATATCCACTCTGCATTTTCATCAGTAGCACATATTTGCCGTGACGTAAACCACGGATGACTAATCCGAAATATTCATGCCAACGGAGCCTCTTTATTTTTCATTTGTATTTATATACACATTGGACGAGGAATCTACTATGGATCATTTATACTCAAAGAGACTTGAAACATTGGAGTAATCCTTTTTTTTATAACTATGGCAACAGCTTTCATAGGATATGTTCTCCCATGAGGACAAATATCCTTCTGAGGAGCCACAGTAATTACTAACTTACTCTCAGCAATCCCATACATAGGTAACACTCTTGTATTGTGAATCTGAGGAGGATTCTCCGTAGACCAGGCCACTTTATCCCGATTCTTTGTATTTCACTTTATCTTACCCTTCCTCATTATGGGAACTACAATTATACACCTCCTCTTTCTACATGAAACCGGCTCAAACAACCCAACAGGACTTAACTCAAACCCAG-----------------------------------------------------------------------------------------------------------------------------------------------------------------------------------------------------------------------------------------------------------------------------------------------------------------------------------------------------------------------------------------------------------------------------------------------------------------------------------------------------------\n",
      "-----------ATACGAAAAACACACCCCCTACTAAATATCATTAATAACTCATTCATTGATCTACCAACCCCATCAAGCCTATCCTACTTATGAAATTTCGGGTCTTTATTAGGAGTTTGCCTAATTACACAAGTCCTAACCGGCTTATTTTTAGCAATACACTATACAGCAGATATCCACTCTGCATTTTCATCAGTAGCACATATTTGCCGTGACGTAAACCACGGATGACTAATCCGAAATATTCATGCCAACGGAGCCTCTTTATTTTTCATTTGTATTTATATACACATTGGACGAGGAATCTACTATGGATCATTTATACTCAAAGAGACTTGAAACATTGGAGTAATCCTTTTTTTTATAACTATGGCAACAGCTTTCATAGGATATGTTCTCCCATGAGGACAAATATCCTTCTGAGGAGCCACAGTAATTACTAACTTACTCTCAGCAATCCCATACATAGGTAACACTCTTGTATTGTGAATCTGAGGAGGATTCTCCGTAGACCAGGCCACTTTATCCCGATTCTTTGTATTTCACTTTATCTTACCCTTCCTCATTATGGGAACTACAATTATACACCTCCTCTTTCTACATGAAACCGGCTCAAACAACCCAACAGGACTTAACTCAAACCCAG-----------------------------------------------------------------------------------------------------------------------------------------------------------------------------------------------------------------------------------------------------------------------------------------------------------------------------------------------------------------------------------------------------------------------------------------------------------------------------------------------------------\n",
      "-----------ATACGAAAAACACACCCCCTACTAAATATCATTAATAACTCATTCATTGATCTACCAACCCCATCAAGCCTATCCTACTTATGAAATTTCGGGTCTTTATTAGGAGTTTGCCTAATTACACAAGTCCTAACCGGCTTATTTTTAGCAATACACTATACAGCAGATATCCACTCTGCATTTTCATCAGTAGCACATATTTGCCGTGACGTAAACCACGGATGACTAATCCGAAATATTCATGCCAACGGAGCCTCTTTATTTTTCATTTGTATTTATATACACATTGGACGAGGAATCTACTATGGATCATTTATACTCAAAGAGACTTGAAACATTGGAGTAATCCTTTTTTTTATAACTATGGCAACAGCTTTCATAGGATATGTTCTCCCATGAGGACAAATATCCTTCTGAGGAGCCACAGTAATTACTAACTTACTCTCAGCAATCCCATACATAGGTAACACTCTTGTATTGTGAATCTGAGGAGGATTCTCCGTAGACCAGGCCACTTTATCCCGATTCTTTGTATTTCACTTTATCTTACCCTTCCTCATTATGGGAACTACAATTATACACCTCCTCTTTCTACATGAAACCGGCTCAAACAACCCAACAGGACTTAACTCAAACCCAG-----------------------------------------------------------------------------------------------------------------------------------------------------------------------------------------------------------------------------------------------------------------------------------------------------------------------------------------------------------------------------------------------------------------------------------------------------------------------------------------------------------\n",
      "-----------ATACGAAAAACACACCCCCTACTAAATATCATTAATAACTCATTCATTGATCTACCAACCCCATCAAGCCTATCCTACTTATGAAATTTCGGGTCTTTATTAGGAGTTTGCCTAATTACACAAGTCCTAACCGGCTTATTTTTAGCAATACACTATACAGCAGATATCCACTCTGCATTTTCATCAGTAGCACATATTTGCCGTGACGTAAACCACGGATGACTAATCCGAAATATTCATGCCAACGGAGCCTCTTTATTTTTCATTTGTATTTATATACACATTGGACGAGGAATCTACTATGGATCATTTATACTCAAAGAGACTTGAAACATTGGAGTAATCCTTTTTTTTATAACTATGGCAACAGCTTTCATAGGATATGTTCTCCCATGAGGACAAATATCCTTCTGAGGAGCCACAGTAATTACTAACTTACTCTCAGCAATCCCATACATAGGTAACACTCTTGTATTGTGAATCTGAGGAGGATTCTCCGTAGACCAGGCCACTTTATCCCGATTCTTTGTATTTCACTTTATCTTACCCTTCCTCATTATGGGAACTACAATTATACACCTCCTCTTTCTACATGAAACCGGCTCAAACAACCCAACAGGACTTAACTCAAACCCAG-----------------------------------------------------------------------------------------------------------------------------------------------------------------------------------------------------------------------------------------------------------------------------------------------------------------------------------------------------------------------------------------------------------------------------------------------------------------------------------------------------------\n",
      "-----------ATACGAAAAACACACCCCCTACTAAATATCATTAATAACTCATTCATTGATCTACCAACCCCATCAAGCCTATCCTACTTATGAAATTTCGGGTCTTTATTAGGAGTTTGCCTAATTACACAAGTCCTAACCGGCTTATTTTTAGCAATACACTATACAGCAGATATCCACTCTGCATTTTCATCAGTAGCACATATTTGCCGTGACGTAAACCACGGATGACTAATCCGAAATATTCATGCCAACGGAGCCTCTTTATTTTTCATTTGTATTTATATACACATTGGACGAGGAATCTACTATGGATCATTTATACTCAAAGAGACTTGAAACATTGGAGTAATCCTTTTTTTTATAACTATGGCAACAGCTTTCATAGGATATGTTCTCCCATGAGGACAAATATCCTTCTGAGGAGCCACAGTAATTACTAACTTACTCTCAGCAATCCCATACATAGGTAACACTCTTGTATTGTGAATCTGAGGAGGATTCTCCGTAGACCAGGCCACTTTATCCCGATTCTTTGTATTTCACTTTATCTTACCCTTCCTCATTATGGGAACTACAATTATACACCTCCTCTTTCTACATGAAACCGGCTCAAACAACCCAACAGGACTTAACTCAAACCCAG-----------------------------------------------------------------------------------------------------------------------------------------------------------------------------------------------------------------------------------------------------------------------------------------------------------------------------------------------------------------------------------------------------------------------------------------------------------------------------------------------------------\n",
      "-----------ATACGAAAAACACACCCCCTACTAAATATCATTAATAACTCATTCATTGATCTACCAACCCCATCAAGCCTATCCTACTTATGAAATTTCGGGTCTTTATTAGGAGTTTGCCTAATTACACAAGTCCTAACCGGCTTATTTTTAGCAATACACTATACAGCAGATATCCACTCTGCATTTTCATCAGTAGCACATATTTGCCGTGACGTAAACCACGGATGACTAATCCGAAATATTCATGCCAACGGAGCCTCTTTATTTTTCATTTGTATTTATATACACATTGGACGAGGAATCTACTATGGATCATTTATACTCAAAGAGACTTGAAACATTGGAGTAATCCTTTTTTTTATAACTATGGCAACAGCTTTCATAGGATATGTTCTCCCATGAGGACAAATATCCTTCTGAGGAGCCACAGTAATTACTAACTTACTCTCAGCAATCCCATACATAGGTAACACTCTTGTATTGTGAATCTGAGGAGGATTCTCCGTAGACCAGGCCACTTTATCCCGATTCTTTGTATTTCACTTTATCTTACCCTTCCTCATTATGGGAACTACAATTATACACCTCCTCTTTCTACATGAAACCGGCTCAAACAACCCAACAGGACTTAACTCAAACCCAG-----------------------------------------------------------------------------------------------------------------------------------------------------------------------------------------------------------------------------------------------------------------------------------------------------------------------------------------------------------------------------------------------------------------------------------------------------------------------------------------------------------\n",
      "-----------ATACGAAAAACACACCCCCTACTAAATATCATTAATAACTCATTCATTGATCTACCAACCCCATCAAGCCTATCCTACTTATGAAATTTCGGGTCTTTATTAGGAGTTTGCCTAATTACACAAGTCCTAACCGGCTTATTTTTAGCAATACACTATACAGCAGATATCCACTCTGCATTTTCATCAGTAGCACATATTTGCCGTGACGTAAACCACGGATGACTAATCCGAAATATTCATGCCAACGGAGCCTCTTTATTTTTCATTTGTATTTATATACACATTGGACGAGGAATCTACTATGGATCATTTATACTCAAAGAGACTTGAAACATTGGAGTAATCCTTTTTTTTATAACTATGGCAACAGCTTTCATAGGATATGTTCTCCCATGAGGACAAATATCCTTCTGAGGAGCCACAGTAATTACTAACTTACTCTCAGCAATCCCATACATAGGTAACACTCTTGTATTGTGAATCTGAGGAGGATTCTCCGTAGACCAGGCCACTTTATCCCGATTCTTTGTATTTCACTTTATCTTACCCTTCCTCATTATGGGAACTACAATTATACACCTCCTCTTTCTACATGAAACCGGCTCAAACAACCCAACAGGACTTAACTCAAACCCAG-----------------------------------------------------------------------------------------------------------------------------------------------------------------------------------------------------------------------------------------------------------------------------------------------------------------------------------------------------------------------------------------------------------------------------------------------------------------------------------------------------------\n",
      "BLAST hits not in the data: Plethodon_oconaluftee\n",
      "TGACTCACATCACACGAAAAACACACCCCCTACTGAGTGTTATTAATAATTCACTTATTGATCTACCAACTCCCTCAAACCTATCCTACTTATGAAATTTTGGATCCTTACTAGGAGTCTGCCTAATCACACAAATTTTAACCGGCCTATTTTTAGCAATACATTATACAGCAGACATTTACTTCGCATTTTCATCAGTAGCACATATTTGCCGCGACGTAAACTATGGATGATTAATTCGAAATATTCATGCCAACGGAGCCTCTTTATTTTTTATTTGCATTTACATACACATTGGACGAGGAATTTACTATGGATCATTTATATTAAAAGAGACCTGAAACATTGGAGTAATCCTCTTTTTTATAACCATAGCAACAGCCTTTATAGGATATGTTCTCCCATGAGGACAAATATCCTTCTGAGGGGCCACAGTGATTACTAATCTACTCTCAGCAATCCCTTATATAGGCAACACCCTCGTACTGTGAATTTGGGGTGGGTTCTCGGTAGATCAAGCCACTCTATCCCGATTCTTTGTATTTCACTTCATTCTACCCTTTCTCATCATAGGAACTACTATTATTCACCTCCTTTTTCTACACGAAACCGGCTCAAACAACCCAACAGGAATAATCAAGCCCAGAC-----------------------------------------------------------------------------------------------------------------------------------------------------------------------------------------------------------------------------------------------------------------------------------------------------------------------------------------------------------------------------------------------------------------------------------------------------------------------------------------------------------\n",
      "TGACCCACATCATACGAAAAACACATCCCCTATTAAATATTATTAATAACTCATTTATTGATCTACCAACTCCCTCAAGCCTATCCTACTTATGAAATTTTGGATCCTTACTAGGAGTCTGCTTAATTACACAAATTCTAACCGGCTTATTTTTAGCAATACACTACACAGCAGATATCCACTCTGCATTTTCATCAGTAGCACACATTTGCCGCGACGTAAACCACGGGTGATTAATTCGAAATATTCATGCCAACGGAGCCTCATTATTTTTTATTTGTATTTATATACACATCGGACGAGGAATCTATTATGGATCATTTATACTCAAAGAGACCTGAAACATTGGAGTAATCCTTTTTTTTATCACTATAGCAACAGCTTTTATAGGATATGTCCTTCCATGAGGACAAATATCCTTCTGGGGAGCCACAGTGATTACTAATTTATTCTCAGCAATCCCTTACGTGGGCAACACCCTTGTGCTGTGAGCCTGAGGAGGATTCTCAGTGGACCAGGCCACTTTATCCCGATTCTTTGTACTCCACTTTACCCTACCATTCCTTATTGTAGGGGTCACTATTTTACATCTCCTTTTCCTACATGAAACCGGCTCAAGCAATCCAATAGGACTTAGCTTAAGCCTGGACAAAATCCCATTTCACCCATACTTTTCATACAAAGACCTCCTAGGGCTCGTAGTAATACTATTAATACTAACCCTGTTATCACTTCTTACCCCAAGTTTTTTAAGTGACCCAGAAAATTTTTCCCAAGCCAACCCCCTCATCACACCCCCACATATCCGGCCGGAATGATATTTCCTATTTGCTTACGCAATCTTACGCTCAATCCCAAATAAACTTGGCGGAGTACTAGCCCTGCTTCTATCTATTCTTATCCTATTTATTATTCCAGCTCTTCATACCTCAAAACACCAAAGCCTAATATTTCGACCACTCACACAAGCCCTATTCTGAACACTAATCTTAAATATACTTCTACTTACCTGGGTCGGAAACCAACCCGTAGAAACCCCATTTATTAAAAT----------------------------------------------------------------------------------------\n",
      "TGACCCACATCATACGAAAAACACATCCCCTATTAAATATTATTAATAACTCATTTATTGATCTACCAACTCCCTCAAGCCTATCCTACTTATGAAATTTTGGATCCTTACTAGGAGTCTGCTTAATTACACAAATTCTAACCGGCTTATTTTTAGCAATACACTACACAGCAGATATCCACTCTGCATTTTCATCAGTAGCACACATTTGCCGCGACGTAAACCACGGGTGATTAATTCGAAATATTCATGCCAACGGAGCCTCATTATTTTTTATTTGTATTTATATACACATCGGACGAGGAATCTATTATGGATCATTTATACTCAAAGAGACCTGAAACATTGGAGTAATCCTTTTTTTTATCACTATAGCAACAGCTTTTATAGGATATGTCCTTCCATGAGGACAAATATCCTTCTGGGGAGCCACAGTGATTACTAATTTATTCTCAGCAATCCCTTACGTGGGCAACACCCTTGTGCTGTGAGCCTGAGGAGGATTCTCAGTGGACCAGGCCACTTTATCCCGATTCTTTGTACTCCACTTTACCCTACCATTCCTTATTGTAGGGGTCACTATTTTACATCTCCTTTTCCTACATGAAACCGGCTCAAGCAATCCAATAGGACTTAGCTTAAGCCTGGACAAAATCCCATTTCACCCATACTTTTCATACAAAGACCTCCTAGGGCTCGTAGTAATACTATTAATACTAACCCTGTTATCACTTCTTACCCCAAGTTTTTTAAGTGACCCAGAAAATTTTTCCCAAGCCAACCCCCTCATCACACCCCCACATATCCGGCCGGAATGATATTTCCTATTTGCTTACGCAATCTTACGCTCAATCCCAAATAAACTTGGCGGAGTACTAGCCCTGCTTCTATCTATTCTTATCCTATTTATTATTCCAGCTCTTCATACCTCAAAACACCAAAGCCTAATATTTCGACCACTCACACAAGCCCTATTCTGAACACTAATCTTAAATATACTTCTACTTACCTGGGTCGGAAACCAACCCGTAGAAACCCCATTTATTAAAAT----------------------------------------------------------------------------------------\n",
      "TGACTCACATCATACGAAAAACGCACCCTCTACTGAGTATTATTAATAATTCACTTATTGATCTACCAACTCCCTCAAACCTATCTTACTTATGAAATTTTGGATCCTTACTAGGAGTCTGCCTAATTACACAAATTTTAACCGGCTTATTTTTAGCAATACATTATACAGCAGACATTTACTTCGCATTCTCATCAGTAGCACATATTTGCCGCGACGTAAACTATGGATGATTAATTCGAAATGTTCATGCCAACGGAGCCTCTTTATTTTTTATTTGCATTTATATACACATTGGACGAGGAATTTACTATGGATCATTTATATTAAAAGAGACCTGAAACATTGGAGTAATCCTATTTTTTATAACCATAGCAACAGCCTTTATAGGATATGTTCTCCCATGAGGACAAATATCCTTCTGGGGGGCCACAGTAATTACTAACTTACTATCAGCAATCCCTTATATAGGCAACACCCTCGTACTATGAATTTGGGGAGGGTTCTCAGTAGATCAAGCCACTCTGTCCCGATTCTTTGTATTTCACTTCATTCTGCCCTTCCTCATCATAGGAACTACTATTATACACCTCCTTTTTTTACACGAAACCGGCTCAAACAACCCAACAGGAATAATTCAAGCCCAGA-----------------------------------------------------------------------------------------------------------------------------------------------------------------------------------------------------------------------------------------------------------------------------------------------------------------------------------------------------------------------------------------------------------------------------------------------------------------------------------------------------------\n",
      "-----------ATACGAAAAACACACCCCCTACTAAATATCATTAATAACTCATTCATTGATCTACCAACCCCATCAAGCCTATCCTACTTATGAAATTTCGGGTCTTTATTAGGAGTTTGCCTAATTACACAAGTCCTAACCGGCTTATTTTTAGCAATACACTATACAGCAGATATCCACTCTGCATTTTCATCAGTAGCACATATTTGCCGTGACGTAAACCACGGATGACTAATCCGAAATATTCATGCCAACGGAGCCTCTTTATTTTTCATTTGTATTTATATACACATTGGACGAGGAATCTACTATGGATCATTTATACTCAAAGAGACTTGAAACATTGGAGTAATCCTTTTTTTTATAACTATGGCAACAGCTTTCATAGGATATGTTCTCCCATGAGGACAAATATCCTTCTGAGGAGCCACAGTAATTACTAACTTACTCTCAGCAATCCCATACATAGGTAACACTCTTGTATTGTGAATCTGAGGAGGATTCTCCGTAGACCAGGCCACTTTATCCCGATTCTTTGTATTTCACTTTATCTTACCCTTCCTCATTATGGGAACTACAATTATACACCTCCTCTTTCTACATGAAACCGGCTCAAACAACCCAACAGGACTTAACTCAAACCCAG-----------------------------------------------------------------------------------------------------------------------------------------------------------------------------------------------------------------------------------------------------------------------------------------------------------------------------------------------------------------------------------------------------------------------------------------------------------------------------------------------------------\n",
      "-----------ATACGAAAAACACACCCCCTACTAAATATCATTAATAACTCATTCATTGATCTACCAACCCCATCAAGCCTATCCTACTTATGAAATTTCGGGTCTTTATTAGGAGTTTGCCTAATTACACAAGTCCTAACCGGCTTATTTTTAGCAATACACTATACAGCAGATATCCACTCTGCATTTTCATCAGTAGCACATATTTGCCGTGACGTAAACCACGGATGACTAATCCGAAATATTCATGCCAACGGAGCCTCTTTATTTTTCATTTGTATTTATATACACATTGGACGAGGAATCTACTATGGATCATTTATACTCAAAGAGACTTGAAACATTGGAGTAATCCTTTTTTTTATAACTATGGCAACAGCTTTCATAGGATATGTTCTCCCATGAGGACAAATATCCTTCTGAGGAGCCACAGTAATTACTAACTTACTCTCAGCAATCCCATACATAGGTAACACTCTTGTATTGTGAATCTGAGGAGGATTCTCCGTAGACCAGGCCACTTTATCCCGATTCTTTGTATTTCACTTTATCTTACCCTTCCTCATTATGGGAACTACAATTATACACCTCCTCTTTCTACATGAAACCGGCTCAAACAACCCAACAGGACTTAACTCAAACCCAG-----------------------------------------------------------------------------------------------------------------------------------------------------------------------------------------------------------------------------------------------------------------------------------------------------------------------------------------------------------------------------------------------------------------------------------------------------------------------------------------------------------\n",
      "-----------ATACGAAAAACACACCCCCTACTAAATATCATTAATAACTCATTCATTGATCTACCAACCCCATCAAGCCTATCCTACTTATGAAATTTCGGGTCTTTATTAGGAGTTTGCCTAATTACACAAGTCCTAACCGGCTTATTTTTAGCAATACACTATACAGCAGATATCCACTCTGCATTTTCATCAGTAGCACATATTTGCCGTGACGTAAACCACGGATGACTAATCCGAAATATTCATGCCAACGGAGCCTCTTTATTTTTCATTTGTATTTATATACACATTGGACGAGGAATCTACTATGGATCATTTATACTCAAAGAGACTTGAAACATTGGAGTAATCCTTTTTTTTATAACTATGGCAACAGCTTTCATAGGATATGTTCTCCCATGAGGACAAATATCCTTCTGAGGAGCCACAGTAATTACTAACTTACTCTCAGCAATCCCATACATAGGTAACACTCTTGTATTGTGAATCTGAGGAGGATTCTCCGTAGACCAGGCCACTTTATCCCGATTCTTTGTATTTCACTTTATCTTACCCTTCCTCATTATGGGAACTACAATTATACACCTCCTCTTTCTACATGAAACCGGCTCAAACAACCCAACAGGACTTAACTCAAACCCAG-----------------------------------------------------------------------------------------------------------------------------------------------------------------------------------------------------------------------------------------------------------------------------------------------------------------------------------------------------------------------------------------------------------------------------------------------------------------------------------------------------------\n",
      "-----------ATACGAAAAACACACCCCCTACTAAATATCATTAATAACTCATTCATTGATCTACCAACCCCATCAAGCCTATCCTACTTATGAAATTTCGGGTCTTTATTAGGAGTTTGCCTAATTACACAAGTCCTAACCGGCTTATTTTTAGCAATACACTATACAGCAGATATCCACTCTGCATTTTCATCAGTAGCACATATTTGCCGTGACGTAAACCACGGATGACTAATCCGAAATATTCATGCCAACGGAGCCTCTTTATTTTTCATTTGTATTTATATACACATTGGACGAGGAATCTACTATGGATCATTTATACTCAAAGAGACTTGAAACATTGGAGTAATCCTTTTTTTTATAACTATGGCAACAGCTTTCATAGGATATGTTCTCCCATGAGGACAAATATCCTTCTGAGGAGCCACAGTAATTACTAACTTACTCTCAGCAATCCCATACATAGGTAACACTCTTGTATTGTGAATCTGAGGAGGATTCTCCGTAGACCAGGCCACTTTATCCCGATTCTTTGTATTTCACTTTATCTTACCCTTCCTCATTATGGGAACTACAATTATACACCTCCTCTTTCTACATGAAACCGGCTCAAACAACCCAACAGGACTTAACTCAAACCCAG-----------------------------------------------------------------------------------------------------------------------------------------------------------------------------------------------------------------------------------------------------------------------------------------------------------------------------------------------------------------------------------------------------------------------------------------------------------------------------------------------------------\n"
     ]
    }
   ],
   "source": [
    " amphib = dendropy.DnaCharacterMatrix.get(\n",
    "    path=\"../data/plethodon.phy\",\n",
    "    schema=\"phylip\"\n",
    ")\n",
    "    \n",
    "for taxon in names_list:\n",
    "    if taxon in amphib.taxon_namespace.labels():\n",
    "           seq = amphib[taxon].symbols_as_string()\n",
    "           cytb = seq[4097:5236]\n",
    "           print(cytb)\n",
    "    else:\n",
    "        print(\"BLAST hits not in the data: {}\".format(taxon))"
   ]
  },
  {
   "cell_type": "markdown",
   "metadata": {},
   "source": [
    "Somehow this taxon is on the tree, but not in the data! You know what we're going to do now. We're going to go get the data. To do this, we need something called the GI ID. This is a unique _genetic_ _id_endtifier. It links each taxon in the NCBI databases to a unique, global number. That way, when someone uploads new data, it becomes linked to other records for the same species.\n",
    "\n",
    "How will we modify the below loop to get the GI ID for Plethodon oconaluftee?"
   ]
  },
  {
   "cell_type": "code",
   "execution_count": null,
   "metadata": {
    "code_folding": [
     1
    ]
   },
   "outputs": [],
   "source": [
    "gi_ids = []\n",
    "for individual_alignment in alignment_set:\n",
    "#First, we get the names. This Does not have to be modified    \n",
    "    split_aln = str(individual_alignment).split('|')\n",
    "    name_string = split_aln[4]\n",
    "    specific_ep = name_string.split(' ')[1:3]\n",
    "#Then, we get the ID.    \n",
    "    if 'oconaluftee' in specific_ep:\n",
    "        gi_ids.append(What part of split_aln will we take to get the GI id?)\n",
    "gi_ids"
   ]
  },
  {
   "cell_type": "code",
   "execution_count": null,
   "metadata": {
    "code_folding": [
     3
    ]
   },
   "outputs": [],
   "source": [
    "#Answer\n",
    "\n",
    "gi_ids = []\n",
    "for individual_alignment in alignment_set:\n",
    "    split_aln = str(individual_alignment).split('|')\n",
    "    name_string = split_aln[4]\n",
    "    specific_ep = name_string.split(' ')[1:3]\n",
    "    if 'oconaluftee' in specific_ep:\n",
    "        gi_ids.append(''.join(split_aln[0:2]))\n",
    "gi_ids"
   ]
  },
  {
   "cell_type": "markdown",
   "metadata": {},
   "source": [
    "Let's get some sequences!"
   ]
  },
  {
   "cell_type": "code",
   "execution_count": null,
   "metadata": {},
   "outputs": [],
   "source": [
    "from dendropy.interop import genbank\n",
    "gb_dna = genbank.GenBankDna(ids=gi_ids)\n",
    "char_matrix = gb_dna.generate_char_matrix()"
   ]
  },
  {
   "cell_type": "code",
   "execution_count": 195,
   "metadata": {},
   "outputs": [
    {
     "name": "stdout",
     "output_type": "stream",
     "text": [
      "#NEXUS\n",
      "\n",
      "BEGIN TAXA;\n",
      "    DIMENSIONS NTAX=2;\n",
      "    TAXLABELS\n",
      "        125380720\n",
      "        125380722\n",
      "  ;\n",
      "END;\n",
      "\n",
      "BEGIN CHARACTERS;\n",
      "    DIMENSIONS NCHAR=649;\n",
      "    FORMAT DATATYPE=DNA GAP=- MISSING=? MATCHCHAR=.;\n",
      "    MATRIX\n",
      "        125380720    ATGACTCACATCACACGAAAAACACACCCCCTACTGAGTGTTATTAATAATTCACTTATTGATCTACCAACTCCCTCAAACCTATCCTACTTATGAAATTTTGGATCCTTACTAGGAGTCTGCCTAATCACACAAATTTTAACCGGCCTATTTTTAGCAATACATTATACAGCAGACATTTACTTCGCATTTTCATCAGTAGCACATATTTGCCGCGACGTAAACTATGGATGATTAATTCGAAATATTCATGCCAACGGAGCCTCTTTATTTTTTATTTGCATTTACATACACATTGGACGAGGAATTTACTATGGATCATTTATATTAAAAGAGACCTGAAACATTGGAGTAATCCTCTTTTTTATAACCATAGCAACAGCCTTTATAGGATATGTTCTCCCATGAGGACAAATATCCTTCTGAGGGGCCACAGTGATTACTAATCTACTCTCAGCAATCCCTTATATAGGCAACACCCTCGTACTGTGAATTTGGGGTGGGTTCTCGGTAGATCAAGCCACTCTATCCCGATTCTTTGTATTTCACTTCATTCTACCCTTTCTCATCATAGGAACTACTATTATTCACCTCCTTTTTCTACACGAAACCGGCTCAAACAACCCAACAGGAATTAATTCAAGCCCAG\n",
      "        125380722    ATGACTCACATCACACGGAAAACACACCCCGTACTGAGTGTTATTAATAATTCACTTATTGATCTACCAACTCCCTCAAACCTATCCTACTTATGAAATTTTGGATCGTTACTAGGAGTCTGCCTAATCACACAAATTTTAACCGGCCTATTTTTAGCAATACATTATACAGCAGACATTTACTTCGCATTTTCATCAGTAGCACATATTTGCCGCGACGTAAACTATGGATGATTAATTCGAAATATTCATGCCAACGGAGCCTCTCTATTTTTTATTTGCATTTACATACACATTGGACGAGGAATTTACTATGGATCATTTATATTAAAAGAGACCTGAAACATTGGAGTAATCCTCTTTTTTATAACCATAGCAACAGCCTTTATAGGATATGTTCTCCCATGAGGACAAATATCCTTCTGAGGGGCCACAGTAATTACTAATCTACTCTCAGCAATCCCTTATATAGGCAACACCCTCGTACTGTGAATTTGGGGTGGGTTCTCGGTAGATCAAGCCACTCTATCCCGATTCTTTGTATTTCACTTCATTCTACCCTTTCTCATCATAGGAACTACTATTATTCACCTCCTTTTTCTACACGAAACCGGCTCAAACAACCCAACAGGAATTAATTCAAGCCCAG\n",
      "    ;\n",
      "END;\n",
      "\n",
      "\n",
      "\n"
     ]
    }
   ],
   "source": [
    "print(char_matrix.as_string(\"nexus\"))"
   ]
  },
  {
   "cell_type": "markdown",
   "metadata": {},
   "source": [
    "649 characters. Where have we seen that before? That's the size of CytB!\n",
    "\n",
    "Wonderful, we have one gene. One gene ... two problems:\n",
    "- Which should we use?\n",
    "- How do we get it in the rest of the matrix? \n",
    "\n",
    "We have one sequence (out of 12 genes) - and we obviously aren't just going to sit here, writing in missing data symbols. \n",
    "\n",
    "Are these sequences even different?"
   ]
  },
  {
   "cell_type": "code",
   "execution_count": null,
   "metadata": {},
   "outputs": [],
   "source": [
    "char_matrix['125380722'] == char_matrix['125380720']"
   ]
  },
  {
   "cell_type": "markdown",
   "metadata": {},
   "source": [
    "Yes! \n",
    "\n",
    "Let's add both to our data matrix. Next time. Today, we'll finish up by writing out our data for later:"
   ]
  },
  {
   "cell_type": "code",
   "execution_count": 206,
   "metadata": {},
   "outputs": [],
   "source": [
    "char_matrix.write_to_path(\"test_matrix.nex\", schema=\"nexus\")"
   ]
  },
  {
   "cell_type": "code",
   "execution_count": null,
   "metadata": {},
   "outputs": [],
   "source": []
  }
 ],
 "metadata": {
  "kernelspec": {
   "display_name": "Python 3",
   "language": "python",
   "name": "python3"
  },
  "language_info": {
   "codemirror_mode": {
    "name": "ipython",
    "version": 3
   },
   "file_extension": ".py",
   "mimetype": "text/x-python",
   "name": "python",
   "nbconvert_exporter": "python",
   "pygments_lexer": "ipython3",
   "version": "3.6.5"
  }
 },
 "nbformat": 4,
 "nbformat_minor": 2
}
