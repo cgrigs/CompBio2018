{
 "cells": [
  {
   "cell_type": "markdown",
   "metadata": {},
   "source": [
    "# Oct 2\n"
   ]
  },
  {
   "cell_type": "markdown",
   "metadata": {},
   "source": [
    "Let's remind ourselves of what we did last time: \n",
    "- Parsed sequence data\n",
    "- BLAST searched a sequence against the NCBI database\n",
    "- Got some potential homologous genes\n",
    "\n",
    "As seen below:"
   ]
  },
  {
   "cell_type": "code",
   "execution_count": 1,
   "metadata": {},
   "outputs": [
    {
     "name": "stdout",
     "output_type": "stream",
     "text": [
      "gi|125380686|gb|DQ994948.1| Plethodon kentucki voucher RH 66693 cytochrome b (cytb) gene, partial cds; mitochondrial\n",
      "           Length = 625\n",
      "\n",
      "gi|51979883|gb|AY728222.1| Plethodon petraeus mitochondrion, complete genome\n",
      "           Length = 19235\n",
      "\n",
      "gi|125380683|gb|DQ994946.1| Plethodon jordani voucher JB 201-73-01 cytochrome b (cytb) gene, partial cds; mitochondrial\n",
      "           Length = 644\n",
      "\n",
      "gi|125380685|gb|DQ994947.1| Plethodon jordani voucher JB 201-67w-01 cytochrome b-like (cytb) gene, partial sequence; mitochondrial\n",
      "           Length = 649\n",
      "\n",
      "gi|125380736|gb|DQ994973.1| Plethodon petraeus voucher RWV S21-B cytochrome b (cytb) gene, partial cds; mitochondrial\n",
      "           Length = 630\n",
      "\n",
      "gi|125380641|gb|DQ994924.1| Plethodon chlorobryonis voucher JJW 1807 cytochrome b (cytb) gene, partial cds; mitochondrial\n",
      "           Length = 649\n",
      "\n",
      "gi|125380761|gb|DQ994986.1| Plethodon shermani voucher JJW 1741 cytochrome b (cytb) gene, partial cds; mitochondrial\n",
      "           Length = 649\n",
      "\n",
      "gi|125380664|gb|DQ994936.1| Plethodon glutinosus voucher APPSU 10209 cytochrome b (cytb) gene, partial cds; mitochondrial\n",
      "           Length = 626\n",
      "\n",
      "gi|125380771|gb|DQ994991.1| Plethodon variolatus voucher UTA A-56973 cytochrome b (cytb) gene, partial cds; mitochondrial\n",
      "           Length = 649\n",
      "\n",
      "gi|125380648|gb|DQ994928.1| Plethodon cylindraceus voucher UTA A-56967 cytochrome b (cytb) gene, partial cds; mitochondrial\n",
      "           Length = 649\n",
      "\n",
      "gi|327239997|gb|JF504060.1| Plethodon caddoensis voucher DBS_1935 cytochrome b (cytb) gene, partial cds; mitochondrial\n",
      "           Length = 1052\n",
      "\n",
      "gi|327239995|gb|JF504059.1| Plethodon caddoensis voucher DBS_1934 cytochrome b (cytb) gene, partial cds; mitochondrial >gi|327239999|gb|JF504061.1| Plethodon caddoensis voucher DBS_1936 cytochrome b (cytb) gene, partial cds; mitochondrial >gi|327240001|gb|JF504062.1| Plethodon caddoensis voucher DBS_1937 cytochrome b (cytb) gene, partial cds; mitochondrial\n",
      "           Length = 1052\n",
      "\n",
      "gi|327239933|gb|JF504028.1| Plethodon caddoensis voucher DBS_1125 cytochrome b (cytb) gene, partial cds; mitochondrial\n",
      "           Length = 1052\n",
      "\n",
      "gi|327239929|gb|JF504026.1| Plethodon caddoensis voucher DBS_1123 cytochrome b (cytb) gene, partial cds; mitochondrial >gi|327239931|gb|JF504027.1| Plethodon caddoensis voucher DBS_1124 cytochrome b (cytb) gene, partial cds; mitochondrial\n",
      "           Length = 1052\n",
      "\n",
      "gi|327239901|gb|JF504012.1| Plethodon caddoensis voucher DBS_1030 cytochrome b (cytb) gene, partial cds; mitochondrial\n",
      "           Length = 1052\n",
      "\n",
      "gi|125380773|gb|DQ994992.1| Plethodon variolatus voucher UTA A-56960 cytochrome b-like (cytb) gene, partial sequence; mitochondrial\n",
      "           Length = 649\n",
      "\n",
      "gi|125380759|gb|DQ994985.1| Plethodon shermani voucher RH 73892 cytochrome b (cytb) gene, partial cds; mitochondrial\n",
      "           Length = 649\n",
      "\n",
      "gi|125380748|gb|DQ994979.1| Plethodon sequoyah voucher APPSU 24547 cytochrome b (cytb) gene, partial cds; mitochondrial\n",
      "           Length = 649\n",
      "\n",
      "gi|125380720|gb|DQ994965.1| Plethodon oconaluftee voucher JJW 1626 cytochrome b (cytb) gene, partial cds; mitochondrial\n",
      "           Length = 649\n",
      "\n",
      "gi|125380769|gb|DQ994990.1| Plethodon teyahalee voucher RH 55224 cytochrome b (cytb) gene, partial cds; mitochondrial\n",
      "           Length = 649\n",
      "\n",
      "gi|327240517|gb|JF504320.1| Plethodon albagula voucher DBS_2181 cytochrome b (cytb) gene, partial cds; mitochondrial\n",
      "           Length = 1052\n",
      "\n",
      "gi|327240219|gb|JF504171.1| Plethodon caddoensis voucher DBS_2074 cytochrome b (cytb) gene, partial cds; mitochondrial\n",
      "           Length = 1052\n",
      "\n",
      "gi|327240209|gb|JF504166.1| Plethodon caddoensis voucher DBS_2069 cytochrome b (cytb) gene, partial cds; mitochondrial >gi|327240223|gb|JF504173.1| Plethodon caddoensis voucher DBS_2076 cytochrome b (cytb) gene, partial cds; mitochondrial >gi|327240231|gb|JF504177.1| Plethodon caddoensis voucher DBS_2080 cytochrome b (cytb) gene, partial cds; mitochondrial >gi|327240233|gb|JF504178.1| Plethodon caddoensis voucher DBS_2081 cytochrome b (cytb) gene, partial cds; mitochondrial >gi|327240235|gb|JF504179.1| Plethodon caddoensis voucher DBS_2082 cytochrome b (cytb) gene, partial cds; mitochondrial\n",
      "           Length = 1052\n",
      "\n",
      "gi|327240035|gb|JF504079.1| Plethodon caddoensis voucher DBS_1957 cytochrome b (cytb) gene, partial cds; mitochondrial\n",
      "           Length = 1052\n",
      "\n",
      "gi|327240007|gb|JF504065.1| Plethodon caddoensis voucher DBS_1940 cytochrome b (cytb) gene, partial cds; mitochondrial\n",
      "           Length = 1052\n",
      "\n",
      "gi|327240005|gb|JF504064.1| Plethodon caddoensis voucher DBS_1939 cytochrome b (cytb) gene, partial cds; mitochondrial >gi|327240009|gb|JF504066.1| Plethodon caddoensis voucher DBS_1941 cytochrome b (cytb) gene, partial cds; mitochondrial\n",
      "           Length = 1052\n",
      "\n",
      "gi|327239903|gb|JF504013.1| Plethodon caddoensis voucher DBS_1031 cytochrome b (cytb) gene, partial cds; mitochondrial >gi|327239905|gb|JF504014.1| Plethodon caddoensis voucher DBS_1032 cytochrome b (cytb) gene, partial cds; mitochondrial >gi|327239909|gb|JF504016.1| Plethodon caddoensis voucher DBS_1034 cytochrome b (cytb) gene, partial cds; mitochondrial >gi|327240031|gb|JF504077.1| Plethodon caddoensis voucher DBS_1955 cytochrome b (cytb) gene, partial cds; mitochondrial >gi|327240033|gb|JF504078.1| Plethodon caddoensis voucher DBS_1956 cytochrome b (cytb) gene, partial cds; mitochondrial >gi|327240037|gb|JF504080.1| Plethodon caddoensis voucher DBS_1958 cytochrome b (cytb) gene, partial cds; mitochondrial >gi|327240039|gb|JF504081.1| Plethodon caddoensis voucher DBS_1959 cytochrome b (cytb) gene, partial cds; mitochondrial\n",
      "           Length = 1052\n",
      "\n",
      "gi|327239897|gb|JF504010.1| Plethodon caddoensis voucher DBS_1028 cytochrome b (cytb) gene, partial cds; mitochondrial >gi|327239899|gb|JF504011.1| Plethodon caddoensis voucher DBS_1029 cytochrome b (cytb) gene, partial cds; mitochondrial >gi|327239907|gb|JF504015.1| Plethodon caddoensis voucher DBS_1033 cytochrome b (cytb) gene, partial cds; mitochondrial >gi|327240435|gb|JF504279.1| Plethodon caddoensis voucher DBS_496 cytochrome b (cytb) gene, partial cds; mitochondrial >gi|327240437|gb|JF504280.1| Plethodon caddoensis voucher DBS_497 cytochrome b (cytb) gene, partial cds; mitochondrial >gi|327240439|gb|JF504281.1| Plethodon caddoensis voucher DBS_498 cytochrome b (cytb) gene, partial cds; mitochondrial >gi|327240443|gb|JF504283.1| Plethodon caddoensis voucher DBS_515 cytochrome b (cytb) gene, partial cds; mitochondrial\n",
      "           Length = 1052\n",
      "\n",
      "gi|125380703|gb|DQ994956.1| Plethodon metcalfi voucher RH 76539 cytochrome b (cytb) gene, partial cds; mitochondrial\n",
      "           Length = 649\n",
      "\n",
      "gi|125380668|gb|DQ994938.1| Plethodon glutinosus voucher UTA A-56969 cytochrome b (cytb) gene, partial cds; mitochondrial\n",
      "           Length = 649\n",
      "\n",
      "gi|125380631|gb|DQ994918.1| Plethodon caddoensis voucher DBS 498 cytochrome b (cytb) gene, partial cds; mitochondrial\n",
      "           Length = 637\n",
      "\n",
      "gi|327240441|gb|JF504282.1| Plethodon caddoensis voucher DBS_499 cytochrome b (cytb) gene, partial cds; mitochondrial\n",
      "           Length = 1052\n",
      "\n",
      "gi|327240321|gb|JF504222.1| Plethodon caddoensis voucher DBS_2143 cytochrome b (cytb) gene, partial cds; mitochondrial >gi|327240323|gb|JF504223.1| Plethodon caddoensis voucher DBS_2144 cytochrome b (cytb) gene, partial cds; mitochondrial\n",
      "           Length = 1052\n",
      "\n",
      "gi|327240229|gb|JF504176.1| Plethodon caddoensis voucher DBS_2079 cytochrome b (cytb) gene, partial cds; mitochondrial\n",
      "           Length = 1052\n",
      "\n",
      "gi|327240221|gb|JF504172.1| Plethodon caddoensis voucher DBS_2075 cytochrome b (cytb) gene, partial cds; mitochondrial\n",
      "           Length = 1052\n",
      "\n",
      "gi|327240213|gb|JF504168.1| Plethodon caddoensis voucher DBS_2071 cytochrome b (cytb) gene, partial cds; mitochondrial >gi|327240215|gb|JF504169.1| Plethodon caddoensis voucher DBS_2072 cytochrome b (cytb) gene, partial cds; mitochondrial >gi|327240217|gb|JF504170.1| Plethodon caddoensis voucher DBS_2073 cytochrome b (cytb) gene, partial cds; mitochondrial >gi|327240227|gb|JF504175.1| Plethodon caddoensis voucher DBS_2078 cytochrome b (cytb) gene, partial cds; mitochondrial\n",
      "           Length = 1052\n",
      "\n",
      "gi|327240211|gb|JF504167.1| Plethodon caddoensis voucher DBS_2070 cytochrome b (cytb) gene, partial cds; mitochondrial\n",
      "           Length = 932\n",
      "\n",
      "gi|327240011|gb|JF504067.1| Plethodon caddoensis voucher DBS_1942 cytochrome b (cytb) gene, partial cds; mitochondrial\n",
      "           Length = 1052\n",
      "\n",
      "gi|327240003|gb|JF504063.1| Plethodon caddoensis voucher DBS_1938 cytochrome b (cytb) gene, partial cds; mitochondrial\n",
      "           Length = 1052\n",
      "\n",
      "gi|327239891|gb|JF504007.1| Plethodon caddoensis voucher DBS_1021 cytochrome b (cytb) gene, partial cds; mitochondrial\n",
      "           Length = 1052\n",
      "\n",
      "gi|327239889|gb|JF504006.1| Plethodon caddoensis voucher DBS_1020 cytochrome b (cytb) gene, partial cds; mitochondrial\n",
      "           Length = 1048\n",
      "\n",
      "gi|125380722|gb|DQ994966.1| Plethodon oconaluftee voucher JJW 1683 cytochrome b (cytb) gene, partial cds; mitochondrial\n",
      "           Length = 649\n",
      "\n",
      "gi|125380626|gb|DQ994915.1| Plethodon aureolus voucher JJW 1762 cytochrome b-like (cytb) gene, partial sequence; mitochondrial\n",
      "           Length = 649\n",
      "\n",
      "gi|226426798|gb|FJ611457.1| Plethodon fourchensis voucher DBS 1761 cytochrome b (cytb) gene, partial cds; mitochondrial\n",
      "           Length = 1052\n",
      "\n",
      "gi|226426782|gb|FJ611449.1| Plethodon fourchensis voucher DBS 1751 cytochrome b (cytb) gene, partial cds; mitochondrial\n",
      "           Length = 1052\n",
      "\n",
      "gi|125380635|gb|DQ994920.1| Plethodon chattahoochee voucher UTA A-56965 cytochrome b (cytb) gene, partial cds; mitochondrial\n",
      "           Length = 649\n",
      "\n",
      "gi|327240417|gb|JF504270.1| Plethodon caddoensis voucher DBS_2223 cytochrome b (cytb) gene, partial cds; mitochondrial\n",
      "           Length = 1052\n",
      "\n",
      "gi|327240271|gb|JF504197.1| Plethodon caddoensis voucher DBS_2102 cytochrome b (cytb) gene, partial cds; mitochondrial >gi|327240273|gb|JF504198.1| Plethodon caddoensis voucher DBS_2103 cytochrome b (cytb) gene, partial cds; mitochondrial\n",
      "           Length = 1052\n",
      "\n",
      "gi|327240269|gb|JF504196.1| Plethodon caddoensis voucher DBS_2101 cytochrome b (cytb) gene, partial cds; mitochondrial\n",
      "           Length = 1031\n",
      "\n",
      "gi|327240267|gb|JF504195.1| Plethodon caddoensis voucher DBS_2100 cytochrome b (cytb) gene, partial cds; mitochondrial\n",
      "           Length = 1052\n",
      "\n"
     ]
    }
   ],
   "source": [
    "from Bio.Blast import NCBIXML\n",
    "\n",
    "parsed = NCBIXML.read(open(\"results.xml\"))\n",
    "alignment_set = parsed.alignments\n",
    "for individual_alignment in alignment_set:\n",
    "    print(individual_alignment)"
   ]
  },
  {
   "cell_type": "markdown",
   "metadata": {},
   "source": [
    "We also read an article by Bill Pearson about why we should be concerned about doing this. As you can see, we don't have E-Values on any of these sequences. The last thing we'll look at is if any of our sequences had significant E-values:"
   ]
  },
  {
   "cell_type": "code",
   "execution_count": 2,
   "metadata": {},
   "outputs": [
    {
     "name": "stdout",
     "output_type": "stream",
     "text": [
      "0.0\n",
      "0.0\n",
      "0.0\n",
      "0.0\n",
      "0.0\n",
      "0.0\n",
      "0.0\n",
      "0.0\n",
      "0.0\n",
      "0.0\n",
      "0.0\n",
      "0.0\n",
      "0.0\n",
      "0.0\n",
      "0.0\n",
      "0.0\n",
      "0.0\n",
      "0.0\n",
      "0.0\n",
      "0.0\n",
      "0.0\n",
      "0.0\n",
      "0.0\n",
      "0.0\n",
      "0.0\n",
      "0.0\n",
      "0.0\n",
      "0.0\n",
      "0.0\n",
      "0.0\n",
      "0.0\n",
      "0.0\n",
      "0.0\n",
      "0.0\n",
      "0.0\n",
      "0.0\n",
      "0.0\n",
      "0.0\n",
      "0.0\n",
      "0.0\n",
      "0.0\n",
      "0.0\n",
      "0.0\n",
      "0.0\n",
      "0.0\n",
      "0.0\n",
      "0.0\n",
      "0.0\n",
      "0.0\n",
      "0.0\n"
     ]
    }
   ],
   "source": [
    "for individual_alignment in alignment_set:\n",
    "    print(individual_alignment.hsps[0].expect)"
   ]
  },
  {
   "cell_type": "markdown",
   "metadata": {},
   "source": [
    "Is that all our sequences? How could we check? "
   ]
  },
  {
   "cell_type": "code",
   "execution_count": 3,
   "metadata": {},
   "outputs": [
    {
     "data": {
      "text/plain": [
       "50"
      ]
     },
     "execution_count": 3,
     "metadata": {},
     "output_type": "execute_result"
    }
   ],
   "source": [
    "len(alignment_set)"
   ]
  },
  {
   "cell_type": "code",
   "execution_count": 4,
   "metadata": {
    "code_folding": []
   },
   "outputs": [
    {
     "name": "stdout",
     "output_type": "stream",
     "text": [
      "50\n"
     ]
    }
   ],
   "source": [
    "# Answer follows\n",
    "good_e = []\n",
    "for individual_alignment in alignment_set:\n",
    "    if individual_alignment.hsps[0].expect < 0.000001:\n",
    "        good_e.append(individual_alignment)\n",
    "    \n",
    "print(len(good_e))"
   ]
  },
  {
   "cell_type": "code",
   "execution_count": 8,
   "metadata": {
    "code_folding": []
   },
   "outputs": [
    {
     "name": "stdout",
     "output_type": "stream",
     "text": [
      "50\n"
     ]
    }
   ],
   "source": [
    "# Juan's solution\n",
    "count = 0\n",
    "for individual_alignment in alignment_set:\n",
    "    if individual_alignment.hsps[0].expect < 0.000001:\n",
    "        count = count + 1\n",
    "print(count)"
   ]
  },
  {
   "cell_type": "markdown",
   "metadata": {},
   "source": [
    "So now, we have done some quality control on these matches. I feel OK that they are what they say they are. There were a couple sequences in this dataset that aren't on the tree. Maybe we want to add them to the tree. Let's read in our tree and see if there are any sequences that are in the BLAST hits, but not our tree."
   ]
  },
  {
   "cell_type": "code",
   "execution_count": 11,
   "metadata": {},
   "outputs": [
    {
     "data": {
      "text/plain": [
       "\"((((((((('Plethodon_chlorobryonis_ott57750','Plethodon_variolatus_ott162442'),'Plethodon_chattahoochee_ott161611'),((('Plethodon_cylindraceus_ott128947','Plethodon_teyahalee_ott208588'),('Plethodon_aureolus_ott367241','Plethodon_cheoah_ott942947')),'Plethodon_glutinosus_ott534317')),(('Plethodon_montanus_ott128931','Plethodon_metcalfi_ott128944'),('Plethodon_amplus_ott128937','Plethodon_meridianus_ott942954'))),((((((('Plethodon_mississippi_ott128934','Plethodon_kiamichi_ott229842'),(((('Plethodon_savannah_ott128940','Plethodon_ocmulgee_ott162445'),'Plethodon_grobmani_ott145459'),'Plethodon_kisatchie_ott596896'),('Plethodon_albagula_ott162448','Plethodon_sequoyah_ott596892'))),'Plethodon_shermani_ott942942'),'Plethodon_yonahlossee_ott515343'),'Plethodon_jordani_ott515340'),'Plethodon_kentucki_ott942949'),('Plethodon_caddoensis_ott162451',('Plethodon_ouachitae_ott385557','Plethodon_fourchensis_ott732220')))),'Plethodon_petraeus_ott366877'),((((('Plethodon_ventralis_ott128950','Plethodon_dorsalis_ott841810'),'Plethodon_angusticlavius_ott229834'),'Plethodon_welleri_ott208597'),('Plethodon_wehrlei_ott208594','Plethodon_punctatus_ott841820')),'Plethodon_websteri_ott841808')),((('Plethodon_hoffmani_ott732218',((('Plethodon_richmondi_ott732228','Plethodon_electromorphus_ott841816'),'Plethodon_hubrichti_ott923033'),'Plethodon_nettingi_ott841814')),('Plethodon_virginia_ott841818',('Plethodon_shenandoah_ott923023','Plethodon_cinereus_ott923025'))),'Plethodon_serratus_ott732226')),((('Plethodon_vandykei_ott144790','Plethodon_idahoensis_ott514892'),'Plethodon_larselli_ott1088959'),((('Plethodon_vehiculum_ott208584','Plethodon_dunni_ott366506'),(('Plethodon_stormi_ott208586','Plethodon_elongatus_ott888213'),'Plethodon_asupak_ott857405')),'Plethodon_neomexicanus_ott1088957')),'Plethodon_sp._MJM-2002_ott249282','Plethodon_longicrus_ott314951','Plethodon_oconaluftee_ott314954','Plethodon_sherando_ott1002063','Plethodon_ainsworthi_ott3620613')'Plethodon_ott515349';\\n\""
      ]
     },
     "execution_count": 11,
     "metadata": {},
     "output_type": "execute_result"
    }
   ],
   "source": [
    "import pandas as pd\n",
    "import dendropy\n",
    "\n",
    "pd.options.display.max_colwidth = 1000000\n",
    "salamanders = pd.read_json(\"salamanders.json\")\n",
    "salamanders\n",
    "\n",
    "newick_tree = salamanders.newick.to_string(index=False)\n",
    "converted_tree = dendropy.Tree.get_from_string(newick_tree, schema = \"newick\", preserve_underscores=True)\n",
    "converted_tree.as_string(schema=\"newick\")"
   ]
  },
  {
   "cell_type": "markdown",
   "metadata": {},
   "source": [
    "## Exercise One: \n",
    "\n",
    "With a partner, look at the below code. Some is familiar. Some is not. \n",
    "- Look at the help function for taxon_namespace. What does this mean?\n",
    "- Look at the loop. What is this doing?\n",
    "- Why does a phylogeny need a special names data structure?\n"
   ]
  },
  {
   "cell_type": "code",
   "execution_count": 10,
   "metadata": {},
   "outputs": [],
   "source": [
    "new_labels = []\n",
    "for taxon in converted_tree.taxon_namespace.labels():\n",
    "    taxon_split = taxon.split(\"_\")\n",
    "    new_taxon = taxon_split[0] + \"_\" + taxon_split[1]\n",
    "    new_labels.append(new_taxon)  \n"
   ]
  },
  {
   "cell_type": "code",
   "execution_count": null,
   "metadata": {},
   "outputs": [],
   "source": [
    "help(converted_tree.taxon_namespace)"
   ]
  },
  {
   "cell_type": "markdown",
   "metadata": {},
   "source": [
    "Check your answers by running the below:"
   ]
  },
  {
   "cell_type": "code",
   "execution_count": 12,
   "metadata": {},
   "outputs": [
    {
     "data": {
      "text/plain": [
       "['Plethodon_chlorobryonis',\n",
       " 'Plethodon_variolatus',\n",
       " 'Plethodon_chattahoochee',\n",
       " 'Plethodon_cylindraceus',\n",
       " 'Plethodon_teyahalee',\n",
       " 'Plethodon_aureolus',\n",
       " 'Plethodon_cheoah',\n",
       " 'Plethodon_glutinosus',\n",
       " 'Plethodon_montanus',\n",
       " 'Plethodon_metcalfi',\n",
       " 'Plethodon_amplus',\n",
       " 'Plethodon_meridianus',\n",
       " 'Plethodon_mississippi',\n",
       " 'Plethodon_kiamichi',\n",
       " 'Plethodon_savannah',\n",
       " 'Plethodon_ocmulgee',\n",
       " 'Plethodon_grobmani',\n",
       " 'Plethodon_kisatchie',\n",
       " 'Plethodon_albagula',\n",
       " 'Plethodon_sequoyah',\n",
       " 'Plethodon_shermani',\n",
       " 'Plethodon_yonahlossee',\n",
       " 'Plethodon_jordani',\n",
       " 'Plethodon_kentucki',\n",
       " 'Plethodon_caddoensis',\n",
       " 'Plethodon_ouachitae',\n",
       " 'Plethodon_fourchensis',\n",
       " 'Plethodon_petraeus',\n",
       " 'Plethodon_ventralis',\n",
       " 'Plethodon_dorsalis',\n",
       " 'Plethodon_angusticlavius',\n",
       " 'Plethodon_welleri',\n",
       " 'Plethodon_wehrlei',\n",
       " 'Plethodon_punctatus',\n",
       " 'Plethodon_websteri',\n",
       " 'Plethodon_hoffmani',\n",
       " 'Plethodon_richmondi',\n",
       " 'Plethodon_electromorphus',\n",
       " 'Plethodon_hubrichti',\n",
       " 'Plethodon_nettingi',\n",
       " 'Plethodon_virginia',\n",
       " 'Plethodon_shenandoah',\n",
       " 'Plethodon_cinereus',\n",
       " 'Plethodon_serratus',\n",
       " 'Plethodon_vandykei',\n",
       " 'Plethodon_idahoensis',\n",
       " 'Plethodon_larselli',\n",
       " 'Plethodon_vehiculum',\n",
       " 'Plethodon_dunni',\n",
       " 'Plethodon_stormi',\n",
       " 'Plethodon_elongatus',\n",
       " 'Plethodon_asupak',\n",
       " 'Plethodon_neomexicanus',\n",
       " 'Plethodon_sp.',\n",
       " 'Plethodon_longicrus',\n",
       " 'Plethodon_oconaluftee',\n",
       " 'Plethodon_sherando',\n",
       " 'Plethodon_ainsworthi']"
      ]
     },
     "execution_count": 12,
     "metadata": {},
     "output_type": "execute_result"
    }
   ],
   "source": [
    "new_labels"
   ]
  },
  {
   "cell_type": "markdown",
   "metadata": {},
   "source": [
    "# Exercise 2\n",
    "Next, we will get the list of names out of the BLAST hits. We will loop over our alignments to do this. In your loop, you will:\n",
    "- Need to use one split command\n",
    "- Need to select one index from the list that results from split\n",
    "- Use another split command"
   ]
  },
  {
   "cell_type": "code",
   "execution_count": 18,
   "metadata": {
    "code_folding": []
   },
   "outputs": [
    {
     "name": "stdout",
     "output_type": "stream",
     "text": [
      "['Plethodon_kentucki', 'Plethodon_petraeus', 'Plethodon_jordani', 'Plethodon_jordani', 'Plethodon_petraeus', 'Plethodon_chlorobryonis', 'Plethodon_shermani', 'Plethodon_glutinosus', 'Plethodon_variolatus', 'Plethodon_cylindraceus', 'Plethodon_caddoensis', 'Plethodon_caddoensis', 'Plethodon_caddoensis', 'Plethodon_caddoensis', 'Plethodon_caddoensis', 'Plethodon_variolatus', 'Plethodon_shermani', 'Plethodon_sequoyah', 'Plethodon_oconaluftee', 'Plethodon_teyahalee', 'Plethodon_albagula', 'Plethodon_caddoensis', 'Plethodon_caddoensis', 'Plethodon_caddoensis', 'Plethodon_caddoensis', 'Plethodon_caddoensis', 'Plethodon_caddoensis', 'Plethodon_caddoensis', 'Plethodon_metcalfi', 'Plethodon_glutinosus', 'Plethodon_caddoensis', 'Plethodon_caddoensis', 'Plethodon_caddoensis', 'Plethodon_caddoensis', 'Plethodon_caddoensis', 'Plethodon_caddoensis', 'Plethodon_caddoensis', 'Plethodon_caddoensis', 'Plethodon_caddoensis', 'Plethodon_caddoensis', 'Plethodon_caddoensis', 'Plethodon_oconaluftee', 'Plethodon_aureolus', 'Plethodon_fourchensis', 'Plethodon_fourchensis', 'Plethodon_chattahoochee', 'Plethodon_caddoensis', 'Plethodon_caddoensis', 'Plethodon_caddoensis', 'Plethodon_caddoensis']\n"
     ]
    }
   ],
   "source": [
    "names_list=[]\n",
    "\n",
    "#Answer follows\n",
    "for individual_alignment in alignment_set:\n",
    "    split_aln = str(individual_alignment).split('|')\n",
    "    name_string = split_aln[4]\n",
    "    specific_ep = name_string.split(' ')[1:3]\n",
    "#    print(specific_ep)\n",
    "    names_list.append('_'.join(specific_ep))\n",
    "print(names_list)"
   ]
  },
  {
   "cell_type": "code",
   "execution_count": 19,
   "metadata": {},
   "outputs": [
    {
     "name": "stdout",
     "output_type": "stream",
     "text": [
      "Taxon present: Plethodon_kentucki\n",
      "Taxon present: Plethodon_petraeus\n",
      "Taxon present: Plethodon_jordani\n",
      "Taxon present: Plethodon_jordani\n",
      "Taxon present: Plethodon_petraeus\n",
      "Taxon present: Plethodon_chlorobryonis\n",
      "Taxon present: Plethodon_shermani\n",
      "Taxon present: Plethodon_glutinosus\n",
      "Taxon present: Plethodon_variolatus\n",
      "Taxon present: Plethodon_cylindraceus\n",
      "Taxon present: Plethodon_caddoensis\n",
      "Taxon present: Plethodon_caddoensis\n",
      "Taxon present: Plethodon_caddoensis\n",
      "Taxon present: Plethodon_caddoensis\n",
      "Taxon present: Plethodon_caddoensis\n",
      "Taxon present: Plethodon_variolatus\n",
      "Taxon present: Plethodon_shermani\n",
      "Taxon present: Plethodon_sequoyah\n",
      "Taxon present: Plethodon_oconaluftee\n",
      "Taxon present: Plethodon_teyahalee\n",
      "Taxon present: Plethodon_albagula\n",
      "Taxon present: Plethodon_caddoensis\n",
      "Taxon present: Plethodon_caddoensis\n",
      "Taxon present: Plethodon_caddoensis\n",
      "Taxon present: Plethodon_caddoensis\n",
      "Taxon present: Plethodon_caddoensis\n",
      "Taxon present: Plethodon_caddoensis\n",
      "Taxon present: Plethodon_caddoensis\n",
      "Taxon present: Plethodon_metcalfi\n",
      "Taxon present: Plethodon_glutinosus\n",
      "Taxon present: Plethodon_caddoensis\n",
      "Taxon present: Plethodon_caddoensis\n",
      "Taxon present: Plethodon_caddoensis\n",
      "Taxon present: Plethodon_caddoensis\n",
      "Taxon present: Plethodon_caddoensis\n",
      "Taxon present: Plethodon_caddoensis\n",
      "Taxon present: Plethodon_caddoensis\n",
      "Taxon present: Plethodon_caddoensis\n",
      "Taxon present: Plethodon_caddoensis\n",
      "Taxon present: Plethodon_caddoensis\n",
      "Taxon present: Plethodon_caddoensis\n",
      "Taxon present: Plethodon_oconaluftee\n",
      "Taxon present: Plethodon_aureolus\n",
      "Taxon present: Plethodon_fourchensis\n",
      "Taxon present: Plethodon_fourchensis\n",
      "Taxon present: Plethodon_chattahoochee\n",
      "Taxon present: Plethodon_caddoensis\n",
      "Taxon present: Plethodon_caddoensis\n",
      "Taxon present: Plethodon_caddoensis\n",
      "Taxon present: Plethodon_caddoensis\n"
     ]
    }
   ],
   "source": [
    "import dendropy\n",
    "amphib = dendropy.DnaCharacterMatrix.get(\n",
    "    path=\"../data/plethodon.phy\",\n",
    "    schema=\"phylip\"\n",
    ")\n",
    "\n",
    "for taxon in names_list:\n",
    "    if taxon in new_labels:\n",
    "        print(\"Taxon present: {}\".format(taxon))\n",
    "    else:\n",
    "        print(\"No taxon: {}\".format(taxon))"
   ]
  },
  {
   "cell_type": "markdown",
   "metadata": {},
   "source": [
    "All the taxa in the BLAST hits are on the tree. Which seems odd - I don't think I saw the taxon _Plethodon oconaluftee_ when I was preparing the data matrix. "
   ]
  },
  {
   "cell_type": "code",
   "execution_count": 20,
   "metadata": {
    "code_folding": []
   },
   "outputs": [
    {
     "name": "stdout",
     "output_type": "stream",
     "text": [
      "-----------------------CACCCCCTACTAAGTATTATTAACAACTCATTTATTGACCTACCAACTCCCTCAGGCCTATCCTACTTATGAAATTTTGGGTCCTTACTAGGAATTTGCCTAATTACACAAGTTTTAACCGGCCTATTTTTAGCAATACACTACACAACAGATATCCACTTTGCATTTTCATCAGTAGCGCATATCTGCCGCGACGTAAACTACGGATGATTAATTCGAAATATTCATGCCAATGGAGCTTCTTTATTTTTCATTTGTATTTATATACACATTGGACGAGGAATCTACTATGGTTCATTTATACTCAAAGAAACCTGAAACATTGGGGTAGTCCTTTTCTTTATAACCATAGCAACAGCCTTTATAGGATATGTTCTTCCATGAGGACAGATATCCTTCTGGGGGGCCACAGTAATTACTAATTTACTCTCAGCAATCCCATACATAGGCAACACCCTCGTACTATGAATTTGGGGAGGATTCTCAGTGGATCAAGCCACTTTATCCCGATTCTTTGTGTTCCACTTCATCCTACCATTTCTTATCATAGGCACTACTATAATACACCTTCTCTTTCTACATGAAACCGGCTCAAACAATCCAACAGGACTTAACTCGAACCCAG-----------------------------------------------------------------------------------------------------------------------------------------------------------------------------------------------------------------------------------------------------------------------------------------------------------------------------------------------------------------------------------------------------------------------------------------------------------------------------------------------------------\n",
      "TGACCCACATCATACGAAAAACGCACCCCCTACTAAATATTATTAATAACTCATTTATTGATTTGCCAACTCCCTCAAGCCTGTCTTACTTATGAAATTTCGGATCCTTGCTGGGCGTCTGCCTAATTACACAAGTTTTAACCGGCCTATTTTTAGCAATACACTACACAGCAGACATCCACTTCGCATTCTCATCAGTAGCACATATCTGCCGCGACGTAAATTACGGATGACTAATTCGAAATATTCATGCCAACGGAGCCTCTTTATTTTTTATTTGTATTTATATACACATTGGACGAGGAATTTATTATGGATCATTTATACTTAAAGAAACATGAAACATTGGAGTAACCCTCTTTTTTATAACCATAGCAACAGCCTTTATAGGATACGTTCTTCCATGAGGACAAATATCCTTCTGAGGAGCCACAGTGATTACTAATTTACTCTCAGCAATCCCATACATAGGTAACACCCTCGTACTATGAATTTGAGGGGGCTTCTCAGTGGACCAAGCCACCTTATCCCGATTCTTTGTATTTCACTTCATCCTACCCTTTCTCATTATAGGCACTACTATTATACATCTACTCTTTCTACATGAAACCGGCTCAAACAACCCAACA------------------------------------------------------------------------------------------------------------------------------------------------------------------------------------------------------------------------------------------------------------------------------------------------------------------------------------------------------------------------------------------------------------------------------------------------------------------------------------------------------------------------------\n",
      "TGACTCACATCATACGAAAAACACACCCCCTACTAAATATCATTAATAACTCACTTATTGATCTGCCAACTCCCTCAAGCCTGTCCTACTTATGAAACTTCGGGTCCTTACTAGGAATCTGCCTAATCATACAAGTTTTAACCGGCCTATTTCTAGCAATACACTATACAGCAGATATCTACTTTGCATTTTCATCAGTAGCACATATTTGCCGTGACGTAAACTACGGATGATTAATTCGAAATATTCACACCAATGGAGCCTCTTTATTTTTTATTTGTATTTATATACACATCGGACGAGGAATTTATTATGGATCATTTATACTCAAAGAAACTTGAAACATTGGAGTTATCCTTTTTTTTATAACTATAGCAACAGCCTTTATAGGATATGTTCTCCCATGAGGACAAATATCCTTCTGAGGGGCCACGGTAATTACTAATTTACTTTCAGCAATCCCTTACACAGGTAGCACCCTCGTACTATGAATTTGAGGAGGATTCTCGGTGGACCAAGCCACTTTATCCCGATTCTTTGTATTTCACTTCATCCTACCATTTCTTATCATAGGGGTTACTATTATACACCTCCTCTTTCTGCATGAAACTGGCTCAAACAACCCAATAGGACTACTCAAACCCAGAT-----------------------------------------------------------------------------------------------------------------------------------------------------------------------------------------------------------------------------------------------------------------------------------------------------------------------------------------------------------------------------------------------------------------------------------------------------------------------------------------------------------\n",
      "TGACTCACATCATACGAAAAACACACCCCCTACTAAATATCATTAATAACTCACTTATTGATCTGCCAACTCCCTCAAGCCTGTCCTACTTATGAAACTTCGGGTCCTTACTAGGAATCTGCCTAATCATACAAGTTTTAACCGGCCTATTTCTAGCAATACACTATACAGCAGATATCTACTTTGCATTTTCATCAGTAGCACATATTTGCCGTGACGTAAACTACGGATGATTAATTCGAAATATTCACACCAATGGAGCCTCTTTATTTTTTATTTGTATTTATATACACATCGGACGAGGAATTTATTATGGATCATTTATACTCAAAGAAACTTGAAACATTGGAGTTATCCTTTTTTTTATAACTATAGCAACAGCCTTTATAGGATATGTTCTCCCATGAGGACAAATATCCTTCTGAGGGGCCACGGTAATTACTAATTTACTTTCAGCAATCCCTTACACAGGTAGCACCCTCGTACTATGAATTTGAGGAGGATTCTCGGTGGACCAAGCCACTTTATCCCGATTCTTTGTATTTCACTTCATCCTACCATTTCTTATCATAGGGGTTACTATTATACACCTCCTCTTTCTGCATGAAACTGGCTCAAACAACCCAATAGGACTACTCAAACCCAGAT-----------------------------------------------------------------------------------------------------------------------------------------------------------------------------------------------------------------------------------------------------------------------------------------------------------------------------------------------------------------------------------------------------------------------------------------------------------------------------------------------------------\n",
      "TGACCCACATCATACGAAAAACGCACCCCCTACTAAATATTATTAATAACTCATTTATTGATTTGCCAACTCCCTCAAGCCTGTCTTACTTATGAAATTTCGGATCCTTGCTGGGCGTCTGCCTAATTACACAAGTTTTAACCGGCCTATTTTTAGCAATACACTACACAGCAGACATCCACTTCGCATTCTCATCAGTAGCACATATCTGCCGCGACGTAAATTACGGATGACTAATTCGAAATATTCATGCCAACGGAGCCTCTTTATTTTTTATTTGTATTTATATACACATTGGACGAGGAATTTATTATGGATCATTTATACTTAAAGAAACATGAAACATTGGAGTAACCCTCTTTTTTATAACCATAGCAACAGCCTTTATAGGATACGTTCTTCCATGAGGACAAATATCCTTCTGAGGAGCCACAGTGATTACTAATTTACTCTCAGCAATCCCATACATAGGTAACACCCTCGTACTATGAATTTGAGGGGGCTTCTCAGTGGACCAAGCCACCTTATCCCGATTCTTTGTATTTCACTTCATCCTACCCTTTCTCATTATAGGCACTACTATTATACATCTACTCTTTCTACATGAAACCGGCTCAAACAACCCAACA------------------------------------------------------------------------------------------------------------------------------------------------------------------------------------------------------------------------------------------------------------------------------------------------------------------------------------------------------------------------------------------------------------------------------------------------------------------------------------------------------------------------------\n",
      "TGACTCACATCATACGAAAAAAACACCCCCTACTGAGTATTATTAATAATTCACTTATTGATCTACCAACTCCCTCAAACCTATCCTACTTATGAAATTTTGGATCCTTACTAGGAGTCTGCCTAATTACACAAGTTTTAACCGGCCTATTTTTAGCAATACATTATACAGCAGACATTCACTTCGCATTTTCATCAGTAGCACATATTTGCCGCGACGTAAACTATGGATGATTAATTCGAAATGTTCATGCCAACGGAGCCTCTTTATTTTTTATTTGCATTTATATACACATTGGACGAGGAATTTACTATGGATCATTTATATTAAAAGAGACCTGAAACATTGGAGTGACCCTCTTTTTTATAACCATAGCAACAGCCTTTATAGGATATGTTCTCCCATGAGGACAAATATCCTTCTGGGGAGCCACAGTAATTACTAACTTACTATCAGCAATCCCCTATATAGGCAACACCCTCGTACTATGAATTTGAGGGGGGTTCTCGGTAGATCAAGCCACTCTATCCCGATTCTTTGTATTCCACTTCATTCTGCCATTTCTCATCATAGGAACTACTATTATACACCTCCTTTTTCTACACGAAACCGGCTCAAATAACCCAACAGGAATTAATTCAAGCCCAG-----------------------------------------------------------------------------------------------------------------------------------------------------------------------------------------------------------------------------------------------------------------------------------------------------------------------------------------------------------------------------------------------------------------------------------------------------------------------------------------------------------\n",
      "TGACTCACATCATACGAAAAACACACCCCCTACTAAATATTATTAATAACTCATTTATTGATTTACCTACTCCCTCAAGCCTGTCCTACCTGTGAAATTTTGGGTCTCTACTTGGAATCTGCCTAATCACACAAGTTTTAACTGGCTTATTCTTAGCAATACACTACACAGCAGATATCTACTTAGCATTTTCATCAGTAGCACATATTTGCCGCGACGTAAACTATGGATGATTAATTCGAAGTGTTCATACCAATGGGGCTTCTTTATTTTTTATTTGTATTTATATACATATTGGACGAGGAATTTATTATGGGTCATTTATACTTAAAGAGACCTGAAACATTGGAGTAATCCTTTTTTTTATAACTATAGCAACAGCCTTTATAGGATATGTTCTCCCATGAGGACAAATATCCTTTTGAGGGGCCACAGTAATTACCAACCTACTTTCAGCAATCCCTTATATAGGCAACACCCTCGTACTGTGAATTTGAGGAGGATTTTCAGTGGATCAGGCCACCTTATCACGATTCTTCGTATTTCATTTCATTCTACCATTTCTCATCATAGGAACCACTATTATACACCTCCTTTTTCTACATGAAACTGGCTCAAACAACCCAACAGGACTTAGCTCAAACTCAG-----------------------------------------------------------------------------------------------------------------------------------------------------------------------------------------------------------------------------------------------------------------------------------------------------------------------------------------------------------------------------------------------------------------------------------------------------------------------------------------------------------\n",
      "TGACTCACATCATACGAAAAACACACCCCCTACTGAGTGTTATTAATAATTCACTTATTGATCTACCAACTCCATCAAACCTATCCTACTTATGAAATTTTGGATCCTTACTGGGAGTCTGCCTAATCACACAAGTTTTAACCGGCCTATTTTTAGCAATACATTATACAGCAGACATTTACTTCGCATTTTCATCAGTAGCACATATTTGCCGCGACGTAAACTATGGATGATTAATTCGAAATATTCATGCCAACGGAGCCTCTTTATTTTTTATTTGTATTTACATACACATTGGACGAGGAATTTACTATGGGTCATTTATATTAAAAGAAACCTGAAACATTGGAGTGATCCTCTTTTTTATAACCATAGCAACAGCCTTTATAGGATATGTTCTCCCATGAGGACAAATATCCTTCTGGGGAGCCACAGTGATTACTAACCTACTCTCAGCAATCCCTTATATAGGCAACACCCTCGTACTCTGAATTTGGGGTGGGTTCTCGGTAGATCAGGCCACTCTATCCCGATTCTTTGTATTTCACTTCATTCTGCCCTTTCTCATCATAGGAACTACTATTATACACCTCCTTTTTTTACACGAAACCGGCTCAAACAACCC----------------------------------------------------------------------------------------------------------------------------------------------------------------------------------------------------------------------------------------------------------------------------------------------------------------------------------------------------------------------------------------------------------------------------------------------------------------------------------------------------------------------------------\n",
      "TGACTCACATCATACGAAGAAGACACCCCCTACTGAGTATTATTAATAATTCACTTATTGATCTACCAACTCCCTCAAACCTATCCTACTTATGAAATTTTGGATCCTTACTAGGAGTCTGCCTAATTACACAAGTTTTAACCGGCCTATTTTTAGCAAAACATTATACAGCAGACATTCACTTCGCATTTTCATCAGTAGCACATATTTGCCGCGACGTAAACTATGGATGATTAATTCGAAATGTTCATGCCAACGGAGCCTCTTTATTTTTTATTTGCATTTATATACACATTGGACGAGGAATTTACTATGGATCATTTATATTAAAAGAGACCTGAAACATTGGAGTGACCCTATTTTTTATAACCATAGCAACAGCCTTTATAGGATAAGTTCTCCCATGAGGACAAATATCCTTCTGGGGAGCCACAGTAATTACTAACTTACTATCAGCAATCCCCTATATAGGCAACACCCTCGTACTATGAATTTGAGGGGGGTTCTCGGTAGACCAAGCCACTCTATCCCGATTCTTTGTATTCCACTTCATTCTGCCATTTCTCATCATAGGAACTACTATTATACACCTCCTTTTTCTACACGAAACCGGCTCAAATAACCCAACAGGAATTAATTCAAGCCCAG-----------------------------------------------------------------------------------------------------------------------------------------------------------------------------------------------------------------------------------------------------------------------------------------------------------------------------------------------------------------------------------------------------------------------------------------------------------------------------------------------------------\n",
      "--------------CGAAAAACACACCCCCTGCTGAGTATTATTAATAATTCATTTATTGATCTACCAACTCCCTCAAGCCTATCCTATTTATGAAATTTTGGRTCCTTACTAGGAGTCTGCCTGATTACACAARTTCTCACCGGCCTATTTTTAGCAATACATTATACAGCAGAYGTTTMCTCCGCATTTTCATCAGTAGCACATATTTGCCGCGAYGTAAACTATGGRTGATTRATTCGAAATRTTCAYRCCAACGGAGCCTCTTTATTTTTYATTTGYATTTACATRCACATTGGACGRGGAATTTACCATGGATCATTTATATTCAAAGAGACCTGAAACATTGGAGTAATCCTCTTTTTTATAACCATAGCAACAGCCTTTATAGGATATGTTCTCCCATGAGGACAAATATCCTTCTGAGGGGCCACAGTGATTACTAATCTACTCTCAGCAATCCCTTATATAGGCAACACCCTCGTACTGTGAATTTGGGGTGGGTTCTCGGTAGATCAAGCCACTCTATCCCGATTCTTTGTATTTCACTTCATTCTACCCTTTCTCATCATAGGAACTACTATTATTCACCTCCTTTTTCTACACGAAACCGGCTCAAACAACCCAACAGGAATTAATTCAAGCCCAG-----------------------------------------------------------------------------------------------------------------------------------------------------------------------------------------------------------------------------------------------------------------------------------------------------------------------------------------------------------------------------------------------------------------------------------------------------------------------------------------------------------\n",
      "-----------ATACGAAAAACACACCCCCTACTAAATATCATTAATAACTCATTCATTGATCTACCAACCCCATCAAGCCTATCCTACTTATGAAATTTCGGGTCTTTATTAGGAGTTTGCCTAATTACACAAGTCCTAACCGGCTTATTTTTAGCAATACACTATACAGCAGATATCCACTCTGCATTTTCATCAGTAGCACATATTTGCCGTGACGTAAACCACGGATGACTAATCCGAAATATTCATGCCAACGGAGCCTCTTTATTTTTCATTTGTATTTATATACACATTGGACGAGGAATCTACTATGGATCATTTATACTCAAAGAGACTTGAAACATTGGAGTAATCCTTTTTTTTATAACTATGGCAACAGCTTTCATAGGATATGTTCTCCCATGAGGACAAATATCCTTCTGAGGAGCCACAGTAATTACTAACTTACTCTCAGCAATCCCATACATAGGTAACACTCTTGTATTGTGAATCTGAGGAGGATTCTCCGTAGACCAGGCCACTTTATCCCGATTCTTTGTATTTCACTTTATCTTACCCTTCCTCATTATGGGAACTACAATTATACACCTCCTCTTTCTACATGAAACCGGCTCAAACAACCCAACAGGACTTAACTCAAACCCAG-----------------------------------------------------------------------------------------------------------------------------------------------------------------------------------------------------------------------------------------------------------------------------------------------------------------------------------------------------------------------------------------------------------------------------------------------------------------------------------------------------------\n",
      "-----------ATACGAAAAACACACCCCCTACTAAATATCATTAATAACTCATTCATTGATCTACCAACCCCATCAAGCCTATCCTACTTATGAAATTTCGGGTCTTTATTAGGAGTTTGCCTAATTACACAAGTCCTAACCGGCTTATTTTTAGCAATACACTATACAGCAGATATCCACTCTGCATTTTCATCAGTAGCACATATTTGCCGTGACGTAAACCACGGATGACTAATCCGAAATATTCATGCCAACGGAGCCTCTTTATTTTTCATTTGTATTTATATACACATTGGACGAGGAATCTACTATGGATCATTTATACTCAAAGAGACTTGAAACATTGGAGTAATCCTTTTTTTTATAACTATGGCAACAGCTTTCATAGGATATGTTCTCCCATGAGGACAAATATCCTTCTGAGGAGCCACAGTAATTACTAACTTACTCTCAGCAATCCCATACATAGGTAACACTCTTGTATTGTGAATCTGAGGAGGATTCTCCGTAGACCAGGCCACTTTATCCCGATTCTTTGTATTTCACTTTATCTTACCCTTCCTCATTATGGGAACTACAATTATACACCTCCTCTTTCTACATGAAACCGGCTCAAACAACCCAACAGGACTTAACTCAAACCCAG-----------------------------------------------------------------------------------------------------------------------------------------------------------------------------------------------------------------------------------------------------------------------------------------------------------------------------------------------------------------------------------------------------------------------------------------------------------------------------------------------------------\n",
      "-----------ATACGAAAAACACACCCCCTACTAAATATCATTAATAACTCATTCATTGATCTACCAACCCCATCAAGCCTATCCTACTTATGAAATTTCGGGTCTTTATTAGGAGTTTGCCTAATTACACAAGTCCTAACCGGCTTATTTTTAGCAATACACTATACAGCAGATATCCACTCTGCATTTTCATCAGTAGCACATATTTGCCGTGACGTAAACCACGGATGACTAATCCGAAATATTCATGCCAACGGAGCCTCTTTATTTTTCATTTGTATTTATATACACATTGGACGAGGAATCTACTATGGATCATTTATACTCAAAGAGACTTGAAACATTGGAGTAATCCTTTTTTTTATAACTATGGCAACAGCTTTCATAGGATATGTTCTCCCATGAGGACAAATATCCTTCTGAGGAGCCACAGTAATTACTAACTTACTCTCAGCAATCCCATACATAGGTAACACTCTTGTATTGTGAATCTGAGGAGGATTCTCCGTAGACCAGGCCACTTTATCCCGATTCTTTGTATTTCACTTTATCTTACCCTTCCTCATTATGGGAACTACAATTATACACCTCCTCTTTCTACATGAAACCGGCTCAAACAACCCAACAGGACTTAACTCAAACCCAG-----------------------------------------------------------------------------------------------------------------------------------------------------------------------------------------------------------------------------------------------------------------------------------------------------------------------------------------------------------------------------------------------------------------------------------------------------------------------------------------------------------\n",
      "-----------ATACGAAAAACACACCCCCTACTAAATATCATTAATAACTCATTCATTGATCTACCAACCCCATCAAGCCTATCCTACTTATGAAATTTCGGGTCTTTATTAGGAGTTTGCCTAATTACACAAGTCCTAACCGGCTTATTTTTAGCAATACACTATACAGCAGATATCCACTCTGCATTTTCATCAGTAGCACATATTTGCCGTGACGTAAACCACGGATGACTAATCCGAAATATTCATGCCAACGGAGCCTCTTTATTTTTCATTTGTATTTATATACACATTGGACGAGGAATCTACTATGGATCATTTATACTCAAAGAGACTTGAAACATTGGAGTAATCCTTTTTTTTATAACTATGGCAACAGCTTTCATAGGATATGTTCTCCCATGAGGACAAATATCCTTCTGAGGAGCCACAGTAATTACTAACTTACTCTCAGCAATCCCATACATAGGTAACACTCTTGTATTGTGAATCTGAGGAGGATTCTCCGTAGACCAGGCCACTTTATCCCGATTCTTTGTATTTCACTTTATCTTACCCTTCCTCATTATGGGAACTACAATTATACACCTCCTCTTTCTACATGAAACCGGCTCAAACAACCCAACAGGACTTAACTCAAACCCAG-----------------------------------------------------------------------------------------------------------------------------------------------------------------------------------------------------------------------------------------------------------------------------------------------------------------------------------------------------------------------------------------------------------------------------------------------------------------------------------------------------------\n",
      "-----------ATACGAAAAACACACCCCCTACTAAATATCATTAATAACTCATTCATTGATCTACCAACCCCATCAAGCCTATCCTACTTATGAAATTTCGGGTCTTTATTAGGAGTTTGCCTAATTACACAAGTCCTAACCGGCTTATTTTTAGCAATACACTATACAGCAGATATCCACTCTGCATTTTCATCAGTAGCACATATTTGCCGTGACGTAAACCACGGATGACTAATCCGAAATATTCATGCCAACGGAGCCTCTTTATTTTTCATTTGTATTTATATACACATTGGACGAGGAATCTACTATGGATCATTTATACTCAAAGAGACTTGAAACATTGGAGTAATCCTTTTTTTTATAACTATGGCAACAGCTTTCATAGGATATGTTCTCCCATGAGGACAAATATCCTTCTGAGGAGCCACAGTAATTACTAACTTACTCTCAGCAATCCCATACATAGGTAACACTCTTGTATTGTGAATCTGAGGAGGATTCTCCGTAGACCAGGCCACTTTATCCCGATTCTTTGTATTTCACTTTATCTTACCCTTCCTCATTATGGGAACTACAATTATACACCTCCTCTTTCTACATGAAACCGGCTCAAACAACCCAACAGGACTTAACTCAAACCCAG-----------------------------------------------------------------------------------------------------------------------------------------------------------------------------------------------------------------------------------------------------------------------------------------------------------------------------------------------------------------------------------------------------------------------------------------------------------------------------------------------------------\n",
      "TGACTCACATCATACGAAGAAGACACCCCCTACTGAGTATTATTAATAATTCACTTATTGATCTACCAACTCCCTCAAACCTATCCTACTTATGAAATTTTGGATCCTTACTAGGAGTCTGCCTAATTACACAAGTTTTAACCGGCCTATTTTTAGCAAAACATTATACAGCAGACATTCACTTCGCATTTTCATCAGTAGCACATATTTGCCGCGACGTAAACTATGGATGATTAATTCGAAATGTTCATGCCAACGGAGCCTCTTTATTTTTTATTTGCATTTATATACACATTGGACGAGGAATTTACTATGGATCATTTATATTAAAAGAGACCTGAAACATTGGAGTGACCCTATTTTTTATAACCATAGCAACAGCCTTTATAGGATAAGTTCTCCCATGAGGACAAATATCCTTCTGGGGAGCCACAGTAATTACTAACTTACTATCAGCAATCCCCTATATAGGCAACACCCTCGTACTATGAATTTGAGGGGGGTTCTCGGTAGACCAAGCCACTCTATCCCGATTCTTTGTATTCCACTTCATTCTGCCATTTCTCATCATAGGAACTACTATTATACACCTCCTTTTTCTACACGAAACCGGCTCAAATAACCCAACAGGAATTAATTCAAGCCCAG-----------------------------------------------------------------------------------------------------------------------------------------------------------------------------------------------------------------------------------------------------------------------------------------------------------------------------------------------------------------------------------------------------------------------------------------------------------------------------------------------------------\n",
      "TGACTCACATCATACGAAAAACACACCCCCTACTAAATATTATTAATAACTCATTTATTGATTTACCTACTCCCTCAAGCCTGTCCTACCTGTGAAATTTTGGGTCTCTACTTGGAATCTGCCTAATCACACAAGTTTTAACTGGCTTATTCTTAGCAATACACTACACAGCAGATATCTACTTAGCATTTTCATCAGTAGCACATATTTGCCGCGACGTAAACTATGGATGATTAATTCGAAGTGTTCATACCAATGGGGCTTCTTTATTTTTTATTTGTATTTATATACATATTGGACGAGGAATTTATTATGGGTCATTTATACTTAAAGAGACCTGAAACATTGGAGTAATCCTTTTTTTTATAACTATAGCAACAGCCTTTATAGGATATGTTCTCCCATGAGGACAAATATCCTTTTGAGGGGCCACAGTAATTACCAACCTACTTTCAGCAATCCCTTATATAGGCAACACCCTCGTACTGTGAATTTGAGGAGGATTTTCAGTGGATCAGGCCACCTTATCACGATTCTTCGTATTTCATTTCATTCTACCATTTCTCATCATAGGAACCACTATTATACACCTCCTTTTTCTACATGAAACTGGCTCAAACAACCCAACAGGACTTAGCTCAAACTCAG-----------------------------------------------------------------------------------------------------------------------------------------------------------------------------------------------------------------------------------------------------------------------------------------------------------------------------------------------------------------------------------------------------------------------------------------------------------------------------------------------------------\n",
      "TGACTCACATTATACGAAAAACGCACCCCCTACTAAATATTATTAACAACTCATTTATTGATCTACCAACTCCCTCAAGCCTGTCCTACTTGTGAAATTTCGGGTCTTTACTTGGAATTTGCCTAATCACACAGGTTTTAACTGGCCTATTTTTAGCAATACACTACACAGCAGATATCTACTTCGCATTTTCATCAGTAGCACACATTTGCCGCGACGTAAACTATGGATGATTAATTCGAAATGTTCATACCAATGGAGCCTCTTTATTTTTTATTTGTATTTATATACACATCGGACGAGGAATTTATTATGGGTCATTTATACTTAAAGAGACCTGAAACATTGGAGTAATCCTTTTTTTTATAACTATAGCAACAGCCTTTATAGGGTATGTTCTCCCGTGAGGACAAATATCCTTTTGGGGGGCCACAGTGATTACTAACCTTCTCTCAGCAATCCCTTACATAGGCAACACCCTAGTACTGTGAATTTGAGGAGGATTTTCAGTGGACCAGGCCACTTTATCACGATTCTTCGTATTTCACTTCATTCTACCATTTCTCATCATAGGAACCACAATTATACACCTTCTTTTTCTGCATGAAACAGGCTCAAATAACCCTACAGGACTTAGCTCAAACCCAG-----------------------------------------------------------------------------------------------------------------------------------------------------------------------------------------------------------------------------------------------------------------------------------------------------------------------------------------------------------------------------------------------------------------------------------------------------------------------------------------------------------\n",
      "BLAST hits not in the data: Plethodon_oconaluftee\n",
      "TGACTCACATCACACGAAAAACACACCCCCTACTGAGTGTTATTAATAATTCACTTATTGATCTACCAACTCCCTCAAACCTATCCTACTTATGAAATTTTGGATCCTTACTAGGAGTCTGCCTAATCACACAAATTTTAACCGGCCTATTTTTAGCAATACATTATACAGCAGACATTTACTTCGCATTTTCATCAGTAGCACATATTTGCCGCGACGTAAACTATGGATGATTAATTCGAAATATTCATGCCAACGGAGCCTCTTTATTTTTTATTTGCATTTACATACACATTGGACGAGGAATTTACTATGGATCATTTATATTAAAAGAGACCTGAAACATTGGAGTAATCCTCTTTTTTATAACCATAGCAACAGCCTTTATAGGATATGTTCTCCCATGAGGACAAATATCCTTCTGAGGGGCCACAGTGATTACTAATCTACTCTCAGCAATCCCTTATATAGGCAACACCCTCGTACTGTGAATTTGGGGTGGGTTCTCGGTAGATCAAGMCACTCTATCCCGATTCTTTGTATTTCACTTCATTCTACCCTTTCTCATCATAGGAACTACTATTATTCACCTCCTTTTTCTACACGAAACCGGCTCAAACAACCCAACAGGAATTAATTCAAGCCCAG-----------------------------------------------------------------------------------------------------------------------------------------------------------------------------------------------------------------------------------------------------------------------------------------------------------------------------------------------------------------------------------------------------------------------------------------------------------------------------------------------------------\n",
      "-----------ATACGAAAAACGCACCCCTTACTAAACATTATTAATAACTCATTTATTGATTTACCAACTCCCTCAAGCCTGTCTTACTTGTGAAATTTTGGATCTTTACTTGGAATTTGCCTAATTACACAAGTTTTAACTGGCCTATTTTTAGCTATACACTACACAGCAGATATCCACTTCGCATTTTCATCAGTAGCACACATTTGCCGCGATGTAAACTATGGATGACTAATTCGAAATGTTCATACCAATGGAGCCTCTTTATTTTTTATTTGTATTTATATACACATCGGACGAGGAATTTATTATGGATCATTTATACTTAAAGAAACCTGAAACATTGGAGTAATCCTTTTTTTTATAACTATAGCAACAGCCTTTATAGGATATGTTCTCCCATGAGGACAAATATCCTTTTGGGGGGCCACAGTGATTACTAATCTTCTTTCAGCAATCCCTTACATAGGTAATACCCTAGTACTGTGAATTTGAGGAGGATTTTCAGTGGACCAGGCCACTTTATCACGATTCTTCGTATTTCACTTCATTTTACCATTTCTCATCATAGGAGCCACTATTATACACCTTCTCTTTCTACATGAAACAGGCTCAAATAACCCCACAGGACTTAGCTCAAACCCAG-----------------------------------------------------------------------------------------------------------------------------------------------------------------------------------------------------------------------------------------------------------------------------------------------------------------------------------------------------------------------------------------------------------------------------------------------------------------------------------------------------------\n",
      "-----------ATACGAAAAACACACCCCCTACTAAATATCATTAATAACTCATTCATTGATCTACCAACCCCATCAAGCCTATCCTACTTATGAAATTTCGGGTCTTTATTAGGAGTTTGCCTAATTACACAAGTCCTAACCGGCTTATTTTTAGCAATACACTATACAGCAGATATCCACTCTGCATTTTCATCAGTAGCACATATTTGCCGTGACGTAAACCACGGATGACTAATCCGAAATATTCATGCCAACGGAGCCTCTTTATTTTTCATTTGTATTTATATACACATTGGACGAGGAATCTACTATGGATCATTTATACTCAAAGAGACTTGAAACATTGGAGTAATCCTTTTTTTTATAACTATGGCAACAGCTTTCATAGGATATGTTCTCCCATGAGGACAAATATCCTTCTGAGGAGCCACAGTAATTACTAACTTACTCTCAGCAATCCCATACATAGGTAACACTCTTGTATTGTGAATCTGAGGAGGATTCTCCGTAGACCAGGCCACTTTATCCCGATTCTTTGTATTTCACTTTATCTTACCCTTCCTCATTATGGGAACTACAATTATACACCTCCTCTTTCTACATGAAACCGGCTCAAACAACCCAACAGGACTTAACTCAAACCCAG-----------------------------------------------------------------------------------------------------------------------------------------------------------------------------------------------------------------------------------------------------------------------------------------------------------------------------------------------------------------------------------------------------------------------------------------------------------------------------------------------------------\n",
      "-----------ATACGAAAAACACACCCCCTACTAAATATCATTAATAACTCATTCATTGATCTACCAACCCCATCAAGCCTATCCTACTTATGAAATTTCGGGTCTTTATTAGGAGTTTGCCTAATTACACAAGTCCTAACCGGCTTATTTTTAGCAATACACTATACAGCAGATATCCACTCTGCATTTTCATCAGTAGCACATATTTGCCGTGACGTAAACCACGGATGACTAATCCGAAATATTCATGCCAACGGAGCCTCTTTATTTTTCATTTGTATTTATATACACATTGGACGAGGAATCTACTATGGATCATTTATACTCAAAGAGACTTGAAACATTGGAGTAATCCTTTTTTTTATAACTATGGCAACAGCTTTCATAGGATATGTTCTCCCATGAGGACAAATATCCTTCTGAGGAGCCACAGTAATTACTAACTTACTCTCAGCAATCCCATACATAGGTAACACTCTTGTATTGTGAATCTGAGGAGGATTCTCCGTAGACCAGGCCACTTTATCCCGATTCTTTGTATTTCACTTTATCTTACCCTTCCTCATTATGGGAACTACAATTATACACCTCCTCTTTCTACATGAAACCGGCTCAAACAACCCAACAGGACTTAACTCAAACCCAG-----------------------------------------------------------------------------------------------------------------------------------------------------------------------------------------------------------------------------------------------------------------------------------------------------------------------------------------------------------------------------------------------------------------------------------------------------------------------------------------------------------\n",
      "-----------ATACGAAAAACACACCCCCTACTAAATATCATTAATAACTCATTCATTGATCTACCAACCCCATCAAGCCTATCCTACTTATGAAATTTCGGGTCTTTATTAGGAGTTTGCCTAATTACACAAGTCCTAACCGGCTTATTTTTAGCAATACACTATACAGCAGATATCCACTCTGCATTTTCATCAGTAGCACATATTTGCCGTGACGTAAACCACGGATGACTAATCCGAAATATTCATGCCAACGGAGCCTCTTTATTTTTCATTTGTATTTATATACACATTGGACGAGGAATCTACTATGGATCATTTATACTCAAAGAGACTTGAAACATTGGAGTAATCCTTTTTTTTATAACTATGGCAACAGCTTTCATAGGATATGTTCTCCCATGAGGACAAATATCCTTCTGAGGAGCCACAGTAATTACTAACTTACTCTCAGCAATCCCATACATAGGTAACACTCTTGTATTGTGAATCTGAGGAGGATTCTCCGTAGACCAGGCCACTTTATCCCGATTCTTTGTATTTCACTTTATCTTACCCTTCCTCATTATGGGAACTACAATTATACACCTCCTCTTTCTACATGAAACCGGCTCAAACAACCCAACAGGACTTAACTCAAACCCAG-----------------------------------------------------------------------------------------------------------------------------------------------------------------------------------------------------------------------------------------------------------------------------------------------------------------------------------------------------------------------------------------------------------------------------------------------------------------------------------------------------------\n",
      "-----------ATACGAAAAACACACCCCCTACTAAATATCATTAATAACTCATTCATTGATCTACCAACCCCATCAAGCCTATCCTACTTATGAAATTTCGGGTCTTTATTAGGAGTTTGCCTAATTACACAAGTCCTAACCGGCTTATTTTTAGCAATACACTATACAGCAGATATCCACTCTGCATTTTCATCAGTAGCACATATTTGCCGTGACGTAAACCACGGATGACTAATCCGAAATATTCATGCCAACGGAGCCTCTTTATTTTTCATTTGTATTTATATACACATTGGACGAGGAATCTACTATGGATCATTTATACTCAAAGAGACTTGAAACATTGGAGTAATCCTTTTTTTTATAACTATGGCAACAGCTTTCATAGGATATGTTCTCCCATGAGGACAAATATCCTTCTGAGGAGCCACAGTAATTACTAACTTACTCTCAGCAATCCCATACATAGGTAACACTCTTGTATTGTGAATCTGAGGAGGATTCTCCGTAGACCAGGCCACTTTATCCCGATTCTTTGTATTTCACTTTATCTTACCCTTCCTCATTATGGGAACTACAATTATACACCTCCTCTTTCTACATGAAACCGGCTCAAACAACCCAACAGGACTTAACTCAAACCCAG-----------------------------------------------------------------------------------------------------------------------------------------------------------------------------------------------------------------------------------------------------------------------------------------------------------------------------------------------------------------------------------------------------------------------------------------------------------------------------------------------------------\n",
      "-----------ATACGAAAAACACACCCCCTACTAAATATCATTAATAACTCATTCATTGATCTACCAACCCCATCAAGCCTATCCTACTTATGAAATTTCGGGTCTTTATTAGGAGTTTGCCTAATTACACAAGTCCTAACCGGCTTATTTTTAGCAATACACTATACAGCAGATATCCACTCTGCATTTTCATCAGTAGCACATATTTGCCGTGACGTAAACCACGGATGACTAATCCGAAATATTCATGCCAACGGAGCCTCTTTATTTTTCATTTGTATTTATATACACATTGGACGAGGAATCTACTATGGATCATTTATACTCAAAGAGACTTGAAACATTGGAGTAATCCTTTTTTTTATAACTATGGCAACAGCTTTCATAGGATATGTTCTCCCATGAGGACAAATATCCTTCTGAGGAGCCACAGTAATTACTAACTTACTCTCAGCAATCCCATACATAGGTAACACTCTTGTATTGTGAATCTGAGGAGGATTCTCCGTAGACCAGGCCACTTTATCCCGATTCTTTGTATTTCACTTTATCTTACCCTTCCTCATTATGGGAACTACAATTATACACCTCCTCTTTCTACATGAAACCGGCTCAAACAACCCAACAGGACTTAACTCAAACCCAG-----------------------------------------------------------------------------------------------------------------------------------------------------------------------------------------------------------------------------------------------------------------------------------------------------------------------------------------------------------------------------------------------------------------------------------------------------------------------------------------------------------\n"
     ]
    },
    {
     "name": "stdout",
     "output_type": "stream",
     "text": [
      "-----------ATACGAAAAACACACCCCCTACTAAATATCATTAATAACTCATTCATTGATCTACCAACCCCATCAAGCCTATCCTACTTATGAAATTTCGGGTCTTTATTAGGAGTTTGCCTAATTACACAAGTCCTAACCGGCTTATTTTTAGCAATACACTATACAGCAGATATCCACTCTGCATTTTCATCAGTAGCACATATTTGCCGTGACGTAAACCACGGATGACTAATCCGAAATATTCATGCCAACGGAGCCTCTTTATTTTTCATTTGTATTTATATACACATTGGACGAGGAATCTACTATGGATCATTTATACTCAAAGAGACTTGAAACATTGGAGTAATCCTTTTTTTTATAACTATGGCAACAGCTTTCATAGGATATGTTCTCCCATGAGGACAAATATCCTTCTGAGGAGCCACAGTAATTACTAACTTACTCTCAGCAATCCCATACATAGGTAACACTCTTGTATTGTGAATCTGAGGAGGATTCTCCGTAGACCAGGCCACTTTATCCCGATTCTTTGTATTTCACTTTATCTTACCCTTCCTCATTATGGGAACTACAATTATACACCTCCTCTTTCTACATGAAACCGGCTCAAACAACCCAACAGGACTTAACTCAAACCCAG-----------------------------------------------------------------------------------------------------------------------------------------------------------------------------------------------------------------------------------------------------------------------------------------------------------------------------------------------------------------------------------------------------------------------------------------------------------------------------------------------------------\n",
      "-----------ATACGAAAAACACACCCCCTACTAAATATCATTAATAACTCATTCATTGATCTACCAACCCCATCAAGCCTATCCTACTTATGAAATTTCGGGTCTTTATTAGGAGTTTGCCTAATTACACAAGTCCTAACCGGCTTATTTTTAGCAATACACTATACAGCAGATATCCACTCTGCATTTTCATCAGTAGCACATATTTGCCGTGACGTAAACCACGGATGACTAATCCGAAATATTCATGCCAACGGAGCCTCTTTATTTTTCATTTGTATTTATATACACATTGGACGAGGAATCTACTATGGATCATTTATACTCAAAGAGACTTGAAACATTGGAGTAATCCTTTTTTTTATAACTATGGCAACAGCTTTCATAGGATATGTTCTCCCATGAGGACAAATATCCTTCTGAGGAGCCACAGTAATTACTAACTTACTCTCAGCAATCCCATACATAGGTAACACTCTTGTATTGTGAATCTGAGGAGGATTCTCCGTAGACCAGGCCACTTTATCCCGATTCTTTGTATTTCACTTTATCTTACCCTTCCTCATTATGGGAACTACAATTATACACCTCCTCTTTCTACATGAAACCGGCTCAAACAACCCAACAGGACTTAACTCAAACCCAG-----------------------------------------------------------------------------------------------------------------------------------------------------------------------------------------------------------------------------------------------------------------------------------------------------------------------------------------------------------------------------------------------------------------------------------------------------------------------------------------------------------\n",
      "-----------------ATAACGCACCCCTTATTAAGTATTATTAACAACTCACTTATTGATTTACCAACTCCATCAAACCTATCATACTTATGAAATTTCGGGTCCTTACTAGGAGTCTGCCTAATCACACAAGTTTTAACAGGCCTATTTTTAGCAATACATTATACAGCAGACATTCACCTCGCATTTTCATCAGTAGCACATATTTGCCGCGACGTAAACTACGGGTGATTAATTCGAAATATTCATACCAACGGAGCCTCTTTATTTTTTATTTGCATTTATATGCACATTGGACGAGGAATTTATTATGGATCATTTGTACTAAAAGAGACCTGAAACATTGGAGTAATTCTTTTTTTTATAACAATAGCAACAGCCTTTATAGGATATGTTCTCCCATGAGGACAAATATCATTCTGAGGGGCCACGGTAATTACTAATCTACTCTCAGCAGTACCTTATATAGGTAACACGCTCGTACTGTGAATTTGAGGGGGGTTCTCAGTAGACCAAGCCACTTTATCACGATTCTTTGTATTTCACTTCATTCTGCCCTTTCTCATTATAGGAACTACTATTATACACCTCCTCTTTCTACACGAAACCGGCTCAAACAACCCAACAGGACTTAACTCGAACCCAG-----------------------------------------------------------------------------------------------------------------------------------------------------------------------------------------------------------------------------------------------------------------------------------------------------------------------------------------------------------------------------------------------------------------------------------------------------------------------------------------------------------\n",
      "TGACTCACATCATACGAAAAACACACCCCCTACTGAGTGTTATTAATAATTCACTTATTGATCTACCAACTCCATCAAACCTATCCTACTTATGAAATTTTGGATCCTTACTGGGAGTCTGCCTAATCACACAAGTTTTAACCGGCCTATTTTTAGCAATACATTATACAGCAGACATTTACTTCGCATTTTCATCAGTAGCACATATTTGCCGCGACGTAAACTATGGATGATTAATTCGAAATATTCATGCCAACGGAGCCTCTTTATTTTTTATTTGTATTTACATACACATTGGACGAGGAATTTACTATGGGTCATTTATATTAAAAGAAACCTGAAACATTGGAGTGATCCTCTTTTTTATAACCATAGCAACAGCCTTTATAGGATATGTTCTCCCATGAGGACAAATATCCTTCTGGGGAGCCACAGTGATTACTAACCTACTCTCAGCAATCCCTTATATAGGCAACACCCTCGTACTCTGAATTTGGGGTGGGTTCTCGGTAGATCAGGCCACTCTATCCCGATTCTTTGTATTTCACTTCATTCTGCCCTTTCTCATCATAGGAACTACTATTATACACCTCCTTTTTTTACACGAAACCGGCTCAAACAACCC----------------------------------------------------------------------------------------------------------------------------------------------------------------------------------------------------------------------------------------------------------------------------------------------------------------------------------------------------------------------------------------------------------------------------------------------------------------------------------------------------------------------------------\n",
      "-----------ATACGAAAAACACACCCCCTACTAAATATCATTAATAACTCATTCATTGATCTACCAACCCCATCAAGCCTATCCTACTTATGAAATTTCGGGTCTTTATTAGGAGTTTGCCTAATTACACAAGTCCTAACCGGCTTATTTTTAGCAATACACTATACAGCAGATATCCACTCTGCATTTTCATCAGTAGCACATATTTGCCGTGACGTAAACCACGGATGACTAATCCGAAATATTCATGCCAACGGAGCCTCTTTATTTTTCATTTGTATTTATATACACATTGGACGAGGAATCTACTATGGATCATTTATACTCAAAGAGACTTGAAACATTGGAGTAATCCTTTTTTTTATAACTATGGCAACAGCTTTCATAGGATATGTTCTCCCATGAGGACAAATATCCTTCTGAGGAGCCACAGTAATTACTAACTTACTCTCAGCAATCCCATACATAGGTAACACTCTTGTATTGTGAATCTGAGGAGGATTCTCCGTAGACCAGGCCACTTTATCCCGATTCTTTGTATTTCACTTTATCTTACCCTTCCTCATTATGGGAACTACAATTATACACCTCCTCTTTCTACATGAAACCGGCTCAAACAACCCAACAGGACTTAACTCAAACCCAG-----------------------------------------------------------------------------------------------------------------------------------------------------------------------------------------------------------------------------------------------------------------------------------------------------------------------------------------------------------------------------------------------------------------------------------------------------------------------------------------------------------\n",
      "-----------ATACGAAAAACACACCCCCTACTAAATATCATTAATAACTCATTCATTGATCTACCAACCCCATCAAGCCTATCCTACTTATGAAATTTCGGGTCTTTATTAGGAGTTTGCCTAATTACACAAGTCCTAACCGGCTTATTTTTAGCAATACACTATACAGCAGATATCCACTCTGCATTTTCATCAGTAGCACATATTTGCCGTGACGTAAACCACGGATGACTAATCCGAAATATTCATGCCAACGGAGCCTCTTTATTTTTCATTTGTATTTATATACACATTGGACGAGGAATCTACTATGGATCATTTATACTCAAAGAGACTTGAAACATTGGAGTAATCCTTTTTTTTATAACTATGGCAACAGCTTTCATAGGATATGTTCTCCCATGAGGACAAATATCCTTCTGAGGAGCCACAGTAATTACTAACTTACTCTCAGCAATCCCATACATAGGTAACACTCTTGTATTGTGAATCTGAGGAGGATTCTCCGTAGACCAGGCCACTTTATCCCGATTCTTTGTATTTCACTTTATCTTACCCTTCCTCATTATGGGAACTACAATTATACACCTCCTCTTTCTACATGAAACCGGCTCAAACAACCCAACAGGACTTAACTCAAACCCAG-----------------------------------------------------------------------------------------------------------------------------------------------------------------------------------------------------------------------------------------------------------------------------------------------------------------------------------------------------------------------------------------------------------------------------------------------------------------------------------------------------------\n",
      "-----------ATACGAAAAACACACCCCCTACTAAATATCATTAATAACTCATTCATTGATCTACCAACCCCATCAAGCCTATCCTACTTATGAAATTTCGGGTCTTTATTAGGAGTTTGCCTAATTACACAAGTCCTAACCGGCTTATTTTTAGCAATACACTATACAGCAGATATCCACTCTGCATTTTCATCAGTAGCACATATTTGCCGTGACGTAAACCACGGATGACTAATCCGAAATATTCATGCCAACGGAGCCTCTTTATTTTTCATTTGTATTTATATACACATTGGACGAGGAATCTACTATGGATCATTTATACTCAAAGAGACTTGAAACATTGGAGTAATCCTTTTTTTTATAACTATGGCAACAGCTTTCATAGGATATGTTCTCCCATGAGGACAAATATCCTTCTGAGGAGCCACAGTAATTACTAACTTACTCTCAGCAATCCCATACATAGGTAACACTCTTGTATTGTGAATCTGAGGAGGATTCTCCGTAGACCAGGCCACTTTATCCCGATTCTTTGTATTTCACTTTATCTTACCCTTCCTCATTATGGGAACTACAATTATACACCTCCTCTTTCTACATGAAACCGGCTCAAACAACCCAACAGGACTTAACTCAAACCCAG-----------------------------------------------------------------------------------------------------------------------------------------------------------------------------------------------------------------------------------------------------------------------------------------------------------------------------------------------------------------------------------------------------------------------------------------------------------------------------------------------------------\n",
      "-----------ATACGAAAAACACACCCCCTACTAAATATCATTAATAACTCATTCATTGATCTACCAACCCCATCAAGCCTATCCTACTTATGAAATTTCGGGTCTTTATTAGGAGTTTGCCTAATTACACAAGTCCTAACCGGCTTATTTTTAGCAATACACTATACAGCAGATATCCACTCTGCATTTTCATCAGTAGCACATATTTGCCGTGACGTAAACCACGGATGACTAATCCGAAATATTCATGCCAACGGAGCCTCTTTATTTTTCATTTGTATTTATATACACATTGGACGAGGAATCTACTATGGATCATTTATACTCAAAGAGACTTGAAACATTGGAGTAATCCTTTTTTTTATAACTATGGCAACAGCTTTCATAGGATATGTTCTCCCATGAGGACAAATATCCTTCTGAGGAGCCACAGTAATTACTAACTTACTCTCAGCAATCCCATACATAGGTAACACTCTTGTATTGTGAATCTGAGGAGGATTCTCCGTAGACCAGGCCACTTTATCCCGATTCTTTGTATTTCACTTTATCTTACCCTTCCTCATTATGGGAACTACAATTATACACCTCCTCTTTCTACATGAAACCGGCTCAAACAACCCAACAGGACTTAACTCAAACCCAG-----------------------------------------------------------------------------------------------------------------------------------------------------------------------------------------------------------------------------------------------------------------------------------------------------------------------------------------------------------------------------------------------------------------------------------------------------------------------------------------------------------\n",
      "-----------ATACGAAAAACACACCCCCTACTAAATATCATTAATAACTCATTCATTGATCTACCAACCCCATCAAGCCTATCCTACTTATGAAATTTCGGGTCTTTATTAGGAGTTTGCCTAATTACACAAGTCCTAACCGGCTTATTTTTAGCAATACACTATACAGCAGATATCCACTCTGCATTTTCATCAGTAGCACATATTTGCCGTGACGTAAACCACGGATGACTAATCCGAAATATTCATGCCAACGGAGCCTCTTTATTTTTCATTTGTATTTATATACACATTGGACGAGGAATCTACTATGGATCATTTATACTCAAAGAGACTTGAAACATTGGAGTAATCCTTTTTTTTATAACTATGGCAACAGCTTTCATAGGATATGTTCTCCCATGAGGACAAATATCCTTCTGAGGAGCCACAGTAATTACTAACTTACTCTCAGCAATCCCATACATAGGTAACACTCTTGTATTGTGAATCTGAGGAGGATTCTCCGTAGACCAGGCCACTTTATCCCGATTCTTTGTATTTCACTTTATCTTACCCTTCCTCATTATGGGAACTACAATTATACACCTCCTCTTTCTACATGAAACCGGCTCAAACAACCCAACAGGACTTAACTCAAACCCAG-----------------------------------------------------------------------------------------------------------------------------------------------------------------------------------------------------------------------------------------------------------------------------------------------------------------------------------------------------------------------------------------------------------------------------------------------------------------------------------------------------------\n",
      "-----------ATACGAAAAACACACCCCCTACTAAATATCATTAATAACTCATTCATTGATCTACCAACCCCATCAAGCCTATCCTACTTATGAAATTTCGGGTCTTTATTAGGAGTTTGCCTAATTACACAAGTCCTAACCGGCTTATTTTTAGCAATACACTATACAGCAGATATCCACTCTGCATTTTCATCAGTAGCACATATTTGCCGTGACGTAAACCACGGATGACTAATCCGAAATATTCATGCCAACGGAGCCTCTTTATTTTTCATTTGTATTTATATACACATTGGACGAGGAATCTACTATGGATCATTTATACTCAAAGAGACTTGAAACATTGGAGTAATCCTTTTTTTTATAACTATGGCAACAGCTTTCATAGGATATGTTCTCCCATGAGGACAAATATCCTTCTGAGGAGCCACAGTAATTACTAACTTACTCTCAGCAATCCCATACATAGGTAACACTCTTGTATTGTGAATCTGAGGAGGATTCTCCGTAGACCAGGCCACTTTATCCCGATTCTTTGTATTTCACTTTATCTTACCCTTCCTCATTATGGGAACTACAATTATACACCTCCTCTTTCTACATGAAACCGGCTCAAACAACCCAACAGGACTTAACTCAAACCCAG-----------------------------------------------------------------------------------------------------------------------------------------------------------------------------------------------------------------------------------------------------------------------------------------------------------------------------------------------------------------------------------------------------------------------------------------------------------------------------------------------------------\n",
      "-----------ATACGAAAAACACACCCCCTACTAAATATCATTAATAACTCATTCATTGATCTACCAACCCCATCAAGCCTATCCTACTTATGAAATTTCGGGTCTTTATTAGGAGTTTGCCTAATTACACAAGTCCTAACCGGCTTATTTTTAGCAATACACTATACAGCAGATATCCACTCTGCATTTTCATCAGTAGCACATATTTGCCGTGACGTAAACCACGGATGACTAATCCGAAATATTCATGCCAACGGAGCCTCTTTATTTTTCATTTGTATTTATATACACATTGGACGAGGAATCTACTATGGATCATTTATACTCAAAGAGACTTGAAACATTGGAGTAATCCTTTTTTTTATAACTATGGCAACAGCTTTCATAGGATATGTTCTCCCATGAGGACAAATATCCTTCTGAGGAGCCACAGTAATTACTAACTTACTCTCAGCAATCCCATACATAGGTAACACTCTTGTATTGTGAATCTGAGGAGGATTCTCCGTAGACCAGGCCACTTTATCCCGATTCTTTGTATTTCACTTTATCTTACCCTTCCTCATTATGGGAACTACAATTATACACCTCCTCTTTCTACATGAAACCGGCTCAAACAACCCAACAGGACTTAACTCAAACCCAG-----------------------------------------------------------------------------------------------------------------------------------------------------------------------------------------------------------------------------------------------------------------------------------------------------------------------------------------------------------------------------------------------------------------------------------------------------------------------------------------------------------\n",
      "-----------ATACGAAAAACACACCCCCTACTAAATATCATTAATAACTCATTCATTGATCTACCAACCCCATCAAGCCTATCCTACTTATGAAATTTCGGGTCTTTATTAGGAGTTTGCCTAATTACACAAGTCCTAACCGGCTTATTTTTAGCAATACACTATACAGCAGATATCCACTCTGCATTTTCATCAGTAGCACATATTTGCCGTGACGTAAACCACGGATGACTAATCCGAAATATTCATGCCAACGGAGCCTCTTTATTTTTCATTTGTATTTATATACACATTGGACGAGGAATCTACTATGGATCATTTATACTCAAAGAGACTTGAAACATTGGAGTAATCCTTTTTTTTATAACTATGGCAACAGCTTTCATAGGATATGTTCTCCCATGAGGACAAATATCCTTCTGAGGAGCCACAGTAATTACTAACTTACTCTCAGCAATCCCATACATAGGTAACACTCTTGTATTGTGAATCTGAGGAGGATTCTCCGTAGACCAGGCCACTTTATCCCGATTCTTTGTATTTCACTTTATCTTACCCTTCCTCATTATGGGAACTACAATTATACACCTCCTCTTTCTACATGAAACCGGCTCAAACAACCCAACAGGACTTAACTCAAACCCAG-----------------------------------------------------------------------------------------------------------------------------------------------------------------------------------------------------------------------------------------------------------------------------------------------------------------------------------------------------------------------------------------------------------------------------------------------------------------------------------------------------------\n",
      "-----------ATACGAAAAACACACCCCCTACTAAATATCATTAATAACTCATTCATTGATCTACCAACCCCATCAAGCCTATCCTACTTATGAAATTTCGGGTCTTTATTAGGAGTTTGCCTAATTACACAAGTCCTAACCGGCTTATTTTTAGCAATACACTATACAGCAGATATCCACTCTGCATTTTCATCAGTAGCACATATTTGCCGTGACGTAAACCACGGATGACTAATCCGAAATATTCATGCCAACGGAGCCTCTTTATTTTTCATTTGTATTTATATACACATTGGACGAGGAATCTACTATGGATCATTTATACTCAAAGAGACTTGAAACATTGGAGTAATCCTTTTTTTTATAACTATGGCAACAGCTTTCATAGGATATGTTCTCCCATGAGGACAAATATCCTTCTGAGGAGCCACAGTAATTACTAACTTACTCTCAGCAATCCCATACATAGGTAACACTCTTGTATTGTGAATCTGAGGAGGATTCTCCGTAGACCAGGCCACTTTATCCCGATTCTTTGTATTTCACTTTATCTTACCCTTCCTCATTATGGGAACTACAATTATACACCTCCTCTTTCTACATGAAACCGGCTCAAACAACCCAACAGGACTTAACTCAAACCCAG-----------------------------------------------------------------------------------------------------------------------------------------------------------------------------------------------------------------------------------------------------------------------------------------------------------------------------------------------------------------------------------------------------------------------------------------------------------------------------------------------------------\n",
      "-----------ATACGAAAAACACACCCCCTACTAAATATCATTAATAACTCATTCATTGATCTACCAACCCCATCAAGCCTATCCTACTTATGAAATTTCGGGTCTTTATTAGGAGTTTGCCTAATTACACAAGTCCTAACCGGCTTATTTTTAGCAATACACTATACAGCAGATATCCACTCTGCATTTTCATCAGTAGCACATATTTGCCGTGACGTAAACCACGGATGACTAATCCGAAATATTCATGCCAACGGAGCCTCTTTATTTTTCATTTGTATTTATATACACATTGGACGAGGAATCTACTATGGATCATTTATACTCAAAGAGACTTGAAACATTGGAGTAATCCTTTTTTTTATAACTATGGCAACAGCTTTCATAGGATATGTTCTCCCATGAGGACAAATATCCTTCTGAGGAGCCACAGTAATTACTAACTTACTCTCAGCAATCCCATACATAGGTAACACTCTTGTATTGTGAATCTGAGGAGGATTCTCCGTAGACCAGGCCACTTTATCCCGATTCTTTGTATTTCACTTTATCTTACCCTTCCTCATTATGGGAACTACAATTATACACCTCCTCTTTCTACATGAAACCGGCTCAAACAACCCAACAGGACTTAACTCAAACCCAG-----------------------------------------------------------------------------------------------------------------------------------------------------------------------------------------------------------------------------------------------------------------------------------------------------------------------------------------------------------------------------------------------------------------------------------------------------------------------------------------------------------\n",
      "-----------ATACGAAAAACACACCCCCTACTAAATATCATTAATAACTCATTCATTGATCTACCAACCCCATCAAGCCTATCCTACTTATGAAATTTCGGGTCTTTATTAGGAGTTTGCCTAATTACACAAGTCCTAACCGGCTTATTTTTAGCAATACACTATACAGCAGATATCCACTCTGCATTTTCATCAGTAGCACATATTTGCCGTGACGTAAACCACGGATGACTAATCCGAAATATTCATGCCAACGGAGCCTCTTTATTTTTCATTTGTATTTATATACACATTGGACGAGGAATCTACTATGGATCATTTATACTCAAAGAGACTTGAAACATTGGAGTAATCCTTTTTTTTATAACTATGGCAACAGCTTTCATAGGATATGTTCTCCCATGAGGACAAATATCCTTCTGAGGAGCCACAGTAATTACTAACTTACTCTCAGCAATCCCATACATAGGTAACACTCTTGTATTGTGAATCTGAGGAGGATTCTCCGTAGACCAGGCCACTTTATCCCGATTCTTTGTATTTCACTTTATCTTACCCTTCCTCATTATGGGAACTACAATTATACACCTCCTCTTTCTACATGAAACCGGCTCAAACAACCCAACAGGACTTAACTCAAACCCAG-----------------------------------------------------------------------------------------------------------------------------------------------------------------------------------------------------------------------------------------------------------------------------------------------------------------------------------------------------------------------------------------------------------------------------------------------------------------------------------------------------------\n",
      "BLAST hits not in the data: Plethodon_oconaluftee\n",
      "TGACTCACATCACACGAAAAACACACCCCCTACTGAGTGTTATTAATAATTCACTTATTGATCTACCAACTCCCTCAAACCTATCCTACTTATGAAATTTTGGATCCTTACTAGGAGTCTGCCTAATCACACAAATTTTAACCGGCCTATTTTTAGCAATACATTATACAGCAGACATTTACTTCGCATTTTCATCAGTAGCACATATTTGCCGCGACGTAAACTATGGATGATTAATTCGAAATATTCATGCCAACGGAGCCTCTTTATTTTTTATTTGCATTTACATACACATTGGACGAGGAATTTACTATGGATCATTTATATTAAAAGAGACCTGAAACATTGGAGTAATCCTCTTTTTTATAACCATAGCAACAGCCTTTATAGGATATGTTCTCCCATGAGGACAAATATCCTTCTGAGGGGCCACAGTGATTACTAATCTACTCTCAGCAATCCCTTATATAGGCAACACCCTCGTACTGTGAATTTGGGGTGGGTTCTCGGTAGATCAAGCCACTCTATCCCGATTCTTTGTATTTCACTTCATTCTACCCTTTCTCATCATAGGAACTACTATTATTCACCTCCTTTTTCTACACGAAACCGGCTCAAACAACCCAACAGGAATAATCAAGCCCAGAC-----------------------------------------------------------------------------------------------------------------------------------------------------------------------------------------------------------------------------------------------------------------------------------------------------------------------------------------------------------------------------------------------------------------------------------------------------------------------------------------------------------\n",
      "TGACCCACATCATACGAAAAACACATCCCCTATTAAATATTATTAATAACTCATTTATTGATCTACCAACTCCCTCAAGCCTATCCTACTTATGAAATTTTGGATCCTTACTAGGAGTCTGCTTAATTACACAAATTCTAACCGGCTTATTTTTAGCAATACACTACACAGCAGATATCCACTCTGCATTTTCATCAGTAGCACACATTTGCCGCGACGTAAACCACGGGTGATTAATTCGAAATATTCATGCCAACGGAGCCTCATTATTTTTTATTTGTATTTATATACACATCGGACGAGGAATCTATTATGGATCATTTATACTCAAAGAGACCTGAAACATTGGAGTAATCCTTTTTTTTATCACTATAGCAACAGCTTTTATAGGATATGTCCTTCCATGAGGACAAATATCCTTCTGGGGAGCCACAGTGATTACTAATTTATTCTCAGCAATCCCTTACGTGGGCAACACCCTTGTGCTGTGAGCCTGAGGAGGATTCTCAGTGGACCAGGCCACTTTATCCCGATTCTTTGTACTCCACTTTACCCTACCATTCCTTATTGTAGGGGTCACTATTTTACATCTCCTTTTCCTACATGAAACCGGCTCAAGCAATCCAATAGGACTTAGCTTAAGCCTGGACAAAATCCCATTTCACCCATACTTTTCATACAAAGACCTCCTAGGGCTCGTAGTAATACTATTAATACTAACCCTGTTATCACTTCTTACCCCAAGTTTTTTAAGTGACCCAGAAAATTTTTCCCAAGCCAACCCCCTCATCACACCCCCACATATCCGGCCGGAATGATATTTCCTATTTGCTTACGCAATCTTACGCTCAATCCCAAATAAACTTGGCGGAGTACTAGCCCTGCTTCTATCTATTCTTATCCTATTTATTATTCCAGCTCTTCATACCTCAAAACACCAAAGCCTAATATTTCGACCACTCACACAAGCCCTATTCTGAACACTAATCTTAAATATACTTCTACTTACCTGGGTCGGAAACCAACCCGTAGAAACCCCATTTATTAAAAT----------------------------------------------------------------------------------------\n",
      "TGACCCACATCATACGAAAAACACATCCCCTATTAAATATTATTAATAACTCATTTATTGATCTACCAACTCCCTCAAGCCTATCCTACTTATGAAATTTTGGATCCTTACTAGGAGTCTGCTTAATTACACAAATTCTAACCGGCTTATTTTTAGCAATACACTACACAGCAGATATCCACTCTGCATTTTCATCAGTAGCACACATTTGCCGCGACGTAAACCACGGGTGATTAATTCGAAATATTCATGCCAACGGAGCCTCATTATTTTTTATTTGTATTTATATACACATCGGACGAGGAATCTATTATGGATCATTTATACTCAAAGAGACCTGAAACATTGGAGTAATCCTTTTTTTTATCACTATAGCAACAGCTTTTATAGGATATGTCCTTCCATGAGGACAAATATCCTTCTGGGGAGCCACAGTGATTACTAATTTATTCTCAGCAATCCCTTACGTGGGCAACACCCTTGTGCTGTGAGCCTGAGGAGGATTCTCAGTGGACCAGGCCACTTTATCCCGATTCTTTGTACTCCACTTTACCCTACCATTCCTTATTGTAGGGGTCACTATTTTACATCTCCTTTTCCTACATGAAACCGGCTCAAGCAATCCAATAGGACTTAGCTTAAGCCTGGACAAAATCCCATTTCACCCATACTTTTCATACAAAGACCTCCTAGGGCTCGTAGTAATACTATTAATACTAACCCTGTTATCACTTCTTACCCCAAGTTTTTTAAGTGACCCAGAAAATTTTTCCCAAGCCAACCCCCTCATCACACCCCCACATATCCGGCCGGAATGATATTTCCTATTTGCTTACGCAATCTTACGCTCAATCCCAAATAAACTTGGCGGAGTACTAGCCCTGCTTCTATCTATTCTTATCCTATTTATTATTCCAGCTCTTCATACCTCAAAACACCAAAGCCTAATATTTCGACCACTCACACAAGCCCTATTCTGAACACTAATCTTAAATATACTTCTACTTACCTGGGTCGGAAACCAACCCGTAGAAACCCCATTTATTAAAAT----------------------------------------------------------------------------------------\n",
      "TGACTCACATCATACGAAAAACGCACCCTCTACTGAGTATTATTAATAATTCACTTATTGATCTACCAACTCCCTCAAACCTATCTTACTTATGAAATTTTGGATCCTTACTAGGAGTCTGCCTAATTACACAAATTTTAACCGGCTTATTTTTAGCAATACATTATACAGCAGACATTTACTTCGCATTCTCATCAGTAGCACATATTTGCCGCGACGTAAACTATGGATGATTAATTCGAAATGTTCATGCCAACGGAGCCTCTTTATTTTTTATTTGCATTTATATACACATTGGACGAGGAATTTACTATGGATCATTTATATTAAAAGAGACCTGAAACATTGGAGTAATCCTATTTTTTATAACCATAGCAACAGCCTTTATAGGATATGTTCTCCCATGAGGACAAATATCCTTCTGGGGGGCCACAGTAATTACTAACTTACTATCAGCAATCCCTTATATAGGCAACACCCTCGTACTATGAATTTGGGGAGGGTTCTCAGTAGATCAAGCCACTCTGTCCCGATTCTTTGTATTTCACTTCATTCTGCCCTTCCTCATCATAGGAACTACTATTATACACCTCCTTTTTTTACACGAAACCGGCTCAAACAACCCAACAGGAATAATTCAAGCCCAGA-----------------------------------------------------------------------------------------------------------------------------------------------------------------------------------------------------------------------------------------------------------------------------------------------------------------------------------------------------------------------------------------------------------------------------------------------------------------------------------------------------------\n",
      "-----------ATACGAAAAACACACCCCCTACTAAATATCATTAATAACTCATTCATTGATCTACCAACCCCATCAAGCCTATCCTACTTATGAAATTTCGGGTCTTTATTAGGAGTTTGCCTAATTACACAAGTCCTAACCGGCTTATTTTTAGCAATACACTATACAGCAGATATCCACTCTGCATTTTCATCAGTAGCACATATTTGCCGTGACGTAAACCACGGATGACTAATCCGAAATATTCATGCCAACGGAGCCTCTTTATTTTTCATTTGTATTTATATACACATTGGACGAGGAATCTACTATGGATCATTTATACTCAAAGAGACTTGAAACATTGGAGTAATCCTTTTTTTTATAACTATGGCAACAGCTTTCATAGGATATGTTCTCCCATGAGGACAAATATCCTTCTGAGGAGCCACAGTAATTACTAACTTACTCTCAGCAATCCCATACATAGGTAACACTCTTGTATTGTGAATCTGAGGAGGATTCTCCGTAGACCAGGCCACTTTATCCCGATTCTTTGTATTTCACTTTATCTTACCCTTCCTCATTATGGGAACTACAATTATACACCTCCTCTTTCTACATGAAACCGGCTCAAACAACCCAACAGGACTTAACTCAAACCCAG-----------------------------------------------------------------------------------------------------------------------------------------------------------------------------------------------------------------------------------------------------------------------------------------------------------------------------------------------------------------------------------------------------------------------------------------------------------------------------------------------------------\n",
      "-----------ATACGAAAAACACACCCCCTACTAAATATCATTAATAACTCATTCATTGATCTACCAACCCCATCAAGCCTATCCTACTTATGAAATTTCGGGTCTTTATTAGGAGTTTGCCTAATTACACAAGTCCTAACCGGCTTATTTTTAGCAATACACTATACAGCAGATATCCACTCTGCATTTTCATCAGTAGCACATATTTGCCGTGACGTAAACCACGGATGACTAATCCGAAATATTCATGCCAACGGAGCCTCTTTATTTTTCATTTGTATTTATATACACATTGGACGAGGAATCTACTATGGATCATTTATACTCAAAGAGACTTGAAACATTGGAGTAATCCTTTTTTTTATAACTATGGCAACAGCTTTCATAGGATATGTTCTCCCATGAGGACAAATATCCTTCTGAGGAGCCACAGTAATTACTAACTTACTCTCAGCAATCCCATACATAGGTAACACTCTTGTATTGTGAATCTGAGGAGGATTCTCCGTAGACCAGGCCACTTTATCCCGATTCTTTGTATTTCACTTTATCTTACCCTTCCTCATTATGGGAACTACAATTATACACCTCCTCTTTCTACATGAAACCGGCTCAAACAACCCAACAGGACTTAACTCAAACCCAG-----------------------------------------------------------------------------------------------------------------------------------------------------------------------------------------------------------------------------------------------------------------------------------------------------------------------------------------------------------------------------------------------------------------------------------------------------------------------------------------------------------\n",
      "-----------ATACGAAAAACACACCCCCTACTAAATATCATTAATAACTCATTCATTGATCTACCAACCCCATCAAGCCTATCCTACTTATGAAATTTCGGGTCTTTATTAGGAGTTTGCCTAATTACACAAGTCCTAACCGGCTTATTTTTAGCAATACACTATACAGCAGATATCCACTCTGCATTTTCATCAGTAGCACATATTTGCCGTGACGTAAACCACGGATGACTAATCCGAAATATTCATGCCAACGGAGCCTCTTTATTTTTCATTTGTATTTATATACACATTGGACGAGGAATCTACTATGGATCATTTATACTCAAAGAGACTTGAAACATTGGAGTAATCCTTTTTTTTATAACTATGGCAACAGCTTTCATAGGATATGTTCTCCCATGAGGACAAATATCCTTCTGAGGAGCCACAGTAATTACTAACTTACTCTCAGCAATCCCATACATAGGTAACACTCTTGTATTGTGAATCTGAGGAGGATTCTCCGTAGACCAGGCCACTTTATCCCGATTCTTTGTATTTCACTTTATCTTACCCTTCCTCATTATGGGAACTACAATTATACACCTCCTCTTTCTACATGAAACCGGCTCAAACAACCCAACAGGACTTAACTCAAACCCAG-----------------------------------------------------------------------------------------------------------------------------------------------------------------------------------------------------------------------------------------------------------------------------------------------------------------------------------------------------------------------------------------------------------------------------------------------------------------------------------------------------------\n",
      "-----------ATACGAAAAACACACCCCCTACTAAATATCATTAATAACTCATTCATTGATCTACCAACCCCATCAAGCCTATCCTACTTATGAAATTTCGGGTCTTTATTAGGAGTTTGCCTAATTACACAAGTCCTAACCGGCTTATTTTTAGCAATACACTATACAGCAGATATCCACTCTGCATTTTCATCAGTAGCACATATTTGCCGTGACGTAAACCACGGATGACTAATCCGAAATATTCATGCCAACGGAGCCTCTTTATTTTTCATTTGTATTTATATACACATTGGACGAGGAATCTACTATGGATCATTTATACTCAAAGAGACTTGAAACATTGGAGTAATCCTTTTTTTTATAACTATGGCAACAGCTTTCATAGGATATGTTCTCCCATGAGGACAAATATCCTTCTGAGGAGCCACAGTAATTACTAACTTACTCTCAGCAATCCCATACATAGGTAACACTCTTGTATTGTGAATCTGAGGAGGATTCTCCGTAGACCAGGCCACTTTATCCCGATTCTTTGTATTTCACTTTATCTTACCCTTCCTCATTATGGGAACTACAATTATACACCTCCTCTTTCTACATGAAACCGGCTCAAACAACCCAACAGGACTTAACTCAAACCCAG-----------------------------------------------------------------------------------------------------------------------------------------------------------------------------------------------------------------------------------------------------------------------------------------------------------------------------------------------------------------------------------------------------------------------------------------------------------------------------------------------------------\n"
     ]
    }
   ],
   "source": [
    "   \n",
    "for taxon in names_list:\n",
    "    if taxon in amphib.taxon_namespace.labels():\n",
    "           seq = amphib[taxon].symbols_as_string()\n",
    "           cytb = seq[4097:5236]\n",
    "           print(cytb)\n",
    "    else:\n",
    "        print(\"BLAST hits not in the data: {}\".format(taxon))"
   ]
  },
  {
   "cell_type": "markdown",
   "metadata": {},
   "source": [
    "Somehow this taxon is on the tree, but not in the data! You know what we're going to do now. We're going to go get the data. To do this, we need something called the GI ID. This is a unique _genetic_ _id_endtifier. It links each taxon in the NCBI databases to a unique, global number. That way, when someone uploads new data, it becomes linked to other records for the same species.\n",
    "\n",
    "How will we modify the below loop to get the GI ID for Plethodon oconaluftee?"
   ]
  },
  {
   "cell_type": "code",
   "execution_count": 23,
   "metadata": {
    "code_folding": []
   },
   "outputs": [
    {
     "data": {
      "text/plain": [
       "['125380720', '125380722']"
      ]
     },
     "execution_count": 23,
     "metadata": {},
     "output_type": "execute_result"
    }
   ],
   "source": [
    "gi_ids = []\n",
    "for individual_alignment in alignment_set:\n",
    "#First, we get the names. This Does not have to be modified    \n",
    "    split_aln = str(individual_alignment).split('|')\n",
    "    name_string = split_aln[4]\n",
    "    specific_ep = name_string.split(' ')[1:3]\n",
    "#Then, we get the ID.    \n",
    "    if 'oconaluftee' in specific_ep:\n",
    "        gi_ids.append(split_aln[1])\n",
    "gi_ids"
   ]
  },
  {
   "cell_type": "code",
   "execution_count": 22,
   "metadata": {
    "code_folding": [
     0
    ]
   },
   "outputs": [
    {
     "name": "stdout",
     "output_type": "stream",
     "text": [
      "['gi', '125380686', 'gb', 'DQ994948.1', ' Plethodon kentucki voucher RH 66693 cytochrome b (cytb) gene, partial cds; mitochondrial\\n           Length = 625\\n']\n",
      "['gi', '51979883', 'gb', 'AY728222.1', ' Plethodon petraeus mitochondrion, complete genome\\n           Length = 19235\\n']\n",
      "['gi', '125380683', 'gb', 'DQ994946.1', ' Plethodon jordani voucher JB 201-73-01 cytochrome b (cytb) gene, partial cds; mitochondrial\\n           Length = 644\\n']\n",
      "['gi', '125380685', 'gb', 'DQ994947.1', ' Plethodon jordani voucher JB 201-67w-01 cytochrome b-like (cytb) gene, partial sequence; mitochondrial\\n           Length = 649\\n']\n",
      "['gi', '125380736', 'gb', 'DQ994973.1', ' Plethodon petraeus voucher RWV S21-B cytochrome b (cytb) gene, partial cds; mitochondrial\\n           Length = 630\\n']\n",
      "['gi', '125380641', 'gb', 'DQ994924.1', ' Plethodon chlorobryonis voucher JJW 1807 cytochrome b (cytb) gene, partial cds; mitochondrial\\n           Length = 649\\n']\n",
      "['gi', '125380761', 'gb', 'DQ994986.1', ' Plethodon shermani voucher JJW 1741 cytochrome b (cytb) gene, partial cds; mitochondrial\\n           Length = 649\\n']\n",
      "['gi', '125380664', 'gb', 'DQ994936.1', ' Plethodon glutinosus voucher APPSU 10209 cytochrome b (cytb) gene, partial cds; mitochondrial\\n           Length = 626\\n']\n",
      "['gi', '125380771', 'gb', 'DQ994991.1', ' Plethodon variolatus voucher UTA A-56973 cytochrome b (cytb) gene, partial cds; mitochondrial\\n           Length = 649\\n']\n",
      "['gi', '125380648', 'gb', 'DQ994928.1', ' Plethodon cylindraceus voucher UTA A-56967 cytochrome b (cytb) gene, partial cds; mitochondrial\\n           Length = 649\\n']\n",
      "['gi', '327239997', 'gb', 'JF504060.1', ' Plethodon caddoensis voucher DBS_1935 cytochrome b (cytb) gene, partial cds; mitochondrial\\n           Length = 1052\\n']\n",
      "['gi', '327239995', 'gb', 'JF504059.1', ' Plethodon caddoensis voucher DBS_1934 cytochrome b (cytb) gene, partial cds; mitochondrial >gi', '327239999', 'gb', 'JF504061.1', ' Plethodon caddoensis voucher DBS_1936 cytochrome b (cytb) gene, partial cds; mitochondrial >gi', '327240001', 'gb', 'JF504062.1', ' Plethodon caddoensis voucher DBS_1937 cytochrome b (cytb) gene, partial cds; mitochondrial\\n           Length = 1052\\n']\n",
      "['gi', '327239933', 'gb', 'JF504028.1', ' Plethodon caddoensis voucher DBS_1125 cytochrome b (cytb) gene, partial cds; mitochondrial\\n           Length = 1052\\n']\n",
      "['gi', '327239929', 'gb', 'JF504026.1', ' Plethodon caddoensis voucher DBS_1123 cytochrome b (cytb) gene, partial cds; mitochondrial >gi', '327239931', 'gb', 'JF504027.1', ' Plethodon caddoensis voucher DBS_1124 cytochrome b (cytb) gene, partial cds; mitochondrial\\n           Length = 1052\\n']\n",
      "['gi', '327239901', 'gb', 'JF504012.1', ' Plethodon caddoensis voucher DBS_1030 cytochrome b (cytb) gene, partial cds; mitochondrial\\n           Length = 1052\\n']\n",
      "['gi', '125380773', 'gb', 'DQ994992.1', ' Plethodon variolatus voucher UTA A-56960 cytochrome b-like (cytb) gene, partial sequence; mitochondrial\\n           Length = 649\\n']\n",
      "['gi', '125380759', 'gb', 'DQ994985.1', ' Plethodon shermani voucher RH 73892 cytochrome b (cytb) gene, partial cds; mitochondrial\\n           Length = 649\\n']\n",
      "['gi', '125380748', 'gb', 'DQ994979.1', ' Plethodon sequoyah voucher APPSU 24547 cytochrome b (cytb) gene, partial cds; mitochondrial\\n           Length = 649\\n']\n",
      "['gi', '125380720', 'gb', 'DQ994965.1', ' Plethodon oconaluftee voucher JJW 1626 cytochrome b (cytb) gene, partial cds; mitochondrial\\n           Length = 649\\n']\n",
      "['gi', '125380769', 'gb', 'DQ994990.1', ' Plethodon teyahalee voucher RH 55224 cytochrome b (cytb) gene, partial cds; mitochondrial\\n           Length = 649\\n']\n",
      "['gi', '327240517', 'gb', 'JF504320.1', ' Plethodon albagula voucher DBS_2181 cytochrome b (cytb) gene, partial cds; mitochondrial\\n           Length = 1052\\n']\n",
      "['gi', '327240219', 'gb', 'JF504171.1', ' Plethodon caddoensis voucher DBS_2074 cytochrome b (cytb) gene, partial cds; mitochondrial\\n           Length = 1052\\n']\n",
      "['gi', '327240209', 'gb', 'JF504166.1', ' Plethodon caddoensis voucher DBS_2069 cytochrome b (cytb) gene, partial cds; mitochondrial >gi', '327240223', 'gb', 'JF504173.1', ' Plethodon caddoensis voucher DBS_2076 cytochrome b (cytb) gene, partial cds; mitochondrial >gi', '327240231', 'gb', 'JF504177.1', ' Plethodon caddoensis voucher DBS_2080 cytochrome b (cytb) gene, partial cds; mitochondrial >gi', '327240233', 'gb', 'JF504178.1', ' Plethodon caddoensis voucher DBS_2081 cytochrome b (cytb) gene, partial cds; mitochondrial >gi', '327240235', 'gb', 'JF504179.1', ' Plethodon caddoensis voucher DBS_2082 cytochrome b (cytb) gene, partial cds; mitochondrial\\n           Length = 1052\\n']\n",
      "['gi', '327240035', 'gb', 'JF504079.1', ' Plethodon caddoensis voucher DBS_1957 cytochrome b (cytb) gene, partial cds; mitochondrial\\n           Length = 1052\\n']\n",
      "['gi', '327240007', 'gb', 'JF504065.1', ' Plethodon caddoensis voucher DBS_1940 cytochrome b (cytb) gene, partial cds; mitochondrial\\n           Length = 1052\\n']\n",
      "['gi', '327240005', 'gb', 'JF504064.1', ' Plethodon caddoensis voucher DBS_1939 cytochrome b (cytb) gene, partial cds; mitochondrial >gi', '327240009', 'gb', 'JF504066.1', ' Plethodon caddoensis voucher DBS_1941 cytochrome b (cytb) gene, partial cds; mitochondrial\\n           Length = 1052\\n']\n",
      "['gi', '327239903', 'gb', 'JF504013.1', ' Plethodon caddoensis voucher DBS_1031 cytochrome b (cytb) gene, partial cds; mitochondrial >gi', '327239905', 'gb', 'JF504014.1', ' Plethodon caddoensis voucher DBS_1032 cytochrome b (cytb) gene, partial cds; mitochondrial >gi', '327239909', 'gb', 'JF504016.1', ' Plethodon caddoensis voucher DBS_1034 cytochrome b (cytb) gene, partial cds; mitochondrial >gi', '327240031', 'gb', 'JF504077.1', ' Plethodon caddoensis voucher DBS_1955 cytochrome b (cytb) gene, partial cds; mitochondrial >gi', '327240033', 'gb', 'JF504078.1', ' Plethodon caddoensis voucher DBS_1956 cytochrome b (cytb) gene, partial cds; mitochondrial >gi', '327240037', 'gb', 'JF504080.1', ' Plethodon caddoensis voucher DBS_1958 cytochrome b (cytb) gene, partial cds; mitochondrial >gi', '327240039', 'gb', 'JF504081.1', ' Plethodon caddoensis voucher DBS_1959 cytochrome b (cytb) gene, partial cds; mitochondrial\\n           Length = 1052\\n']\n",
      "['gi', '327239897', 'gb', 'JF504010.1', ' Plethodon caddoensis voucher DBS_1028 cytochrome b (cytb) gene, partial cds; mitochondrial >gi', '327239899', 'gb', 'JF504011.1', ' Plethodon caddoensis voucher DBS_1029 cytochrome b (cytb) gene, partial cds; mitochondrial >gi', '327239907', 'gb', 'JF504015.1', ' Plethodon caddoensis voucher DBS_1033 cytochrome b (cytb) gene, partial cds; mitochondrial >gi', '327240435', 'gb', 'JF504279.1', ' Plethodon caddoensis voucher DBS_496 cytochrome b (cytb) gene, partial cds; mitochondrial >gi', '327240437', 'gb', 'JF504280.1', ' Plethodon caddoensis voucher DBS_497 cytochrome b (cytb) gene, partial cds; mitochondrial >gi', '327240439', 'gb', 'JF504281.1', ' Plethodon caddoensis voucher DBS_498 cytochrome b (cytb) gene, partial cds; mitochondrial >gi', '327240443', 'gb', 'JF504283.1', ' Plethodon caddoensis voucher DBS_515 cytochrome b (cytb) gene, partial cds; mitochondrial\\n           Length = 1052\\n']\n",
      "['gi', '125380703', 'gb', 'DQ994956.1', ' Plethodon metcalfi voucher RH 76539 cytochrome b (cytb) gene, partial cds; mitochondrial\\n           Length = 649\\n']\n",
      "['gi', '125380668', 'gb', 'DQ994938.1', ' Plethodon glutinosus voucher UTA A-56969 cytochrome b (cytb) gene, partial cds; mitochondrial\\n           Length = 649\\n']\n",
      "['gi', '125380631', 'gb', 'DQ994918.1', ' Plethodon caddoensis voucher DBS 498 cytochrome b (cytb) gene, partial cds; mitochondrial\\n           Length = 637\\n']\n",
      "['gi', '327240441', 'gb', 'JF504282.1', ' Plethodon caddoensis voucher DBS_499 cytochrome b (cytb) gene, partial cds; mitochondrial\\n           Length = 1052\\n']\n",
      "['gi', '327240321', 'gb', 'JF504222.1', ' Plethodon caddoensis voucher DBS_2143 cytochrome b (cytb) gene, partial cds; mitochondrial >gi', '327240323', 'gb', 'JF504223.1', ' Plethodon caddoensis voucher DBS_2144 cytochrome b (cytb) gene, partial cds; mitochondrial\\n           Length = 1052\\n']\n",
      "['gi', '327240229', 'gb', 'JF504176.1', ' Plethodon caddoensis voucher DBS_2079 cytochrome b (cytb) gene, partial cds; mitochondrial\\n           Length = 1052\\n']\n",
      "['gi', '327240221', 'gb', 'JF504172.1', ' Plethodon caddoensis voucher DBS_2075 cytochrome b (cytb) gene, partial cds; mitochondrial\\n           Length = 1052\\n']\n",
      "['gi', '327240213', 'gb', 'JF504168.1', ' Plethodon caddoensis voucher DBS_2071 cytochrome b (cytb) gene, partial cds; mitochondrial >gi', '327240215', 'gb', 'JF504169.1', ' Plethodon caddoensis voucher DBS_2072 cytochrome b (cytb) gene, partial cds; mitochondrial >gi', '327240217', 'gb', 'JF504170.1', ' Plethodon caddoensis voucher DBS_2073 cytochrome b (cytb) gene, partial cds; mitochondrial >gi', '327240227', 'gb', 'JF504175.1', ' Plethodon caddoensis voucher DBS_2078 cytochrome b (cytb) gene, partial cds; mitochondrial\\n           Length = 1052\\n']\n",
      "['gi', '327240211', 'gb', 'JF504167.1', ' Plethodon caddoensis voucher DBS_2070 cytochrome b (cytb) gene, partial cds; mitochondrial\\n           Length = 932\\n']\n",
      "['gi', '327240011', 'gb', 'JF504067.1', ' Plethodon caddoensis voucher DBS_1942 cytochrome b (cytb) gene, partial cds; mitochondrial\\n           Length = 1052\\n']\n",
      "['gi', '327240003', 'gb', 'JF504063.1', ' Plethodon caddoensis voucher DBS_1938 cytochrome b (cytb) gene, partial cds; mitochondrial\\n           Length = 1052\\n']\n",
      "['gi', '327239891', 'gb', 'JF504007.1', ' Plethodon caddoensis voucher DBS_1021 cytochrome b (cytb) gene, partial cds; mitochondrial\\n           Length = 1052\\n']\n",
      "['gi', '327239889', 'gb', 'JF504006.1', ' Plethodon caddoensis voucher DBS_1020 cytochrome b (cytb) gene, partial cds; mitochondrial\\n           Length = 1048\\n']\n",
      "['gi', '125380722', 'gb', 'DQ994966.1', ' Plethodon oconaluftee voucher JJW 1683 cytochrome b (cytb) gene, partial cds; mitochondrial\\n           Length = 649\\n']\n",
      "['gi', '125380626', 'gb', 'DQ994915.1', ' Plethodon aureolus voucher JJW 1762 cytochrome b-like (cytb) gene, partial sequence; mitochondrial\\n           Length = 649\\n']\n",
      "['gi', '226426798', 'gb', 'FJ611457.1', ' Plethodon fourchensis voucher DBS 1761 cytochrome b (cytb) gene, partial cds; mitochondrial\\n           Length = 1052\\n']\n",
      "['gi', '226426782', 'gb', 'FJ611449.1', ' Plethodon fourchensis voucher DBS 1751 cytochrome b (cytb) gene, partial cds; mitochondrial\\n           Length = 1052\\n']\n",
      "['gi', '125380635', 'gb', 'DQ994920.1', ' Plethodon chattahoochee voucher UTA A-56965 cytochrome b (cytb) gene, partial cds; mitochondrial\\n           Length = 649\\n']\n",
      "['gi', '327240417', 'gb', 'JF504270.1', ' Plethodon caddoensis voucher DBS_2223 cytochrome b (cytb) gene, partial cds; mitochondrial\\n           Length = 1052\\n']\n",
      "['gi', '327240271', 'gb', 'JF504197.1', ' Plethodon caddoensis voucher DBS_2102 cytochrome b (cytb) gene, partial cds; mitochondrial >gi', '327240273', 'gb', 'JF504198.1', ' Plethodon caddoensis voucher DBS_2103 cytochrome b (cytb) gene, partial cds; mitochondrial\\n           Length = 1052\\n']\n",
      "['gi', '327240269', 'gb', 'JF504196.1', ' Plethodon caddoensis voucher DBS_2101 cytochrome b (cytb) gene, partial cds; mitochondrial\\n           Length = 1031\\n']\n",
      "['gi', '327240267', 'gb', 'JF504195.1', ' Plethodon caddoensis voucher DBS_2100 cytochrome b (cytb) gene, partial cds; mitochondrial\\n           Length = 1052\\n']\n"
     ]
    }
   ],
   "source": [
    "# I wanted to check which element of split_aln to get, so I printed split_aln to the screen\n",
    "for individual_alignment in alignment_set:\n",
    "#First, we get the names. This Does not have to be modified    \n",
    "    split_aln = str(individual_alignment).split('|')\n",
    "    print(split_aln)"
   ]
  },
  {
   "cell_type": "code",
   "execution_count": null,
   "metadata": {
    "code_folding": []
   },
   "outputs": [],
   "source": [
    "#Answer\n",
    "\n",
    "gi_ids = []\n",
    "for individual_alignment in alignment_set:\n",
    "    split_aln = str(individual_alignment).split('|')\n",
    "    name_string = split_aln[4]\n",
    "    specific_ep = name_string.split(' ')[1:3]\n",
    "    if 'oconaluftee' in specific_ep:\n",
    "        gi_ids.append(split_aln[1])\n",
    "gi_ids"
   ]
  },
  {
   "cell_type": "markdown",
   "metadata": {},
   "source": [
    "Let's get some sequences!"
   ]
  },
  {
   "cell_type": "code",
   "execution_count": 24,
   "metadata": {},
   "outputs": [],
   "source": [
    "from dendropy.interop import genbank\n",
    "\n",
    "gb_dna = genbank.GenBankDna(ids=gi_ids)\n",
    "char_matrix = gb_dna.generate_char_matrix()"
   ]
  },
  {
   "cell_type": "code",
   "execution_count": 25,
   "metadata": {},
   "outputs": [
    {
     "name": "stdout",
     "output_type": "stream",
     "text": [
      "#NEXUS\n",
      "\n",
      "BEGIN TAXA;\n",
      "    DIMENSIONS NTAX=2;\n",
      "    TAXLABELS\n",
      "        125380720\n",
      "        125380722\n",
      "  ;\n",
      "END;\n",
      "\n",
      "BEGIN CHARACTERS;\n",
      "    DIMENSIONS NCHAR=649;\n",
      "    FORMAT DATATYPE=DNA GAP=- MISSING=? MATCHCHAR=.;\n",
      "    MATRIX\n",
      "        125380720    ATGACTCACATCACACGAAAAACACACCCCCTACTGAGTGTTATTAATAATTCACTTATTGATCTACCAACTCCCTCAAACCTATCCTACTTATGAAATTTTGGATCCTTACTAGGAGTCTGCCTAATCACACAAATTTTAACCGGCCTATTTTTAGCAATACATTATACAGCAGACATTTACTTCGCATTTTCATCAGTAGCACATATTTGCCGCGACGTAAACTATGGATGATTAATTCGAAATATTCATGCCAACGGAGCCTCTTTATTTTTTATTTGCATTTACATACACATTGGACGAGGAATTTACTATGGATCATTTATATTAAAAGAGACCTGAAACATTGGAGTAATCCTCTTTTTTATAACCATAGCAACAGCCTTTATAGGATATGTTCTCCCATGAGGACAAATATCCTTCTGAGGGGCCACAGTGATTACTAATCTACTCTCAGCAATCCCTTATATAGGCAACACCCTCGTACTGTGAATTTGGGGTGGGTTCTCGGTAGATCAAGCCACTCTATCCCGATTCTTTGTATTTCACTTCATTCTACCCTTTCTCATCATAGGAACTACTATTATTCACCTCCTTTTTCTACACGAAACCGGCTCAAACAACCCAACAGGAATTAATTCAAGCCCAG\n",
      "        125380722    ATGACTCACATCACACGGAAAACACACCCCGTACTGAGTGTTATTAATAATTCACTTATTGATCTACCAACTCCCTCAAACCTATCCTACTTATGAAATTTTGGATCGTTACTAGGAGTCTGCCTAATCACACAAATTTTAACCGGCCTATTTTTAGCAATACATTATACAGCAGACATTTACTTCGCATTTTCATCAGTAGCACATATTTGCCGCGACGTAAACTATGGATGATTAATTCGAAATATTCATGCCAACGGAGCCTCTCTATTTTTTATTTGCATTTACATACACATTGGACGAGGAATTTACTATGGATCATTTATATTAAAAGAGACCTGAAACATTGGAGTAATCCTCTTTTTTATAACCATAGCAACAGCCTTTATAGGATATGTTCTCCCATGAGGACAAATATCCTTCTGAGGGGCCACAGTAATTACTAATCTACTCTCAGCAATCCCTTATATAGGCAACACCCTCGTACTGTGAATTTGGGGTGGGTTCTCGGTAGATCAAGCCACTCTATCCCGATTCTTTGTATTTCACTTCATTCTACCCTTTCTCATCATAGGAACTACTATTATTCACCTCCTTTTTCTACACGAAACCGGCTCAAACAACCCAACAGGAATTAATTCAAGCCCAG\n",
      "    ;\n",
      "END;\n",
      "\n",
      "\n",
      "\n"
     ]
    }
   ],
   "source": [
    "print(char_matrix.as_string(\"nexus\"))"
   ]
  },
  {
   "cell_type": "markdown",
   "metadata": {},
   "source": [
    "649 characters. Where have we seen that before? That's the size of CytB!\n",
    "\n",
    "Wonderful, we have one gene. One gene ... two problems:\n",
    "- Which should we use?\n",
    "- How do we get it in the rest of the matrix? \n",
    "\n",
    "We have one sequence (out of 12 genes) - and we obviously aren't just going to sit here, writing in missing data symbols. \n",
    "\n",
    "Are these sequences even different?"
   ]
  },
  {
   "cell_type": "code",
   "execution_count": null,
   "metadata": {},
   "outputs": [],
   "source": [
    "char_matrix['125380722'] == char_matrix['125380720']"
   ]
  },
  {
   "cell_type": "markdown",
   "metadata": {},
   "source": [
    "Yes! \n",
    "\n",
    "Let's add both to our data matrix. Next time. Today, we'll finish up by writing out our data for later:"
   ]
  },
  {
   "cell_type": "code",
   "execution_count": 26,
   "metadata": {},
   "outputs": [],
   "source": [
    "char_matrix.write_to_path(\"test_matrix.nex\", schema=\"nexus\")"
   ]
  },
  {
   "cell_type": "code",
   "execution_count": null,
   "metadata": {},
   "outputs": [],
   "source": [
    "github.com"
   ]
  }
 ],
 "metadata": {
  "kernelspec": {
   "display_name": "Python 3",
   "language": "python",
   "name": "python3"
  },
  "language_info": {
   "codemirror_mode": {
    "name": "ipython",
    "version": 3
   },
   "file_extension": ".py",
   "mimetype": "text/x-python",
   "name": "python",
   "nbconvert_exporter": "python",
   "pygments_lexer": "ipython3",
   "version": "3.6.6"
  },
  "latex_envs": {
   "LaTeX_envs_menu_present": true,
   "autoclose": false,
   "autocomplete": true,
   "bibliofile": "biblio.bib",
   "cite_by": "apalike",
   "current_citInitial": 1,
   "eqLabelWithNumbers": true,
   "eqNumInitial": 1,
   "hotkeys": {
    "equation": "Ctrl-E",
    "itemize": "Ctrl-I"
   },
   "labels_anchors": false,
   "latex_user_defs": false,
   "report_style_numbering": false,
   "user_envs_cfg": false
  },
  "toc": {
   "base_numbering": 1,
   "nav_menu": {},
   "number_sections": true,
   "sideBar": true,
   "skip_h1_title": false,
   "title_cell": "Table of Contents",
   "title_sidebar": "Contents",
   "toc_cell": false,
   "toc_position": {},
   "toc_section_display": true,
   "toc_window_display": false
  }
 },
 "nbformat": 4,
 "nbformat_minor": 2
}
