{
 "cells": [
  {
   "cell_type": "markdown",
   "metadata": {},
   "source": [
    "---\n",
    "title: Data Ingest and Visualization - Matplotlib and Pandas\n",
    "teaching: 20\n",
    "exercises: 25\n",
    "questions:\n",
    "    - \"What other tools can I use to create plots apart from ggplot?\"\n",
    "    - \"Why should I use Python to create plots?\"\n",
    "objectives:\n",
    "    - \"Import the pyplot toolbox to create figures in Python.\"\n",
    "    - \"Use matplotlib to make adjustments to Pandas or plotnine objects.\"\n",
    "keypoints:\n",
    "    - \"Matplotlib is the engine behind plotnine and Pandas plots.\"\n",
    "    - \"Object-based nature of matplotlib plots enables their detailed customization after they have been created.\"\n",
    "    - \"Export plots to a file using the `savefig` method.\"\n",
    "---\n",
    "\n",
    "\n",
    "## Putting it all together\n",
    "\n",
    "Up to this point, we have walked through tasks that are often\n",
    "involved in handling and processing data using the workshop ready cleaned\n",
    "files that we have provided. In this wrap-up exercise, we will perform\n",
    "many of the same tasks with real data sets. This lesson also covers data\n",
    "visualization.\n",
    "\n",
    "As opposed to the previous ones, this lesson does not give step-by-step\n",
    "directions to each of the tasks. Use the lesson materials you've already gone\n",
    "through as well as the Python documentation to help you along.\n",
    "\n",
    "## Obtain data\n",
    "\n",
    "There are many repositories online from which you can obtain data. We are\n",
    "providing you with one data file to use with these exercises, but feel free to\n",
    "use any data that is relevant to your research. The file\n",
    "[`bouldercreek_09_2013.txt`]({{ page.root }}/data/bouldercreek_09_2013.txt) \n",
    "contains stream discharge data, summarized at 15\n",
    "15 minute intervals (in cubic feet per second) for a streamgage on Boulder\n",
    "Creek at North 75th Street (USGS gage06730200) for 1-30 September 2013. If you'd\n",
    "like to use this dataset, please find it in the data folder.\n",
    "\n",
    "## Clean up your data and open it using Python and Pandas\n",
    "\n",
    "To begin, import your data file into Python using Pandas. Did it fail? Your data\n",
    "file probably has a header that Pandas does not recognize as part of the data\n",
    "table. Remove this header, but do not simply delete it in a text editor! Use\n",
    "either a shell script or Python to do this - you wouldn't want to do it by hand\n",
    "if you had many files to process.\n",
    "\n",
    "If you are still having trouble importing the data as a table using Pandas,\n",
    "check the documentation. You can open the docstring in an ipython notebook using\n",
    "a question mark. For example:"
   ]
  },
  {
   "cell_type": "code",
   "execution_count": null,
   "metadata": {},
   "outputs": [],
   "source": [
    "import pandas as pd\n",
    "pd.read_csv?"
   ]
  },
  {
   "cell_type": "markdown",
   "metadata": {},
   "source": [
    "{: .language-python}\n",
    "\n",
    "Look through the function arguments to see if there is a default value that is\n",
    "different from what your file requires (Hint: the problem is most likely the\n",
    "delimiter or separator. Common delimiters are `','` for comma, `' '` for space,\n",
    "and `'\\t'` for tab).\n",
    "\n",
    "Create a DataFrame that includes only the values of the data that are useful to\n",
    "you. In the streamgage file, those values might be the date, time, and discharge\n",
    "measurements. Convert any measurements in imperial units into SI units. You can\n",
    "also change the name of the columns in the DataFrame like this:"
   ]
  },
  {
   "cell_type": "code",
   "execution_count": null,
   "metadata": {},
   "outputs": [],
   "source": [
    "df = pd.DataFrame({'1stcolumn':[100,200], '2ndcolumn':[10,20]}) # this just creates a DataFrame for the example!\n",
    "print('With the old column names:\\n') # the \\n makes a new line, so it's easier to see\n",
    "print(df)\n",
    "\n",
    "df.columns = ['FirstColumn','SecondColumn'] # rename the columns!\n",
    "print('\\n\\nWith the new column names:\\n')\n",
    "print(df)"
   ]
  },
  {
   "cell_type": "markdown",
   "metadata": {},
   "source": [
    "{: .language-python}"
   ]
  },
  {
   "cell_type": "code",
   "execution_count": null,
   "metadata": {},
   "outputs": [],
   "source": [
    "With the old column names:\n",
    "\n",
    "   1stcolumn  2ndcolumn\n",
    "0        100         10\n",
    "1        200         20\n",
    "\n",
    "\n",
    "With the new column names:\n",
    "\n",
    "   FirstColumn  SecondColumn\n",
    "0          100            10\n",
    "1          200            20"
   ]
  },
  {
   "cell_type": "markdown",
   "metadata": {},
   "source": [
    "{: .output}\n",
    "\n",
    "## Matplotlib package\n",
    "\n",
    "[Matplotlib](https://matplotlib.org/) is a Python package that is widely used throughout the scientific Python community to create high-quality and publication-ready graphics. It supports a wide range of raster and vector graphics formats including PNG, PostScript, EPS, PDF and SVG.\n",
    "\n",
    "Moreover, matplotlib is the actual engine behind the plotting capabilities of both Pandas and plotnine packages. For example, when we call the `.plot` method on Pandas data objects, we actually use the matplotlib package.\n",
    "\n",
    "First, import the pyplot toolbox:"
   ]
  },
  {
   "cell_type": "code",
   "execution_count": null,
   "metadata": {},
   "outputs": [],
   "source": [
    "import matplotlib.pyplot as plt"
   ]
  },
  {
   "cell_type": "markdown",
   "metadata": {},
   "source": [
    "{: .language-python}\n",
    "\n",
    "Now, let's read data and plot it!"
   ]
  },
  {
   "cell_type": "code",
   "execution_count": null,
   "metadata": {},
   "outputs": [],
   "source": [
    "surveys = pd.read_csv(\"data/surveys.csv\")\n",
    "my_plot = surveys.plot(\"hindfoot_length\", \"weight\", kind=\"scatter\")\n",
    "plt.show() # not necessary in Jupyter Notebooks"
   ]
  },
  {
   "cell_type": "markdown",
   "metadata": {},
   "source": [
    "{: .language-python}\n",
    "\n",
    "![Scatter plot of survey data set](../fig/08_scatter_surveys.png)\n",
    "\n",
    "> ## Tip\n",
    "> By default, matplotlib creates a figure in a separate window. When using\n",
    "> Jupyter notebooks, we can make figures appear in-line within the notebook by\n",
    "> executing:\n",
    ">\n",
    "> ~~~\n",
    "> %matplotlib inline\n",
    "> ~~~\n",
    "> {: .language-python}\n",
    "\n",
    "The returned object is a matplotlib object (check it yourself with `type(my_plot)`), \n",
    "to which we may make further adjustments and refinements using other matplotlib methods.\n",
    "\n",
    "> ## Tip\n",
    "> Matplotlib itself can be overwhelming, so a useful strategy is to \n",
    "> do as much as you easily can in a convenience layer, _i.e._ start\n",
    "> creating the plot in Pandas or plotnine, and then use matplotlib\n",
    "> for the rest.\n",
    "{: .callout}\n",
    "\n",
    "We will cover a few basic commands for creating and formatting plots with matplotlib in this lesson. \n",
    "A great resource for help creating and styling your figures is the matplotlib gallery\n",
    "(<http://matplotlib.org/gallery.html>), which includes plots in many different\n",
    "styles and the source codes that create them. \n",
    "\n",
    "\n",
    "### `plt` pyplot versus object-based matplotlib\n",
    "\n",
    "Matplotlib integrates nicely with the numpy package and can use numpy arrays \n",
    "as input of the available plot functions. Consider the following example data,\n",
    "created with numpy:"
   ]
  },
  {
   "cell_type": "code",
   "execution_count": null,
   "metadata": {},
   "outputs": [],
   "source": [
    "import numpy\n",
    "x = numpy.linspace(0, 5, 10)\n",
    "y = x ** 2"
   ]
  },
  {
   "cell_type": "markdown",
   "metadata": {},
   "source": [
    "{: .language-python}\n",
    "\n",
    "To make a scatter plot of `x` and `y`, we can use the `plot` command directly:"
   ]
  },
  {
   "cell_type": "code",
   "execution_count": null,
   "metadata": {},
   "outputs": [],
   "source": [
    "plt.plot(x, y, '-')"
   ]
  },
  {
   "cell_type": "markdown",
   "metadata": {},
   "source": [
    "{: .language-python}\n",
    "\n",
    "![Line plot of y versus x](../fig/08_line_plot.png)\n",
    "\n",
    "> ## Tip: Cross-Platform Visualization of Figures\n",
    "> Jupyter Notebooks make many aspects of data analysis and visualization much simpler. This includes\n",
    "> doing some of the labor of visualizing plots for you. But, not every one of your collaborators\n",
    "> will be using a Jupyter Notebook. The .show() command allows you to visualize plots\n",
    "> when working at the command line, with a script, or at the iPython interpreter. In the \n",
    "> previous example, adding  `plt.show()` after the creation of the plot will enable your \n",
    "> colleagues who aren't using a Jupyter notebook to reproduce your work on their platform.\n",
    "{: .callout}\n",
    "\n",
    "or create a matplotlib `figure` and `axis` object first and add the plot later on:"
   ]
  },
  {
   "cell_type": "code",
   "execution_count": null,
   "metadata": {},
   "outputs": [],
   "source": [
    "fig, ax = plt.subplots()  # initiate an empty figure and axis matplotlib object\n",
    "ax.plot(x, y, '-')"
   ]
  },
  {
   "cell_type": "markdown",
   "metadata": {},
   "source": [
    "{: .language-python}\n",
    "\n",
    "![Simple line plot](../fig/08_line_plot.png)\n",
    "\n",
    "Although the latter approach requires a little bit more code to create the same plot,\n",
    "the advantage is that it gives us **full control** over the plot and we can add new items\n",
    "such as labels, grid lines, title, etc.. For example, we can add additional axes to \n",
    "the figure and customize their labels:"
   ]
  },
  {
   "cell_type": "code",
   "execution_count": null,
   "metadata": {},
   "outputs": [],
   "source": [
    "fig, ax1 = plt.subplots() # prepare a matplotlib figure\n",
    "ax1.plot(x, y, '-')\n",
    "\n",
    "# adapt the labels\n",
    "ax1.set_ylabel('y')\n",
    "ax1.set_xlabel('x')\n",
    "\n",
    "# add additional axes to the figure\n",
    "ax2 = fig.add_axes([0.2, 0.5, 0.4, 0.3])\n",
    "ax2.plot(x, y*2, 'r-')"
   ]
  },
  {
   "cell_type": "markdown",
   "metadata": {},
   "source": [
    "{: .language-python}\n",
    "\n",
    "![Plot with additional axes](../fig/08_line_plot_inset.png)\n",
    "\n",
    "### Link matplotlib, Pandas and plotnine\n",
    "\n",
    "When we create a plot using pandas or plotnine, both libraries use matplotlib \n",
    "to create those plots. The plots created in pandas or plotnine are matplotlib \n",
    "objects, which enables us to use some of the advanced plotting options available \n",
    "in the matplotlib library. Because the objects output by pandas and plotnine\n",
    "can be read by matplotlib, we have many more options than any one library can \n",
    "provide, offering a consistent environment to make publication-quality visualizations."
   ]
  },
  {
   "cell_type": "code",
   "execution_count": null,
   "metadata": {},
   "outputs": [],
   "source": [
    "fig, ax1 = plt.subplots() # prepare a matplotlib figure\n",
    "\n",
    "surveys.plot(\"hindfoot_length\", \"weight\", kind=\"scatter\", ax=ax1)\n",
    "\n",
    "# Provide further adaptations with matplotlib:\n",
    "ax1.set_xlabel(\"Hindfoot length\")\n",
    "ax1.tick_params(labelsize=16, pad=8)\n",
    "fig.suptitle('Scatter plot of weight versus hindfoot length', fontsize=15)"
   ]
  },
  {
   "cell_type": "markdown",
   "metadata": {},
   "source": [
    "{: .language-python}\n",
    "\n",
    "![Extended version of scatter plot surveys](../fig/08_scatter_surveys_extended.png)\n",
    "\n",
    "To retrieve the matplotlib figure object from plotnine for customization, use the `draw()` function in plotnine:"
   ]
  },
  {
   "cell_type": "code",
   "execution_count": null,
   "metadata": {},
   "outputs": [],
   "source": [
    "import plotnine as p9\n",
    "myplot = (p9.ggplot(data=surveys, \n",
    "                    mapping=p9.aes(x='hindfoot_length', y='weight')) +\n",
    "              p9.geom_point())\n",
    "\n",
    "# convert output plotnine to a matplotlib object\n",
    "my_plt_version = myplot.draw()\n",
    "\n",
    "# Provide further adaptations with matplotlib:\n",
    "p9_ax = my_plt_version.axes[0] # each subplot is an item in a list\n",
    "p9_ax.set_xlabel(\"Hindfoot length\")\n",
    "p9_ax.tick_params(labelsize=16, pad=8)\n",
    "p9_ax.set_title('Scatter plot of weight versus hindfoot length', fontsize=15)\n",
    "plt.show() # not necessary in Jupyter Notebooks"
   ]
  },
  {
   "cell_type": "markdown",
   "metadata": {},
   "source": [
    "{: .language-python}\n",
    "\n",
    "![Extended version of plotnine scatter plot](../fig/08_scatter_surveys_plotnine.png)\n",
    "\n",
    "> ## Challenge - Pandas and matplotlib\n",
    "> Load the streamgage data set with Pandas, subset the week of the 2013 Front Range flood\n",
    "> (September 9 through 15) and create a hydrograph (line plot) of the discharge data using\n",
    "> Pandas, linking it to an empty maptlotlib `ax` object. Adapt the title, x-axis and y-axis label \n",
    "> using matplotlib.\n",
    ">\n",
    "> > ## Answers\n",
    "> >\n",
    "> > ~~~\n",
    "> > discharge = pd.read_csv(\"data/bouldercreek_09_2013.txt\", \n",
    "> >                         skiprows=27, delimiter=\"\\t\", \n",
    "> >                         names=[\"agency\", \"site_id\", \"datetime\",\n",
    "> >                                \"timezone\", \"discharge\", \"discharge_cd\"])\n",
    "> > discharge[\"datetime\"] = pd.to_datetime(discharge[\"datetime\"])\n",
    "> > front_range = discharge[(discharge[\"datetime\"] >= \"2013-09-09\") & \n",
    "> >                         (discharge[\"datetime\"] < \"2013-09-15\")]\n",
    "> > \n",
    "> > fig, ax = plt.subplots()\n",
    "> > front_range.plot(x =\"datetime\", y=\"discharge\", ax=ax)\n",
    "> > ax.set_xlabel(\"\") # no label\n",
    "> > ax.set_ylabel(\"Discharge, cubic feet per second\")\n",
    "> > ax.set_title(\" Front Range flood event 2013\")\n",
    "> > ~~~\n",
    "> > {: .language-python}\n",
    "> >\n",
    "> > ![Flood event plot](../fig/08_flood_event.png)\n",
    "> {: .solution}\n",
    "{: .challenge}\n",
    "\n",
    "### Saving matplotlib figures\n",
    "\n",
    "Once satisfied with the resulting plot, you can save the plot with the `.savefig(*args)` method from matplotlib:"
   ]
  },
  {
   "cell_type": "code",
   "execution_count": null,
   "metadata": {},
   "outputs": [],
   "source": [
    "fig.savefig(\"my_plot_name.png\")    "
   ]
  },
  {
   "cell_type": "markdown",
   "metadata": {},
   "source": [
    "{: .language-python}\n",
    "\n",
    "Which will save the `fig` created using Pandas/matplotlib as a png file with the name `my_plot_name`\n",
    "\n",
    "> ~~~\n",
    ">     Matplotlib recognizes the extension used in the filename and\n",
    ">     supports (on most computers) png, pdf, ps, eps and svg formats.\n",
    "> ~~~\n",
    "{: .callout}\n",
    "\n",
    "> ## Challenge - Saving figure to file\n",
    "> Check the documentation of the `savefig` method and check how \n",
    "> you can comply to journals requiring figures as `pdf` file with\n",
    "> dpi >= 300.\n",
    ">\n",
    "> > ## Answers\n",
    "> >\n",
    "> > ~~~\n",
    "> > fig.savefig(\"my_plot_name.pdf\", dpi=300)\n",
    "> > ~~~\n",
    "> > {: .language-python}\n",
    "> {: .solution}\n",
    "{: .challenge}\n",
    "\n",
    "\n",
    "## Make other types of plots:\n",
    "\n",
    "Matplotlib can make many other types of plots in much the same way that it makes two-dimensional line plots. Look through the examples in\n",
    "<http://matplotlib.org/users/screenshots.html> and try a few of them (click on the\n",
    "\"Source code\" link and copy and paste into a new cell in ipython notebook or\n",
    "save as a text file with a `.py` extension and run in the command line).\n",
    "\n",
    "> ## Challenge - Final Plot\n",
    "> Display your data using one or more plot types from the example gallery. Which\n",
    "> ones to choose will depend on the content of your own data file. If you are\n",
    "> using the streamgage file [`bouldercreek_09_2013.txt`]({{ page.root }}/data/bouldercreek_09_2013.txt), you could make a \n",
    "> histogram of the number of days with a given mean discharge, use bar plots \n",
    "> to display daily discharge statistics, or explore the different ways matplotlib \n",
    "> can handle dates and times for figures.\n",
    "{: .challenge}\n",
    "\n",
    "{% include links.md %}"
   ]
  }
 ],
 "metadata": {},
 "nbformat": 4,
 "nbformat_minor": 2
}
