{
 "cells": [
  {
   "cell_type": "markdown",
   "metadata": {},
   "source": [
    "# October 18\n",
    "\n",
    "We do things go?\n",
    "\n",
    "Last time, we stripped the specimen names from a Nexus-formatted data file, and searched them in GBIF. We then queried a global atlas to find latitude and longitude coordinates for the specimens. Now, we are ready to map them. \n",
    "\n",
    "There are many ways to interact with maps in Python. On the more complex end is Geographic Information Systems (GIS). This could probably be a whole course, and that's not really our scope here. We will use `basemap` to leverage `MatplotLib` to make our maps. `Basemap` takes advantage of the plotting software we have already learned to create new kinds of visualizations."
   ]
  },
  {
   "cell_type": "code",
   "execution_count": null,
   "metadata": {},
   "outputs": [],
   "source": [
    "%matplotlib inline\n",
    "import pandas as pd\n",
    "import numpy as np\n",
    "import matplotlib.pyplot as plt\n",
    "from mpl_toolkits.basemap import Basemap\n"
   ]
  },
  {
   "cell_type": "markdown",
   "metadata": {},
   "source": [
    "Much like the other plots we worked with, we start with a canvas in `Basemap`. In the below code, we will begin with the following DPI and dimensions."
   ]
  },
  {
   "cell_type": "code",
   "execution_count": null,
   "metadata": {},
   "outputs": [],
   "source": [
    "my_dpi=96\n",
    "plt.figure(figsize=(2600/my_dpi, 1800/my_dpi), dpi=my_dpi)\n",
    " "
   ]
  },
  {
   "cell_type": "code",
   "execution_count": null,
   "metadata": {},
   "outputs": [],
   "source": [
    "df = pd.read_csv('../data_output/dropped_zeroes.csv')\n"
   ]
  },
  {
   "cell_type": "code",
   "execution_count": null,
   "metadata": {},
   "outputs": [],
   "source": [
    "map = Basemap(projection='merc', lat_0 = 57, lon_0 = -135,\n",
    "    resolution = 'h', area_thresh = 0.1,\n",
    "    llcrnrlon=-136.25, llcrnrlat=56.0,\n",
    "    urcrnrlon=-134.25, urcrnrlat=57.75)\n",
    " \n",
    "map.drawcoastlines()\n",
    "map.drawcountries()\n",
    "map.fillcontinents(color = 'coral')\n",
    "map.drawmapboundary()"
   ]
  },
  {
   "cell_type": "markdown",
   "metadata": {},
   "source": [
    "# Exercise 1: \n",
    "We will need to process our data such that:\n",
    "\n",
    "- The coordinates column is split into two columns called \"lat\" and \"long\" (Hint: see the Sept. 11 notebook)\n",
    "- The parentheses are removed from the resulting columns\n",
    "- The columns contain floats"
   ]
  },
  {
   "cell_type": "code",
   "execution_count": null,
   "metadata": {},
   "outputs": [],
   "source": []
  },
  {
   "cell_type": "code",
   "execution_count": null,
   "metadata": {
    "code_folding": [
     0
    ]
   },
   "outputs": [],
   "source": [
    "#Answer follows\n",
    "\n",
    "    #Bullet one\n",
    "df[['lat', 'long']] = df.coords.str.split(',', 2, expand=True)\n",
    "    #Bullet two\n",
    "df['lat'] = df.lat.replace(to_replace = \"\\(\", value = \"\", regex = True)\n",
    "df['long'] = df.long.replace(to_replace = \"\\)\", value = \"\", regex = True)\n",
    "    #Bullet three\n",
    "df['lat'] = df.lat.astype(\"float\")\n",
    "df['long'] = df.long.astype(\"float\")"
   ]
  },
  {
   "cell_type": "markdown",
   "metadata": {},
   "source": [
    "Our data are cleaned, now. We will now begin to plot our data on a map. As mentioned, we now build the map layer by layer. \n",
    "\n",
    "- First we create the, background.\n",
    "- Then, we decide what goes on the background. Country lines? State lines? What up?\n",
    "- Then, we add the data."
   ]
  },
  {
   "cell_type": "code",
   "execution_count": null,
   "metadata": {},
   "outputs": [],
   "source": [
    "map = Basemap(projection='merc',lat_0 = 35, lon_0 = -75,\n",
    "    resolution = 'h', area_thresh = 0.1,\n",
    "             llcrnrlon=-74, llcrnrlat=30,urcrnrlon=-125,urcrnrlat=55)\n",
    " \n",
    "map.drawcoastlines()\n",
    "map.drawcountries()\n",
    "map.fillcontinents(color = 'coral')\n",
    "map.drawmapboundary()\n",
    "map.drawstates()\n",
    "\n",
    "\n",
    "lat_list = list(df['lat'])\n",
    "long_list = list(df['long'])\n",
    "x,y = map(long_list, lat_list)\n",
    "map.plot(x, y, 'bo', markersize=4)\n",
    "\n",
    "plt.show()"
   ]
  },
  {
   "cell_type": "markdown",
   "metadata": {},
   "source": [
    "OH NO WHAT'S WRONG?"
   ]
  },
  {
   "cell_type": "markdown",
   "metadata": {},
   "source": [
    "# Exercise 2: Fix map orientation\n",
    "\n",
    "Take a look at line 5 below. What do these weirdo keywords mean? See if you can have a look at the BaseMap documentation and see if you can fix it."
   ]
  },
  {
   "cell_type": "code",
   "execution_count": null,
   "metadata": {},
   "outputs": [],
   "source": [
    "# Fix map orientation\n",
    "\n",
    "map = Basemap(projection='merc',lat_0 = 35, lon_0 = -75,\n",
    "    resolution = 'h', area_thresh = 0.1,\n",
    "             llcrnrlon=-74, llcrnrlat=30,urcrnrlon=-125,urcrnrlat=55)\n",
    "#The problem is on the line immediately above. See if you can use the \n",
    "# documents to correct: https://matplotlib.org/basemap/api/basemap_api.html \n",
    "\n",
    "map.drawcoastlines()\n",
    "map.drawcountries()\n",
    "map.fillcontinents(color = 'coral')\n",
    "map.drawmapboundary()\n",
    "map.drawstates()\n",
    "\n",
    "\n",
    "lat_list = list(df['lat'])\n",
    "long_list = list(df['long'])\n",
    "x,y = map(long_list, lat_list)\n",
    "map.plot(x, y, 'bo', markersize=4)\n",
    "\n",
    "plt.show()"
   ]
  },
  {
   "cell_type": "markdown",
   "metadata": {},
   "source": [
    "# Exercise 3: \n",
    "\n",
    "Use the [documentation](https://matplotlib.org/basemap/api/basemap_api.html) to add state lines to the map."
   ]
  },
  {
   "cell_type": "code",
   "execution_count": null,
   "metadata": {
    "code_folding": []
   },
   "outputs": [],
   "source": [
    "# Add State Lines\n",
    "map = Basemap(projection='merc',lat_0 = 35, lon_0 = -75,\n",
    "    resolution = 'l', area_thresh = 0.1,\n",
    "             llcrnrlon=-125, llcrnrlat=30,urcrnrlon=-74,urcrnrlat=55)\n",
    " \n",
    "map.drawcoastlines()\n",
    "map.fillcontinents(color = 'coral')\n",
    "map.drawmapboundary()\n",
    "map.drawstates()\n",
    "\n",
    "\n",
    "lat_list = list(df['lat'])\n",
    "long_list = list(df['long'])\n",
    "x,y = map(long_list, lat_list)\n",
    "map.plot(x, y, 'bo', markersize=4)\n",
    "\n",
    "plt.show()"
   ]
  },
  {
   "cell_type": "markdown",
   "metadata": {},
   "source": [
    "You may have noticed that it barely looks like we have any plots on this thing. Many of our observations were overlapping, because the person who recorded them was non-specific. Something we may want to do is set the alpha value of the point, which will make them see-through. That way, when they plot on top of one another, they will be darker, so we can see places with multiple observations."
   ]
  },
  {
   "cell_type": "code",
   "execution_count": null,
   "metadata": {},
   "outputs": [],
   "source": [
    "# Add State Lines\n",
    "map = Basemap(projection='merc',lat_0 = 35, lon_0 = -75,\n",
    "    resolution = 'l', area_thresh = 0.1,\n",
    "             llcrnrlon=-125, llcrnrlat=30,urcrnrlon=-74,urcrnrlat=55)\n",
    " \n",
    "map.drawcoastlines()\n",
    "map.drawmapboundary()\n",
    "map.drawstates()\n",
    "\n",
    "\n",
    "lat_list = list(df['lat'])\n",
    "long_list = list(df['long'])\n",
    "x,y = map(long_list, lat_list)\n",
    "map.plot(x, y, 'ro', markersize=10, alpha=0.4)\n",
    "\n",
    "plt.show()\n",
    "\n"
   ]
  },
  {
   "cell_type": "markdown",
   "metadata": {},
   "source": [
    "Another common visual is to scale the size of the points with how many observations there are. This is a bit tricker. Have a look at the code that was added below. Look at it solo, for a moment, then we will look at it together."
   ]
  },
  {
   "cell_type": "code",
   "execution_count": null,
   "metadata": {},
   "outputs": [],
   "source": [
    "# Add State Lines\n",
    "from collections import Counter\n",
    "fig = plt.figure(figsize=(8, 8))\n",
    "map = Basemap(projection='merc',lat_0 = 35, lon_0 = -75,\n",
    "    resolution = 'l', area_thresh=500,\n",
    "             llcrnrlon=-125, llcrnrlat=30,urcrnrlon=-74,urcrnrlat=45)\n",
    " \n",
    "map.drawcoastlines()\n",
    "map.drawmapboundary()\n",
    "map.drawstates()\n",
    "\n",
    "\n",
    "lat_list = list(df['lat'])\n",
    "long_list = list(df['long'])\n",
    "x,y = map(long_list, lat_list)\n",
    "\n",
    "\n",
    "## Added Code\n",
    "counts = collections.Counter(x)\n",
    "count_dictionary = dict(counts)\n",
    "\n",
    "sizes = []\n",
    "\n",
    "for x1, y1 in zip(x, y):\n",
    "    sizes.append(count_dictionary[x1])\n",
    "\n",
    "    \n",
    "map.scatter(x, y, \n",
    "          s=sizes)\n",
    "#plt.show()\n",
    "plt.savefig(\"plot\")"
   ]
  },
  {
   "cell_type": "markdown",
   "metadata": {},
   "source": [
    "# Exercise 4:\n",
    "\n",
    "Have a look at the [documentation](https://matplotlib.org/basemap/api/basemap_api.html). How could we change over from black and white to a relief map?"
   ]
  },
  {
   "cell_type": "code",
   "execution_count": null,
   "metadata": {
    "code_folding": [
     0
    ]
   },
   "outputs": [],
   "source": [
    "# Add relief\n",
    "from collections import Counter\n",
    "fig = plt.figure(figsize=(8, 8))\n",
    "map = Basemap(projection='merc',lat_0 = 35, lon_0 = -75,\n",
    "    resolution = 'l', area_thresh=500,\n",
    "             llcrnrlon=-125, llcrnrlat=30,urcrnrlon=-74,urcrnrlat=45)\n",
    " \n",
    "map.drawcoastlines(color='gray')\n",
    "map.drawcountries(color='gray')\n",
    "map.drawstates(color='gray')\n",
    "\n",
    "lat_list = list(df['lat'])\n",
    "long_list = list(df['long'])\n",
    "x,y = map(long_list, lat_list)\n",
    "counts = collections.Counter(x)\n",
    "count_dictionary = dict(counts)\n",
    "\n",
    "sizes = []\n",
    "\n",
    "for x1, y1 in zip(x, y):\n",
    "    sizes.append(count_dictionary[x1])\n",
    "\n",
    "    \n",
    "map.scatter(x, y, cmap=\"red\",\n",
    "          s=sizes*20)\n",
    "#plt.show()\n",
    "plt.savefig(\"plot\")"
   ]
  },
  {
   "cell_type": "code",
   "execution_count": null,
   "metadata": {
    "code_folding": [
     0
    ]
   },
   "outputs": [],
   "source": [
    "# Answer\n",
    "from collections import Counter\n",
    "fig = plt.figure(figsize=(8, 8))\n",
    "map = Basemap(projection='merc',lat_0 = 35, lon_0 = -75,\n",
    "    resolution = 'l', area_thresh=500,\n",
    "             llcrnrlon=-125, llcrnrlat=30,urcrnrlon=-74,urcrnrlat=45)\n",
    " \n",
    "map.shadedrelief()\n",
    "map.drawcoastlines(color='gray')\n",
    "map.drawcountries(color='gray')\n",
    "map.drawstates(color='gray')\n",
    "\n",
    "lat_list = list(df['lat'])\n",
    "long_list = list(df['long'])\n",
    "x,y = map(long_list, lat_list)\n",
    "counts = collections.Counter(x)\n",
    "count_dictionary = dict(counts)\n",
    "\n",
    "sizes = []\n",
    "\n",
    "for x1, y1 in zip(x, y):\n",
    "    sizes.append(count_dictionary[x1]*10)\n",
    "\n",
    "    \n",
    "map.scatter(x, y, \n",
    "          s=sizes, c=np.log10(sizes), cmap='Blues')\n",
    "plt.show()\n"
   ]
  },
  {
   "cell_type": "markdown",
   "metadata": {},
   "source": [
    "# Exercise 5:\n",
    "\n",
    "There is a northern California population that is very hard to see. Try using either point size or color to make it more visible. You can pass in arguments as you would to [scatter](https://matplotlib.org/api/_as_gen/matplotlib.pyplot.scatter.html). Possible arguments of interest might be size, c, and cmap."
   ]
  },
  {
   "cell_type": "code",
   "execution_count": null,
   "metadata": {
    "code_folding": [
     0
    ]
   },
   "outputs": [],
   "source": [
    "# Make obviouser\n",
    "from collections import Counter\n",
    "fig = plt.figure(figsize=(8, 8))\n",
    "map = Basemap(projection='merc',lat_0 = 35, lon_0 = -75,\n",
    "    resolution = 'l', area_thresh=500,\n",
    "             llcrnrlon=-125, llcrnrlat=30,urcrnrlon=-74,urcrnrlat=45)\n",
    " \n",
    "map.shadedrelief()\n",
    "map.drawcoastlines(color='gray')\n",
    "map.drawcountries(color='gray')\n",
    "map.drawstates(color='gray')\n",
    "\n",
    "lat_list = list(df['lat'])\n",
    "long_list = list(df['long'])\n",
    "x,y = map(long_list, lat_list)\n",
    "counts = collections.Counter(x)\n",
    "count_dictionary = dict(counts)\n",
    "\n",
    "sizes = []\n",
    "\n",
    "for x1, y1 in zip(x, y):\n",
    "    sizes.append(count_dictionary[x1]*10)\n",
    "\n",
    "    \n",
    "map.scatter(x, y, \n",
    "          s=sizes, c=np.log10(sizes), cmap='Blues')\n",
    "plt.show()\n"
   ]
  },
  {
   "cell_type": "code",
   "execution_count": null,
   "metadata": {
    "code_folding": []
   },
   "outputs": [],
   "source": [
    "# Possible Answer\n",
    "from collections import Counter\n",
    "fig = plt.figure(figsize=(8, 8))\n",
    "map = Basemap(projection='merc',lat_0 = 35, lon_0 = -75,\n",
    "    resolution = 'l', area_thresh=500,\n",
    "             llcrnrlon=-125, llcrnrlat=30,urcrnrlon=-74,urcrnrlat=45)\n",
    " \n",
    "map.shadedrelief()\n",
    "map.drawcoastlines(color='gray')\n",
    "map.drawcountries(color='gray')\n",
    "map.drawstates(color='gray')\n",
    "\n",
    "lat_list = list(df['lat'])\n",
    "long_list = list(df['long'])\n",
    "x,y = map(long_list, lat_list)\n",
    "counts = collections.Counter(x)\n",
    "count_dictionary = dict(counts)\n",
    "\n",
    "sizes = []\n",
    "\n",
    "for x1, y1 in zip(x, y):\n",
    "    sizes.append(count_dictionary[x1]*10)\n",
    "\n",
    "    \n",
    "map.scatter(x, y, \n",
    "          s=sizes, c=np.log10(sizes), cmap='Blues')\n",
    "plt.show()\n"
   ]
  },
  {
   "cell_type": "markdown",
   "metadata": {},
   "source": [
    "Let's try adding a legend so we can have some indication of how many specimens were found here."
   ]
  },
  {
   "cell_type": "code",
   "execution_count": null,
   "metadata": {},
   "outputs": [],
   "source": [
    "fig = plt.figure(figsize=(18, 12))\n",
    "map = Basemap(projection='merc',lat_0 = 35, lon_0 = -75,\n",
    "    resolution = 'l', area_thresh=500,\n",
    "             llcrnrlon=-125, llcrnrlat=30,urcrnrlon=-74,urcrnrlat=45)\n",
    " \n",
    "map.shadedrelief()\n",
    "map.drawcoastlines(color='gray')\n",
    "map.drawcountries(color='gray')\n",
    "map.drawstates(color='gray')\n",
    "\n",
    "lat_list = list(df['lat'])\n",
    "long_list = list(df['long'])\n",
    "x,y = map(long_list, lat_list)\n",
    "counts = collections.Counter(x)\n",
    "count_dictionary = dict(counts)\n",
    "\n",
    "n_obs = []\n",
    "sizes = []\n",
    "for x1, y1 in zip(x, y):\n",
    "    n_obs.append(count_dictionary[x1])\n",
    "    sizes.append(float(count_dictionary[x1]*10))\n",
    "map.scatter(x, y, \n",
    "          s=sizes, c=n_obs, cmap='Blues')\n",
    "\n",
    "plt.colorbar(label=r'Number of Observations', fraction=0.0175, pad=0.04)\n",
    "plt.show()"
   ]
  },
  {
   "cell_type": "markdown",
   "metadata": {},
   "source": [
    "# Exercise 6\n",
    "\n",
    "Fun time party exercise. Try experimenting with [cmaps](https://matplotlib.org/examples/color/colormaps_reference.html). Are you able to find something that makes that CA population a little more obvious? I kind of wasn't. When you get it, download the image, and upload it to [this](https://www.color-blindness.com/coblis-color-blindness-simulator/) colorblindness simulator. Is your image colorblind friendly? \n",
    "\n",
    "[Colorbrewer2](http://colorbrewer2.org/#type=sequential&scheme=BuGn&n=3) is a utility for assisting in making color blind-friendly figures."
   ]
  },
  {
   "cell_type": "code",
   "execution_count": null,
   "metadata": {},
   "outputs": [],
   "source": [
    "fig, ax = plt.subplots()\n",
    "map = Basemap(projection='merc',lat_0 = 35, lon_0 = -75,\n",
    "    resolution = 'l', area_thresh=500,\n",
    "             llcrnrlon=-125, llcrnrlat=30,urcrnrlon=-74,urcrnrlat=45)\n",
    " \n",
    "map.shadedrelief()\n",
    "map.drawcoastlines(color='gray')\n",
    "map.drawcountries(color='gray')\n",
    "map.drawstates(color='gray')\n",
    "\n",
    "lat_list = list(df['lat'])\n",
    "long_list = list(df['long'])\n",
    "names = list(df['acceptedScientificName'])\n",
    "x,y = map(long_list, lat_list)\n",
    "counts = collections.Counter(x)\n",
    "count_dictionary = dict(counts)\n",
    "\n",
    "n_obs = []\n",
    "sizes = []\n",
    "\n",
    "ax.scatter(x, y)\n",
    "\n",
    "labs = zip(names, x, y)\n",
    "lab_set = set(labs)\n",
    "\n",
    "for lab in lab_set:\n",
    "    ax.annotate(str(lab[0]), (lab[1],lab[2]), xytext=(5, 5), textcoords='offset points')\n"
   ]
  },
  {
   "cell_type": "markdown",
   "metadata": {},
   "source": [
    "## Check - In: Road Map\n",
    "\n",
    "- AMW: Concept map on the board\n",
    "- AMW: Update schedule\n",
    "- Everybody: [LONI Logins](https://allocations.loni.org/login_request.php)\n",
    "- Everybody: Right now, go to the [class repo](https://github.com/wrightaprilm/CompBio2018). Click on \"Issues\". Write one or two things you understand really well. Write one or two things you understand really poorly."
   ]
  },
  {
   "cell_type": "code",
   "execution_count": null,
   "metadata": {},
   "outputs": [],
   "source": []
  }
 ],
 "metadata": {
  "kernelspec": {
   "display_name": "Python 3",
   "language": "python",
   "name": "python3"
  },
  "language_info": {
   "codemirror_mode": {
    "name": "ipython",
    "version": 3
   },
   "file_extension": ".py",
   "mimetype": "text/x-python",
   "name": "python",
   "nbconvert_exporter": "python",
   "pygments_lexer": "ipython3",
   "version": "3.6.6"
  },
  "latex_envs": {
   "LaTeX_envs_menu_present": true,
   "autoclose": false,
   "autocomplete": true,
   "bibliofile": "biblio.bib",
   "cite_by": "apalike",
   "current_citInitial": 1,
   "eqLabelWithNumbers": true,
   "eqNumInitial": 1,
   "hotkeys": {
    "equation": "Ctrl-E",
    "itemize": "Ctrl-I"
   },
   "labels_anchors": false,
   "latex_user_defs": false,
   "report_style_numbering": false,
   "user_envs_cfg": false
  },
  "toc": {
   "base_numbering": 1,
   "nav_menu": {},
   "number_sections": true,
   "sideBar": true,
   "skip_h1_title": false,
   "title_cell": "Table of Contents",
   "title_sidebar": "Contents",
   "toc_cell": false,
   "toc_position": {},
   "toc_section_display": true,
   "toc_window_display": false
  }
 },
 "nbformat": 4,
 "nbformat_minor": 2
}
