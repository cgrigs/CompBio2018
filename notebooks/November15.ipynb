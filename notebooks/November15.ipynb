{
 "cells": [
  {
   "cell_type": "markdown",
   "metadata": {},
   "source": [
    "# November 15th\n",
    "\n",
    "It's the endgame now. Let's talk about the final. We only have three class periods before class is over. So let's talk about the final.\n",
    "\n",
    "What you'll be doing is documenting and making a webpage for your Python package, and presenting it to your lab (or to the class, if you don't have a lab). \n",
    "\n",
    "First thing is first, scheduling: \n",
    "\n",
    "- We will meet during the final. Those of you who do not have a lab to which to present will present during this time. I'll probably also invite a couple other faculty.\n",
    "- Those of you do have a lab affiliation - start thinking about when you would like to present. I'll be in touch to schedule some time either the last week of class or finals week.\n"
   ]
  },
  {
   "cell_type": "markdown",
   "metadata": {},
   "source": [
    "# Documents \n",
    "\n",
    "First, we're going to prepare our documentation:\n",
    "\n",
    "\n",
    "    \"\"\"\n",
    "    Retrieve a taxon list from a dataframe.\n",
    "    Provide as input a path to a TSV or CSV-formatted dataframe.\n",
    "    Must contain one column labeled 'taxon'\n",
    "    \n",
    "    Parameters\n",
    "    ----------\n",
    "    \n",
    "    arg1: molecular data path\n",
    "        A path to a dataframe containing a taxon column.\n",
    "        \n",
    "    Returns\n",
    "    -------\n",
    "    list\n",
    "        A list containing all the taxa in your dataset.\n",
    "    \n",
    "    \"\"\""
   ]
  },
  {
   "cell_type": "markdown",
   "metadata": {},
   "source": [
    "# Tutorials"
   ]
  },
  {
   "cell_type": "code",
   "execution_count": null,
   "metadata": {},
   "outputs": [],
   "source": []
  }
 ],
 "metadata": {
  "kernelspec": {
   "display_name": "Python 3",
   "language": "python",
   "name": "python3"
  },
  "language_info": {
   "codemirror_mode": {
    "name": "ipython",
    "version": 3
   },
   "file_extension": ".py",
   "mimetype": "text/x-python",
   "name": "python",
   "nbconvert_exporter": "python",
   "pygments_lexer": "ipython3",
   "version": "3.6.6"
  },
  "latex_envs": {
   "LaTeX_envs_menu_present": true,
   "autoclose": false,
   "autocomplete": true,
   "bibliofile": "biblio.bib",
   "cite_by": "apalike",
   "current_citInitial": 1,
   "eqLabelWithNumbers": true,
   "eqNumInitial": 1,
   "hotkeys": {
    "equation": "Ctrl-E",
    "itemize": "Ctrl-I"
   },
   "labels_anchors": false,
   "latex_user_defs": false,
   "report_style_numbering": false,
   "user_envs_cfg": false
  },
  "toc": {
   "base_numbering": 1,
   "nav_menu": {},
   "number_sections": true,
   "sideBar": true,
   "skip_h1_title": false,
   "title_cell": "Table of Contents",
   "title_sidebar": "Contents",
   "toc_cell": false,
   "toc_position": {},
   "toc_section_display": true,
   "toc_window_display": false
  }
 },
 "nbformat": 4,
 "nbformat_minor": 2
}
