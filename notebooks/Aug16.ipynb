{
 "cells": [
  {
   "cell_type": "markdown",
   "metadata": {},
   "source": [
    "# Welcome to 408/508 Computational Biology!"
   ]
  },
  {
   "cell_type": "code",
   "execution_count": null,
   "metadata": {},
   "outputs": [],
   "source": [
    "import pandas as pd\n",
    "\n",
    "names = pd.read_csv(\"data/names.csv\")\n",
    "\n",
    "for index, row in names.iterrows():\n",
    "    print(\"Welcome, \" + row['Participant'] + \"!\")"
   ]
  },
  {
   "cell_type": "markdown",
   "metadata": {},
   "source": [
    "For today, we will be talking about expectations.\n"
   ]
  },
  {
   "cell_type": "markdown",
   "metadata": {},
   "source": [
    "This course will cover the basics of: Data management in a computational framework. \n",
    "\n",
    "_Why_ do we want to do that? \n",
    "\n",
    "- Convenience: The computer is much more effective at doing repetitive tasks than our brains are\n",
    "- Reproducibility: A computer stores records of what we have done more effectively than our brains do\n",
    "- Flexibility: When you read a paper, and they're using the most cutting edge tools, those tools are probably computational tools."
   ]
  },
  {
   "cell_type": "markdown",
   "metadata": {},
   "source": [
    "This course will cover the basics of: Programming\n",
    "\n",
    "_Why_ do we want to do that? \n",
    "\n",
    "- Necessity: Most fields have some degree of computer science, or computer science thinking baked into them.\n",
    "- Portability: We might want to do the same types of analyses with multiple projects\n",
    "- Portability II: You might want to help colleagues do the same analyses with their data. "
   ]
  },
  {
   "cell_type": "markdown",
   "metadata": {},
   "source": [
    "This course will cover the basics of: Communication of results\n",
    "\n",
    "_Why_ do we want to do that? \n",
    " \n",
    "- To inform colleagues: We will discuss how to generate interactive reports, and share them with stakeholders in our science\n",
    "- To instruct colleagues: We will discuss how you can make your programs and data management reproducible, and how you can share not just results, but the actual work.\n",
    "- To inform the public: We will also talk about making posters and other visualizations meant for wider audiences."
   ]
  },
  {
   "cell_type": "markdown",
   "metadata": {},
   "source": [
    "#  Wow, that sounds like a lot, and I've never programmed before\n",
    "\n",
    "That's fine, we'll get there.\n",
    "\n",
    "I never thought I'd program. Like at all. I'm the first person in my family to attend and finish a 4-year college. My parents really encouraged me to go to college, but in a lot of ways, didn't know how to help. I had some really awful math and science teachers; I heard the words \"Oh, girls aren't good at this\" a lot. _A lot_. I started grad school at the start of the \"big data\" revolution, and I started in a field, statistical phylogenetics, where you have to program. And so I jumped in.\n",
    "\n",
    "And floundered for a long time. A long time.\n",
    "\n",
    "So my goal is that when you all go on to grad school, or industry, or medicine, or whatever, you don't have that floundering feeling. Even if you never program again, the critical thinking, mathematical thinking, and logical thinking will help you in the future."
   ]
  },
  {
   "cell_type": "markdown",
   "metadata": {},
   "source": [
    "# Homework\n",
    "\n",
    "Each week, we will have a homework. They will be worth 10 pts each (for 100 total). These will be designed to guide you through the material for the week, and help you apply the weeks' material to a novel problem. These will be posted one will before the due date. I really prefer not to do late work on these, but since this is a small class, there's a little more wiggle room.\n",
    "\n",
    "These can be worked on in groups, but will be turned in per person."
   ]
  },
  {
   "cell_type": "markdown",
   "metadata": {},
   "source": [
    "# In-class\n",
    "\n",
    "Other than today, you can expect to spend 3 hours each class period in class. I need a break at 90 minutes through class time, and at that point, I'll encourage you to get up and get away from your computer. Usually there is coffee in the department office - bring a mug!\n",
    "\n",
    "Most days, I'll talk for a few minutes, then we'll do a computational exercise. You'll turn in something every day for completion grade. We often call these \"minute papers\" because they are for me to understand how you all are doing, not for me to judge what you're doing. These will total 100 points in your grade.\n"
   ]
  },
  {
   "cell_type": "markdown",
   "metadata": {},
   "source": [
    "# Projects\n",
    "\n",
    "We don't have tests in this class. We have projects. There will be three mini-projects and one big project. The mini projects will be at the end of each unit - computational data management, data and code storage, communication and report generation. The projects will be oriented to getting you to work with the concepts from class on a real data set from the literature, or from your lab. Each project will be worth 100 points."
   ]
  },
  {
   "cell_type": "code",
   "execution_count": null,
   "metadata": {},
   "outputs": [],
   "source": []
  }
 ],
 "metadata": {
  "kernelspec": {
   "display_name": "Python 3",
   "language": "python",
   "name": "python3"
  },
  "language_info": {
   "codemirror_mode": {
    "name": "ipython",
    "version": 3
   },
   "file_extension": ".py",
   "mimetype": "text/x-python",
   "name": "python",
   "nbconvert_exporter": "python",
   "pygments_lexer": "ipython3",
   "version": "3.6.5"
  },
  "latex_envs": {
   "LaTeX_envs_menu_present": true,
   "autoclose": false,
   "autocomplete": true,
   "bibliofile": "biblio.bib",
   "cite_by": "apalike",
   "current_citInitial": 1,
   "eqLabelWithNumbers": true,
   "eqNumInitial": 1,
   "hotkeys": {
    "equation": "Ctrl-E",
    "itemize": "Ctrl-I"
   },
   "labels_anchors": false,
   "latex_user_defs": false,
   "report_style_numbering": false,
   "user_envs_cfg": false
  }
 },
 "nbformat": 4,
 "nbformat_minor": 2
}
