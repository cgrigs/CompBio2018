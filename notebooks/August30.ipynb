{
 "cells": [
  {
   "cell_type": "markdown",
   "metadata": {},
   "source": [
    "# Aug 30\n",
    "\n",
    "## Making Programs\n",
    "\n",
    "So far, we have been working in this nice programmatic interface called the Jupyter Notebook. These are really nice for doing interactive programming. What we'll do today is look at making actual computer programs - self contained pieces of code that can run in a variety of environments.\n",
    "\n",
    "### Anatomy of a Python Program\n",
    "\n",
    "First, there are import statements. What libraries will we need to run our code?\n",
    "\n",
    "Second, there is content. These are usually the functions that we want to execute.\n",
    "\n",
    "Third, there is a statement of which of our functions to execute. \n",
    "\n",
    "## Hands On\n",
    "\n",
    "First, we are going to open a plain text file. Plain text files, unlike Word or Google Docs, save files as simply the characters in them. Word, on the other hand, creates a bunch of binary code around the text that saves the formatting and extras in our document. Plain text files, instead, rely on the software interpreter to make files look pretty.\n",
    "\n",
    "Next, we paste in our function.\n",
    "\n",
    "Now, we save it. Call it `my_first_software.py`.\n",
    "\n",
    "Now, we will open a terminal, and we will run our function like so:"
   ]
  },
  {
   "cell_type": "code",
   "execution_count": null,
   "metadata": {},
   "outputs": [],
   "source": [
    "python my_first_software.py"
   ]
  },
  {
   "cell_type": "markdown",
   "metadata": {},
   "source": [
    "What happened? Did you get output? \n",
    "\n",
    "What did we forget? Let's add those import statements. Save the file and run it again. Did it do anything? No - look at the third step above. We need to tell Python which function to execute. We need to add a main statement. "
   ]
  },
  {
   "cell_type": "code",
   "execution_count": null,
   "metadata": {},
   "outputs": [],
   "source": [
    "if __name__ == '__main__':\n",
    "    surveys_df = pd.read_csv(\"../data/surveys.csv\")\n",
    "    yearly_data_arg_test(surveys_df)"
   ]
  },
  {
   "cell_type": "markdown",
   "metadata": {},
   "source": [
    "## Digression: What is this interface we're using?\n",
    "\n",
    "The dollar sign is a **prompt**, which shows us that the shell is waiting for input;\n",
    "your shell may use a different character as a prompt and may add information before\n",
    "the prompt. When typing commands, either from these lessons or from other sources,\n",
    "do not type the prompt, only the commands that follow it.\n",
    "\n",
    "~~~\n",
    "$\n",
    "~~~\n",
    "\n",
    "Let's find out where we are by running a command called `pwd`\n",
    "(which stands for \"print working directory\").\n",
    "At any moment, our **current working directory**\n",
    "is our current default directory,\n",
    "i.e.,\n",
    "the directory that the computer assumes we want to run commands in\n",
    "unless we explicitly specify something else.\n",
    "Here, the computer's response is `/home/yourusername`,\n",
    "which is the top level directory within our system:\n",
    "\n",
    "~~~\n",
    "$ pwd\n",
    "~~~\n",
    "\n",
    "Let's look at how our file system is organized.  \n",
    "\n",
    "At the top is your directory, which holds all the \n",
    "subdirectories and files.\n",
    "\n",
    "Inside that directory are some other directories:\n",
    "\n",
    "We'll be working with these subdirectories throughout this workshop.  \n",
    "\n",
    "The command to change locations in our file system is `cd` followed by a\n",
    "directory name to change our working directory.\n",
    "`cd` stands for \"change directory\".\n",
    "\n",
    "Let's say we want to navigate to the `data` directory we saw above.  We can\n",
    "use the following command to get there:\n",
    "\n",
    "~~~\n",
    "$ cd data\n",
    "~~~\n",
    "\n",
    "We can see files and subdirectories are in this directory by running `ls`,\n",
    "which stands for \"listing\":\n",
    "\n",
    "~~~\n",
    "$ ls\n",
    "~~~\n",
    "\n",
    "`ls` prints the names of the files and directories in the current directory in\n",
    "alphabetical order,\n",
    "arranged neatly into columns.\n",
    "We can make its output more comprehensible by using the **flag** `-F`,\n",
    "which tells `ls` to add a trailing `/` to the names of directories:\n",
    "\n",
    "~~~\n",
    "$ ls -F\n",
    "~~~\n",
    "\n",
    "Anything with a \"/\" after it is a directory. Things with a \"*\" after them are programs. If\n",
    "there are no decorations, it's a file.\n",
    "\n",
    "`ls` has lots of other options. To find out what they are, we can type:\n",
    "\n",
    "~~~\n",
    "$ man ls\n",
    "~~~\n",
    "\n",
    "Some manual files are very long. You can scroll through the file using\n",
    "your keyboard's down arrow or use the <kbd>Space</kbd> key to go forward one page\n",
    "and the <kbd>b</kbd> key to go backwards one page. When you are done reading, hit <kbd>q</kbd>\n",
    "to quit.\n",
    "\n",
    "> ## Challenge\n",
    "> Use the `-l` option for the `ls` command to display more information for each item \n",
    "> in the directory. What is one piece of additional information this long format\n",
    "> gives you that you don't see with the bare `ls` command?\n",
    ">\n",
    "> > ## Solution\n",
    "> > ~~~\n",
    "> > $ ls -l\n",
    "> > ~~~\n",
    "> > \n",
    "> > ~~~\n",
    "> > \n",
    "> > The additional information given includes the name of the owner of the file,\n",
    "> > when the file was last modified, and whether the current user has permission\n",
    "> > to read and write to the file.\n",
    "> > \n",
    "\n",
    "\n",
    "No one can possibly learn all of these arguments, that's why the manual page\n",
    "is for. You can (and should) refer to the manual page or other help files\n",
    "as needed.\n",
    "\n",
    "Let's go into the `notebooks` directory and see what is in there.\n",
    "\n",
    "~~~\n",
    "$ cd notebooks\n",
    "$ ls -F\n",
    "~~~\n",
    "\n",
    "\n",
    "This directory contains files with `.ipynb` extensions. ipynb is a format\n",
    "for storing our notebooks\n",
    "\n",
    "### Shortcut: Tab Completion\n",
    "\n",
    "Typing out file or directory names can waste a\n",
    "lot of time and it's easy to make typing mistakes. Instead we can use tab complete \n",
    "as a shortcut. When you start typing out the name of a directory or file, then\n",
    "hit the <kbd>Tab</kbd> key, the shell will try to fill in the rest of the\n",
    "directory or file name.\n",
    "\n",
    "Return to your home directory:\n",
    "\n",
    "~~~\n",
    "$ cd\n",
    "~~~\n",
    "\n",
    "then enter:\n",
    "\n",
    "~~~\n",
    "$ cd CompBio2018/d\n",
    "~~~\n",
    "\n",
    "The shell will fill in the rest of the directory name for\n",
    "`data`.\n",
    "\n",
    "\n",
    "~~~\n",
    "$ pw<tab><tab>\n",
    "~~~\n",
    "\n",
    "~~~\n",
    "pwd         pwd_mkdb    pwhich      pwhich5.16  pwhich5.18  pwpolicy\n",
    "~~~\n",
    "\n",
    "Displays the name of every program that starts with `pw`. \n",
    "\n",
    "## Summary\n",
    "\n",
    "We now know how to move around our file system using the command line.\n",
    "This gives us an advantage over interacting with the file system through\n",
    "a GUI as it allows us to work on a remote server, carry out the same set of operations \n",
    "on a large number of files quickly, and opens up many opportunities for using \n",
    "bioinformatics software that is only available in command line versions. \n",
    "\n",
    "In the next few episodes, we'll be expanding on these skills and seeing how \n",
    "using the command line shell enables us to make our workflow more efficient and reproducible."
   ]
  },
  {
   "cell_type": "markdown",
   "metadata": {},
   "source": [
    "Paste this in to the script. Save it, and run it.\n",
    "\n",
    "Congratulations, you're all hackers now!\n",
    "\n",
    "How can we improve this script?\n",
    "\n",
    "Right now, everything is what we call _hard-coded_. If we sent this script to a collaborator, they would have to go into the script and change the file name to use it with other data. This is dangerous - any time you have someone else hacking on a script, there's the potential that they make a mistake. We want to minimize the amount of modification our colleagues have to do to use our scripts.\n",
    "\n",
    "Instead, what we want to do is pass in the file as a command line argument. Command line arguments is information we specify outside the program that is accepted as input by our functions.\n",
    "\n",
    "We're going to import a module called `sys`, which stands for \"system\". This allows us to pass input from the command line to our program. Let's start by figuring out how to pass the name of the file in.\n",
    "\n",
    "Where is the file name defined in the Python script? Let's replace the file name with the statement `sys.argv[1]`. Save the file. Now, we will run it differently:\n"
   ]
  },
  {
   "cell_type": "code",
   "execution_count": null,
   "metadata": {},
   "outputs": [],
   "source": [
    "python my_first_software.py ../data/surveys.csv"
   ]
  },
  {
   "cell_type": "markdown",
   "metadata": {},
   "source": [
    "Next, we will try to add arguments for our other two inputs - mix and max. Add these as `sys.argv[2]` and `sys.argv[3]`. Save and run your script. This is cool - you can give this to someone who doesn't know Python basically at all, and have them run this script."
   ]
  },
  {
   "cell_type": "markdown",
   "metadata": {},
   "source": []
  },
  {
   "cell_type": "markdown",
   "metadata": {},
   "source": [
    "How can we make our program a little more user-friendly? Right now, we need to know precisely what arguments the program takes, and in what order. How confusing! This is where we will pick up Tuesday."
   ]
  },
  {
   "cell_type": "markdown",
   "metadata": {},
   "source": [
    "I've placed several scripts in the scripts directory. One is my_first_script.py. This one has the variables hard-coded into it. The second script is the one we wrote Thursday, with the sys module used to take command line input. Run it, and make sure it gives you the correct output.\n",
    "\n",
    "The final is called script-argparse.py. Open that one."
   ]
  },
  {
   "cell_type": "markdown",
   "metadata": {},
   "source": [
    "### tl;dr\n",
    "\n",
    "Good: having the code in a script\n",
    "### Better: Having the code in a script that does not need to be edited to run.\n",
    "## Best: Having the code in a script that does not need to be edited to run _and_ gives the user (you?) some help about what it required to run."
   ]
  },
  {
   "cell_type": "markdown",
   "metadata": {},
   "source": [
    "One concluding thought: have we put the output_check() function in a sensible place? Where else _could_ we put it, and why might we?"
   ]
  },
  {
   "cell_type": "code",
   "execution_count": null,
   "metadata": {},
   "outputs": [],
   "source": []
  }
 ],
 "metadata": {
  "kernelspec": {
   "display_name": "Python 3",
   "language": "python",
   "name": "python3"
  },
  "language_info": {
   "codemirror_mode": {
    "name": "ipython",
    "version": 3
   },
   "file_extension": ".py",
   "mimetype": "text/x-python",
   "name": "python",
   "nbconvert_exporter": "python",
   "pygments_lexer": "ipython3",
   "version": "3.6.5"
  }
 },
 "nbformat": 4,
 "nbformat_minor": 2
}
