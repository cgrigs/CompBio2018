{
 "cells": [
  {
   "cell_type": "markdown",
   "metadata": {},
   "source": [
    "# September 27\n",
    "\n",
    "Last time, we downloaded a tree from Open Tree of Life. Then, we got the associated data. But we discovered a problem! They data are not the raw data! They are _unverifiable_ processed data. We're picking up with where we left off. \n",
    "\n",
    "Let's get warmed up by loading in our character matrix using dendropy. Save the matrix to a variable called amphib. Try it in the below cell."
   ]
  },
  {
   "cell_type": "code",
   "execution_count": null,
   "metadata": {},
   "outputs": [],
   "source": []
  },
  {
   "cell_type": "code",
   "execution_count": 176,
   "metadata": {
    "code_folding": []
   },
   "outputs": [],
   "source": [
    "# Answer follows\n",
    "import dendropy\n",
    "amphib = dendropy.DnaCharacterMatrix.get(\n",
    "    path=\"../data/plethodon.phy\",\n",
    "    schema=\"phylip\"\n",
    ")"
   ]
  },
  {
   "cell_type": "markdown",
   "metadata": {},
   "source": [
    "Subset out your !favorite! salamander.\n",
    "\n",
    "![](img/5496126200_d596f01f80_b.jpg)"
   ]
  },
  {
   "cell_type": "code",
   "execution_count": null,
   "metadata": {},
   "outputs": [],
   "source": []
  },
  {
   "cell_type": "code",
   "execution_count": 178,
   "metadata": {
    "code_folding": []
   },
   "outputs": [
    {
     "name": "stdout",
     "output_type": "stream",
     "text": [
      "----------------------------------------------------------------------------------------------------------------------------------------------------------------------------------------------------------------------------------------------------------------------------------------------------------------------------------------------------------------------------------------------------------------------------------------------------------------------------------------------------------------------------------------------------------------------------------------------------------------------------------------------------------------------------------------------------------------------------------------------------------------------------------------------------------------------------------------------------------------------------------------------------------------------------------------------------------------------------------------------------------------------------------------------------------------------------------------------------------------------------------------------------------------------------------------------------------------------------------------------------------------------------------------------------------------------------------------------------------------------------------------------------------------------------------------------------------------------------------------------------------------------------------------------------------------------------------------------------------------------------------------------------------------------------------------------------------------------------------------------------------------------------------------------------------------------------------------------------------------------------------------------------------------------------------------------------------------------------------------------------------------------------------------------------------------------------------------------------------------------------------------------------------------------------------------------------------------------------------------------------------------------------------------------------------------------------------------------------------------------------------------------------------------------------------------------------------------------------------------------------------------------------------------------------------------------------------------------------------------------------------------------------------------------------------------------------------------------------------------------------------------------------------------------------------------------------------------------------------------------------------------------------------------------------------------------------------------------------------------------------------------------------------------------------------------------------------------------------------------------------------------------------------------------------------------------------------------------------------------------------------------------------------------------------------------------------------------------------------------------------------------------------------------------------------------------------------------------------------------------------------------------------------------------------------------------------------------------------------------------------------------------------------------------------------------------------------------------------------------------------------------------------------------------------------------------------------------------------------------------------------------------------------------------------------------------------------------------------------------------------------------------------------------------------------------------------------------------------------------------------------------------------------------------------------------------------------------------------------------------------------------------------------------CACCCCCTACTAAGTATTATTAACAACTCATTTATTGACCTACCAACTCCCTCAGGCCTATCCTACTTATGAAATTTTGGGTCCTTACTAGGAATTTGCCTAATTACACAAGTTTTAACCGGCCTATTTTTAGCAATACACTACACAACAGATATCCACTTTGCATTTTCATCAGTAGCGCATATCTGCCGCGACGTAAACTACGGATGATTAATTCGAAATATTCATGCCAATGGAGCTTCTTTATTTTTCATTTGTATTTATATACACATTGGACGAGGAATCTACTATGGTTCATTTATACTCAAAGAAACCTGAAACATTGGGGTAGTCCTTTTCTTTATAACCATAGCAACAGCCTTTATAGGATATGTTCTTCCATGAGGACAGATATCCTTCTGGGGGGCCACAGTAATTACTAATTTACTCTCAGCAATCCCATACATAGGCAACACCCTCGTACTATGAATTTGGGGAGGATTCTCAGTGGATCAAGCCACTTTATCCCGATTCTTTGTGTTCCACTTCATCCTACCATTTCTTATCATAGGCACTACTATAATACACCTTCTCTTTCTACATGAAACCGGCTCAAACAATCCAACAGGACTTAACTCGAACCCAG---------------------------------------------------------------------------------------------------------------------------------------------------------------------------------------------------------------------------------------------------------------------------------------------------------------------------------------------------------------------------------------------------------------------------------------------------------------------------------------------------------------------------------------------------------------------------------------------------------------------------------------------------------------------------------------------------------------------------------------------------------------------------------------------------------------------------------------------------------------------------------------------------------------------------------------------------------------------------------------------------------------------------------------------------------------------------------------------------------------------------------------------------------------------------------------------------------------------------------------------------------------------------------------------------------------------------------------------------------------------------------------------------------------------------------------------------------------------------------------------------------------------------------------------------------------------------------------------------------------------------------------------------------------------------------------------------------------------------------------------------------------------------------------------------------------------------------------------------------------------------------------------------------------------------------------------------------------------------------------------------------------------------------------------------------------------------------------------------------------------------------------------------------------------------------------------------------------------------------------------------------------------------------------------------------------------------------------------------------------------------------------------------------------------------------------------------------------------------------------------------------------------------------------------------------------------------------------------------------------------------------------------------------------------------------------------------------------------------------------------------------------------------------------------------------------------------------------------------------------------------------------------------------------------------------------------------------------------------------------------------------------------------------------------------------------------------------------------------------------------------------------------------------------------------------------------------------------------------------------------------------------------------------------------------------------------------------------------------------------------------------------------------------------------------------------------------------------------------------------------------------------------------------------------------------------------------------------------------------------------------------------------------------------------------------------------------------------------------------------------------------------------------------------------------------------------------------------------------------------------------------------------------------------------------------------------------------------------------------------------------------------------------------------------------------------------------------------------------------------------------------------------------------------------------------------------------------ACAACTGGACGACAGATTTTCCAGCCCTTACATGCCCTACGCAATGCAGAGAAGGCCCTCCTTCCAGGCTATCACCCATTCGAATGGAAGCCACCTCTGAAAAATGTTTCTGCCAACACAGATGTTGGGATCATAAATGGACTGTCTGGTCTGGTGCAGTCGGTGGATGACTACCCTGTTGATACAATTTCCAAACGTTTCAGGTACGATGTTGCATTGGCTGCTACCTTGAAAGACATGGAAGAAGAAATTCTAGAAGGCCTCAAAGCTCAAGAGCTGGATGACTACTTTAGTGGTCCTTTCACAGTGGTCATCAAGGAGTCTTGTGACGGAATGGGGGATGTTAGTGAGAAGCACGGCTGTGGCCCTCCAGTTCCAGAAAAAGCTGTTCGCTTCTCATTTACAGTCATGACCATTGCTGTCCCGCAC---GACAAGGACAGCTTGAGGATTTTTGAAGAAAGCAAGCCTAACTCAGAGCTGTGCTGCAAACCTCTCTGTCTCATGCTGGCTGATGAATCGGACCACGAAACACTGACCGCCATCTTGAGCCCCCTCATAGCAGAAAGAGAGGATATGAAATCTAGTGAACTCATGCTTRAACTAGGGGGAATACTTAGAACCTTCAAATTTATGTTCAGGGGTACAGGCTATGATGAGAAGCTTGTGAGGGAGGTGGAAGGGCTTGAGGCCTCTGGCTCTGTCTATATTTGTACCCTGTGTGACTCTACACGCCTGGAAGCCTCTCAGAACATTGTCTTCCACTCCATCACCAGGAGCCACACTGAGAACCTGGAGCGCTATGAGATGTGGCGGTCCAACTCGCACCATGAGTCAGCCGACGATCTGCGGGACAGAGTGAAGGGGGTGTCTGCCAAGCCGTTCATTGAGACCCTCCCATCCATTGATGCATTGCACTGTGACATTGGGAATGCTGCAGAGTTCTACAAGATCTTTCAGCTGGAGATAGGGGAGGTCTACAAGAACCCCAATGCTTCCAAAGAGGAGAGGAAGCGGTGGCAGTCTACTCTCGACAAGCACTTGAGGAAGAAGTTGAACTTGAAGCCAATCATGAGAATGAATGGAAACTTTGCACGGAAGATGATGGCGTATGAGACAGTCGAGGCTGTCTGTGAGCTGATCCGCTCAGAGGAAAGGCGAGTGGCTCTGCGTGAACTCATGGACCTCTATCTGAAGATGAAACCAGTGTGGCGATCATCATGCCCAGCCAAGGAGTGTCCAGAGCTGCTGTGCCAGTACAGCTTCAACTCACAACGCTTTGCAGAGCTTTTATCTACCAAATTCAAGTATCGGTACGAGGGCAAAATCACAAATTACTTTCACAAGACTCTAGCTCATGTGCCCGAGATCATAGAGCGAGATGGCTCCATCGGTGCTTGGGCGAGTGAAGGGAATGAATCTGGAAACAAACTGTTCAGACGTTTCCGGAAAATGAATGCTAGGCAGTCC--------------------------------------------------------------------------------------------------------------------------------------------------------------------------------------------------------------------------------------------------------------------------------------------------------------------------------------------------------------------------------------------------------------------------------------------------------------------------------------------------------------------------------------------------------------------------------------------------------------------------------------------------------------------------------------------------------------------------------------------------------------------------------------------------------------------------------------------------------------------------------------------------------------------------------------------------------------------------------------------------------------------------------------------------------------------------------------------------------------------------------------------------------------------------------------------------------------------------------------------------------------------------------------------------------------------------------------------------------------------------------------------------------------------------------------------------------------------------------------------------------------------------------------------------------------------------------------------------------------------------------------------------------------------------------------------------------------------------------------------------------------------------------------------------------------------------------------------------------------------------------------------------------------------------------------------------------------------------------------------------------------------------------------------------------------------------------------------------------------------------------------------------------------------------------------------------------------------------------------------------------------------------------------------------------------------------------------------------------------------------------------------------------------------------------------------------------------------------------------------------------------------------------------------------------\n"
     ]
    }
   ],
   "source": [
    "# Answer follows\n",
    "\n",
    "my_taxon_sequence = amphib[\"Plethodon_kentucki\"].symbols_as_string()\n",
    "print(my_taxon_sequence)"
   ]
  },
  {
   "cell_type": "markdown",
   "metadata": {},
   "source": [
    "And finally, get your favorite locus. I chose CYTB as my favorite locus. Check to make sure it has actual data in it."
   ]
  },
  {
   "cell_type": "code",
   "execution_count": null,
   "metadata": {},
   "outputs": [],
   "source": []
  },
  {
   "cell_type": "code",
   "execution_count": null,
   "metadata": {
    "code_folding": []
   },
   "outputs": [],
   "source": [
    "#Answer\n",
    "cytb1 = my_taxon_sequence[4097:5236]\n",
    "cytb1"
   ]
  },
  {
   "cell_type": "markdown",
   "metadata": {},
   "source": [
    "All right, good warmup. We're ready to procede now. Since we're at our computers, all warmed up, we're going to procede to do the BLAST search. Then, we will dicuss the paper.\n",
    "\n",
    "We're getting there - we have a taxon; we have one gene. Let's see if it matches anything in NCBI. The below command is roughly what we will enter. "
   ]
  },
  {
   "cell_type": "code",
   "execution_count": null,
   "metadata": {},
   "outputs": [],
   "source": [
    "from Bio.Blast import NCBIWWW\n",
    "from Bio import SeqIO\n",
    "\n",
    "record = SeqIO.read(\"../data/sequence.fasta\", format=\"fasta\")\n",
    "result_handle = NCBIWWW.qblast(\"blastn\", \"nt\", record.format(\"fasta\"))"
   ]
  },
  {
   "cell_type": "markdown",
   "metadata": {},
   "source": [
    "We need to have our sequences stored in a fasta format. We will now generate a fasta-formatted sequence file to query."
   ]
  },
  {
   "cell_type": "code",
   "execution_count": 179,
   "metadata": {},
   "outputs": [],
   "source": [
    "fasta_pleth = {\"Plethodon_kentucki\": cytb1}\n",
    "ofile = open(\"../data/sequence.fasta\", \"w\")\n",
    "\n",
    "for item in fasta_pleth.keys():\n",
    "    ofile.write(\">\" + item + \"\\n\" + fasta_pleth[item] + \"\\n\")\n",
    "\n",
    "ofile.close()"
   ]
  },
  {
   "cell_type": "markdown",
   "metadata": {},
   "source": [
    "Now that we have a fasta file, let's try to query GenBank. `NCBIwww.qblast()` uses the function `qblast` to _query_ BLAST according to our nucleotide sequence."
   ]
  },
  {
   "cell_type": "code",
   "execution_count": 1,
   "metadata": {},
   "outputs": [],
   "source": [
    "from Bio.Blast import NCBIWWW\n",
    "from Bio import SeqIO\n",
    "\n",
    "record = SeqIO.read(\"../data/sequence.fasta\", format=\"fasta\")\n",
    "result_handle = NCBIWWW.qblast(\"blastn\", \"nt\", record.format(\"fasta\"))"
   ]
  },
  {
   "cell_type": "markdown",
   "metadata": {},
   "source": [
    "The data are stored in an internet file format called XML. You can print it like so:"
   ]
  },
  {
   "cell_type": "markdown",
   "metadata": {},
   "source": [
    "### Note: Make a copy of your sequence object, and run operations on it. Most of the read() operations will cause you to have to redo your search."
   ]
  },
  {
   "cell_type": "code",
   "execution_count": 9,
   "metadata": {},
   "outputs": [],
   "source": [
    "print_record = result_handle\n",
    "#print(print_record.read())"
   ]
  },
  {
   "cell_type": "markdown",
   "metadata": {},
   "source": [
    "# Break, then reading discussion\n",
    "\n",
    "- Key quote in Pearson paper:\n",
    "\n",
    "`We infer homology when two sequences or structures share more similarity than would be expected by chance; when excess similarity is observed, the simplest explanation for that excess is that the two sequences did not arise independently, they arose from a common ancestor.`\n",
    "\n",
    "- Key question:\n",
    "\n",
    "`Thus, it is very easy to determine the distribution of scores expected by chance, and it has been observed that unrelated sequences have similarity scores that are indistinguishable from random sequence alignments.` _How can we determine similarity due to chance from similarity due to homology?_\n",
    "\n",
    "# Let's illustrate the problem! Read the below code. Then, discuss it with a partner. Write in comments - what is this doing?"
   ]
  },
  {
   "cell_type": "code",
   "execution_count": 2,
   "metadata": {
    "code_folding": []
   },
   "outputs": [],
   "source": [
    "import random \n",
    "\n",
    "\n",
    "def rando_seq(alphabet, length):\n",
    "    i = 0\n",
    "    new_seq = []\n",
    "    while i <= length:\n",
    "        digit = random.randint(a = 0, b = (len(alphabet) - 1))\n",
    "        # getting a random integer\n",
    "        new_seq.append(alphabet[digit])\n",
    "        # index the list, obtain the letter indicated by \n",
    "        # the random digit\n",
    "        final_seq = ''.join(new_seq)\n",
    "        # Go from a list to a string, no spaces between characters\n",
    "        i = i + 1\n",
    "    return(final_seq)"
   ]
  },
  {
   "cell_type": "markdown",
   "metadata": {},
   "source": [
    "Run the code, especially if you are stuck. Look at the output!"
   ]
  },
  {
   "cell_type": "code",
   "execution_count": 182,
   "metadata": {},
   "outputs": [],
   "source": [
    "alphabet = ['A', 'C', 'G', 'T']\n",
    "length = 99\n",
    "\n",
    "seq_one = rando_seq(alphabet, length)\n",
    "seq_two = rando_seq(alphabet, length)\n"
   ]
  },
  {
   "cell_type": "code",
   "execution_count": 184,
   "metadata": {},
   "outputs": [
    {
     "data": {
      "text/plain": [
       "'TATCGCAGAGTGATCTCTCCTCTCTTACGCTGTCTGAAGTGATAACCGCACTTTCATACCATTCTACGAACATCGTTGGCCCAACATTACAAACATTTAC'"
      ]
     },
     "execution_count": 184,
     "metadata": {},
     "output_type": "execute_result"
    }
   ],
   "source": [
    "seq_two"
   ]
  },
  {
   "cell_type": "markdown",
   "metadata": {},
   "source": [
    "Now, I would like you to write a function to figure out how many base pairs at a particular position in this random sequence are the same.  As a brief gut check, how many do we think will be the same?"
   ]
  },
  {
   "cell_type": "code",
   "execution_count": 3,
   "metadata": {
    "code_folding": []
   },
   "outputs": [],
   "source": [
    "# Answer follows below\n",
    "def true_and_false(sequence_one, sequence_two):\n",
    "    trues = []\n",
    "    falses = []\n",
    "\n",
    "    for base_one, base_two in zip(seq_one, seq_two):\n",
    "        if base_one == base_two:\n",
    "            trues.append(\"TRUE\")\n",
    "        else:\n",
    "            falses.append(\"FALSE\")\n",
    "    return(trues, falses)\n"
   ]
  },
  {
   "cell_type": "markdown",
   "metadata": {},
   "source": [
    "How many really are the same? What does that mean for homology searching? Run the code a couple times - is the number of base pairs that are the same in a sequence always the same? "
   ]
  },
  {
   "cell_type": "code",
   "execution_count": 186,
   "metadata": {},
   "outputs": [
    {
     "name": "stdout",
     "output_type": "stream",
     "text": [
      "25\n",
      "75\n"
     ]
    }
   ],
   "source": [
    "alphabet = ['A', 'C', 'G', 'T']\n",
    "length = 99\n",
    "\n",
    "seq_one = rando_seq(alphabet, length)\n",
    "seq_two = rando_seq(alphabet, length)\n",
    "\n",
    "trues, falses = true_and_false(seq_one, seq_two)\n",
    "\n",
    "print(len(trues))\n",
    "print(len(falses))"
   ]
  },
  {
   "cell_type": "markdown",
   "metadata": {},
   "source": [
    "I hate small sample sizes, let's write a loop to run the code 10000 times, and save the number of \"same\" sites to a dataframe for each simulation."
   ]
  },
  {
   "cell_type": "code",
   "execution_count": 10,
   "metadata": {
    "code_folding": []
   },
   "outputs": [],
   "source": [
    "# Answer follows \n",
    "import pandas as pd\n",
    "\n",
    "alphabet = ['A', 'C', 'G', 'T']\n",
    "length = 99\n",
    "tries = 10000\n",
    "\n",
    "i = 0\n",
    "true_col = []\n",
    "false_col = []\n",
    "while i <= tries:\n",
    "    seq_one = rando_seq(alphabet, length)\n",
    "    seq_two = rando_seq(alphabet, length)\n",
    "    trues, falses = true_and_false(seq_one, seq_two)\n",
    "    true_col.append(len(trues))\n",
    "    false_col.append(len(falses))\n",
    "    i = i + 1\n",
    "\n",
    "percentage_df = pd.DataFrame(\n",
    "    {'Same': true_col,\n",
    "     'Different': false_col})\n",
    "\n"
   ]
  },
  {
   "cell_type": "markdown",
   "metadata": {},
   "source": [
    "Now, let's plot the number of \"same\" sites. A bar plot is fine for this."
   ]
  },
  {
   "cell_type": "code",
   "execution_count": 11,
   "metadata": {
    "code_folding": []
   },
   "outputs": [
    {
     "data": {
      "image/png": "[encoded data removed]",
      "text/plain": [
       "<Figure size 640x480 with 1 Axes>"
      ]
     },
     "metadata": {},
     "output_type": "display_data"
    },
    {
     "data": {
      "text/plain": [
       "<ggplot: (-9223363279457263279)>"
      ]
     },
     "execution_count": 11,
     "metadata": {},
     "output_type": "execute_result"
    }
   ],
   "source": [
    "import plotnine as p9\n",
    "\n",
    "(p9.ggplot(data=percentage_df,\n",
    "           mapping=p9.aes(x='Same'))\n",
    "    + p9.geom_bar()\n",
    ")"
   ]
  },
  {
   "cell_type": "markdown",
   "metadata": {},
   "source": [
    "### Some sites in an alignment will be the same by chance\n",
    "### Some sites will be similar due to convergence environmental or life history factors \n",
    "\n",
    "We want to:\n",
    "\n",
    "- Minimize false positives (non-homologs with significant scores; Type I errors)\n",
    "- Find true homologs\n",
    "- Minimize false negatives (homologs with non-significant scores; Type II errors)\n",
    "\n",
    "How do we do this? \n",
    "\n",
    "- Develop a distribution of expected similarities\n",
    "    - Common rule of thumb is that 30% of above sequence identity is fine. Based on what we've done above, is that fine?\n",
    "    - E-values (\"Expect\" value): Excess homology compared to random. We take that distribution we plotted above, and transform it into a value. 0.001 generally taken to be a 'good' E-Value.\n",
    "- Scale our expectations with size\n",
    "\n"
   ]
  },
  {
   "cell_type": "code",
   "execution_count": 3,
   "metadata": {},
   "outputs": [],
   "source": [
    "save_file = open(\"results.xml\", \"w\")\n",
    "save_file.write(result_handle.read())\n",
    "save_file.close()"
   ]
  },
  {
   "cell_type": "markdown",
   "metadata": {},
   "source": [
    "Take a look at this file. This is very useful and easy-to-read output. "
   ]
  },
  {
   "cell_type": "code",
   "execution_count": 4,
   "metadata": {},
   "outputs": [],
   "source": [
    "from Bio.Blast import NCBIXML\n",
    "\n",
    "parsed = NCBIXML.read(open(\"results.xml\"))"
   ]
  },
  {
   "cell_type": "markdown",
   "metadata": {},
   "source": [
    "The `parsed` object will contain references to the:\n",
    "- Search that was performed\n",
    "- Items that were found\n",
    "\n",
    "Try tab-completing the below to look at some of the options."
   ]
  },
  {
   "cell_type": "code",
   "execution_count": null,
   "metadata": {},
   "outputs": [],
   "source": [
    "parsed."
   ]
  },
  {
   "cell_type": "markdown",
   "metadata": {},
   "source": [
    "One particular feature that is likely to be of interest is the `alignments` feature. Take a look at one alignments' stats:"
   ]
  },
  {
   "cell_type": "code",
   "execution_count": 5,
   "metadata": {},
   "outputs": [
    {
     "name": "stdout",
     "output_type": "stream",
     "text": [
      "gi|125380686|gb|DQ994948.1| Plethodon kentucki voucher RH 66693 cytochrome b (cytb) gene, partial cds; mitochondrial\n",
      "           Length = 625\n",
      "\n"
     ]
    }
   ],
   "source": [
    "print(parsed.alignments[0])"
   ]
  },
  {
   "cell_type": "markdown",
   "metadata": {},
   "source": [
    "We can even take a look at multiple hits - what were they? To what species do they belong? "
   ]
  },
  {
   "cell_type": "code",
   "execution_count": 6,
   "metadata": {},
   "outputs": [
    {
     "name": "stdout",
     "output_type": "stream",
     "text": [
      "gi|125380686|gb|DQ994948.1| Plethodon kentucki voucher RH 66693 cytochrome b (cytb) gene, partial cds; mitochondrial\n",
      "           Length = 625\n",
      "\n",
      "gi|51979883|gb|AY728222.1| Plethodon petraeus mitochondrion, complete genome\n",
      "           Length = 19235\n",
      "\n",
      "gi|125380683|gb|DQ994946.1| Plethodon jordani voucher JB 201-73-01 cytochrome b (cytb) gene, partial cds; mitochondrial\n",
      "           Length = 644\n",
      "\n",
      "gi|125380685|gb|DQ994947.1| Plethodon jordani voucher JB 201-67w-01 cytochrome b-like (cytb) gene, partial sequence; mitochondrial\n",
      "           Length = 649\n",
      "\n",
      "gi|125380736|gb|DQ994973.1| Plethodon petraeus voucher RWV S21-B cytochrome b (cytb) gene, partial cds; mitochondrial\n",
      "           Length = 630\n",
      "\n",
      "gi|125380641|gb|DQ994924.1| Plethodon chlorobryonis voucher JJW 1807 cytochrome b (cytb) gene, partial cds; mitochondrial\n",
      "           Length = 649\n",
      "\n",
      "gi|125380761|gb|DQ994986.1| Plethodon shermani voucher JJW 1741 cytochrome b (cytb) gene, partial cds; mitochondrial\n",
      "           Length = 649\n",
      "\n",
      "gi|125380664|gb|DQ994936.1| Plethodon glutinosus voucher APPSU 10209 cytochrome b (cytb) gene, partial cds; mitochondrial\n",
      "           Length = 626\n",
      "\n",
      "gi|125380771|gb|DQ994991.1| Plethodon variolatus voucher UTA A-56973 cytochrome b (cytb) gene, partial cds; mitochondrial\n",
      "           Length = 649\n",
      "\n",
      "gi|125380648|gb|DQ994928.1| Plethodon cylindraceus voucher UTA A-56967 cytochrome b (cytb) gene, partial cds; mitochondrial\n",
      "           Length = 649\n",
      "\n",
      "gi|327239997|gb|JF504060.1| Plethodon caddoensis voucher DBS_1935 cytochrome b (cytb) gene, partial cds; mitochondrial\n",
      "           Length = 1052\n",
      "\n",
      "gi|327239995|gb|JF504059.1| Plethodon caddoensis voucher DBS_1934 cytochrome b (cytb) gene, partial cds; mitochondrial >gi|327239999|gb|JF504061.1| Plethodon caddoensis voucher DBS_1936 cytochrome b (cytb) gene, partial cds; mitochondrial >gi|327240001|gb|JF504062.1| Plethodon caddoensis voucher DBS_1937 cytochrome b (cytb) gene, partial cds; mitochondrial\n",
      "           Length = 1052\n",
      "\n",
      "gi|327239933|gb|JF504028.1| Plethodon caddoensis voucher DBS_1125 cytochrome b (cytb) gene, partial cds; mitochondrial\n",
      "           Length = 1052\n",
      "\n",
      "gi|327239929|gb|JF504026.1| Plethodon caddoensis voucher DBS_1123 cytochrome b (cytb) gene, partial cds; mitochondrial >gi|327239931|gb|JF504027.1| Plethodon caddoensis voucher DBS_1124 cytochrome b (cytb) gene, partial cds; mitochondrial\n",
      "           Length = 1052\n",
      "\n",
      "gi|327239901|gb|JF504012.1| Plethodon caddoensis voucher DBS_1030 cytochrome b (cytb) gene, partial cds; mitochondrial\n",
      "           Length = 1052\n",
      "\n",
      "gi|125380773|gb|DQ994992.1| Plethodon variolatus voucher UTA A-56960 cytochrome b-like (cytb) gene, partial sequence; mitochondrial\n",
      "           Length = 649\n",
      "\n",
      "gi|125380759|gb|DQ994985.1| Plethodon shermani voucher RH 73892 cytochrome b (cytb) gene, partial cds; mitochondrial\n",
      "           Length = 649\n",
      "\n",
      "gi|125380748|gb|DQ994979.1| Plethodon sequoyah voucher APPSU 24547 cytochrome b (cytb) gene, partial cds; mitochondrial\n",
      "           Length = 649\n",
      "\n",
      "gi|125380720|gb|DQ994965.1| Plethodon oconaluftee voucher JJW 1626 cytochrome b (cytb) gene, partial cds; mitochondrial\n",
      "           Length = 649\n",
      "\n",
      "gi|125380769|gb|DQ994990.1| Plethodon teyahalee voucher RH 55224 cytochrome b (cytb) gene, partial cds; mitochondrial\n",
      "           Length = 649\n",
      "\n",
      "gi|327240517|gb|JF504320.1| Plethodon albagula voucher DBS_2181 cytochrome b (cytb) gene, partial cds; mitochondrial\n",
      "           Length = 1052\n",
      "\n",
      "gi|327240219|gb|JF504171.1| Plethodon caddoensis voucher DBS_2074 cytochrome b (cytb) gene, partial cds; mitochondrial\n",
      "           Length = 1052\n",
      "\n",
      "gi|327240209|gb|JF504166.1| Plethodon caddoensis voucher DBS_2069 cytochrome b (cytb) gene, partial cds; mitochondrial >gi|327240223|gb|JF504173.1| Plethodon caddoensis voucher DBS_2076 cytochrome b (cytb) gene, partial cds; mitochondrial >gi|327240231|gb|JF504177.1| Plethodon caddoensis voucher DBS_2080 cytochrome b (cytb) gene, partial cds; mitochondrial >gi|327240233|gb|JF504178.1| Plethodon caddoensis voucher DBS_2081 cytochrome b (cytb) gene, partial cds; mitochondrial >gi|327240235|gb|JF504179.1| Plethodon caddoensis voucher DBS_2082 cytochrome b (cytb) gene, partial cds; mitochondrial\n",
      "           Length = 1052\n",
      "\n",
      "gi|327240035|gb|JF504079.1| Plethodon caddoensis voucher DBS_1957 cytochrome b (cytb) gene, partial cds; mitochondrial\n",
      "           Length = 1052\n",
      "\n",
      "gi|327240007|gb|JF504065.1| Plethodon caddoensis voucher DBS_1940 cytochrome b (cytb) gene, partial cds; mitochondrial\n",
      "           Length = 1052\n",
      "\n",
      "gi|327240005|gb|JF504064.1| Plethodon caddoensis voucher DBS_1939 cytochrome b (cytb) gene, partial cds; mitochondrial >gi|327240009|gb|JF504066.1| Plethodon caddoensis voucher DBS_1941 cytochrome b (cytb) gene, partial cds; mitochondrial\n",
      "           Length = 1052\n",
      "\n",
      "gi|327239903|gb|JF504013.1| Plethodon caddoensis voucher DBS_1031 cytochrome b (cytb) gene, partial cds; mitochondrial >gi|327239905|gb|JF504014.1| Plethodon caddoensis voucher DBS_1032 cytochrome b (cytb) gene, partial cds; mitochondrial >gi|327239909|gb|JF504016.1| Plethodon caddoensis voucher DBS_1034 cytochrome b (cytb) gene, partial cds; mitochondrial >gi|327240031|gb|JF504077.1| Plethodon caddoensis voucher DBS_1955 cytochrome b (cytb) gene, partial cds; mitochondrial >gi|327240033|gb|JF504078.1| Plethodon caddoensis voucher DBS_1956 cytochrome b (cytb) gene, partial cds; mitochondrial >gi|327240037|gb|JF504080.1| Plethodon caddoensis voucher DBS_1958 cytochrome b (cytb) gene, partial cds; mitochondrial >gi|327240039|gb|JF504081.1| Plethodon caddoensis voucher DBS_1959 cytochrome b (cytb) gene, partial cds; mitochondrial\n",
      "           Length = 1052\n",
      "\n",
      "gi|327239897|gb|JF504010.1| Plethodon caddoensis voucher DBS_1028 cytochrome b (cytb) gene, partial cds; mitochondrial >gi|327239899|gb|JF504011.1| Plethodon caddoensis voucher DBS_1029 cytochrome b (cytb) gene, partial cds; mitochondrial >gi|327239907|gb|JF504015.1| Plethodon caddoensis voucher DBS_1033 cytochrome b (cytb) gene, partial cds; mitochondrial >gi|327240435|gb|JF504279.1| Plethodon caddoensis voucher DBS_496 cytochrome b (cytb) gene, partial cds; mitochondrial >gi|327240437|gb|JF504280.1| Plethodon caddoensis voucher DBS_497 cytochrome b (cytb) gene, partial cds; mitochondrial >gi|327240439|gb|JF504281.1| Plethodon caddoensis voucher DBS_498 cytochrome b (cytb) gene, partial cds; mitochondrial >gi|327240443|gb|JF504283.1| Plethodon caddoensis voucher DBS_515 cytochrome b (cytb) gene, partial cds; mitochondrial\n",
      "           Length = 1052\n",
      "\n",
      "gi|125380703|gb|DQ994956.1| Plethodon metcalfi voucher RH 76539 cytochrome b (cytb) gene, partial cds; mitochondrial\n",
      "           Length = 649\n",
      "\n",
      "gi|125380668|gb|DQ994938.1| Plethodon glutinosus voucher UTA A-56969 cytochrome b (cytb) gene, partial cds; mitochondrial\n",
      "           Length = 649\n",
      "\n",
      "gi|125380631|gb|DQ994918.1| Plethodon caddoensis voucher DBS 498 cytochrome b (cytb) gene, partial cds; mitochondrial\n",
      "           Length = 637\n",
      "\n",
      "gi|327240441|gb|JF504282.1| Plethodon caddoensis voucher DBS_499 cytochrome b (cytb) gene, partial cds; mitochondrial\n",
      "           Length = 1052\n",
      "\n",
      "gi|327240321|gb|JF504222.1| Plethodon caddoensis voucher DBS_2143 cytochrome b (cytb) gene, partial cds; mitochondrial >gi|327240323|gb|JF504223.1| Plethodon caddoensis voucher DBS_2144 cytochrome b (cytb) gene, partial cds; mitochondrial\n",
      "           Length = 1052\n",
      "\n",
      "gi|327240229|gb|JF504176.1| Plethodon caddoensis voucher DBS_2079 cytochrome b (cytb) gene, partial cds; mitochondrial\n",
      "           Length = 1052\n",
      "\n",
      "gi|327240221|gb|JF504172.1| Plethodon caddoensis voucher DBS_2075 cytochrome b (cytb) gene, partial cds; mitochondrial\n",
      "           Length = 1052\n",
      "\n",
      "gi|327240213|gb|JF504168.1| Plethodon caddoensis voucher DBS_2071 cytochrome b (cytb) gene, partial cds; mitochondrial >gi|327240215|gb|JF504169.1| Plethodon caddoensis voucher DBS_2072 cytochrome b (cytb) gene, partial cds; mitochondrial >gi|327240217|gb|JF504170.1| Plethodon caddoensis voucher DBS_2073 cytochrome b (cytb) gene, partial cds; mitochondrial >gi|327240227|gb|JF504175.1| Plethodon caddoensis voucher DBS_2078 cytochrome b (cytb) gene, partial cds; mitochondrial\n",
      "           Length = 1052\n",
      "\n",
      "gi|327240211|gb|JF504167.1| Plethodon caddoensis voucher DBS_2070 cytochrome b (cytb) gene, partial cds; mitochondrial\n",
      "           Length = 932\n",
      "\n",
      "gi|327240011|gb|JF504067.1| Plethodon caddoensis voucher DBS_1942 cytochrome b (cytb) gene, partial cds; mitochondrial\n",
      "           Length = 1052\n",
      "\n",
      "gi|327240003|gb|JF504063.1| Plethodon caddoensis voucher DBS_1938 cytochrome b (cytb) gene, partial cds; mitochondrial\n",
      "           Length = 1052\n",
      "\n",
      "gi|327239891|gb|JF504007.1| Plethodon caddoensis voucher DBS_1021 cytochrome b (cytb) gene, partial cds; mitochondrial\n",
      "           Length = 1052\n",
      "\n",
      "gi|327239889|gb|JF504006.1| Plethodon caddoensis voucher DBS_1020 cytochrome b (cytb) gene, partial cds; mitochondrial\n",
      "           Length = 1048\n",
      "\n",
      "gi|125380722|gb|DQ994966.1| Plethodon oconaluftee voucher JJW 1683 cytochrome b (cytb) gene, partial cds; mitochondrial\n",
      "           Length = 649\n",
      "\n",
      "gi|125380626|gb|DQ994915.1| Plethodon aureolus voucher JJW 1762 cytochrome b-like (cytb) gene, partial sequence; mitochondrial\n",
      "           Length = 649\n",
      "\n",
      "gi|226426798|gb|FJ611457.1| Plethodon fourchensis voucher DBS 1761 cytochrome b (cytb) gene, partial cds; mitochondrial\n",
      "           Length = 1052\n",
      "\n",
      "gi|226426782|gb|FJ611449.1| Plethodon fourchensis voucher DBS 1751 cytochrome b (cytb) gene, partial cds; mitochondrial\n",
      "           Length = 1052\n",
      "\n",
      "gi|125380635|gb|DQ994920.1| Plethodon chattahoochee voucher UTA A-56965 cytochrome b (cytb) gene, partial cds; mitochondrial\n",
      "           Length = 649\n",
      "\n",
      "gi|327240417|gb|JF504270.1| Plethodon caddoensis voucher DBS_2223 cytochrome b (cytb) gene, partial cds; mitochondrial\n",
      "           Length = 1052\n",
      "\n",
      "gi|327240271|gb|JF504197.1| Plethodon caddoensis voucher DBS_2102 cytochrome b (cytb) gene, partial cds; mitochondrial >gi|327240273|gb|JF504198.1| Plethodon caddoensis voucher DBS_2103 cytochrome b (cytb) gene, partial cds; mitochondrial\n",
      "           Length = 1052\n",
      "\n",
      "gi|327240269|gb|JF504196.1| Plethodon caddoensis voucher DBS_2101 cytochrome b (cytb) gene, partial cds; mitochondrial\n",
      "           Length = 1031\n",
      "\n",
      "gi|327240267|gb|JF504195.1| Plethodon caddoensis voucher DBS_2100 cytochrome b (cytb) gene, partial cds; mitochondrial\n",
      "           Length = 1052\n",
      "\n"
     ]
    }
   ],
   "source": [
    "alignment_set = parsed.alignments\n",
    "for individual_alignment in alignment_set:\n",
    "    print(individual_alignment)"
   ]
  },
  {
   "cell_type": "markdown",
   "metadata": {},
   "source": [
    "Let's load up the tree from last class! Have a look at a couple of the taxa that have come up in your BLAST search. They seem to make a certain amount of sense - we are generally retrieving hits from related species."
   ]
  },
  {
   "cell_type": "code",
   "execution_count": 7,
   "metadata": {},
   "outputs": [
    {
     "data": {
      "text/plain": [
       "\"(((((((((Plethodon_chlorobryonis_ott57750,Plethodon_variolatus_ott162442),Plethodon_chattahoochee_ott161611),(((Plethodon_cylindraceus_ott128947,Plethodon_teyahalee_ott208588),(Plethodon_aureolus_ott367241,Plethodon_cheoah_ott942947)),Plethodon_glutinosus_ott534317)),((Plethodon_montanus_ott128931,Plethodon_metcalfi_ott128944),(Plethodon_amplus_ott128937,Plethodon_meridianus_ott942954))),(((((((Plethodon_mississippi_ott128934,Plethodon_kiamichi_ott229842),((((Plethodon_savannah_ott128940,Plethodon_ocmulgee_ott162445),Plethodon_grobmani_ott145459),Plethodon_kisatchie_ott596896),(Plethodon_albagula_ott162448,Plethodon_sequoyah_ott596892))),Plethodon_shermani_ott942942),Plethodon_yonahlossee_ott515343),Plethodon_jordani_ott515340),Plethodon_kentucki_ott942949),(Plethodon_caddoensis_ott162451,(Plethodon_ouachitae_ott385557,Plethodon_fourchensis_ott732220)))),Plethodon_petraeus_ott366877),(((((Plethodon_ventralis_ott128950,Plethodon_dorsalis_ott841810),Plethodon_angusticlavius_ott229834),Plethodon_welleri_ott208597),(Plethodon_wehrlei_ott208594,Plethodon_punctatus_ott841820)),Plethodon_websteri_ott841808)),(((Plethodon_hoffmani_ott732218,(((Plethodon_richmondi_ott732228,Plethodon_electromorphus_ott841816),Plethodon_hubrichti_ott923033),Plethodon_nettingi_ott841814)),(Plethodon_virginia_ott841818,(Plethodon_shenandoah_ott923023,Plethodon_cinereus_ott923025))),Plethodon_serratus_ott732226)),(((Plethodon_vandykei_ott144790,Plethodon_idahoensis_ott514892),Plethodon_larselli_ott1088959),(((Plethodon_vehiculum_ott208584,Plethodon_dunni_ott366506),((Plethodon_stormi_ott208586,Plethodon_elongatus_ott888213),Plethodon_asupak_ott857405)),Plethodon_neomexicanus_ott1088957)),'Plethodon sp. MJM-2002 ott249282',Plethodon_longicrus_ott314951,Plethodon_oconaluftee_ott314954,Plethodon_sherando_ott1002063,Plethodon_ainsworthi_ott3620613)Plethodon_ott515349;\""
      ]
     },
     "execution_count": 7,
     "metadata": {},
     "output_type": "execute_result"
    }
   ],
   "source": [
    "import pandas as pd\n",
    "import dendropy\n",
    "\n",
    "pd.options.display.max_colwidth = 1000000\n",
    "salamanders = pd.read_json(\"salamanders.json\")\n",
    "salamanders\n",
    "\n",
    "pd.options.display.max_colwidth = 1000000\n",
    "newick_tree = salamanders.newick.to_string(index=False)\n",
    "#View our Tree\n",
    "newick_tree"
   ]
  },
  {
   "cell_type": "markdown",
   "metadata": {},
   "source": [
    "Load the Newick tree into IcyTree, and locate your taxon with the `Search` function. Look at the taxa you see in your BLAST hits. Do you feel like it's likely that these hits are discovering real homology?"
   ]
  },
  {
   "cell_type": "markdown",
   "metadata": {},
   "source": [
    "![](img/Twitter.png)"
   ]
  },
  {
   "cell_type": "markdown",
   "metadata": {},
   "source": [
    "But given what we have read about BLAST, do we feel good about what we did? Pearson noted some best practices for BLAST. He notes that we should use protein. Did we do this? Did we specify any sort of E-Value constraint?"
   ]
  },
  {
   "cell_type": "markdown",
   "metadata": {},
   "source": [
    "## Homework\n",
    "\n",
    "1. Simulate two nucleotide sequences (2 pts)"
   ]
  },
  {
   "cell_type": "code",
   "execution_count": null,
   "metadata": {},
   "outputs": [],
   "source": []
  },
  {
   "cell_type": "markdown",
   "metadata": {},
   "source": [
    "2. Make a BLAST query of one of them. Put the code in the cell below. In the Markdown cell below that one, paste in a couple of the hits (i.e, what did your random sequence match?????). (5 pts)"
   ]
  },
  {
   "cell_type": "code",
   "execution_count": null,
   "metadata": {},
   "outputs": [],
   "source": []
  },
  {
   "cell_type": "markdown",
   "metadata": {},
   "source": [
    "  \n",
    "  "
   ]
  },
  {
   "cell_type": "markdown",
   "metadata": {},
   "source": [
    "3. Look at the documentation for the [NCBIWWW.qblast](http://biopython.org/DIST/docs/api/Bio.Blast.NCBIWWW-module.html) function. What are two arguments or parameters we could manipulate to more closely follow Bill Pearson's suggestions? Why would these be good values to manipulate? (3 pts)"
   ]
  },
  {
   "cell_type": "markdown",
   "metadata": {},
   "source": [
    " \n",
    " "
   ]
  },
  {
   "cell_type": "markdown",
   "metadata": {},
   "source": [
    "Download this notebook with your answers and email to me by 10 am Tuesday."
   ]
  },
  {
   "cell_type": "code",
   "execution_count": null,
   "metadata": {},
   "outputs": [],
   "source": []
  },
  {
   "cell_type": "code",
   "execution_count": 10,
   "metadata": {},
   "outputs": [
    {
     "ename": "AttributeError",
     "evalue": "'str' object has no attribute 'seq'",
     "output_type": "error",
     "traceback": [
      "\u001b[0;31m---------------------------------------------------------------------------\u001b[0m",
      "\u001b[0;31mAttributeError\u001b[0m                            Traceback (most recent call last)",
      "\u001b[0;32m<ipython-input-10-491cc4e9a753>\u001b[0m in \u001b[0;36m<module>\u001b[0;34m()\u001b[0m\n\u001b[1;32m      3\u001b[0m \u001b[0;32mfor\u001b[0m \u001b[0mgb_record\u001b[0m \u001b[0;32min\u001b[0m \u001b[0mprint_record\u001b[0m\u001b[0;34m:\u001b[0m\u001b[0;34m\u001b[0m\u001b[0m\n\u001b[1;32m      4\u001b[0m     \u001b[0;31m# now do something with the record\u001b[0m\u001b[0;34m\u001b[0m\u001b[0;34m\u001b[0m\u001b[0m\n\u001b[0;32m----> 5\u001b[0;31m     \u001b[0mprint\u001b[0m\u001b[0;34m(\u001b[0m\u001b[0mgb_record\u001b[0m\u001b[0;34m.\u001b[0m\u001b[0mseq\u001b[0m\u001b[0;34m)\u001b[0m\u001b[0;34m\u001b[0m\u001b[0m\n\u001b[0m",
      "\u001b[0;31mAttributeError\u001b[0m: 'str' object has no attribute 'seq'"
     ]
    }
   ],
   "source": [
    "from Bio.Blast import NCBIXML\n",
    "\n",
    "for gb_record in print_record:\n",
    "    # now do something with the record\n",
    "    print(gb_record.seq)"
   ]
  },
  {
   "cell_type": "code",
   "execution_count": null,
   "metadata": {},
   "outputs": [],
   "source": []
  }
 ],
 "metadata": {
  "kernelspec": {
   "display_name": "Python 3",
   "language": "python",
   "name": "python3"
  },
  "language_info": {
   "codemirror_mode": {
    "name": "ipython",
    "version": 3
   },
   "file_extension": ".py",
   "mimetype": "text/x-python",
   "name": "python",
   "nbconvert_exporter": "python",
   "pygments_lexer": "ipython3",
   "version": "3.6.5"
  }
 },
 "nbformat": 4,
 "nbformat_minor": 2
}
