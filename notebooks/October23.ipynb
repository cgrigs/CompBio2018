{
 "cells": [
  {
   "cell_type": "markdown",
   "metadata": {},
   "source": [
    "# October 23"
   ]
  },
  {
   "cell_type": "markdown",
   "metadata": {},
   "source": [
    "# Why should I package my Python code? \n",
    "\n",
    "- Reproducibility: All the code is packaged in one place, where we can find it.\n",
    "- Portability: When a package is installed, we can load it from anywhere on our computer.\n",
    "- Reusability: You don't have to copy and paste files around.\n",
    "\n",
    "What we will do today is practice taking some of the code we have, and placing it into a package. We will then learn about how to deploy it to LONI.\n",
    "\n",
    "But first, we need to learn how LONI works a little bit. What is a high-performance cluster computer? \n",
    "\n",
    "![](https://media.giphy.com/media/XTAqdwCL2oEus/giphy.gif)"
   ]
  },
  {
   "cell_type": "markdown",
   "metadata": {},
   "source": [
    "A high performance cluster computer is just a bunch of computers wired up together so that users who need more power than a single computer might offer can have access to it. For example, LONI, when hurricanes come, pre-empts all the jobs on it so that the state can model hurricane paths. Modeling hurricane paths takes up tons of data and a lot of computer processing power to make mathematical models of what the hurricane will do. HPC also makes it possible to run a calculation for a really long time. \n",
    "\n",
    "\n",
    "- Speed. With many more CPU cores, often with higher performance specs than a typical laptop or desktop, HPC systems can offer significant speed up.\n",
    "- Volume. Many HPC systems have both the processing memory (RAM) and disk storage to handle very large amounts of data. Terabytes of RAM and petabytes of storage are available for research projects.\n",
    "- Efficiency. Many HPC systems operate a pool of resources that are drawn on by many users. In most cases when the pool is large and diverse enough the resources on the system are used almost constantly, with individual users only using (and possibly paying for) a fraction of the system.\n",
    "- Cost. Bulk purchasing and government funding mean that the cost to the research community for using these systems is significantly less than it would be otherwise.\n",
    "- Convenience. Maybe your calculations just take a long time to run or are otherwise inconvenient to run on your personal computer. There’s no need to tie up your own computer for hours when you can use someone else’s instead.\n",
    "\n",
    "![](img/DONOT.jpg)\n",
    "\n",
    "\n",
    "Let's now log in to LONI:\n",
    "\n",
    "```\n",
    "ssh your_username@qb2.loni.org\n",
    "```\n",
    "\n",
    "What does this command mean?"
   ]
  },
  {
   "cell_type": "markdown",
   "metadata": {},
   "source": [
    "# Welcome to the Cloud\n",
    "\n",
    "How is LONI structured? Let's make a map. I'll take a picture of it and add it to the notes.\n",
    "\n",
    "What software can we use? Type:\n",
    "\n",
    "```\n",
    "module avail\n",
    "```\n",
    "\n",
    "Let's navigate in our work directory:\n",
    "\n",
    "```\n",
    "cd /work/your_username\n",
    "```\n",
    "\n",
    "We're going to make ourselves an install of Python. So far, I haven't made any of you actually do any installs on your computers. That's quite intentional. Quite nicely, most of our packages are already available on LONI. For example, we can access all the python packages from this class by typing:\n",
    "\n",
    "```\n",
    "module load python/3.5.2-anaconda-tensorflow\n",
    "```\n",
    "\n",
    "Something that is nice about HPC is that scientific software can be finnicky to install and use. But if you have access to an HPC, you can ask their staff to deal with all the frustrating software stuff. Next, we're going to install the WrightLabUtils package.\n",
    "\n",
    "\n",
    "```\n",
    "pip install git+https://github.com/wrightaprilm/wrightlabutils.git  --user\n",
    "```\n",
    "\n",
    "pip is what is called a 'package manager'. Package managers make it easy to install software that interoperates with Python. It will also install any packages that my code depends on. This is really nice! \n",
    "\n"
   ]
  },
  {
   "cell_type": "markdown",
   "metadata": {},
   "source": [
    "# Let's practice a little bit of terminal navigation\n",
    "\n",
    "In your /work directory, I want you to clone your fork of the [classroom set](https://github.com/wrightaprilm/classroom_set) repo.\n",
    "\n",
    "Next, we will set my copy of the repo as the \"upstream\". The upstream is the main repository. For example, if you were working with a piece of software, and you wanted to make sure you stayed up to date with what the people who write the software are doing, you could pull in their changes as they occur. \n",
    "\n",
    "```\n",
    "git remote add amw https://github.com/wrightaprilm/classroom_set.git\n",
    "```\n",
    "\n",
    "Now, do a pull from my copy:\n",
    "\n",
    "```\n",
    "git pull amw master\n",
    "```\n",
    "\n",
    "Go back one level:\n",
    "\n",
    "```\n",
    "cd ../\n",
    "```\n",
    "\n",
    "Type 'ls'. With a partner, on a board, update your LONI map. What is where?\n"
   ]
  },
  {
   "cell_type": "markdown",
   "metadata": {},
   "source": [
    "# Mix and match: Python and the terminal\n",
    "\n",
    "Open a python terminal by typing \n",
    "\n",
    "```\n",
    "ipython\n",
    "```\n",
    "\n",
    "Import the module 'wrightlabutils'. See if you can view the help for the function `parse_dataframe`. Then, see if you can find the data somewhere to run it.\n",
    "\n",
    "Change directories back to your home. What happens now if you open python and try to run the script? Can you figure out how to tell Python the real path to your file?\n",
    "\n",
    "Exit python by hitting Ctrl + D.\n",
    "\n",
    "In the shell, type:\n",
    "\n",
    "```\n",
    "\n",
    "history > logfile\n",
    "\n",
    "```"
   ]
  },
  {
   "cell_type": "markdown",
   "metadata": {},
   "source": [
    "# Moving files\n",
    "\n",
    "We're going to practice moving files with SFTP. sftp is an interactive way of downloading and uploading files. Let’s connect to a cluster, using sftp- you’ll notice it works the same way as SSH:\n",
    "\n",
    "```\n",
    "sftp yourUsername@remote.computer.address\n",
    "```\n",
    "\n",
    "Try typing `help`.\n",
    " \n",
    "If we wanted to track our history, and download the history file, which set of commands could we use? Try them. "
   ]
  },
  {
   "cell_type": "markdown",
   "metadata": {},
   "source": [
    "# If we have time: CMD-line mapping scripts"
   ]
  },
  {
   "cell_type": "markdown",
   "metadata": {},
   "source": [
    "# Tuesday, we will be joined remotely by LONI staff\n",
    "\n",
    "- For the next project (week of Oct. 12), we will mostly be looking at automating repetitive, memory-intensive tasks on LONI. Left to my own devices, I will have you build phylogenies. There will be a component of downloading data to LONI, running a compute-intensive piece of software, and automation the collection of some sort of summary statistic from it. If there is a task you would rather do, or a dataset you would rather use than the salamanders, please let me know by Nov. 1, so I can do a little bit of legwork on feasibility. \n",
    "- Everybody: Find a paper on a topic of your choice that involves some amount of computation. Read the methods carefully. For next Tues, add a file called `yourlastname_paperdiscussion` to your fork of classroom set with:\n",
    "    - The URL of the paper\n",
    "    - What softwares you saw them use\n",
    "    - What the data were\n",
    "    - Add, commit, and push to your repo. Make a pull request to mine.\n",
    "    \n",
    "- Have a look at [this](https://www.nytimes.com/2017/11/01/education/edlife/stem-jobs-industry-careers.html) article. Do any of the top skills look familiar?\n",
    "\n"
   ]
  },
  {
   "cell_type": "code",
   "execution_count": null,
   "metadata": {},
   "outputs": [],
   "source": []
  }
 ],
 "metadata": {
  "kernelspec": {
   "display_name": "Python 3",
   "language": "python",
   "name": "python3"
  },
  "language_info": {
   "codemirror_mode": {
    "name": "ipython",
    "version": 3
   },
   "file_extension": ".py",
   "mimetype": "text/x-python",
   "name": "python",
   "nbconvert_exporter": "python",
   "pygments_lexer": "ipython3",
   "version": "3.6.6"
  },
  "latex_envs": {
   "LaTeX_envs_menu_present": true,
   "autoclose": false,
   "autocomplete": true,
   "bibliofile": "biblio.bib",
   "cite_by": "apalike",
   "current_citInitial": 1,
   "eqLabelWithNumbers": true,
   "eqNumInitial": 1,
   "hotkeys": {
    "equation": "Ctrl-E",
    "itemize": "Ctrl-I"
   },
   "labels_anchors": false,
   "latex_user_defs": false,
   "report_style_numbering": false,
   "user_envs_cfg": false
  },
  "toc": {
   "base_numbering": 1,
   "nav_menu": {},
   "number_sections": true,
   "sideBar": true,
   "skip_h1_title": false,
   "title_cell": "Table of Contents",
   "title_sidebar": "Contents",
   "toc_cell": false,
   "toc_position": {},
   "toc_section_display": true,
   "toc_window_display": true
  }
 },
 "nbformat": 4,
 "nbformat_minor": 2
}
