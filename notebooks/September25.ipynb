{
 "cells": [
  {
   "cell_type": "markdown",
   "metadata": {},
   "source": [
    "# September 25\n",
    "\n",
    "Application Programming Interfaces (APIs) allow us to interface with web-based services. For example, GenBank has an API that allows us to pull large amounts of genetic data from the web in an automated fashion. \n",
    "\n",
    "Today, we will not be using APIs, but we will do things the old fashioned way, to get a sense for why we want to use APIs. \n",
    "\n",
    "Here is a DNA sequence:\n",
    "\n",
    "TACCACATCCAAGGAAGGCAGCAGGCGCGCAAA-TTACCCACTCCCGGCACGGGGAGGTAGTGACGAAAAATAACGATA-CGGGACTCATCCGAGGCCCCGTAATCGGAATGAGTACACTTTAAATCCTTTAACGAGGATCCATTGGAGGGCAAGTCTGGTGCCAGCAGCCGCGGTAATTCCAGCTCCAATAGCGTATATTAAAGTTGTTGCGGTTAAAAAGCTCG-TAGTTGAATCTGTGTC--GCACACCGTCGGTT--CACCGCT--CG--CGGT-GTTTA-ACTGGCGTGATGTGGGACGTCCTACCGG\n",
    "\n",
    "Navigate to: https://www.ncbi.nlm.nih.gov/\n",
    "\n",
    "On the right-hand side of the page, click on BLAST. Choose nucleotide BLAST:\n",
    "\n",
    "![](img/blastn.png)\n",
    "\n",
    "\n",
    "Paste in the nucleotide sequence, scroll to the bottom and click \"BLAST\". "
   ]
  },
  {
   "cell_type": "code",
   "execution_count": null,
   "metadata": {},
   "outputs": [],
   "source": []
  }
 ],
 "metadata": {
  "kernelspec": {
   "display_name": "Python 3",
   "language": "python",
   "name": "python3"
  },
  "language_info": {
   "codemirror_mode": {
    "name": "ipython",
    "version": 3
   },
   "file_extension": ".py",
   "mimetype": "text/x-python",
   "name": "python",
   "nbconvert_exporter": "python",
   "pygments_lexer": "ipython3",
   "version": "3.6.5"
  }
 },
 "nbformat": 4,
 "nbformat_minor": 2
}
