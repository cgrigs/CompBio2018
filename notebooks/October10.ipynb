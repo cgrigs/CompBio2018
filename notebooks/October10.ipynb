{
 "cells": [
  {
   "cell_type": "markdown",
   "metadata": {},
   "source": [
    "# October 10\n",
    "\n",
    "Last time: we put a sequence on a tree. We wrote some scripts to automate putting sequences on trees, and then we used a revision management system to back them up.\n",
    "\n",
    "Now, concept map, April. Don't forget it this time.\n",
    "\n",
    "Today: We're going to think a little more about data organization. How will we keep raw data separate from results? How can we make this clear to someone who will come and interact with our data? How will we track the changes we make to our code?\n",
    "\n",
    "# Data Organization\n",
    "\n",
    "First, I forgot to have us copy one data file our scripts need to run into our data directory.\n",
    "\n",
    "## Exercise One:\n",
    "\n",
    "Look through the four scripts we wrote. Which data file is not in the data directory of our project? Add and commit this file to git.\n",
    "\n",
    "## Let's inventory our data.\n",
    "\n",
    "Navigate to the data directory. Open a new text file. What files are in here? One per line, write a couple words about what is in each file, who obtained the file, and when.\n",
    "\n",
    "- Data are read-only: This folder should only be raw data\n",
    "- All data should be in the data folder: Even if you calculate one point from a datafile, you should keep it.\n",
    "- Data should be documented: If some student who joins the lab after you can't figure out who collected the data, who can they ask for help with it? How could they troubleshoot it?\n",
    "- _All_ data should be documented: If you hand off the data to someone else, and you hadn't documented it, how could they know they had the complete set?\n",
    "\n",
    "## Exercise 2:\n",
    "\n",
    "Try the following command in your project directory, at the terminal:\n",
    "\n",
    "`\n",
    "git status\n",
    "`\n",
    "\n",
    "What is it telling you? See if you can think of two steps to remedy the issue.\n",
    "\n",
    "## A Magic Undo Key\n",
    "\n",
    "Now, we're going to break one of our scripts. Pick one, and do something that you think will make it not work. Add and commit your script. Now, imagine you go out to dinner, and you come back, and you find those changes you made weren't so good. \n",
    "\n",
    "Would you even remember what you changed? \n",
    "\n",
    "Probably not! This is what `git log` is for! Try typing `git log` at the terminal. What output is shown? \n",
    "\n",
    "We can use this log to start searching back for where we introduced our problem. git uses the term `HEAD` to refer to the current commit. Try:\n",
    "`git diff HEAD ` followed by the name of the file you broke. Is this output helpful? \n",
    "\n",
    "What about `git diff HEAD~1`, followed by the name of the script you broke? Try replacing the 1 with a couple values. So we can see the past. But ... can we go back in time?\n",
    "\n",
    "For once, yes we can. Try this command: \n",
    "\n",
    "`git checkout HEAD~1`, followed by your script name. \n",
    "\n",
    "Now, we're at the place where things functioned. Amazing. Now, we'll push our changes to the internet. Add and commit the changes. Next, we'll type\n",
    "\n",
    "`git push` to push our changes to our remote repository. Have a look at your GitHub page to see that the changes are there. Very cool! We just fixed our file by going back in time, then backed up the working version of the file. \n",
    "\n",
    "Now, we're going to do something a little weirder. We're going to work on a script in pairs. \n",
    "\n",
    "Before we get started, though, you're going to get a set of scripts and data I have placed on the [internet](https://github.com/wrightaprilm/classroom_set). First, we will fork them. Forking a repository means you now have a copy of the source code. It is _independent_ of my copy:\n",
    "\n",
    "![](img/fork.png)\n",
    "\n",
    "Next, we will clone our forks to our JupyterHubs. Cloning means to get the copy off the internet and put it where we can use it.\n",
    "\n",
    "![](img/clone.png)\n",
    "\n",
    "Open a terminal, and type in `git clone`, and then paste in the adress you copied. Use `cd` to change into this directory."
   ]
  },
  {
   "cell_type": "markdown",
   "metadata": {},
   "source": [
    "# Collaborative Exercise\n",
    "\n",
    "1. Have a look at importer.py. Are there hard-coded values in it? \n",
    "2. On one partner's computer, use argv to make it so that the filenames are not hard-coded. You may want to look at the Aug30 notebook to remember how to do this.\n",
    "3. Edit the TheDream.sh to give the correct arguments.\n",
    "4. Add, commit and push this script to GitHub. \n",
    "5. Let me know when you have completed this."
   ]
  },
  {
   "cell_type": "markdown",
   "metadata": {},
   "source": [
    "We now have different backups of the script! One partner has code the other does not yet have. This example is a little contrived for us, but very realistic when you have different people working on the same scripts in different locations or at different times. \n",
    "\n",
    "We will now have the partner who did not make changes get the changes. Both partners should do this next step:\n",
    "\n",
    "`git remote add collaboration`, followed by the web address of the other partner's repo. For example, if I was partnered to my friend Haley Hacker, my command would look like: \n",
    "\n",
    "`git remote add collaboration https://github.com/haleyhacker/classroom_set.git`\n",
    "\n",
    "Note that collaboration could be any name - this is just the name that we will call our partern's repo. \n",
    "\n",
    "This next step is for the partner who did not commit any code. You will now pull the changes your partner made to your computer. You will use the `pull` command:\n",
    "\n",
    "`git pull origin collaboration`, in which `collaboration` will be whatever you decided to call your partner's branch. \n",
    "\n",
    "What happens when we do this? Open your text editor, and have a look at the two files we changed. Weird, right? Let's learn to fix this mess. "
   ]
  },
  {
   "cell_type": "markdown",
   "metadata": {},
   "source": [
    "Notes on fixing conflicts:\n",
    "- Look at each conflict. Why has the other person made this change? Does it make sense to you?\n",
    "- Will you keep your copy or, will you change to theirs?\n",
    "- Make the changes!\n",
    "- Add, commit, and push to your copy of the repository. \n",
    "\n",
    "Last thing: I, have, once again, forgotten a data file. Silly me.\n",
    "\n",
    "![](https://media.giphy.com/media/xsATxBQfeKHCg/giphy.gif)\n",
    "\n",
    "I would like you to figure out which, move it into your data file, add, commit and push. I would like your commit message to be \"Silly Dr. Wright, you forgot the files!\" "
   ]
  },
  {
   "cell_type": "markdown",
   "metadata": {},
   "source": [
    "Look at your copy of the repository online. Click on the link shown below.\n",
    "\n",
    "![](img/pull.png)\n",
    "\n",
    "A _pull request_ allows you to _request_ that your changes be _pull_ed into a repository. For example, if someone has a bug in their code. Or you've noticed your professor forgot all the data. "
   ]
  },
  {
   "cell_type": "markdown",
   "metadata": {},
   "source": [
    "## For Tuesday: \n",
    "\n",
    "- MS Students: Find a repository for a software your lab group uses. Has anyone made a pull request against it? How many people have? Do the issues fixed seem major, or minor? \n",
    "- Ugrad students: Has anyone made a pull request against it? How many people have? Do the issues fixed seem major, or minor? "
   ]
  },
  {
   "cell_type": "code",
   "execution_count": null,
   "metadata": {},
   "outputs": [],
   "source": []
  }
 ],
 "metadata": {
  "kernelspec": {
   "display_name": "Python 3",
   "language": "python",
   "name": "python3"
  },
  "language_info": {
   "codemirror_mode": {
    "name": "ipython",
    "version": 3
   },
   "file_extension": ".py",
   "mimetype": "text/x-python",
   "name": "python",
   "nbconvert_exporter": "python",
   "pygments_lexer": "ipython3",
   "version": "3.6.5"
  }
 },
 "nbformat": 4,
 "nbformat_minor": 2
}
