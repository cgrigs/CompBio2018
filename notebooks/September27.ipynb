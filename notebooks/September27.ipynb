{
 "cells": [
  {
   "cell_type": "markdown",
   "metadata": {},
   "source": [
    "# September 27\n",
    "\n",
    "Last time, we downloaded a tree from Open Tree of Life. Then, we got the associated data. But we discovered a problem! They data are not the raw data! They are _unverifiable_ processed data. We're picking up with where we left off. \n",
    "\n",
    "Let's get warmed up by loading in our character matrix using dendropy. Save the matrix to a variable called amphib. Try it in the below cell."
   ]
  },
  {
   "cell_type": "code",
   "execution_count": null,
   "metadata": {},
   "outputs": [],
   "source": []
  },
  {
   "cell_type": "code",
   "execution_count": null,
   "metadata": {
    "code_folding": [
     0
    ]
   },
   "outputs": [],
   "source": [
    "# Answer follows\n",
    "import dendropy\n",
    "amphib = dendropy.DnaCharacterMatrix.get(\n",
    "    path=\"../data/plethodon.phy\",\n",
    "    schema=\"phylip\"\n",
    ")"
   ]
  },
  {
   "cell_type": "markdown",
   "metadata": {},
   "source": [
    "Subset out your !favorite! salamander.\n",
    "\n",
    "![](img/5496126200_d596f01f80_b.jpg)"
   ]
  },
  {
   "cell_type": "code",
   "execution_count": null,
   "metadata": {},
   "outputs": [],
   "source": []
  },
  {
   "cell_type": "code",
   "execution_count": null,
   "metadata": {
    "code_folding": [
     0
    ]
   },
   "outputs": [],
   "source": [
    "# Answer follows\n",
    "\n",
    "my_taxon_sequence = amphib[\"Plethodon_kentucki\"].symbols_as_string()\n",
    "print(my_taxon_sequence)"
   ]
  },
  {
   "cell_type": "markdown",
   "metadata": {},
   "source": [
    "And finally, get your favorite locus. I chose CYTB as my favorite locus. Check to make sure it has actual data in it."
   ]
  },
  {
   "cell_type": "code",
   "execution_count": null,
   "metadata": {},
   "outputs": [],
   "source": []
  },
  {
   "cell_type": "code",
   "execution_count": null,
   "metadata": {
    "code_folding": [
     0
    ]
   },
   "outputs": [],
   "source": [
    "#Answer\n",
    "cytb1 = my_taxon_sequence[4097:5236]\n",
    "cytb1"
   ]
  },
  {
   "cell_type": "markdown",
   "metadata": {},
   "source": [
    "All right, good warmup. We're ready to procede now. Since we're at our computers, all warmed up, we're going to procede to do the BLAST search. Then, we will dicuss the paper.\n",
    "\n",
    "We're getting there - we have a taxon; we have one gene. Let's see if it matches anything in NCBI. The below command is roughly what we will enter. "
   ]
  },
  {
   "cell_type": "code",
   "execution_count": null,
   "metadata": {},
   "outputs": [],
   "source": [
    "from Bio.Blast import NCBIWWW\n",
    "from Bio import SeqIO\n",
    "\n",
    "record = SeqIO.read(\"../data/sequence.fasta\", format=\"fasta\")\n",
    "result_handle = NCBIWWW.qblast(\"blastn\", \"nt\", record.format(\"fasta\"))"
   ]
  },
  {
   "cell_type": "markdown",
   "metadata": {},
   "source": [
    "We need to have our sequences stored in a fasta format. We will now generate a fasta-formatted sequence file to query."
   ]
  },
  {
   "cell_type": "code",
   "execution_count": null,
   "metadata": {},
   "outputs": [],
   "source": [
    "fasta_pleth = {\"Plethodon_cinereus\": cytb1}\n",
    "ofile = open(\"../data/sequence.fasta\", \"w\")\n",
    "\n",
    "for item in fasta_pleth.keys():\n",
    "    ofile.write(\">\" + item + \"\\n\" + fasta_pleth[item] + \"\\n\")\n",
    "\n",
    "ofile.close()"
   ]
  },
  {
   "cell_type": "markdown",
   "metadata": {},
   "source": [
    "Now that we have a fasta file, let's try to query GenBank. `NCBIwww.qblast()` uses the function `qblast` to _query_ BLAST according to our nucleotide sequence."
   ]
  },
  {
   "cell_type": "code",
   "execution_count": null,
   "metadata": {},
   "outputs": [],
   "source": [
    "from Bio.Blast import NCBIWWW\n",
    "from Bio import SeqIO\n",
    "\n",
    "record = SeqIO.read(\"../data/sequence.fasta\", format=\"fasta\")\n",
    "result_handle = NCBIWWW.qblast(\"blastn\", \"nt\", record.format(\"fasta\"))"
   ]
  },
  {
   "cell_type": "markdown",
   "metadata": {},
   "source": [
    "The data are stored in an internet file format called XML. You can print it like so:"
   ]
  },
  {
   "cell_type": "markdown",
   "metadata": {},
   "source": [
    "### Note: Make a copy of your sequence object, and run operations on it. Most of the read() operations will cause you to have to redo your search."
   ]
  },
  {
   "cell_type": "code",
   "execution_count": null,
   "metadata": {},
   "outputs": [],
   "source": [
    "print_record = result_handle\n",
    "print(print_record.read())"
   ]
  },
  {
   "cell_type": "markdown",
   "metadata": {},
   "source": [
    "# Break, then reading discussion\n",
    "\n",
    "- Key quote in Pearson paper:\n",
    "\n",
    "`We infer homology when two sequences or structures share more similarity than would be expected by chance; when excess similarity is observed, the simplest explanation for that excess is that the two sequences did not arise independently, they arose from a common ancestor.`\n",
    "\n",
    "- Key question:\n",
    "\n",
    "`Thus, it is very easy to determine the distribution of scores expected by chance, and it has been observed that unrelated sequences have similarity scores that are indistinguishable from random sequence alignments.` _How can we determine similarity due to chance from similarity due to homology?_\n",
    "\n",
    "# Let's illustrate the problem! Read the below code. Then, discuss it with a partner. Write in comments - what is this doing?"
   ]
  },
  {
   "cell_type": "code",
   "execution_count": null,
   "metadata": {
    "code_folding": [
     3,
     6
    ]
   },
   "outputs": [],
   "source": [
    "import random \n",
    "\n",
    "\n",
    "def rando_seq(alphabet, length):\n",
    "    i = 0\n",
    "    new_seq = []\n",
    "    while i <= length:\n",
    "        digit = random.randint(a = 0, b = (len(alphabet) - 1))\n",
    "        new_seq.append(alphabet[digit])\n",
    "        final_seq = ''.join(new_seq)\n",
    "        i = i + 1\n",
    "    return(final_seq)"
   ]
  },
  {
   "cell_type": "markdown",
   "metadata": {},
   "source": [
    "Run the code, especially if you are stuck. Look at the output!"
   ]
  },
  {
   "cell_type": "code",
   "execution_count": null,
   "metadata": {},
   "outputs": [],
   "source": [
    "alphabet = ['A', 'C', 'G', 'T']\n",
    "length = 99\n",
    "\n",
    "seq_one = rando_seq(alphabet, length)\n",
    "seq_two = rando_seq(alphabet, length)\n"
   ]
  },
  {
   "cell_type": "markdown",
   "metadata": {},
   "source": [
    "Now, I would like you to write a function to figure out how many base pairs at a particular position in this random sequence are the same.  As a brief gut check, how many do we think will be the same?"
   ]
  },
  {
   "cell_type": "code",
   "execution_count": null,
   "metadata": {
    "code_folding": [
     0,
     1,
     5,
     6,
     8
    ]
   },
   "outputs": [],
   "source": [
    "# Answer follows below\n",
    "def true_and_false(sequence_one, sequence_two):\n",
    "    trues = []\n",
    "    falses = []\n",
    "\n",
    "    for base_one, base_two in zip(seq_one, seq_two):\n",
    "        if base_one == base_two:\n",
    "            trues.append(\"TRUE\")\n",
    "        else:\n",
    "            falses.append(\"FALSE\")\n",
    "    return(trues, falses)\n"
   ]
  },
  {
   "cell_type": "markdown",
   "metadata": {},
   "source": [
    "How many really are the same? What does that mean for homology searching? Run the code a couple times - is the number of base pairs that are the same in a sequence always the same? "
   ]
  },
  {
   "cell_type": "code",
   "execution_count": null,
   "metadata": {},
   "outputs": [],
   "source": [
    "alphabet = ['A', 'C', 'G', 'T']\n",
    "length = 99\n",
    "\n",
    "seq_one = rando_seq(alphabet, length)\n",
    "seq_two = rando_seq(alphabet, length)\n",
    "\n",
    "trues, falses = true_and_false(seq_one, seq_two)\n",
    "\n",
    "print(len(trues))\n",
    "print(len(falses))"
   ]
  },
  {
   "cell_type": "markdown",
   "metadata": {},
   "source": [
    "I hate small sample sizes, let's write a loop to run the code 10000 times, and save the number of \"same\" sites to a dataframe for each simulation."
   ]
  },
  {
   "cell_type": "code",
   "execution_count": null,
   "metadata": {
    "code_folding": [
     0,
     8,
     16
    ]
   },
   "outputs": [],
   "source": [
    "# Answer follows \n",
    "alphabet = ['A', 'C', 'G', 'T']\n",
    "length = 99\n",
    "tries = 10\n",
    "\n",
    "i = 0\n",
    "true_col = []\n",
    "false_col = []\n",
    "while i <= tries:\n",
    "    seq_one = rando_seq(alphabet, length)\n",
    "    seq_two = rando_seq(alphabet, length)\n",
    "    trues, falses = true_and_false(seq_one, seq_two)\n",
    "    true_col.append(len(trues))\n",
    "    false_col.append(len(falses))\n",
    "    i = i + 1\n",
    "\n",
    "percentage_df = pd.DataFrame(\n",
    "    {'Same': true_col,\n",
    "     'Different': false_col})\n",
    "\n"
   ]
  },
  {
   "cell_type": "markdown",
   "metadata": {},
   "source": [
    "Now, let's plot the number of \"same\" sites. A bar plot is fine for this."
   ]
  },
  {
   "cell_type": "code",
   "execution_count": null,
   "metadata": {
    "code_folding": [
     2
    ]
   },
   "outputs": [],
   "source": [
    "import plotnine as p9\n",
    "\n",
    "(p9.ggplot(data=percentage_df,\n",
    "           mapping=p9.aes(x='Same'))\n",
    "    + p9.geom_bar()\n",
    ")"
   ]
  },
  {
   "cell_type": "markdown",
   "metadata": {},
   "source": [
    "### Some sites in an alignment will be the same by chance\n",
    "### Some sites will be similar due to convergence environmental or life history factors \n",
    "\n",
    "We want to:\n",
    "\n",
    "- Minimize false positives (non-homologs with significant scores; Type I errors)\n",
    "- Find true homologs\n",
    "- Minimize false negatives (homologs with non-significant scores; Type II errors)\n",
    "\n",
    "How do we do this? \n",
    "\n",
    "- Develop a distribution of expected similarities\n",
    "    - Common rule of thumb is that 30% of above sequence identity is fine. Based on what we've done above, is that fine?\n",
    "    - E-values (\"Expect\" value): Excess homology compared to random. We take that distribution we plotted above, and transform it into a value. 0.001 generally taken to be a 'good' E-Value.\n",
    "- Scale our expectations with size\n",
    "\n"
   ]
  },
  {
   "cell_type": "code",
   "execution_count": null,
   "metadata": {},
   "outputs": [],
   "source": [
    "save_file = open(\"results.xml\", \"w\")\n",
    "save_file.write(result_handle.read())\n",
    "save_file.close()"
   ]
  },
  {
   "cell_type": "markdown",
   "metadata": {},
   "source": [
    "Take a look at this file. This is very useful and easy-to-read output. "
   ]
  },
  {
   "cell_type": "code",
   "execution_count": null,
   "metadata": {},
   "outputs": [],
   "source": [
    "from Bio.Blast import NCBIXML\n",
    "\n",
    "parsed = NCBIXML.read(open(\"results.xml\"))"
   ]
  },
  {
   "cell_type": "markdown",
   "metadata": {},
   "source": [
    "The `parsed` object will contain references to the:\n",
    "- Search that was performed\n",
    "- Items that were found\n",
    "\n",
    "Try tab-completing the below to look at some of the options."
   ]
  },
  {
   "cell_type": "code",
   "execution_count": null,
   "metadata": {},
   "outputs": [],
   "source": [
    "parsed."
   ]
  },
  {
   "cell_type": "markdown",
   "metadata": {},
   "source": [
    "One particular feature that is likely to be of interest is the `alignments` feature. Take a look at one alignments' stats:"
   ]
  },
  {
   "cell_type": "code",
   "execution_count": null,
   "metadata": {},
   "outputs": [],
   "source": [
    "print(parsed.alignments[0])"
   ]
  },
  {
   "cell_type": "markdown",
   "metadata": {},
   "source": [
    "We can even take a look at multiple hits - what were they? To what species do they belong? "
   ]
  },
  {
   "cell_type": "code",
   "execution_count": null,
   "metadata": {},
   "outputs": [],
   "source": [
    "alignment_set = parsed.alignments\n",
    "for individual_alignment in alignment_set:\n",
    "    print(individual_alignment)"
   ]
  },
  {
   "cell_type": "markdown",
   "metadata": {},
   "source": [
    "Let's load up the tree from last class! Have a look at a couple of the taxa that have come up in your BLAST search. They seem to make a certain amount of sense - we are generally retrieving hits from related species."
   ]
  },
  {
   "cell_type": "code",
   "execution_count": null,
   "metadata": {},
   "outputs": [],
   "source": [
    "import pandas as pd\n",
    "import dendropy\n",
    "\n",
    "pd.options.display.max_colwidth = 1000000\n",
    "salamanders = pd.read_json(\"salamanders.json\")\n",
    "salamanders\n",
    "\n",
    "pd.options.display.max_colwidth = 1000000\n",
    "newick_tree = salamanders.newick.to_string(index=False)\n",
    "#View our Tree\n",
    "newick_tree"
   ]
  },
  {
   "cell_type": "markdown",
   "metadata": {},
   "source": [
    "Load the Newick tree into IcyTree, and locate your taxon with the `Search` function. Look at the taxa you see in your BLAST hits. Do you feel like it's likely that these hits are discovering real homology?"
   ]
  },
  {
   "cell_type": "markdown",
   "metadata": {},
   "source": [
    "![](img/Twitter.png)"
   ]
  },
  {
   "cell_type": "markdown",
   "metadata": {},
   "source": [
    "But given what we have read about BLAST, do we feel good about what we did? Pearson noted some best practices for BLAST. He notes that we should use protein. Did we do this? Did we specify any sort of E-Value constraint?"
   ]
  },
  {
   "cell_type": "markdown",
   "metadata": {},
   "source": [
    "## Homework\n",
    "\n",
    "1. Simulate two nucleotide sequences (2 pts)"
   ]
  },
  {
   "cell_type": "code",
   "execution_count": null,
   "metadata": {},
   "outputs": [],
   "source": []
  },
  {
   "cell_type": "markdown",
   "metadata": {},
   "source": [
    "2. Make a BLAST query of one of them. Put the code in the cell below. In the Markdown cell below that one, paste in a couple of the hits (i.e, what did your random sequence match?????). (5 pts)"
   ]
  },
  {
   "cell_type": "code",
   "execution_count": null,
   "metadata": {},
   "outputs": [],
   "source": []
  },
  {
   "cell_type": "markdown",
   "metadata": {},
   "source": [
    "  \n",
    "  "
   ]
  },
  {
   "cell_type": "markdown",
   "metadata": {},
   "source": [
    "3. Look at the documentation for the [NCBIWWW.qblast](http://biopython.org/DIST/docs/api/Bio.Blast.NCBIWWW-module.html) function. What are two arguments or parameters we could manipulate to more closely follow Bill Pearson's suggestions? Why would these be good values to manipulate? (3 pts)"
   ]
  },
  {
   "cell_type": "markdown",
   "metadata": {},
   "source": [
    " \n",
    " "
   ]
  },
  {
   "cell_type": "markdown",
   "metadata": {},
   "source": [
    "Download this notebook with your answers and email to me by 10 am Tuesday."
   ]
  },
  {
   "cell_type": "code",
   "execution_count": null,
   "metadata": {},
   "outputs": [],
   "source": []
  }
 ],
 "metadata": {
  "kernelspec": {
   "display_name": "Python 3",
   "language": "python",
   "name": "python3"
  },
  "language_info": {
   "codemirror_mode": {
    "name": "ipython",
    "version": 3
   },
   "file_extension": ".py",
   "mimetype": "text/x-python",
   "name": "python",
   "nbconvert_exporter": "python",
   "pygments_lexer": "ipython3",
   "version": "3.6.5"
  }
 },
 "nbformat": 4,
 "nbformat_minor": 2
}
