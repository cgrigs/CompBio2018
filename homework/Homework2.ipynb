{
 "cells": [
  {
   "cell_type": "markdown",
   "metadata": {},
   "source": [
    "For your homework, you will fill out your work in this notebook. When you have completed your homework, drop me an email letting me know."
   ]
  },
  {
   "cell_type": "markdown",
   "metadata": {},
   "source": [
    "In the cell below, please load the pandas library, and read in the surveys.csv and species.csv files. Save them as dataframes. (1 pt)"
   ]
  },
  {
   "cell_type": "code",
   "execution_count": 1,
   "metadata": {},
   "outputs": [],
   "source": [
    "import pandas as pd\n",
    "surveys_df = pd.read_csv(\"../data/surveys.csv\")\n",
    "species_df = pd.read_csv(\"../data/species.csv\")"
   ]
  },
  {
   "cell_type": "markdown",
   "metadata": {},
   "source": [
    "Next, perform an inner join between the surveys and species dataframes. Join on the \"species_id\" column. Save the joined dataset to a new dataframe. (2 pt.)"
   ]
  },
  {
   "cell_type": "code",
   "execution_count": 2,
   "metadata": {},
   "outputs": [],
   "source": [
    "joined = pd.merge(left=surveys_df,right=species_df, left_on='species_id', right_on='species_id')"
   ]
  },
  {
   "cell_type": "markdown",
   "metadata": {},
   "source": [
    "Modify the yearly_data_arg_test() function to check if a results folder exists, and if not, to create it. (2 pt)"
   ]
  },
  {
   "cell_type": "code",
   "execution_count": null,
   "metadata": {},
   "outputs": [],
   "source": []
  },
  {
   "cell_type": "markdown",
   "metadata": {},
   "source": [
    "Modify the yearly_data_arg_test() function to split the joined dataframe by plot_id. Change the name of the function to by_plot_data(). (2 pt)"
   ]
  },
  {
   "cell_type": "code",
   "execution_count": 10,
   "metadata": {},
   "outputs": [],
   "source": [
    "all_data = joined\n",
    "\n",
    " \n",
    "\n",
    "def yearly_data_arg_test(all_data, start_plot_id = 2, end_plot_id = 24):\n",
    "\n",
    "    \"\"\"\n",
    "\n",
    "    Writes a csv file for data from a given plot id.\n",
    "\n",
    " \n",
    "\n",
    "    start_ plot_id --- first plot from which data is extracted\n",
    "\n",
    "    end_plot_id --- last plot from which data is extracted\n",
    "\n",
    "    all_data --- DataFrame with multi-year data\n",
    "\n",
    "    \"\"\"\n",
    "    for pid in all_data['plot_id'].unique():\n",
    "        subset = all_data[all_data.plot_id == pid]\n",
    "        filename='../data/results/plot_id' + str(pid) + '.csv'\n",
    "        subset.to_csv(filename)\n",
    "\n",
    "    return start_plot_id, end_plot_id\n",
    "\n",
    " \n",
    "\n",
    "start,end = yearly_data_arg_test (all_data, 2, 24)\n",
    "\n",
    " \n",
    "\n",
    "#start,end = yearly_data_arg_test(all_data)\n",
    " \n",
    " #   for pid in range (start_plot_id, end_plot_id+1):\n",
    "  #      yearly_data_arg_test(plot_id, all_data)\n",
    "\n",
    "\n",
    "          \n",
    "\n",
    "     # Select data for the year\n",
    "\n",
    "\n",
    " \n",
    "\n",
    "    # Write the new DataFrame to a csv file\n",
    "\n"
   ]
  },
  {
   "cell_type": "markdown",
   "metadata": {},
   "source": [
    "How many files should be generated if we split the joined dataframe by plot_id? How do you know this? (1 pt)"
   ]
  },
  {
   "cell_type": "code",
   "execution_count": null,
   "metadata": {},
   "outputs": [],
   "source": []
  },
  {
   "cell_type": "markdown",
   "metadata": {},
   "source": [
    "Run the modified by_plot_data() function. Points awarded for having the correct number of files (1 pt) and having the full species name in each of them (1 pt)."
   ]
  },
  {
   "cell_type": "markdown",
   "metadata": {},
   "source": [
    "You're done! Enjoy your weekend!"
   ]
  },
  {
   "cell_type": "code",
   "execution_count": null,
   "metadata": {},
   "outputs": [],
   "source": []
  }
 ],
 "metadata": {
  "kernelspec": {
   "display_name": "Python 3",
   "language": "python",
   "name": "python3"
  },
  "language_info": {
   "codemirror_mode": {
    "name": "ipython",
    "version": 3
   },
   "file_extension": ".py",
   "mimetype": "text/x-python",
   "name": "python",
   "nbconvert_exporter": "python",
   "pygments_lexer": "ipython3",
   "version": "3.6.5"
  }
 },
 "nbformat": 4,
 "nbformat_minor": 2
}
